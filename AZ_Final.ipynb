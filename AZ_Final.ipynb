{
 "cells": [
  {
   "cell_type": "raw",
   "metadata": {},
   "source": [
    "# Are different adverse events reported in different countries?\n",
    "\n"
   ]
  },
  {
   "cell_type": "markdown",
   "metadata": {},
   "source": [
    "The problem: adverse events are reported world wide to the FDA. Based on these reported events, additional studies and investigations are required in the drug life cicle. However, are these events are global or it is country specific?\n",
    "\n",
    "\n",
    "The purpose of this task is to investigate if there is differences in the events reported between different countires. The idea is to check if there is a similarity between the countries accorind to the reported events.\n",
    "The events are associated with certain drug, and building the system as drug independent would make it less accurate. For that purpose, the analysis is drug dependent. However, for observation purposes if some countires are only reported for serious events only, we present the result of drug independent analysis.\n",
    "\n",
    "The hypothesis: the null hypothesis of this study that there is no differences in the reported events per country. \n",
    "\n",
    "The alternative hypothesis\n",
    "\n",
    "Hypothesis 1 : each country is significantly differnt to at least another country regards the reported adverse events.\n",
    "\n",
    "Hypothesis 2 : each country is significantly differnt to all other countries regards the reported adverse events.\n",
    "\n",
    "To discover such similarity relationship in the data. We calculate the significant disagreement between each pairs of countries regards to the events reported for each of them. Such analysis would validate the proposed hypothesis. For deeper analysis, we are going to use the collaborative filtering as a mechanism to decompose the relationsship between the countries using the reported events.\n",
    "The collaborative filtering is a techniques wildely used in recommendation systems in order to the obtaining recommendations from the similarities. The idea based on the fact that similar items have similar history. To project that on the proposed question, the more similar the counties are the more common events they have and the more they are differnt, the less common events they have.\n",
    "Such task requires the following steps:\n",
    "\n",
    "1- data collection. \n",
    "\n",
    "2- data curation. \n",
    "\n",
    "3- data analysis\n",
    "\n",
    "4- model building and result analysis and visualization."
   ]
  },
  {
   "cell_type": "code",
   "execution_count": 107,
   "metadata": {},
   "outputs": [
    {
     "data": {
      "text/html": [
       "\n",
       "    <div class=\"bk-root\">\n",
       "        <a href=\"https://bokeh.pydata.org\" target=\"_blank\" class=\"bk-logo bk-logo-small bk-logo-notebook\"></a>\n",
       "        <span id=\"0e7f4d79-4df7-4a42-b9c8-4a0dbf4fc3ef\">Loading BokehJS ...</span>\n",
       "    </div>"
      ]
     },
     "metadata": {},
     "output_type": "display_data"
    },
    {
     "data": {
      "application/javascript": [
       "\n",
       "(function(root) {\n",
       "  function now() {\n",
       "    return new Date();\n",
       "  }\n",
       "\n",
       "  var force = true;\n",
       "\n",
       "  if (typeof (root._bokeh_onload_callbacks) === \"undefined\" || force === true) {\n",
       "    root._bokeh_onload_callbacks = [];\n",
       "    root._bokeh_is_loading = undefined;\n",
       "  }\n",
       "\n",
       "  var JS_MIME_TYPE = 'application/javascript';\n",
       "  var HTML_MIME_TYPE = 'text/html';\n",
       "  var EXEC_MIME_TYPE = 'application/vnd.bokehjs_exec.v0+json';\n",
       "  var CLASS_NAME = 'output_bokeh rendered_html';\n",
       "\n",
       "  /**\n",
       "   * Render data to the DOM node\n",
       "   */\n",
       "  function render(props, node) {\n",
       "    var script = document.createElement(\"script\");\n",
       "    node.appendChild(script);\n",
       "  }\n",
       "\n",
       "  /**\n",
       "   * Handle when an output is cleared or removed\n",
       "   */\n",
       "  function handleClearOutput(event, handle) {\n",
       "    var cell = handle.cell;\n",
       "\n",
       "    var id = cell.output_area._bokeh_element_id;\n",
       "    var server_id = cell.output_area._bokeh_server_id;\n",
       "    // Clean up Bokeh references\n",
       "    if (id != null && id in Bokeh.index) {\n",
       "      Bokeh.index[id].model.document.clear();\n",
       "      delete Bokeh.index[id];\n",
       "    }\n",
       "\n",
       "    if (server_id !== undefined) {\n",
       "      // Clean up Bokeh references\n",
       "      var cmd = \"from bokeh.io.state import curstate; print(curstate().uuid_to_server['\" + server_id + \"'].get_sessions()[0].document.roots[0]._id)\";\n",
       "      cell.notebook.kernel.execute(cmd, {\n",
       "        iopub: {\n",
       "          output: function(msg) {\n",
       "            var id = msg.content.text.trim();\n",
       "            if (id in Bokeh.index) {\n",
       "              Bokeh.index[id].model.document.clear();\n",
       "              delete Bokeh.index[id];\n",
       "            }\n",
       "          }\n",
       "        }\n",
       "      });\n",
       "      // Destroy server and session\n",
       "      var cmd = \"import bokeh.io.notebook as ion; ion.destroy_server('\" + server_id + \"')\";\n",
       "      cell.notebook.kernel.execute(cmd);\n",
       "    }\n",
       "  }\n",
       "\n",
       "  /**\n",
       "   * Handle when a new output is added\n",
       "   */\n",
       "  function handleAddOutput(event, handle) {\n",
       "    var output_area = handle.output_area;\n",
       "    var output = handle.output;\n",
       "\n",
       "    // limit handleAddOutput to display_data with EXEC_MIME_TYPE content only\n",
       "    if ((output.output_type != \"display_data\") || (!output.data.hasOwnProperty(EXEC_MIME_TYPE))) {\n",
       "      return\n",
       "    }\n",
       "\n",
       "    var toinsert = output_area.element.find(\".\" + CLASS_NAME.split(' ')[0]);\n",
       "\n",
       "    if (output.metadata[EXEC_MIME_TYPE][\"id\"] !== undefined) {\n",
       "      toinsert[toinsert.length - 1].firstChild.textContent = output.data[JS_MIME_TYPE];\n",
       "      // store reference to embed id on output_area\n",
       "      output_area._bokeh_element_id = output.metadata[EXEC_MIME_TYPE][\"id\"];\n",
       "    }\n",
       "    if (output.metadata[EXEC_MIME_TYPE][\"server_id\"] !== undefined) {\n",
       "      var bk_div = document.createElement(\"div\");\n",
       "      bk_div.innerHTML = output.data[HTML_MIME_TYPE];\n",
       "      var script_attrs = bk_div.children[0].attributes;\n",
       "      for (var i = 0; i < script_attrs.length; i++) {\n",
       "        toinsert[toinsert.length - 1].firstChild.setAttribute(script_attrs[i].name, script_attrs[i].value);\n",
       "      }\n",
       "      // store reference to server id on output_area\n",
       "      output_area._bokeh_server_id = output.metadata[EXEC_MIME_TYPE][\"server_id\"];\n",
       "    }\n",
       "  }\n",
       "\n",
       "  function register_renderer(events, OutputArea) {\n",
       "\n",
       "    function append_mime(data, metadata, element) {\n",
       "      // create a DOM node to render to\n",
       "      var toinsert = this.create_output_subarea(\n",
       "        metadata,\n",
       "        CLASS_NAME,\n",
       "        EXEC_MIME_TYPE\n",
       "      );\n",
       "      this.keyboard_manager.register_events(toinsert);\n",
       "      // Render to node\n",
       "      var props = {data: data, metadata: metadata[EXEC_MIME_TYPE]};\n",
       "      render(props, toinsert[toinsert.length - 1]);\n",
       "      element.append(toinsert);\n",
       "      return toinsert\n",
       "    }\n",
       "\n",
       "    /* Handle when an output is cleared or removed */\n",
       "    events.on('clear_output.CodeCell', handleClearOutput);\n",
       "    events.on('delete.Cell', handleClearOutput);\n",
       "\n",
       "    /* Handle when a new output is added */\n",
       "    events.on('output_added.OutputArea', handleAddOutput);\n",
       "\n",
       "    /**\n",
       "     * Register the mime type and append_mime function with output_area\n",
       "     */\n",
       "    OutputArea.prototype.register_mime_type(EXEC_MIME_TYPE, append_mime, {\n",
       "      /* Is output safe? */\n",
       "      safe: true,\n",
       "      /* Index of renderer in `output_area.display_order` */\n",
       "      index: 0\n",
       "    });\n",
       "  }\n",
       "\n",
       "  // register the mime type if in Jupyter Notebook environment and previously unregistered\n",
       "  if (root.Jupyter !== undefined) {\n",
       "    var events = require('base/js/events');\n",
       "    var OutputArea = require('notebook/js/outputarea').OutputArea;\n",
       "\n",
       "    if (OutputArea.prototype.mime_types().indexOf(EXEC_MIME_TYPE) == -1) {\n",
       "      register_renderer(events, OutputArea);\n",
       "    }\n",
       "  }\n",
       "\n",
       "  \n",
       "  if (typeof (root._bokeh_timeout) === \"undefined\" || force === true) {\n",
       "    root._bokeh_timeout = Date.now() + 5000;\n",
       "    root._bokeh_failed_load = false;\n",
       "  }\n",
       "\n",
       "  var NB_LOAD_WARNING = {'data': {'text/html':\n",
       "     \"<div style='background-color: #fdd'>\\n\"+\n",
       "     \"<p>\\n\"+\n",
       "     \"BokehJS does not appear to have successfully loaded. If loading BokehJS from CDN, this \\n\"+\n",
       "     \"may be due to a slow or bad network connection. Possible fixes:\\n\"+\n",
       "     \"</p>\\n\"+\n",
       "     \"<ul>\\n\"+\n",
       "     \"<li>re-rerun `output_notebook()` to attempt to load from CDN again, or</li>\\n\"+\n",
       "     \"<li>use INLINE resources instead, as so:</li>\\n\"+\n",
       "     \"</ul>\\n\"+\n",
       "     \"<code>\\n\"+\n",
       "     \"from bokeh.resources import INLINE\\n\"+\n",
       "     \"output_notebook(resources=INLINE)\\n\"+\n",
       "     \"</code>\\n\"+\n",
       "     \"</div>\"}};\n",
       "\n",
       "  function display_loaded() {\n",
       "    var el = document.getElementById(\"0e7f4d79-4df7-4a42-b9c8-4a0dbf4fc3ef\");\n",
       "    if (el != null) {\n",
       "      el.textContent = \"BokehJS is loading...\";\n",
       "    }\n",
       "    if (root.Bokeh !== undefined) {\n",
       "      if (el != null) {\n",
       "        el.textContent = \"BokehJS \" + root.Bokeh.version + \" successfully loaded.\";\n",
       "      }\n",
       "    } else if (Date.now() < root._bokeh_timeout) {\n",
       "      setTimeout(display_loaded, 100)\n",
       "    }\n",
       "  }\n",
       "\n",
       "\n",
       "  function run_callbacks() {\n",
       "    try {\n",
       "      root._bokeh_onload_callbacks.forEach(function(callback) { callback() });\n",
       "    }\n",
       "    finally {\n",
       "      delete root._bokeh_onload_callbacks\n",
       "    }\n",
       "    console.info(\"Bokeh: all callbacks have finished\");\n",
       "  }\n",
       "\n",
       "  function load_libs(js_urls, callback) {\n",
       "    root._bokeh_onload_callbacks.push(callback);\n",
       "    if (root._bokeh_is_loading > 0) {\n",
       "      console.log(\"Bokeh: BokehJS is being loaded, scheduling callback at\", now());\n",
       "      return null;\n",
       "    }\n",
       "    if (js_urls == null || js_urls.length === 0) {\n",
       "      run_callbacks();\n",
       "      return null;\n",
       "    }\n",
       "    console.log(\"Bokeh: BokehJS not loaded, scheduling load and callback at\", now());\n",
       "    root._bokeh_is_loading = js_urls.length;\n",
       "    for (var i = 0; i < js_urls.length; i++) {\n",
       "      var url = js_urls[i];\n",
       "      var s = document.createElement('script');\n",
       "      s.src = url;\n",
       "      s.async = false;\n",
       "      s.onreadystatechange = s.onload = function() {\n",
       "        root._bokeh_is_loading--;\n",
       "        if (root._bokeh_is_loading === 0) {\n",
       "          console.log(\"Bokeh: all BokehJS libraries loaded\");\n",
       "          run_callbacks()\n",
       "        }\n",
       "      };\n",
       "      s.onerror = function() {\n",
       "        console.warn(\"failed to load library \" + url);\n",
       "      };\n",
       "      console.log(\"Bokeh: injecting script tag for BokehJS library: \", url);\n",
       "      document.getElementsByTagName(\"head\")[0].appendChild(s);\n",
       "    }\n",
       "  };var element = document.getElementById(\"0e7f4d79-4df7-4a42-b9c8-4a0dbf4fc3ef\");\n",
       "  if (element == null) {\n",
       "    console.log(\"Bokeh: ERROR: autoload.js configured with elementid '0e7f4d79-4df7-4a42-b9c8-4a0dbf4fc3ef' but no matching script tag was found. \")\n",
       "    return false;\n",
       "  }\n",
       "\n",
       "  var js_urls = [\"https://cdn.pydata.org/bokeh/release/bokeh-0.13.0.min.js\", \"https://cdn.pydata.org/bokeh/release/bokeh-widgets-0.13.0.min.js\", \"https://cdn.pydata.org/bokeh/release/bokeh-tables-0.13.0.min.js\", \"https://cdn.pydata.org/bokeh/release/bokeh-gl-0.13.0.min.js\"];\n",
       "\n",
       "  var inline_js = [\n",
       "    function(Bokeh) {\n",
       "      Bokeh.set_log_level(\"info\");\n",
       "    },\n",
       "    \n",
       "    function(Bokeh) {\n",
       "      \n",
       "    },\n",
       "    function(Bokeh) {\n",
       "      console.log(\"Bokeh: injecting CSS: https://cdn.pydata.org/bokeh/release/bokeh-0.13.0.min.css\");\n",
       "      Bokeh.embed.inject_css(\"https://cdn.pydata.org/bokeh/release/bokeh-0.13.0.min.css\");\n",
       "      console.log(\"Bokeh: injecting CSS: https://cdn.pydata.org/bokeh/release/bokeh-widgets-0.13.0.min.css\");\n",
       "      Bokeh.embed.inject_css(\"https://cdn.pydata.org/bokeh/release/bokeh-widgets-0.13.0.min.css\");\n",
       "      console.log(\"Bokeh: injecting CSS: https://cdn.pydata.org/bokeh/release/bokeh-tables-0.13.0.min.css\");\n",
       "      Bokeh.embed.inject_css(\"https://cdn.pydata.org/bokeh/release/bokeh-tables-0.13.0.min.css\");\n",
       "    }\n",
       "  ];\n",
       "\n",
       "  function run_inline_js() {\n",
       "    \n",
       "    if ((root.Bokeh !== undefined) || (force === true)) {\n",
       "      for (var i = 0; i < inline_js.length; i++) {\n",
       "        inline_js[i].call(root, root.Bokeh);\n",
       "      }if (force === true) {\n",
       "        display_loaded();\n",
       "      }} else if (Date.now() < root._bokeh_timeout) {\n",
       "      setTimeout(run_inline_js, 100);\n",
       "    } else if (!root._bokeh_failed_load) {\n",
       "      console.log(\"Bokeh: BokehJS failed to load within specified timeout.\");\n",
       "      root._bokeh_failed_load = true;\n",
       "    } else if (force !== true) {\n",
       "      var cell = $(document.getElementById(\"0e7f4d79-4df7-4a42-b9c8-4a0dbf4fc3ef\")).parents('.cell').data().cell;\n",
       "      cell.output_area.append_execute_result(NB_LOAD_WARNING)\n",
       "    }\n",
       "\n",
       "  }\n",
       "\n",
       "  if (root._bokeh_is_loading === 0) {\n",
       "    console.log(\"Bokeh: BokehJS loaded, going straight to plotting\");\n",
       "    run_inline_js();\n",
       "  } else {\n",
       "    load_libs(js_urls, function() {\n",
       "      console.log(\"Bokeh: BokehJS plotting callback run at\", now());\n",
       "      run_inline_js();\n",
       "    });\n",
       "  }\n",
       "}(window));"
      ],
      "application/vnd.bokehjs_load.v0+json": "\n(function(root) {\n  function now() {\n    return new Date();\n  }\n\n  var force = true;\n\n  if (typeof (root._bokeh_onload_callbacks) === \"undefined\" || force === true) {\n    root._bokeh_onload_callbacks = [];\n    root._bokeh_is_loading = undefined;\n  }\n\n  \n\n  \n  if (typeof (root._bokeh_timeout) === \"undefined\" || force === true) {\n    root._bokeh_timeout = Date.now() + 5000;\n    root._bokeh_failed_load = false;\n  }\n\n  var NB_LOAD_WARNING = {'data': {'text/html':\n     \"<div style='background-color: #fdd'>\\n\"+\n     \"<p>\\n\"+\n     \"BokehJS does not appear to have successfully loaded. If loading BokehJS from CDN, this \\n\"+\n     \"may be due to a slow or bad network connection. Possible fixes:\\n\"+\n     \"</p>\\n\"+\n     \"<ul>\\n\"+\n     \"<li>re-rerun `output_notebook()` to attempt to load from CDN again, or</li>\\n\"+\n     \"<li>use INLINE resources instead, as so:</li>\\n\"+\n     \"</ul>\\n\"+\n     \"<code>\\n\"+\n     \"from bokeh.resources import INLINE\\n\"+\n     \"output_notebook(resources=INLINE)\\n\"+\n     \"</code>\\n\"+\n     \"</div>\"}};\n\n  function display_loaded() {\n    var el = document.getElementById(\"0e7f4d79-4df7-4a42-b9c8-4a0dbf4fc3ef\");\n    if (el != null) {\n      el.textContent = \"BokehJS is loading...\";\n    }\n    if (root.Bokeh !== undefined) {\n      if (el != null) {\n        el.textContent = \"BokehJS \" + root.Bokeh.version + \" successfully loaded.\";\n      }\n    } else if (Date.now() < root._bokeh_timeout) {\n      setTimeout(display_loaded, 100)\n    }\n  }\n\n\n  function run_callbacks() {\n    try {\n      root._bokeh_onload_callbacks.forEach(function(callback) { callback() });\n    }\n    finally {\n      delete root._bokeh_onload_callbacks\n    }\n    console.info(\"Bokeh: all callbacks have finished\");\n  }\n\n  function load_libs(js_urls, callback) {\n    root._bokeh_onload_callbacks.push(callback);\n    if (root._bokeh_is_loading > 0) {\n      console.log(\"Bokeh: BokehJS is being loaded, scheduling callback at\", now());\n      return null;\n    }\n    if (js_urls == null || js_urls.length === 0) {\n      run_callbacks();\n      return null;\n    }\n    console.log(\"Bokeh: BokehJS not loaded, scheduling load and callback at\", now());\n    root._bokeh_is_loading = js_urls.length;\n    for (var i = 0; i < js_urls.length; i++) {\n      var url = js_urls[i];\n      var s = document.createElement('script');\n      s.src = url;\n      s.async = false;\n      s.onreadystatechange = s.onload = function() {\n        root._bokeh_is_loading--;\n        if (root._bokeh_is_loading === 0) {\n          console.log(\"Bokeh: all BokehJS libraries loaded\");\n          run_callbacks()\n        }\n      };\n      s.onerror = function() {\n        console.warn(\"failed to load library \" + url);\n      };\n      console.log(\"Bokeh: injecting script tag for BokehJS library: \", url);\n      document.getElementsByTagName(\"head\")[0].appendChild(s);\n    }\n  };var element = document.getElementById(\"0e7f4d79-4df7-4a42-b9c8-4a0dbf4fc3ef\");\n  if (element == null) {\n    console.log(\"Bokeh: ERROR: autoload.js configured with elementid '0e7f4d79-4df7-4a42-b9c8-4a0dbf4fc3ef' but no matching script tag was found. \")\n    return false;\n  }\n\n  var js_urls = [\"https://cdn.pydata.org/bokeh/release/bokeh-0.13.0.min.js\", \"https://cdn.pydata.org/bokeh/release/bokeh-widgets-0.13.0.min.js\", \"https://cdn.pydata.org/bokeh/release/bokeh-tables-0.13.0.min.js\", \"https://cdn.pydata.org/bokeh/release/bokeh-gl-0.13.0.min.js\"];\n\n  var inline_js = [\n    function(Bokeh) {\n      Bokeh.set_log_level(\"info\");\n    },\n    \n    function(Bokeh) {\n      \n    },\n    function(Bokeh) {\n      console.log(\"Bokeh: injecting CSS: https://cdn.pydata.org/bokeh/release/bokeh-0.13.0.min.css\");\n      Bokeh.embed.inject_css(\"https://cdn.pydata.org/bokeh/release/bokeh-0.13.0.min.css\");\n      console.log(\"Bokeh: injecting CSS: https://cdn.pydata.org/bokeh/release/bokeh-widgets-0.13.0.min.css\");\n      Bokeh.embed.inject_css(\"https://cdn.pydata.org/bokeh/release/bokeh-widgets-0.13.0.min.css\");\n      console.log(\"Bokeh: injecting CSS: https://cdn.pydata.org/bokeh/release/bokeh-tables-0.13.0.min.css\");\n      Bokeh.embed.inject_css(\"https://cdn.pydata.org/bokeh/release/bokeh-tables-0.13.0.min.css\");\n    }\n  ];\n\n  function run_inline_js() {\n    \n    if ((root.Bokeh !== undefined) || (force === true)) {\n      for (var i = 0; i < inline_js.length; i++) {\n        inline_js[i].call(root, root.Bokeh);\n      }if (force === true) {\n        display_loaded();\n      }} else if (Date.now() < root._bokeh_timeout) {\n      setTimeout(run_inline_js, 100);\n    } else if (!root._bokeh_failed_load) {\n      console.log(\"Bokeh: BokehJS failed to load within specified timeout.\");\n      root._bokeh_failed_load = true;\n    } else if (force !== true) {\n      var cell = $(document.getElementById(\"0e7f4d79-4df7-4a42-b9c8-4a0dbf4fc3ef\")).parents('.cell').data().cell;\n      cell.output_area.append_execute_result(NB_LOAD_WARNING)\n    }\n\n  }\n\n  if (root._bokeh_is_loading === 0) {\n    console.log(\"Bokeh: BokehJS loaded, going straight to plotting\");\n    run_inline_js();\n  } else {\n    load_libs(js_urls, function() {\n      console.log(\"Bokeh: BokehJS plotting callback run at\", now());\n      run_inline_js();\n    });\n  }\n}(window));"
     },
     "metadata": {},
     "output_type": "display_data"
    }
   ],
   "source": [
    "import requests\n",
    "import json\n",
    "from datapackage import Package\n",
    "import pandas as pd\n",
    "import numpy as np\n",
    "from scipy.sparse import csc_matrix\n",
    "from scipy import stats\n",
    "from sklearn.manifold import TSNE\n",
    "from bokeh.plotting import figure, show\n",
    "from bokeh.models import ColumnDataSource, Range1d, LabelSet, Label\n",
    "import bokeh.plotting as bkp\n",
    "import bokeh.models as bkm\n",
    "from bokeh.io import output_notebook\n",
    "from bokeh.models import LogColorMapper\n",
    "from bokeh.palettes import Viridis6 as palette\n",
    "from bokeh.plotting import figure\n",
    "from bokeh.layouts import row\n",
    "import implicit\n",
    "from sklearn.decomposition import PCA\n",
    "from implicit.als import AlternatingLeastSquares\n",
    "from implicit.approximate_als import (AnnoyAlternatingLeastSquares, FaissAlternatingLeastSquares,\n",
    "                                      NMSLibAlternatingLeastSquares)\n",
    "from implicit.bpr import BayesianPersonalizedRanking\n",
    "from implicit.nearest_neighbours import (BM25Recommender, CosineRecommender,\n",
    "                                         TFIDFRecommender, bm25_weight)\n",
    "output_notebook()"
   ]
  },
  {
   "cell_type": "markdown",
   "metadata": {},
   "source": [
    "Data collecting: \n",
    "\n",
    "In order to perform the analysis, we need to collect the data needed. The data is stored in FDA server and could be collected using the event API. The event API is searchable on multi fields and count on one only. A generic function is built that takes the searchable fields, the count field and the number of results to return, and return a json format results"
   ]
  },
  {
   "cell_type": "code",
   "execution_count": 108,
   "metadata": {},
   "outputs": [],
   "source": [
    "def execute_fda_query(search_conditions=None,count_condition=None,limit='1'):\n",
    "    '''\n",
    "    this function create a fda api request and return the result in json format\n",
    "    Params:\n",
    "        search_conditions: list of the searchable conditions (ex. ['patient.drug.openfda.generic_name.exact:\"ASPIRIN\"'])\n",
    "        count_condition: a string the count condition (ex.patient.reaction.reactionmeddrapt.exact)\n",
    "        limit: a string the number of result size (due to API constraints, the result can't exceed 1000 for count and \n",
    "        100 per page for the patient data)\n",
    "    Returns:\n",
    "        string\n",
    "    '''\n",
    "    END_POINT_SERVER=\"https://api.fda.gov/drug/event.json?\"\n",
    "    if(search_conditions!=None):\n",
    "        search_string='search='\n",
    "        search_string+='+AND+'.join(search_conditions)\n",
    "        END_POINT_SERVER+=search_string+\"&\"\n",
    "    if(count_condition!=None):\n",
    "        count_condition='count={}'.format(count_condition)\n",
    "        END_POINT_SERVER+=count_condition+\"&\"\n",
    "    limit_string='limit={}'.format(limit)\n",
    "    END_POINT_SERVER+=limit_string\n",
    "    response = requests.get(END_POINT_SERVER)\n",
    "    return response.json()"
   ]
  },
  {
   "cell_type": "markdown",
   "metadata": {},
   "source": [
    "In this task, we will perform the analysis for the top drugs those regards the number of reports recieved. we use the generic medical name of the durgs."
   ]
  },
  {
   "cell_type": "code",
   "execution_count": 109,
   "metadata": {},
   "outputs": [],
   "source": [
    "def get_top_generic_meds(limit):\n",
    "    '''\n",
    "    get the top 'limit' drug generic names reported have the highest adverse events reported\n",
    "    Params:\n",
    "        limit: the number of results to return\n",
    "    Returns:\n",
    "        list\n",
    "    '''\n",
    "    search_conditions=None\n",
    "    count_condition='patient.drug.openfda.generic_name.exact'\n",
    "    result=execute_fda_query(count_condition=count_condition,limit=limit)\n",
    "    return result['results']"
   ]
  },
  {
   "cell_type": "markdown",
   "metadata": {},
   "source": [
    "After having these durg names, we need to have the countries. The countries are stored in the API by their code, for that we will retrieve these codes from the data package library and return a list of the country codes."
   ]
  },
  {
   "cell_type": "code",
   "execution_count": 110,
   "metadata": {},
   "outputs": [],
   "source": [
    "countries_info=pd.read_csv('countries.csv')\n",
    "def get_countries():\n",
    "    '''\n",
    "    get the countries alpha-2 codes\n",
    "    Params:\n",
    "        limit: the number of results to return\n",
    "    Returns:\n",
    "        list\n",
    "    '''\n",
    "    return countries_info['alpha-2'].tolist()"
   ]
  },
  {
   "cell_type": "markdown",
   "metadata": {},
   "source": [
    "Once we have the county codes and the durg ids, we can retrieve the events associated with this durg in that counry using the FDA API."
   ]
  },
  {
   "cell_type": "code",
   "execution_count": 111,
   "metadata": {},
   "outputs": [],
   "source": [
    "def get_events_by_county(med,country,limit):\n",
    "    '''\n",
    "    get the top 'limit' adverse events with their reported counts for certain country and certain drug\n",
    "    Params:\n",
    "        med: the generic drug name\n",
    "        country: the country alpha-2 code\n",
    "        limit: the number of results to return\n",
    "    Returns:\n",
    "        list\n",
    "    '''\n",
    "    search_conditions=[]\n",
    "    search_conditions.append('patient.drug.openfda.generic_name.exact:\"'+med+'\"')\n",
    "    search_conditions.append('occurcountry:\"'+country+'\"')\n",
    "    count_condition='patient.reaction.reactionmeddrapt.exact'\n",
    "    result=execute_fda_query(search_conditions,count_condition,limit=limit)\n",
    "    return result\n",
    "\n",
    "def get_full_drugs_events_by_county(country,limit):\n",
    "    '''\n",
    "    get the top 'limit' adverse events with their reported counts for certain country\n",
    "    Params:\n",
    "        country: the country alpha-2 code\n",
    "        limit: the number of results to return\n",
    "    Returns:\n",
    "        list\n",
    "    '''\n",
    "    search_conditions=[]\n",
    "    search_conditions.append('occurcountry:\"'+country+'\"')\n",
    "    count_condition='patient.reaction.reactionmeddrapt.exact'\n",
    "    result=execute_fda_query(search_conditions,count_condition,limit=limit)\n",
    "    return result"
   ]
  },
  {
   "cell_type": "markdown",
   "metadata": {},
   "source": [
    "For writing the output list into file, we have the helper function to do so"
   ]
  },
  {
   "cell_type": "markdown",
   "metadata": {},
   "source": [
    "Data curation and saving\n",
    "\n",
    "Several data curation steps could be performed, such as: Wrong adverse event enties (AND, MG, OFF LABEL USE ..) Synonyms Unclear event name (DRUG INTERACTION) This type of curation requires a time and deeper analysis or a domain knowledge. For that purpose, an example of what we assumed as wrong adverse event enties and unclear event name will be removed. A more safisticated data curation is required"
   ]
  },
  {
   "cell_type": "code",
   "execution_count": 112,
   "metadata": {},
   "outputs": [],
   "source": [
    "excluded_events=['DRUG INTERACTION','OFF LABEL USE','MG','AND']\n",
    "def remove_event(eventname):\n",
    "    return eventname in excluded_events"
   ]
  },
  {
   "cell_type": "code",
   "execution_count": 113,
   "metadata": {},
   "outputs": [],
   "source": [
    "def save_country_data(path,number_of_meds):\n",
    "    '''\n",
    "    this function retrieve the top 'N' drug name and save the reported event counts per country for each drug seperately \n",
    "    (i.e. drug specific data)\n",
    "    Params:\n",
    "        path: the name of the output folder to save the data in (the filename for each drug would be [DRUG_NAME]_events.csv).\n",
    "        number_of_meds: the number of top drugs to save their data \n",
    "    Returns:\n",
    "        None\n",
    "    '''\n",
    "    top_generic_meds=get_top_generic_meds(number_of_meds)\n",
    "    countries=get_countries()\n",
    "    for med in top_generic_meds :\n",
    "        print 'retreiving {} data'.format(str(med['term']))\n",
    "        outputlist=[]\n",
    "        outputlist.append('country,term,count')\n",
    "        for country in countries:\n",
    "            top_events=get_events_by_county(med['term'],country,'1000')\n",
    "            if('results' in top_events):\n",
    "                top_events=top_events['results']\n",
    "                for elm in top_events:\n",
    "                    if(not remove_event(str(elm['term']).replace(\",\",\"_\"))):\n",
    "                        outputlist.append(str(country).replace(\",\",\"_\")+\",\"+str(elm['term']).replace(\",\",\"_\")+','+str(elm['count']))\n",
    "        filename=path+med['term']+'_events.csv'\n",
    "        write_to_file(outputlist,filename)\n",
    "\n",
    "def save_full_country_data(path):\n",
    "    '''\n",
    "    this function retrieve save the reported event counts per country for all drugs\n",
    "    Params:\n",
    "        path: the name of the output folder to save the data in  (the filename would be full_events.csv).\n",
    "    Returns:\n",
    "        None\n",
    "    '''\n",
    "    outputlist=[]\n",
    "    countries=get_countries()\n",
    "    for country in countries:\n",
    "        top_events=get_full_drugs_events_by_county(country,'1000')\n",
    "        if('results' in top_events):\n",
    "            top_events=top_events['results']\n",
    "            for elm in top_events:\n",
    "                if(not remove_event(str(elm['term']).replace(\",\",\"_\"))):\n",
    "                    outputlist.append(str(country).replace(\",\",\"_\")+\",\"+str(elm['term']).replace(\",\",\"_\")+','+str(elm['count']))\n",
    "    filename=path+'full_events.csv'\n",
    "    write_to_file(outputlist,filename)\n"
   ]
  },
  {
   "cell_type": "code",
   "execution_count": 114,
   "metadata": {},
   "outputs": [],
   "source": [
    "# save_full_country_data('./data/')\n",
    "# save_country_data('./data/',20)"
   ]
  },
  {
   "cell_type": "markdown",
   "metadata": {},
   "source": [
    "Model building:\n",
    "\n",
    "Now we have the data retieved, curated and saved on the storage, we can start do the analysis and building building the model. In order to do so we need to read the data filter it if needed and convert it to the right format. \n",
    "\n",
    "For that purpose, it works on a matrix represents the country/event relationship. The number of rows is the number of countries and the number of columns is the number of events. The entry in the country/event cell is the number of reports mention the event and the report source is row country.\n",
    "\n",
    "First we read the data file content and filter the content according to the number of top events to consider. If the number of events to retrieve variable is 0, we return all the events. This parameter is controling the spasity of the matrix, the bigger the number is the less sparse the matrix is. However, that might give a consideration for rare events.\n"
   ]
  },
  {
   "cell_type": "code",
   "execution_count": 115,
   "metadata": {},
   "outputs": [],
   "source": [
    "countries_info=pd.read_csv('countries.csv')"
   ]
  },
  {
   "cell_type": "code",
   "execution_count": 116,
   "metadata": {},
   "outputs": [],
   "source": [
    "def get_top_events(file_path,number_of_events_to_retrieve):\n",
    "    '''\n",
    "    This function read a adverse events per country data and return it in dataframe structure.\n",
    "    If the number of events to retrieve is 0, we return all data. If not, we return the top number_of_events_to_retrieve\n",
    "    of events per country \n",
    "    Params:\n",
    "        file_path: the full input file path\n",
    "        number_of_events_to_retrieve: the number of top adverse event per country to retrieve.\n",
    "    Returns:\n",
    "        DataFrame\n",
    "    '''\n",
    "    df = pd.read_csv(file_path)\n",
    "    if(number_of_events_to_retrieve==0):\n",
    "        return df\n",
    "    result=[]\n",
    "    countries=df.country.unique().tolist()\n",
    "    for elm in countries:\n",
    "        a=df[df['country']==elm]\n",
    "        res=a.head(number_of_events_to_retrieve)\n",
    "        result.append(res)\n",
    "    return pd.concat(result)"
   ]
  },
  {
   "cell_type": "code",
   "execution_count": 117,
   "metadata": {},
   "outputs": [],
   "source": [
    "def delete_by_threshold(df,threshold):\n",
    "    dfx=df[df['count']> threshold]\n",
    "    return dfx"
   ]
  },
  {
   "cell_type": "raw",
   "metadata": {},
   "source": [
    "Now, we put the content of the file into a sparse matrix. We have Three types of data to include in this matrix, the first one is the actual number of reports for that event in the country and the other only the existance of a report. The first one would work on the actual count and that would be part of the modeling. However, due to the difference in the number of reports per country (health care problems, only serious reporting, etc..), the differences in the number would be projected as difference in weights inside the model (some models would ignore the values as cosine distance). The second is the ratio to the total number of events of that country. The third would be a binary if the country has such event report or not. The other parameter is the threshold, which decide the minimum number of reported events in order to consider that event as part of the country data."
   ]
  },
  {
   "cell_type": "code",
   "execution_count": 118,
   "metadata": {},
   "outputs": [],
   "source": [
    "def convert_to_ratio(df):\n",
    "    '''\n",
    "    Convert the data in the df into ratio data, that's by taking the count of each event for each country and divide \n",
    "    it on the sum of the reported events for that country.\n",
    "    Params:\n",
    "        df: the data dataframe\n",
    "    Returns:\n",
    "        DataFrame\n",
    "    '''\n",
    "    result=[]\n",
    "    countries=df.country.unique().tolist()\n",
    "    for elm in countries:\n",
    "        a=df[df['country']==elm]\n",
    "        a['count']=a['count']/a['count'].sum()\n",
    "        result.append(a)\n",
    "    return pd.concat(result)"
   ]
  },
  {
   "cell_type": "code",
   "execution_count": 119,
   "metadata": {},
   "outputs": [],
   "source": [
    "def file_to_sparse_matrix(file_path,number_of_events_to_show=0,threshold=0,normalized=False,ratio=False):\n",
    "    '''\n",
    "    This function takes the name of the input file, with several configration parameters and returns \n",
    "    the countr/event matrix, a list of the code of the countries in the data, list of the events mentioned\n",
    "    and the original data in dataframe format.\n",
    "    Params:\n",
    "        file_path: \n",
    "        number_of_events_to_show: the maximum number of top events per country to read.\n",
    "        threshold: the minimum number of report per event to be considered.\n",
    "        normalized: convert the data into binary ( instead of count, just mention event reported/non-reported)\n",
    "        ratio: convert the event counts into ratio format per country.\n",
    "    Returns:\n",
    "        SparseMatrix, list, list, DataFrame\n",
    "    '''\n",
    "    df=get_top_events(file_path,number_of_events_to_show)\n",
    "    if(threshold>0):\n",
    "        df=delete_by_threshold(df,threshold)\n",
    "    countries=df.country.unique().tolist()\n",
    "    countries_index=[]\n",
    "    events_index=[]\n",
    "    if(ratio):\n",
    "        df=convert_to_ratio(df)\n",
    "    events=df.term.unique().tolist()\n",
    "    values=df['count'].tolist()\n",
    "    if(normalized):\n",
    "        values=df['count']*0+1\n",
    "    for elm in df.country:\n",
    "        countries_index.append(countries.index(elm))\n",
    "    for elm in df.term:\n",
    "        events_index.append(events.index(elm))\n",
    "    sparse_mat=csc_matrix((values, (countries_index, events_index)), shape=(len(countries), len(events)))\n",
    "    return sparse_mat,countries,events,df"
   ]
  },
  {
   "cell_type": "markdown",
   "metadata": {},
   "source": [
    "Now, as the data is in the right format, we can build the collaborative model. There is several types of the collaborative models to use:\n",
    "Item-to-item Nearest Neighbour Based: this approach is based on the distance similarity between the items, such as the cosine distance or Term Frequency and Inverse Document Frequency meausre.\n",
    "Matrix Decomposition Based: in this class of CF, the goal it to uncover latent features that explain observed values. Several approaches have been proposed for such case as - Alternating Least Squares -Bayesian Personalized Ranking.\n",
    "Unlike the matrix decomposition which require the tuning of the number of factors, the item-to-item approach does not require any parameters."
   ]
  },
  {
   "cell_type": "code",
   "execution_count": 120,
   "metadata": {},
   "outputs": [],
   "source": [
    "MODELS = {\"als\":  AlternatingLeastSquares,\n",
    "          \"tfidf\": TFIDFRecommender,\n",
    "          \"cosine\": CosineRecommender,\n",
    "          \"bpr\": BayesianPersonalizedRanking}\n",
    "def get_model(model_name,num_of_factors):\n",
    "    '''\n",
    "    create a collaborative filtering model by name.\n",
    "    Params:\n",
    "        name: the name of the model to generate\n",
    "        num_of_factors: the number of latent factor if the model is matrix decomposition based.\n",
    "    Returns:\n",
    "        Model \n",
    "    '''\n",
    "    model_class = MODELS.get(model_name)\n",
    "    if not model_class:\n",
    "        raise ValueError(\"Unknown Model '%s'\" % model_name)\n",
    "    if issubclass(model_class, AlternatingLeastSquares):\n",
    "        params = {'factors': num_of_factors, 'dtype': np.float32}\n",
    "    elif model_name == \"bpr\":\n",
    "        params = {'factors': num_of_factors}\n",
    "    else:\n",
    "        params = {}\n",
    "    return model_class(**params)"
   ]
  },
  {
   "cell_type": "markdown",
   "metadata": {},
   "source": [
    "Now we have the model creation code, we can create a model and train it on the data matrix."
   ]
  },
  {
   "cell_type": "code",
   "execution_count": 121,
   "metadata": {},
   "outputs": [],
   "source": [
    "def create_fit_CF_model(modelname,item_user_data,num_of_factors):\n",
    "    '''\n",
    "    this function takes the model name, the country/event_matrix and the number of factors and return a CF model trained\n",
    "    on the input data.\n",
    "    Params:\n",
    "        modelname: the name of the model to generate\n",
    "        item_user_data: the data to train the model on.\n",
    "        num_of_factors: the number of latent factor if the model is matrix decomposition based.\n",
    "    Returns:\n",
    "        Model \n",
    "    '''\n",
    "    model =get_model(modelname,num_of_factors)\n",
    "    model.fit(item_user_data)\n",
    "    return model"
   ]
  },
  {
   "cell_type": "code",
   "execution_count": 122,
   "metadata": {},
   "outputs": [],
   "source": [
    "def get_country_matrix_similarity(model,countries):\n",
    "    '''\n",
    "    this function takes the model and a set of counry, and it return the similarity scores to all other countries\n",
    "    as a matrix.\n",
    "    Params:\n",
    "        model: the CF model\n",
    "        countries: the list of countries to generate the similarities to.\n",
    "    Returns:\n",
    "        list of lists \n",
    "    '''\n",
    "    result=[]\n",
    "    for i in range(len(countries)):\n",
    "        scores=[0]*len(countries)\n",
    "        for value in model.similar_items(i, len(countries)):\n",
    "            scores[value[0]]=value[1]\n",
    "        result.append(scores)\n",
    "    return result\n"
   ]
  },
  {
   "cell_type": "code",
   "execution_count": 123,
   "metadata": {},
   "outputs": [],
   "source": [
    "def show_country_similarity(score_matrix,countries):\n",
    "    '''\n",
    "    this function takes a similarity score matrix and the code of the countrie, project the similarity as a distance\n",
    "    between the countries using t-sne and plot it into 2D graph as scatter.\n",
    "    Params:\n",
    "        score_matrix: the similarity score matrix\n",
    "        countries: the country codes\n",
    "    Returns:\n",
    "        None \n",
    "    '''\n",
    "    score_matrix=(score_matrix-score_matrix.min())/(score_matrix.max()-score_matrix.min())\n",
    "    X_embedded=TSNE(n_components=2).fit_transform(score_matrix)\n",
    "    countriesnames=[]\n",
    "    report_count=[]\n",
    "    number_of_events_to_show=3\n",
    "    report_text={}\n",
    "    colormap = [\"#444444\", \"#1f78b4\", \"#33a02c\", \"#fb9a99\",\n",
    "                \"#e31a1c\", \"#ff7f00\", \"#cab2d6\", \"#6a3d9a\"]\n",
    "    continents=countries_info['region'].unique().tolist()\n",
    "    colors=[]\n",
    "    for i in range(number_of_events_to_show):\n",
    "        report_text[i]=[]\n",
    "    label=[]\n",
    "    for elm in countries:\n",
    "        label.append(countries_info[countries_info['alpha-2']==elm]['region'].tolist()[0])\n",
    "        colors.append(colormap[continents.index(countries_info[countries_info['alpha-2']==elm]['region'].tolist()[0])])\n",
    "        countriesnames.append(countries_info[countries_info['alpha-2']==elm]['name'].values.tolist()[0])\n",
    "        a=df[df['country']==elm]\n",
    "        res=a.head(number_of_events_to_show)['term'].tolist()\n",
    "        full_score=a['count'].sum()\n",
    "        report_count.append(full_score)\n",
    "        scores=a.head(number_of_events_to_show)['count'].tolist()\n",
    "        for i in range(number_of_events_to_show):\n",
    "            if(i<len(res)):\n",
    "                report_text[i].append(res[i]+' : '+str(scores[i])+'/'+str(full_score))\n",
    "            else:\n",
    "                report_text[i].append('')\n",
    "    report_count=(np.round(report_count/(np.max(report_count)/50.0))+5).tolist()\n",
    "    source = ColumnDataSource(data=dict(height=X_embedded[:,0].tolist(),\n",
    "                                    weight=X_embedded[:,1].tolist(),\n",
    "                                    names=countriesnames,\n",
    "                                    codes=countries,\n",
    "                                    report_count=report_count,\n",
    "                                    report_text1=report_text[0],\n",
    "                                    report_text2=report_text[1],\n",
    "                                    report_text3=report_text[2],\n",
    "                                    colors=colors,\n",
    "                                    label=label))\n",
    "    p = figure(title='countries',plot_width=800, plot_height=500,tooltips=[(\"Name\", \"@names\")\n",
    "                                                                         ,(\"First Event\", \"@report_text1\")\n",
    "                                                                         ,(\"Second Event\", \"@report_text2\")\n",
    "                                                                         ,(\"Third Event\", \"@report_text3\")])\n",
    "    p.scatter(x='height',y='weight', size=5, source=source,legend='label',color='colors')\n",
    "    p.xaxis[0].axis_label = 'Comp1'\n",
    "    p.yaxis[0].axis_label = 'Comp2'\n",
    "    show(p)"
   ]
  },
  {
   "cell_type": "code",
   "execution_count": 124,
   "metadata": {},
   "outputs": [],
   "source": [
    "def get_outliers(input_matrix,countries)  :  \n",
    "    '''\n",
    "    this function takes a similarity score matrix and the code of the countrie and return a set of statistics about\n",
    "    the data. These statistics (per country) are median,mean,max,min,std,outliers\n",
    "    Params:\n",
    "        input_matrix: the similarity score matrix\n",
    "        countries: the country codes\n",
    "    Returns:\n",
    "        list,list,list,list, list of lists\n",
    "    '''\n",
    "    yy = []\n",
    "    g = []\n",
    "    for i in range(input_matrix.shape[0]):\n",
    "        for j in range(input_matrix.shape[1]):\n",
    "            g.append(countries[i])\n",
    "            if i!=j:\n",
    "                yy.append(input_matrix[i,j])\n",
    "            else:\n",
    "                yy.append(0)\n",
    "    yy=np.asarray(yy)\n",
    "    g=np.asarray(g)\n",
    "    dfx = pd.DataFrame(dict(score=yy, group=g))\n",
    "    # find the quartiles and IQR for each category\n",
    "    groups = dfx.groupby('group')\n",
    "    q1 = groups.quantile(q=0.25)\n",
    "    q2 = groups.quantile(q=0.5)\n",
    "    q3 = groups.quantile(q=0.75)\n",
    "    iqr = q3 - q1\n",
    "    upper = q3 + 1.5*iqr\n",
    "    lower = q1 - 1.5*iqr\n",
    "    # find the outliers for each category\n",
    "    def outliers(group):\n",
    "        cat = group.name\n",
    "        return len(group[(group.score > upper.loc[cat]['score'])])\n",
    "    def outliers_counts(group):\n",
    "        cat = group.name\n",
    "        return group[(group.score > upper.loc[cat]['score']) | (group.score < lower.loc[cat]['score'])]\n",
    "    out = groups.apply(outliers).dropna()\n",
    "    return q2,groups.mean(),groups.max(),groups.min(),groups.std(),out"
   ]
  },
  {
   "cell_type": "code",
   "execution_count": 125,
   "metadata": {},
   "outputs": [],
   "source": [
    "def plot_box(input_matrix,labels,width,hight):\n",
    "    '''\n",
    "    this function takes an input matrix, labels and the width and hights and show the plot box of the data.\n",
    "    Params:\n",
    "        input_matrix: the similarity score matrix\n",
    "        labels: the row labels\n",
    "        width: the plot width\n",
    "        hight: the plot hight\n",
    "    Returns:\n",
    "        None\n",
    "    '''\n",
    "    yy = []\n",
    "    g = []\n",
    "    for i in range(input_matrix.shape[0]):\n",
    "        for j in range(input_matrix.shape[1]):\n",
    "            g.append(labels[i])\n",
    "            if i!=j:\n",
    "                yy.append(input_matrix[i,j])\n",
    "            else:\n",
    "                yy.append(0)\n",
    "    yy=np.asarray(yy)\n",
    "    g=np.asarray(g)\n",
    "    dfx = pd.DataFrame(dict(score=yy, group=g))\n",
    "    # find the quartiles and IQR for each category\n",
    "    groups = dfx.groupby('group')\n",
    "    q1 = groups.quantile(q=0.25)\n",
    "    q2 = groups.quantile(q=0.5)\n",
    "    q3 = groups.quantile(q=0.75)\n",
    "    iqr = q3 - q1\n",
    "    upper = q3 + 1.5*iqr\n",
    "    lower = q1 - 1.5*iqr\n",
    "    # find the outliers for each category\n",
    "    def outliers(group):\n",
    "        cat = group.name\n",
    "        return group[(group.score > upper.loc[cat]['score']) | (group.score < lower.loc[cat]['score'])]['score']\n",
    "    out = groups.apply(outliers).dropna()\n",
    "    # prepare outlier data for plotting, we need coordinates for every outlier.\n",
    "    if not out.empty:\n",
    "        outx = []\n",
    "        outy = []\n",
    "        for cat in labels:\n",
    "            # only add outl1iers if they exist\n",
    "            try:\n",
    "                if not out.loc[cat].empty:\n",
    "                    for value in out[cat]:\n",
    "                        outx.append(cat)\n",
    "                        outy.append(value)\n",
    "            except:\n",
    "                continue\n",
    "    p = figure(background_fill_color=\"#EFE8E2\",plot_width=width, plot_height=hight, title=\"\", x_range=labels)\n",
    "    # if no outliers, shrink lengths of stems to be no longer than the minimums or maximums\n",
    "    qmin = groups.quantile(q=0.00)\n",
    "    qmax = groups.quantile(q=1.00)\n",
    "    upper.score = [min([x,y]) for (x,y) in zip(list(qmax.loc[:,'score']),upper.score)]\n",
    "    lower.score = [max([x,y]) for (x,y) in zip(list(qmin.loc[:,'score']),lower.score)]\n",
    "    # stems\n",
    "    p.segment(labels, upper.score, labels, q3.score, line_color=\"black\")\n",
    "    p.segment(labels, lower.score, labels, q1.score, line_color=\"black\")\n",
    "    # boxes\n",
    "    p.vbar(labels, 0.7, q2.score, q3.score, fill_color=\"#E08E79\", line_color=\"black\")\n",
    "    p.vbar(labels, 0.7, q1.score, q2.score, fill_color=\"#3B8686\", line_color=\"black\")\n",
    "    # whiskers (almost-0 height rects simpler than segments)\n",
    "    p.rect(labels, lower.score, 0.2, 0.01, line_color=\"black\")\n",
    "    p.rect(labels, upper.score, 0.2, 0.01, line_color=\"black\")\n",
    "    # outliers\n",
    "    if not out.empty:\n",
    "        p.circle(outx, outy, size=6, color=\"#F38630\", fill_alpha=0.6)\n",
    "    p.xgrid.grid_line_color = None\n",
    "    p.ygrid.grid_line_color = \"white\"\n",
    "    p.grid.grid_line_width = 2\n",
    "    p.xaxis.major_label_text_font_size=\"12pt\"\n",
    "    show(p)"
   ]
  },
  {
   "cell_type": "markdown",
   "metadata": {},
   "source": [
    "3- Data Analysis\n",
    "\n",
    "\n",
    "Now we start with first one, which is checking if there is a significant difference between the events reported for each pair of countries.\n",
    "As we are working with correlation problem between ordinal features, Sign test is used to calculate the degree of agreement on the events between two counties.  The sign test has the null hypothesis that both samples are from the same population.  The sign test compares the two dependent observations and counts the number of negative and positive differences. \n",
    "First we load th data used in the experiment. As we do not consider the count of events as a factor here, we should care about if reported or not, so re binarize the data accordenly "
   ]
  },
  {
   "cell_type": "code",
   "execution_count": 126,
   "metadata": {},
   "outputs": [],
   "source": [
    "# The input file\n",
    "file_name='full_events.csv'\n",
    "# The minimum number of reports to consider per event\n",
    "threshold=0\n",
    "#  the maximum number of events to consider per country\n",
    "number_of_events_per_country=1000\n",
    "# use the raw data or a ratio per country\n",
    "ratio=False\n",
    "# use binary or float (True means there is event reported in that country without how many)\n",
    "normalized=True\n",
    "# create the dataset\n",
    "sparse_mat,countries,events,df=file_to_sparse_matrix(file_name,number_of_events_to_show=number_of_events_per_country,threshold=threshold,normalized=normalized,ratio=ratio)\n",
    "a=sparse_mat.toarray()\n"
   ]
  },
  {
   "cell_type": "markdown",
   "metadata": {},
   "source": [
    "Now, we examine the null hypothesis, that all countries have same adverse events. That means, if we found countries those are significantly different regards to the events reported, we can reject the null hypothsis. We are interested in the count of the significant (p-value<0.05) with disagreement >0. The disagreement is calculated and the sum of the absolute difference between the event occurance between the country i and country j. The significant check is done using the sign test for the difference between the event occurance between the country i and country j.\n"
   ]
  },
  {
   "cell_type": "code",
   "execution_count": 127,
   "metadata": {},
   "outputs": [],
   "source": [
    "def sign_test(samp, mu0=0):\n",
    "    '''\n",
    "    taken from\n",
    "    https://github.com/statsmodels/statsmodels/blob/master/statsmodels/stats/descriptivestats.py\n",
    "    '''\n",
    "    samp = np.asarray(samp)\n",
    "    pos = np.sum(samp > mu0)\n",
    "    neg = np.sum(samp < mu0)\n",
    "    M = (pos-neg)/2.\n",
    "    p = stats.binom_test(min(pos,neg), pos+neg, .5)\n",
    "    return M, p"
   ]
  },
  {
   "cell_type": "code",
   "execution_count": 128,
   "metadata": {},
   "outputs": [],
   "source": [
    "seg_diff_count=[]\n",
    "non_seg_diff_count=[]\n",
    "diff_count=[]\n",
    "perfect_sig_count=[]\n",
    "for j in range(a.shape[0]):\n",
    "    res=0\n",
    "    perfect_sig=0\n",
    "    non_seg_res=0\n",
    "    for i in range(a.shape[0]):\n",
    "        if(i==j):\n",
    "            continue\n",
    "        difference=np.sum(np.abs(a[i,:]-a[j,:]))*1.0\n",
    "        M,p=sign_test(a[i,:]-a[j,:])\n",
    "        if(p<0.05):\n",
    "            if difference!=0:\n",
    "                res+=1\n",
    "                diff_count.append(difference/len(a[i,:]))\n",
    "            else:\n",
    "                perfect_sig+=1\n",
    "        else:\n",
    "            if difference==0:\n",
    "                perfect_sig+=1\n",
    "    if(res>0):\n",
    "        seg_diff_count.append(res)\n",
    "    if(perfect_sig>0):\n",
    "        perfect_sig_count.append(perfect_sig)\n",
    "seg_diff_count=np.asarray(seg_diff_count)\n",
    "perfect_sig_count=np.asarray(perfect_sig_count)\n",
    "diff_count=np.asarray(diff_count)"
   ]
  },
  {
   "cell_type": "code",
   "execution_count": 129,
   "metadata": {},
   "outputs": [
    {
     "name": "stdout",
     "output_type": "stream",
     "text": [
      "Segnificient disagreement per country : 182 out of 214, with minimun 153 counties difference and maximum of 213 \n",
      "Average significant disagreement : 90.5656694794% \n",
      "214 out of 214 countries have at least 153 countries have significant different adverse events\n"
     ]
    },
    {
     "data": {
      "text/html": [
       "\n",
       "\n",
       "\n",
       "\n",
       "\n",
       "\n",
       "  <div class=\"bk-root\" id=\"b1fe36ce-ad29-4df9-938b-07f7fe4193d8\"></div>\n"
      ]
     },
     "metadata": {},
     "output_type": "display_data"
    },
    {
     "data": {
      "application/javascript": [
       "(function(root) {\n",
       "  function embed_document(root) {\n",
       "    \n",
       "  var docs_json = {\"37b7f8c9-4b1c-411d-b00f-10254133d690\":{\"roots\":{\"references\":[{\"attributes\":{\"line_alpha\":{\"value\":0.1},\"line_color\":{\"value\":\"#1f77b4\"},\"x0\":{\"field\":\"x0\"},\"x1\":{\"field\":\"x1\"},\"y0\":{\"field\":\"y0\"},\"y1\":{\"field\":\"y1\"}},\"id\":\"56ab70a6-a374-4581-a24d-3c8c147d62b5\",\"type\":\"Segment\"},{\"attributes\":{\"callback\":null,\"data\":{\"x\":[],\"y\":[]},\"selected\":{\"id\":\"bdac9d62-0d65-40d5-a8a5-dff9f2a9847a\",\"type\":\"Selection\"},\"selection_policy\":{\"id\":\"0849579c-f6c9-4881-8158-f429cf2815a8\",\"type\":\"UnionRenderers\"}},\"id\":\"841149f1-e70c-4262-b331-56bf85a6ed2e\",\"type\":\"ColumnDataSource\"},{\"attributes\":{\"grid_line_color\":{\"value\":null},\"grid_line_width\":{\"value\":2},\"plot\":{\"id\":\"462e041e-f08f-42b7-8eec-c1860b108129\",\"subtype\":\"Figure\",\"type\":\"Plot\"},\"ticker\":{\"id\":\"5c57cf5a-3086-4e15-a67b-ae83e1a52012\",\"type\":\"CategoricalTicker\"}},\"id\":\"d3514e2e-0bf8-4bd0-a688-64182da68052\",\"type\":\"Grid\"},{\"attributes\":{},\"id\":\"225e9a9f-522a-4e27-a6f8-a4ab2cea31af\",\"type\":\"UnionRenderers\"},{\"attributes\":{},\"id\":\"d68eb678-8e75-4e21-9423-40b5807f59c5\",\"type\":\"UnionRenderers\"},{\"attributes\":{\"fill_color\":{\"value\":\"#1f77b4\"},\"height\":{\"units\":\"data\",\"value\":0.01},\"width\":{\"units\":\"data\",\"value\":0.2},\"x\":{\"field\":\"x\"},\"y\":{\"field\":\"y\"}},\"id\":\"1fa5f198-1fa1-478a-a2cd-76543e234ca9\",\"type\":\"Rect\"},{\"attributes\":{},\"id\":\"fe77f1f8-2b04-4dab-a087-2377ad247322\",\"type\":\"Selection\"},{\"attributes\":{},\"id\":\"c91f4382-909b-4afd-b0f1-64e01160e5c2\",\"type\":\"Selection\"},{\"attributes\":{},\"id\":\"02593104-e029-41d8-8b41-4a3d6473bba5\",\"type\":\"Selection\"},{\"attributes\":{\"formatter\":{\"id\":\"e8df2761-1fe3-4d4e-be91-bb98faac2f53\",\"type\":\"BasicTickFormatter\"},\"plot\":{\"id\":\"462e041e-f08f-42b7-8eec-c1860b108129\",\"subtype\":\"Figure\",\"type\":\"Plot\"},\"ticker\":{\"id\":\"832fcccf-f386-4f1a-9e7a-86e03ae94efe\",\"type\":\"BasicTicker\"}},\"id\":\"9c1c0564-ea5f-404a-9bf7-408a6170e691\",\"type\":\"LinearAxis\"},{\"attributes\":{\"overlay\":{\"id\":\"de12afdd-59c2-4cf5-b0d8-4e8f0ff26be5\",\"type\":\"BoxAnnotation\"}},\"id\":\"919df636-c98f-4ef4-b70a-ec5dafbc9dd2\",\"type\":\"BoxZoomTool\"},{\"attributes\":{\"fill_color\":{\"value\":\"#1f77b4\"},\"height\":{\"units\":\"data\",\"value\":0.01},\"width\":{\"units\":\"data\",\"value\":0.2},\"x\":{\"field\":\"x\"},\"y\":{\"field\":\"y\"}},\"id\":\"f8523cb5-6707-4b21-8144-0b3b0cbabe50\",\"type\":\"Rect\"},{\"attributes\":{},\"id\":\"14a97177-ddc0-4a86-b07f-b23396701f6e\",\"type\":\"CategoricalScale\"},{\"attributes\":{\"background_fill_color\":{\"value\":\"#EFE8E2\"},\"below\":[{\"id\":\"a5c4c4e6-062e-4658-96ce-d71f9f63353c\",\"type\":\"CategoricalAxis\"}],\"left\":[{\"id\":\"9c1c0564-ea5f-404a-9bf7-408a6170e691\",\"type\":\"LinearAxis\"}],\"plot_height\":300,\"plot_width\":300,\"renderers\":[{\"id\":\"a5c4c4e6-062e-4658-96ce-d71f9f63353c\",\"type\":\"CategoricalAxis\"},{\"id\":\"d3514e2e-0bf8-4bd0-a688-64182da68052\",\"type\":\"Grid\"},{\"id\":\"9c1c0564-ea5f-404a-9bf7-408a6170e691\",\"type\":\"LinearAxis\"},{\"id\":\"cc2a1807-1fe8-49c1-9975-a23a03633012\",\"type\":\"Grid\"},{\"id\":\"de12afdd-59c2-4cf5-b0d8-4e8f0ff26be5\",\"type\":\"BoxAnnotation\"},{\"id\":\"5bb2b59c-7529-4cd7-8271-27ad62f73812\",\"type\":\"GlyphRenderer\"},{\"id\":\"42eef82f-e4dd-4f5c-ae57-4de94c7ca343\",\"type\":\"GlyphRenderer\"},{\"id\":\"ead762dc-c053-401c-80ee-bd171315b737\",\"type\":\"GlyphRenderer\"},{\"id\":\"31ad5658-2f6f-4b7d-9b3f-cdefe3e41c2c\",\"type\":\"GlyphRenderer\"},{\"id\":\"ff7404ab-ac04-4ed2-a193-32d75eb8f720\",\"type\":\"GlyphRenderer\"},{\"id\":\"a9a36983-4db2-4de7-8570-9d8c3482c3b9\",\"type\":\"GlyphRenderer\"},{\"id\":\"25693b40-885f-442b-9eed-4d510f111163\",\"type\":\"GlyphRenderer\"}],\"title\":{\"id\":\"8c681b7d-c0f3-4d20-8f1a-e4a537740c98\",\"type\":\"Title\"},\"toolbar\":{\"id\":\"a718413a-d75b-4a70-a95e-b88f1c0b71e3\",\"type\":\"Toolbar\"},\"x_range\":{\"id\":\"70465c6a-849b-428d-8f02-33925c1dcb12\",\"type\":\"FactorRange\"},\"x_scale\":{\"id\":\"14a97177-ddc0-4a86-b07f-b23396701f6e\",\"type\":\"CategoricalScale\"},\"y_range\":{\"id\":\"c52acd62-a518-440a-a078-1d0f918a6e15\",\"type\":\"DataRange1d\"},\"y_scale\":{\"id\":\"84b88279-58e4-4a33-a784-e8b52d4ba55c\",\"type\":\"LinearScale\"}},\"id\":\"462e041e-f08f-42b7-8eec-c1860b108129\",\"subtype\":\"Figure\",\"type\":\"Plot\"},{\"attributes\":{},\"id\":\"3142421b-904f-41b2-8910-036465ef4561\",\"type\":\"CategoricalTickFormatter\"},{\"attributes\":{\"bottom\":{\"field\":\"bottom\"},\"fill_alpha\":{\"value\":0.1},\"fill_color\":{\"value\":\"#1f77b4\"},\"line_alpha\":{\"value\":0.1},\"line_color\":{\"value\":\"#1f77b4\"},\"top\":{\"field\":\"top\"},\"width\":{\"value\":0.7},\"x\":{\"field\":\"x\"}},\"id\":\"9cdb5be8-2d39-40fc-b9f3-c7e98b608a70\",\"type\":\"VBar\"},{\"attributes\":{},\"id\":\"bdac9d62-0d65-40d5-a8a5-dff9f2a9847a\",\"type\":\"Selection\"},{\"attributes\":{\"data_source\":{\"id\":\"c48796d7-57b0-4e07-970e-5919d1fdfc09\",\"type\":\"ColumnDataSource\"},\"glyph\":{\"id\":\"a539929e-54df-4b8d-b9e4-819f9bde71ed\",\"type\":\"VBar\"},\"hover_glyph\":null,\"muted_glyph\":null,\"nonselection_glyph\":{\"id\":\"9cdb5be8-2d39-40fc-b9f3-c7e98b608a70\",\"type\":\"VBar\"},\"selection_glyph\":null,\"view\":{\"id\":\"ff9a9b49-bd7f-4763-9897-045de0a8b1e8\",\"type\":\"CDSView\"}},\"id\":\"31ad5658-2f6f-4b7d-9b3f-cdefe3e41c2c\",\"type\":\"GlyphRenderer\"},{\"attributes\":{\"data_source\":{\"id\":\"0308cf13-2a90-414e-9335-51f4c616e242\",\"type\":\"ColumnDataSource\"},\"glyph\":{\"id\":\"1fa5f198-1fa1-478a-a2cd-76543e234ca9\",\"type\":\"Rect\"},\"hover_glyph\":null,\"muted_glyph\":null,\"nonselection_glyph\":{\"id\":\"89dade4f-a668-4137-9285-70803e4eddc5\",\"type\":\"Rect\"},\"selection_glyph\":null,\"view\":{\"id\":\"6a44ac3a-edab-4a3c-8839-4ccdb49aa67a\",\"type\":\"CDSView\"}},\"id\":\"a9a36983-4db2-4de7-8570-9d8c3482c3b9\",\"type\":\"GlyphRenderer\"},{\"attributes\":{\"source\":{\"id\":\"b508bcd3-eb69-4363-afa9-137cfddd01ca\",\"type\":\"ColumnDataSource\"}},\"id\":\"db34e9b8-1084-4adc-9f1a-397be9e5e3ed\",\"type\":\"CDSView\"},{\"attributes\":{\"source\":{\"id\":\"b03b1256-68ff-45d0-b249-7eaf7c9f11b7\",\"type\":\"ColumnDataSource\"}},\"id\":\"41b98325-2966-440a-806b-a934f6c7fade\",\"type\":\"CDSView\"},{\"attributes\":{\"bottom\":{\"field\":\"bottom\"},\"fill_alpha\":{\"value\":0.1},\"fill_color\":{\"value\":\"#1f77b4\"},\"line_alpha\":{\"value\":0.1},\"line_color\":{\"value\":\"#1f77b4\"},\"top\":{\"field\":\"top\"},\"width\":{\"value\":0.7},\"x\":{\"field\":\"x\"}},\"id\":\"3a63c740-f2e5-4bc8-8f02-84fc88c527d1\",\"type\":\"VBar\"},{\"attributes\":{},\"id\":\"8618f5e9-e723-41cc-b05d-02032f99ab18\",\"type\":\"Selection\"},{\"attributes\":{},\"id\":\"0849579c-f6c9-4881-8158-f429cf2815a8\",\"type\":\"UnionRenderers\"},{\"attributes\":{},\"id\":\"57696e0d-60ea-45db-b5c4-6e1aec4dcc20\",\"type\":\"ResetTool\"},{\"attributes\":{},\"id\":\"f9ff31f8-a206-4609-b7f0-edcd5a96fec3\",\"type\":\"UnionRenderers\"},{\"attributes\":{\"source\":{\"id\":\"841149f1-e70c-4262-b331-56bf85a6ed2e\",\"type\":\"ColumnDataSource\"}},\"id\":\"fdcfae17-63e8-4290-8fe1-a29920bb3cc5\",\"type\":\"CDSView\"},{\"attributes\":{\"bottom\":{\"field\":\"bottom\"},\"fill_color\":{\"value\":\"#3B8686\"},\"top\":{\"field\":\"top\"},\"width\":{\"value\":0.7},\"x\":{\"field\":\"x\"}},\"id\":\"a539929e-54df-4b8d-b9e4-819f9bde71ed\",\"type\":\"VBar\"},{\"attributes\":{\"callback\":null,\"data\":{\"bottom\":{\"__ndarray__\":\"AAAAAAAgaUA=\",\"dtype\":\"float64\",\"shape\":[1]},\"top\":{\"__ndarray__\":\"AAAAAABAZ0A=\",\"dtype\":\"float64\",\"shape\":[1]},\"x\":[\"DA\"]},\"selected\":{\"id\":\"55e88310-0eb6-4550-bfb2-c5eef9ebff33\",\"type\":\"Selection\"},\"selection_policy\":{\"id\":\"5b3f4099-cca9-437b-8a9c-31646d7acfc5\",\"type\":\"UnionRenderers\"}},\"id\":\"a34965a3-1a14-4c40-9324-06902c415b36\",\"type\":\"ColumnDataSource\"},{\"attributes\":{\"x0\":{\"field\":\"x0\"},\"x1\":{\"field\":\"x1\"},\"y0\":{\"field\":\"y0\"},\"y1\":{\"field\":\"y1\"}},\"id\":\"a2316565-ec19-4cb4-8b27-5f6442c95dba\",\"type\":\"Segment\"},{\"attributes\":{\"active_drag\":\"auto\",\"active_inspect\":\"auto\",\"active_multi\":null,\"active_scroll\":\"auto\",\"active_tap\":\"auto\",\"tools\":[{\"id\":\"11587589-a655-44cc-84a3-20982a95f495\",\"type\":\"PanTool\"},{\"id\":\"2004ece3-4f7f-4d32-9993-be83cec63f84\",\"type\":\"WheelZoomTool\"},{\"id\":\"919df636-c98f-4ef4-b70a-ec5dafbc9dd2\",\"type\":\"BoxZoomTool\"},{\"id\":\"c7157f6b-72fa-495a-a94d-f7ba94b8e9a3\",\"type\":\"SaveTool\"},{\"id\":\"57696e0d-60ea-45db-b5c4-6e1aec4dcc20\",\"type\":\"ResetTool\"},{\"id\":\"5a30095e-4005-4931-bde7-b4bc34bd2a01\",\"type\":\"HelpTool\"}]},\"id\":\"a718413a-d75b-4a70-a95e-b88f1c0b71e3\",\"type\":\"Toolbar\"},{\"attributes\":{},\"id\":\"5b3f4099-cca9-437b-8a9c-31646d7acfc5\",\"type\":\"UnionRenderers\"},{\"attributes\":{},\"id\":\"11587589-a655-44cc-84a3-20982a95f495\",\"type\":\"PanTool\"},{\"attributes\":{\"callback\":null,\"data\":{\"x\":[\"DA\"],\"y\":{\"__ndarray__\":\"AAAAAADgVEA=\",\"dtype\":\"float64\",\"shape\":[1]}},\"selected\":{\"id\":\"c91f4382-909b-4afd-b0f1-64e01160e5c2\",\"type\":\"Selection\"},\"selection_policy\":{\"id\":\"58bea680-e45f-42a3-8673-f3da5b6fba21\",\"type\":\"UnionRenderers\"}},\"id\":\"33149be0-33a2-4575-a0ce-dbb076ec7d27\",\"type\":\"ColumnDataSource\"},{\"attributes\":{\"source\":{\"id\":\"0308cf13-2a90-414e-9335-51f4c616e242\",\"type\":\"ColumnDataSource\"}},\"id\":\"6a44ac3a-edab-4a3c-8839-4ccdb49aa67a\",\"type\":\"CDSView\"},{\"attributes\":{},\"id\":\"2004ece3-4f7f-4d32-9993-be83cec63f84\",\"type\":\"WheelZoomTool\"},{\"attributes\":{\"data_source\":{\"id\":\"841149f1-e70c-4262-b331-56bf85a6ed2e\",\"type\":\"ColumnDataSource\"},\"glyph\":{\"id\":\"e93fd104-5cbf-459a-bc0e-18ac465200ed\",\"type\":\"Circle\"},\"hover_glyph\":null,\"muted_glyph\":null,\"nonselection_glyph\":{\"id\":\"9c6e858c-6cd4-4241-beb6-7501151563e1\",\"type\":\"Circle\"},\"selection_glyph\":null,\"view\":{\"id\":\"fdcfae17-63e8-4290-8fe1-a29920bb3cc5\",\"type\":\"CDSView\"}},\"id\":\"25693b40-885f-442b-9eed-4d510f111163\",\"type\":\"GlyphRenderer\"},{\"attributes\":{\"source\":{\"id\":\"c48796d7-57b0-4e07-970e-5919d1fdfc09\",\"type\":\"ColumnDataSource\"}},\"id\":\"ff9a9b49-bd7f-4763-9897-045de0a8b1e8\",\"type\":\"CDSView\"},{\"attributes\":{\"data_source\":{\"id\":\"a34965a3-1a14-4c40-9324-06902c415b36\",\"type\":\"ColumnDataSource\"},\"glyph\":{\"id\":\"b26fd642-f054-4d74-b3d4-d6403e913ab0\",\"type\":\"VBar\"},\"hover_glyph\":null,\"muted_glyph\":null,\"nonselection_glyph\":{\"id\":\"3a63c740-f2e5-4bc8-8f02-84fc88c527d1\",\"type\":\"VBar\"},\"selection_glyph\":null,\"view\":{\"id\":\"1ce880d5-d542-4c08-8186-64747387aed1\",\"type\":\"CDSView\"}},\"id\":\"ead762dc-c053-401c-80ee-bd171315b737\",\"type\":\"GlyphRenderer\"},{\"attributes\":{\"data_source\":{\"id\":\"33149be0-33a2-4575-a0ce-dbb076ec7d27\",\"type\":\"ColumnDataSource\"},\"glyph\":{\"id\":\"f8523cb5-6707-4b21-8144-0b3b0cbabe50\",\"type\":\"Rect\"},\"hover_glyph\":null,\"muted_glyph\":null,\"nonselection_glyph\":{\"id\":\"ade273e4-1941-4796-a90f-dfaf01b195aa\",\"type\":\"Rect\"},\"selection_glyph\":null,\"view\":{\"id\":\"62021278-229c-468c-9a9a-a3c1f83eb9bb\",\"type\":\"CDSView\"}},\"id\":\"ff7404ab-ac04-4ed2-a193-32d75eb8f720\",\"type\":\"GlyphRenderer\"},{\"attributes\":{\"source\":{\"id\":\"a34965a3-1a14-4c40-9324-06902c415b36\",\"type\":\"ColumnDataSource\"}},\"id\":\"1ce880d5-d542-4c08-8186-64747387aed1\",\"type\":\"CDSView\"},{\"attributes\":{\"bottom\":{\"field\":\"bottom\"},\"fill_color\":{\"value\":\"#E08E79\"},\"top\":{\"field\":\"top\"},\"width\":{\"value\":0.7},\"x\":{\"field\":\"x\"}},\"id\":\"b26fd642-f054-4d74-b3d4-d6403e913ab0\",\"type\":\"VBar\"},{\"attributes\":{\"callback\":null,\"data\":{\"bottom\":{\"__ndarray__\":\"AAAAAABAZ0A=\",\"dtype\":\"float64\",\"shape\":[1]},\"top\":{\"__ndarray__\":\"AAAAAABAY0A=\",\"dtype\":\"float64\",\"shape\":[1]},\"x\":[\"DA\"]},\"selected\":{\"id\":\"8618f5e9-e723-41cc-b05d-02032f99ab18\",\"type\":\"Selection\"},\"selection_policy\":{\"id\":\"f9ff31f8-a206-4609-b7f0-edcd5a96fec3\",\"type\":\"UnionRenderers\"}},\"id\":\"c48796d7-57b0-4e07-970e-5919d1fdfc09\",\"type\":\"ColumnDataSource\"},{\"attributes\":{\"data_source\":{\"id\":\"b508bcd3-eb69-4363-afa9-137cfddd01ca\",\"type\":\"ColumnDataSource\"},\"glyph\":{\"id\":\"33530b93-f8cd-48d2-94e3-3e4b93d94ad7\",\"type\":\"Segment\"},\"hover_glyph\":null,\"muted_glyph\":null,\"nonselection_glyph\":{\"id\":\"56ab70a6-a374-4581-a24d-3c8c147d62b5\",\"type\":\"Segment\"},\"selection_glyph\":null,\"view\":{\"id\":\"db34e9b8-1084-4adc-9f1a-397be9e5e3ed\",\"type\":\"CDSView\"}},\"id\":\"5bb2b59c-7529-4cd7-8271-27ad62f73812\",\"type\":\"GlyphRenderer\"},{\"attributes\":{\"callback\":null,\"factors\":[\"DA\"]},\"id\":\"70465c6a-849b-428d-8f02-33925c1dcb12\",\"type\":\"FactorRange\"},{\"attributes\":{},\"id\":\"832fcccf-f386-4f1a-9e7a-86e03ae94efe\",\"type\":\"BasicTicker\"},{\"attributes\":{},\"id\":\"2e29f507-2776-4ef3-8219-dadb35af16a8\",\"type\":\"UnionRenderers\"},{\"attributes\":{\"fill_alpha\":{\"value\":0.1},\"fill_color\":{\"value\":\"#1f77b4\"},\"line_alpha\":{\"value\":0.1},\"line_color\":{\"value\":\"#1f77b4\"},\"size\":{\"units\":\"screen\",\"value\":6},\"x\":{\"field\":\"x\"},\"y\":{\"field\":\"y\"}},\"id\":\"9c6e858c-6cd4-4241-beb6-7501151563e1\",\"type\":\"Circle\"},{\"attributes\":{\"data_source\":{\"id\":\"b03b1256-68ff-45d0-b249-7eaf7c9f11b7\",\"type\":\"ColumnDataSource\"},\"glyph\":{\"id\":\"a2316565-ec19-4cb4-8b27-5f6442c95dba\",\"type\":\"Segment\"},\"hover_glyph\":null,\"muted_glyph\":null,\"nonselection_glyph\":{\"id\":\"f534a131-9db7-4f21-98b1-38696e6da393\",\"type\":\"Segment\"},\"selection_glyph\":null,\"view\":{\"id\":\"41b98325-2966-440a-806b-a934f6c7fade\",\"type\":\"CDSView\"}},\"id\":\"42eef82f-e4dd-4f5c-ae57-4de94c7ca343\",\"type\":\"GlyphRenderer\"},{\"attributes\":{\"formatter\":{\"id\":\"3142421b-904f-41b2-8910-036465ef4561\",\"type\":\"CategoricalTickFormatter\"},\"major_label_text_font_size\":{\"value\":\"12pt\"},\"plot\":{\"id\":\"462e041e-f08f-42b7-8eec-c1860b108129\",\"subtype\":\"Figure\",\"type\":\"Plot\"},\"ticker\":{\"id\":\"5c57cf5a-3086-4e15-a67b-ae83e1a52012\",\"type\":\"CategoricalTicker\"}},\"id\":\"a5c4c4e6-062e-4658-96ce-d71f9f63353c\",\"type\":\"CategoricalAxis\"},{\"attributes\":{\"line_alpha\":{\"value\":0.1},\"line_color\":{\"value\":\"#1f77b4\"},\"x0\":{\"field\":\"x0\"},\"x1\":{\"field\":\"x1\"},\"y0\":{\"field\":\"y0\"},\"y1\":{\"field\":\"y1\"}},\"id\":\"f534a131-9db7-4f21-98b1-38696e6da393\",\"type\":\"Segment\"},{\"attributes\":{\"x0\":{\"field\":\"x0\"},\"x1\":{\"field\":\"x1\"},\"y0\":{\"field\":\"y0\"},\"y1\":{\"field\":\"y1\"}},\"id\":\"33530b93-f8cd-48d2-94e3-3e4b93d94ad7\",\"type\":\"Segment\"},{\"attributes\":{\"source\":{\"id\":\"33149be0-33a2-4575-a0ce-dbb076ec7d27\",\"type\":\"ColumnDataSource\"}},\"id\":\"62021278-229c-468c-9a9a-a3c1f83eb9bb\",\"type\":\"CDSView\"},{\"attributes\":{\"fill_alpha\":{\"value\":0.1},\"fill_color\":{\"value\":\"#1f77b4\"},\"height\":{\"units\":\"data\",\"value\":0.01},\"line_alpha\":{\"value\":0.1},\"line_color\":{\"value\":\"#1f77b4\"},\"width\":{\"units\":\"data\",\"value\":0.2},\"x\":{\"field\":\"x\"},\"y\":{\"field\":\"y\"}},\"id\":\"89dade4f-a668-4137-9285-70803e4eddc5\",\"type\":\"Rect\"},{\"attributes\":{\"callback\":null,\"data\":{\"x0\":[\"DA\"],\"x1\":[\"DA\"],\"y0\":{\"__ndarray__\":\"AAAAAADgVEA=\",\"dtype\":\"float64\",\"shape\":[1]},\"y1\":{\"__ndarray__\":\"AAAAAABAY0A=\",\"dtype\":\"float64\",\"shape\":[1]}},\"selected\":{\"id\":\"d9d80d20-141a-4f24-a584-8bcabaf627c6\",\"type\":\"Selection\"},\"selection_policy\":{\"id\":\"d68eb678-8e75-4e21-9423-40b5807f59c5\",\"type\":\"UnionRenderers\"}},\"id\":\"b03b1256-68ff-45d0-b249-7eaf7c9f11b7\",\"type\":\"ColumnDataSource\"},{\"attributes\":{},\"id\":\"5a30095e-4005-4931-bde7-b4bc34bd2a01\",\"type\":\"HelpTool\"},{\"attributes\":{},\"id\":\"5c57cf5a-3086-4e15-a67b-ae83e1a52012\",\"type\":\"CategoricalTicker\"},{\"attributes\":{},\"id\":\"58bea680-e45f-42a3-8673-f3da5b6fba21\",\"type\":\"UnionRenderers\"},{\"attributes\":{\"fill_alpha\":{\"value\":0.1},\"fill_color\":{\"value\":\"#1f77b4\"},\"height\":{\"units\":\"data\",\"value\":0.01},\"line_alpha\":{\"value\":0.1},\"line_color\":{\"value\":\"#1f77b4\"},\"width\":{\"units\":\"data\",\"value\":0.2},\"x\":{\"field\":\"x\"},\"y\":{\"field\":\"y\"}},\"id\":\"ade273e4-1941-4796-a90f-dfaf01b195aa\",\"type\":\"Rect\"},{\"attributes\":{},\"id\":\"e8df2761-1fe3-4d4e-be91-bb98faac2f53\",\"type\":\"BasicTickFormatter\"},{\"attributes\":{\"dimension\":1,\"grid_line_color\":{\"value\":\"white\"},\"grid_line_width\":{\"value\":2},\"plot\":{\"id\":\"462e041e-f08f-42b7-8eec-c1860b108129\",\"subtype\":\"Figure\",\"type\":\"Plot\"},\"ticker\":{\"id\":\"832fcccf-f386-4f1a-9e7a-86e03ae94efe\",\"type\":\"BasicTicker\"}},\"id\":\"cc2a1807-1fe8-49c1-9975-a23a03633012\",\"type\":\"Grid\"},{\"attributes\":{\"callback\":null,\"data\":{\"x\":[\"DA\"],\"y\":{\"__ndarray__\":\"AAAAAACgakA=\",\"dtype\":\"float64\",\"shape\":[1]}},\"selected\":{\"id\":\"fe77f1f8-2b04-4dab-a087-2377ad247322\",\"type\":\"Selection\"},\"selection_policy\":{\"id\":\"225e9a9f-522a-4e27-a6f8-a4ab2cea31af\",\"type\":\"UnionRenderers\"}},\"id\":\"0308cf13-2a90-414e-9335-51f4c616e242\",\"type\":\"ColumnDataSource\"},{\"attributes\":{\"fill_alpha\":{\"value\":0.6},\"fill_color\":{\"value\":\"#F38630\"},\"line_color\":{\"value\":\"#F38630\"},\"size\":{\"units\":\"screen\",\"value\":6},\"x\":{\"field\":\"x\"},\"y\":{\"field\":\"y\"}},\"id\":\"e93fd104-5cbf-459a-bc0e-18ac465200ed\",\"type\":\"Circle\"},{\"attributes\":{},\"id\":\"d9d80d20-141a-4f24-a584-8bcabaf627c6\",\"type\":\"Selection\"},{\"attributes\":{\"callback\":null,\"data\":{\"x0\":[\"DA\"],\"x1\":[\"DA\"],\"y0\":{\"__ndarray__\":\"AAAAAACgakA=\",\"dtype\":\"float64\",\"shape\":[1]},\"y1\":{\"__ndarray__\":\"AAAAAAAgaUA=\",\"dtype\":\"float64\",\"shape\":[1]}},\"selected\":{\"id\":\"02593104-e029-41d8-8b41-4a3d6473bba5\",\"type\":\"Selection\"},\"selection_policy\":{\"id\":\"2e29f507-2776-4ef3-8219-dadb35af16a8\",\"type\":\"UnionRenderers\"}},\"id\":\"b508bcd3-eb69-4363-afa9-137cfddd01ca\",\"type\":\"ColumnDataSource\"},{\"attributes\":{},\"id\":\"84b88279-58e4-4a33-a784-e8b52d4ba55c\",\"type\":\"LinearScale\"},{\"attributes\":{},\"id\":\"55e88310-0eb6-4550-bfb2-c5eef9ebff33\",\"type\":\"Selection\"},{\"attributes\":{},\"id\":\"c7157f6b-72fa-495a-a94d-f7ba94b8e9a3\",\"type\":\"SaveTool\"},{\"attributes\":{\"plot\":null,\"text\":\"\"},\"id\":\"8c681b7d-c0f3-4d20-8f1a-e4a537740c98\",\"type\":\"Title\"},{\"attributes\":{\"bottom_units\":\"screen\",\"fill_alpha\":{\"value\":0.5},\"fill_color\":{\"value\":\"lightgrey\"},\"left_units\":\"screen\",\"level\":\"overlay\",\"line_alpha\":{\"value\":1.0},\"line_color\":{\"value\":\"black\"},\"line_dash\":[4,4],\"line_width\":{\"value\":2},\"plot\":null,\"render_mode\":\"css\",\"right_units\":\"screen\",\"top_units\":\"screen\"},\"id\":\"de12afdd-59c2-4cf5-b0d8-4e8f0ff26be5\",\"type\":\"BoxAnnotation\"},{\"attributes\":{\"callback\":null},\"id\":\"c52acd62-a518-440a-a078-1d0f918a6e15\",\"type\":\"DataRange1d\"}],\"root_ids\":[\"462e041e-f08f-42b7-8eec-c1860b108129\"]},\"title\":\"Bokeh Application\",\"version\":\"0.13.0\"}};\n",
       "  var render_items = [{\"docid\":\"37b7f8c9-4b1c-411d-b00f-10254133d690\",\"roots\":{\"462e041e-f08f-42b7-8eec-c1860b108129\":\"b1fe36ce-ad29-4df9-938b-07f7fe4193d8\"}}];\n",
       "  root.Bokeh.embed.embed_items_notebook(docs_json, render_items);\n",
       "\n",
       "  }\n",
       "  if (root.Bokeh !== undefined) {\n",
       "    embed_document(root);\n",
       "  } else {\n",
       "    var attempts = 0;\n",
       "    var timer = setInterval(function(root) {\n",
       "      if (root.Bokeh !== undefined) {\n",
       "        embed_document(root);\n",
       "        clearInterval(timer);\n",
       "      }\n",
       "      attempts++;\n",
       "      if (attempts > 100) {\n",
       "        console.log(\"Bokeh: ERROR: Unable to run BokehJS code because BokehJS library is missing\")\n",
       "        clearInterval(timer);\n",
       "      }\n",
       "    }, 10, root)\n",
       "  }\n",
       "})(window);"
      ],
      "application/vnd.bokehjs_exec.v0+json": ""
     },
     "metadata": {
      "application/vnd.bokehjs_exec.v0+json": {
       "id": "462e041e-f08f-42b7-8eec-c1860b108129"
      }
     },
     "output_type": "display_data"
    },
    {
     "name": "stdout",
     "output_type": "stream",
     "text": [
      "The number of countries those show full agreement: 3 out of 214 \n"
     ]
    }
   ],
   "source": [
    "print \"Segnificient disagreement per country : {} out of {}, with minimun {} counties difference and maximum of {} \".format(int(seg_diff_count.mean()),a.shape[0],seg_diff_count.min(),seg_diff_count.max())\n",
    "print \"Average significant disagreement : {}% \".format(100-(diff_count.mean()*100))\n",
    "print \"{} out of {} countries have at least {} countries have significant different adverse events\".format(len(seg_diff_count),a.shape[0],seg_diff_count.min())\n",
    "plot_box(np.asarray([seg_diff_count]),['DA'],300,300)\n",
    "if(len(perfect_sig_count)==0):\n",
    "    print \"The number of countries those show full agreement : 0 out of {} \".format(a.shape[0])\n",
    "else:\n",
    "    print \"The number of countries those show full agreement: {} out of {} \".format(len(perfect_sig_count),a.shape[0])\n",
    "    "
   ]
  },
  {
   "cell_type": "markdown",
   "metadata": {},
   "source": [
    "As shown in the results, each coutrie is significantly different from at least 153 other countires.\n",
    "In average, each country is significantly different from 186 other countries regards the reported events.\n",
    "The average disagreement degree is 90%. Figure DA shows the box plot of the number of significant different country count. Only Three countries those have a full match with others.\n",
    "That's to say, the null hypothsis that all countries show same events can be rejected.\n",
    "\n",
    "Now for the Hypothesis 1 : each country is significantly differnt to at least another country regards the reported adverse events.\n",
    "\n",
    "From the result, we notice that all the countries have at least one another country that is significantlly disagree about the reported event. Which make this hypothesis a valid one.\n",
    "\n",
    "Hypothesis 2 : each country is significantly differnt to all other countries regards the reported adverse events.\n",
    "The results show that there is 3 countries those have some fully agreement with other countries. Which make the hypothesis 2 not valid.\n",
    "\n",
    "\n",
    "Now if we repeat this analysis for a drug specific case:"
   ]
  },
  {
   "cell_type": "code",
   "execution_count": 130,
   "metadata": {},
   "outputs": [
    {
     "name": "stdout",
     "output_type": "stream",
     "text": [
      "Segnificient disagreement per country : 91 out of 109, with minimun 74 counties difference and maximum of 108 \n",
      "Average significant disagreement : 90.8950617284% \n",
      "109 out of 109 countries have at least 74 countries have significant different adverse events\n"
     ]
    },
    {
     "data": {
      "text/html": [
       "\n",
       "\n",
       "\n",
       "\n",
       "\n",
       "\n",
       "  <div class=\"bk-root\" id=\"2a08550e-e64b-43e9-8bfe-c4dfd2912d50\"></div>\n"
      ]
     },
     "metadata": {},
     "output_type": "display_data"
    },
    {
     "data": {
      "application/javascript": [
       "(function(root) {\n",
       "  function embed_document(root) {\n",
       "    \n",
       "  var docs_json = {\"6aa11658-4f1f-4ee2-a8bb-375401aece60\":{\"roots\":{\"references\":[{\"attributes\":{},\"id\":\"1b801cbf-6637-44f2-8f86-667f85021c6e\",\"type\":\"UnionRenderers\"},{\"attributes\":{\"source\":{\"id\":\"3dd00377-913b-4190-bb80-101099206316\",\"type\":\"ColumnDataSource\"}},\"id\":\"0a48126f-c0e6-4969-afc8-8b01f6d4a37b\",\"type\":\"CDSView\"},{\"attributes\":{},\"id\":\"fb41f1d0-6280-409e-a138-9c0d50862eff\",\"type\":\"ResetTool\"},{\"attributes\":{\"callback\":null,\"factors\":[\"DA\"]},\"id\":\"74bd5465-f6cf-419e-b4ff-26ef562450e9\",\"type\":\"FactorRange\"},{\"attributes\":{},\"id\":\"defae4c8-2b63-4e6c-a0e0-e0a94fcee3fc\",\"type\":\"UnionRenderers\"},{\"attributes\":{},\"id\":\"10a5c769-810e-4b81-ba6b-d42004ffc536\",\"type\":\"Selection\"},{\"attributes\":{},\"id\":\"ef854e35-7ba4-4059-ac94-6f74ec732f92\",\"type\":\"BasicTicker\"},{\"attributes\":{},\"id\":\"893e65bf-8c62-46ae-a6c2-7e662113cec3\",\"type\":\"Selection\"},{\"attributes\":{\"data_source\":{\"id\":\"d09d8fed-a541-447b-b482-7139b01fc68e\",\"type\":\"ColumnDataSource\"},\"glyph\":{\"id\":\"3e118cdf-943d-4ef3-a0eb-f115a5bce56c\",\"type\":\"Segment\"},\"hover_glyph\":null,\"muted_glyph\":null,\"nonselection_glyph\":{\"id\":\"a3abe61d-cd50-4ae4-a6ff-c73cca6adf7e\",\"type\":\"Segment\"},\"selection_glyph\":null,\"view\":{\"id\":\"c642dadf-a38a-49c3-b41d-9ea8e22207f2\",\"type\":\"CDSView\"}},\"id\":\"0738c663-96ef-4b71-862b-10337282dd99\",\"type\":\"GlyphRenderer\"},{\"attributes\":{\"callback\":null,\"data\":{\"x\":[],\"y\":[]},\"selected\":{\"id\":\"1e0ddeff-df56-4839-846c-56962123d3a3\",\"type\":\"Selection\"},\"selection_policy\":{\"id\":\"defae4c8-2b63-4e6c-a0e0-e0a94fcee3fc\",\"type\":\"UnionRenderers\"}},\"id\":\"77fdee43-92ad-4912-b4e8-fb3c15f57adc\",\"type\":\"ColumnDataSource\"},{\"attributes\":{\"bottom_units\":\"screen\",\"fill_alpha\":{\"value\":0.5},\"fill_color\":{\"value\":\"lightgrey\"},\"left_units\":\"screen\",\"level\":\"overlay\",\"line_alpha\":{\"value\":1.0},\"line_color\":{\"value\":\"black\"},\"line_dash\":[4,4],\"line_width\":{\"value\":2},\"plot\":null,\"render_mode\":\"css\",\"right_units\":\"screen\",\"top_units\":\"screen\"},\"id\":\"5ecba6d9-648c-434f-b071-8f08f1513a05\",\"type\":\"BoxAnnotation\"},{\"attributes\":{},\"id\":\"1e0ddeff-df56-4839-846c-56962123d3a3\",\"type\":\"Selection\"},{\"attributes\":{\"formatter\":{\"id\":\"95e73c3b-0120-4779-ba17-ac1dc2e293a6\",\"type\":\"BasicTickFormatter\"},\"plot\":{\"id\":\"8206dcc9-0340-4630-bc25-d5d42458cc4e\",\"subtype\":\"Figure\",\"type\":\"Plot\"},\"ticker\":{\"id\":\"ef854e35-7ba4-4059-ac94-6f74ec732f92\",\"type\":\"BasicTicker\"}},\"id\":\"0e1816b1-4494-4a78-a3a6-044ae71a5bdb\",\"type\":\"LinearAxis\"},{\"attributes\":{\"x0\":{\"field\":\"x0\"},\"x1\":{\"field\":\"x1\"},\"y0\":{\"field\":\"y0\"},\"y1\":{\"field\":\"y1\"}},\"id\":\"3e118cdf-943d-4ef3-a0eb-f115a5bce56c\",\"type\":\"Segment\"},{\"attributes\":{\"grid_line_color\":{\"value\":null},\"grid_line_width\":{\"value\":2},\"plot\":{\"id\":\"8206dcc9-0340-4630-bc25-d5d42458cc4e\",\"subtype\":\"Figure\",\"type\":\"Plot\"},\"ticker\":{\"id\":\"83b0f00c-db77-4f77-a452-7c50536940e0\",\"type\":\"CategoricalTicker\"}},\"id\":\"d3b8002f-39b2-40e9-89cc-060907964111\",\"type\":\"Grid\"},{\"attributes\":{\"data_source\":{\"id\":\"c638b907-4284-4558-af6b-195473ca6fb3\",\"type\":\"ColumnDataSource\"},\"glyph\":{\"id\":\"91df09f4-1cd8-4b69-a609-d8391e618fcb\",\"type\":\"VBar\"},\"hover_glyph\":null,\"muted_glyph\":null,\"nonselection_glyph\":{\"id\":\"b1e24e29-f9b5-4ff7-9b78-e4e66d7afba2\",\"type\":\"VBar\"},\"selection_glyph\":null,\"view\":{\"id\":\"7a2c8356-8d0c-421e-95f3-92e641d349da\",\"type\":\"CDSView\"}},\"id\":\"d1f1a798-a0cb-4d7d-86e4-2933ecf2df16\",\"type\":\"GlyphRenderer\"},{\"attributes\":{},\"id\":\"90ce4138-f413-4064-abdd-d8c35e9e5d7f\",\"type\":\"WheelZoomTool\"},{\"attributes\":{\"data_source\":{\"id\":\"77fdee43-92ad-4912-b4e8-fb3c15f57adc\",\"type\":\"ColumnDataSource\"},\"glyph\":{\"id\":\"68cb9ce8-ad5f-40a6-8648-82981982b9a9\",\"type\":\"Circle\"},\"hover_glyph\":null,\"muted_glyph\":null,\"nonselection_glyph\":{\"id\":\"585cabd0-5310-4aac-aacc-ee4359b7c703\",\"type\":\"Circle\"},\"selection_glyph\":null,\"view\":{\"id\":\"0c79087c-a5d7-4ee3-9b65-6086c9ee8615\",\"type\":\"CDSView\"}},\"id\":\"26a8eb31-7288-49ee-b355-762b91c9b935\",\"type\":\"GlyphRenderer\"},{\"attributes\":{\"fill_alpha\":{\"value\":0.1},\"fill_color\":{\"value\":\"#1f77b4\"},\"height\":{\"units\":\"data\",\"value\":0.01},\"line_alpha\":{\"value\":0.1},\"line_color\":{\"value\":\"#1f77b4\"},\"width\":{\"units\":\"data\",\"value\":0.2},\"x\":{\"field\":\"x\"},\"y\":{\"field\":\"y\"}},\"id\":\"46bb18ac-1bf1-41c5-b793-ec02175095d2\",\"type\":\"Rect\"},{\"attributes\":{\"line_alpha\":{\"value\":0.1},\"line_color\":{\"value\":\"#1f77b4\"},\"x0\":{\"field\":\"x0\"},\"x1\":{\"field\":\"x1\"},\"y0\":{\"field\":\"y0\"},\"y1\":{\"field\":\"y1\"}},\"id\":\"a3abe61d-cd50-4ae4-a6ff-c73cca6adf7e\",\"type\":\"Segment\"},{\"attributes\":{\"x0\":{\"field\":\"x0\"},\"x1\":{\"field\":\"x1\"},\"y0\":{\"field\":\"y0\"},\"y1\":{\"field\":\"y1\"}},\"id\":\"d04b138b-36f7-46e6-8122-3934a4a36aef\",\"type\":\"Segment\"},{\"attributes\":{\"fill_alpha\":{\"value\":0.1},\"fill_color\":{\"value\":\"#1f77b4\"},\"height\":{\"units\":\"data\",\"value\":0.01},\"line_alpha\":{\"value\":0.1},\"line_color\":{\"value\":\"#1f77b4\"},\"width\":{\"units\":\"data\",\"value\":0.2},\"x\":{\"field\":\"x\"},\"y\":{\"field\":\"y\"}},\"id\":\"25dfe0b4-21f6-4220-9b96-84d5828348b9\",\"type\":\"Rect\"},{\"attributes\":{\"callback\":null,\"data\":{\"bottom\":{\"__ndarray__\":\"AAAAAADAV0A=\",\"dtype\":\"float64\",\"shape\":[1]},\"top\":{\"__ndarray__\":\"AAAAAABAVEA=\",\"dtype\":\"float64\",\"shape\":[1]},\"x\":[\"DA\"]},\"selected\":{\"id\":\"60af583b-946e-41ed-9421-fd7623868840\",\"type\":\"Selection\"},\"selection_policy\":{\"id\":\"1b801cbf-6637-44f2-8f86-667f85021c6e\",\"type\":\"UnionRenderers\"}},\"id\":\"c638b907-4284-4558-af6b-195473ca6fb3\",\"type\":\"ColumnDataSource\"},{\"attributes\":{\"fill_color\":{\"value\":\"#1f77b4\"},\"height\":{\"units\":\"data\",\"value\":0.01},\"width\":{\"units\":\"data\",\"value\":0.2},\"x\":{\"field\":\"x\"},\"y\":{\"field\":\"y\"}},\"id\":\"37548c9f-fe2a-4f76-a8a5-0c270235d6e4\",\"type\":\"Rect\"},{\"attributes\":{\"plot\":null,\"text\":\"\"},\"id\":\"ba7b75f1-3cf7-46c5-989c-924fae83c9fa\",\"type\":\"Title\"},{\"attributes\":{},\"id\":\"9fc35e68-62fe-44a9-bc26-d3384741baf5\",\"type\":\"SaveTool\"},{\"attributes\":{\"dimension\":1,\"grid_line_color\":{\"value\":\"white\"},\"grid_line_width\":{\"value\":2},\"plot\":{\"id\":\"8206dcc9-0340-4630-bc25-d5d42458cc4e\",\"subtype\":\"Figure\",\"type\":\"Plot\"},\"ticker\":{\"id\":\"ef854e35-7ba4-4059-ac94-6f74ec732f92\",\"type\":\"BasicTicker\"}},\"id\":\"c7632ca9-7dfb-4fe5-aebe-32e75ee01999\",\"type\":\"Grid\"},{\"attributes\":{},\"id\":\"4888541f-c843-44d6-9d2f-57ae667d2bbe\",\"type\":\"UnionRenderers\"},{\"attributes\":{\"overlay\":{\"id\":\"5ecba6d9-648c-434f-b071-8f08f1513a05\",\"type\":\"BoxAnnotation\"}},\"id\":\"c7c3be73-5de5-4242-aa82-cc026e068bb8\",\"type\":\"BoxZoomTool\"},{\"attributes\":{\"callback\":null,\"data\":{\"bottom\":{\"__ndarray__\":\"AAAAAACAWUA=\",\"dtype\":\"float64\",\"shape\":[1]},\"top\":{\"__ndarray__\":\"AAAAAADAV0A=\",\"dtype\":\"float64\",\"shape\":[1]},\"x\":[\"DA\"]},\"selected\":{\"id\":\"f16ae719-ba9c-406c-af31-f0a60fd8bfd0\",\"type\":\"Selection\"},\"selection_policy\":{\"id\":\"4888541f-c843-44d6-9d2f-57ae667d2bbe\",\"type\":\"UnionRenderers\"}},\"id\":\"2dfbc9c1-9708-4eaa-85e5-122575137bef\",\"type\":\"ColumnDataSource\"},{\"attributes\":{\"source\":{\"id\":\"2dfbc9c1-9708-4eaa-85e5-122575137bef\",\"type\":\"ColumnDataSource\"}},\"id\":\"9aa8024b-1318-4d1e-8cb3-42bf6cf2c46b\",\"type\":\"CDSView\"},{\"attributes\":{},\"id\":\"5447b7ac-cc2f-499f-9b63-e83af2eb60d8\",\"type\":\"CategoricalScale\"},{\"attributes\":{\"callback\":null,\"data\":{\"x\":[\"DA\"],\"y\":{\"__ndarray__\":\"AAAAAAAAW0A=\",\"dtype\":\"float64\",\"shape\":[1]}},\"selected\":{\"id\":\"30e741fb-a594-45d1-ac11-6b976814d332\",\"type\":\"Selection\"},\"selection_policy\":{\"id\":\"7cb2fa2d-d8b1-431a-aaaf-578d24b2738f\",\"type\":\"UnionRenderers\"}},\"id\":\"3dd00377-913b-4190-bb80-101099206316\",\"type\":\"ColumnDataSource\"},{\"attributes\":{\"callback\":null,\"data\":{\"x\":[\"DA\"],\"y\":{\"__ndarray__\":\"AAAAAADASEA=\",\"dtype\":\"float64\",\"shape\":[1]}},\"selected\":{\"id\":\"10a5c769-810e-4b81-ba6b-d42004ffc536\",\"type\":\"Selection\"},\"selection_policy\":{\"id\":\"00bf0ec1-c2d1-4aa3-9ced-244ce74baef4\",\"type\":\"UnionRenderers\"}},\"id\":\"dd3fb36e-3dec-440a-a2f2-11b24ff99752\",\"type\":\"ColumnDataSource\"},{\"attributes\":{},\"id\":\"00bf0ec1-c2d1-4aa3-9ced-244ce74baef4\",\"type\":\"UnionRenderers\"},{\"attributes\":{\"callback\":null,\"data\":{\"x0\":[\"DA\"],\"x1\":[\"DA\"],\"y0\":{\"__ndarray__\":\"AAAAAADASEA=\",\"dtype\":\"float64\",\"shape\":[1]},\"y1\":{\"__ndarray__\":\"AAAAAABAVEA=\",\"dtype\":\"float64\",\"shape\":[1]}},\"selected\":{\"id\":\"2b18ae4c-e54b-4522-b0f8-4871f188ccb0\",\"type\":\"Selection\"},\"selection_policy\":{\"id\":\"b318fc4c-85ea-4d56-a0b1-7e363068e593\",\"type\":\"UnionRenderers\"}},\"id\":\"d09d8fed-a541-447b-b482-7139b01fc68e\",\"type\":\"ColumnDataSource\"},{\"attributes\":{\"bottom\":{\"field\":\"bottom\"},\"fill_alpha\":{\"value\":0.1},\"fill_color\":{\"value\":\"#1f77b4\"},\"line_alpha\":{\"value\":0.1},\"line_color\":{\"value\":\"#1f77b4\"},\"top\":{\"field\":\"top\"},\"width\":{\"value\":0.7},\"x\":{\"field\":\"x\"}},\"id\":\"2b4a7030-b7e3-4607-8593-5d7df0c7c4ca\",\"type\":\"VBar\"},{\"attributes\":{},\"id\":\"30e741fb-a594-45d1-ac11-6b976814d332\",\"type\":\"Selection\"},{\"attributes\":{\"callback\":null},\"id\":\"f93b9215-317e-4f48-b252-87813495eb50\",\"type\":\"DataRange1d\"},{\"attributes\":{\"bottom\":{\"field\":\"bottom\"},\"fill_color\":{\"value\":\"#E08E79\"},\"top\":{\"field\":\"top\"},\"width\":{\"value\":0.7},\"x\":{\"field\":\"x\"}},\"id\":\"01c478fc-b53d-4509-899a-e914696e6c52\",\"type\":\"VBar\"},{\"attributes\":{\"bottom\":{\"field\":\"bottom\"},\"fill_alpha\":{\"value\":0.1},\"fill_color\":{\"value\":\"#1f77b4\"},\"line_alpha\":{\"value\":0.1},\"line_color\":{\"value\":\"#1f77b4\"},\"top\":{\"field\":\"top\"},\"width\":{\"value\":0.7},\"x\":{\"field\":\"x\"}},\"id\":\"b1e24e29-f9b5-4ff7-9b78-e4e66d7afba2\",\"type\":\"VBar\"},{\"attributes\":{\"data_source\":{\"id\":\"249569fb-21fe-431d-90bb-dce465393cf6\",\"type\":\"ColumnDataSource\"},\"glyph\":{\"id\":\"d04b138b-36f7-46e6-8122-3934a4a36aef\",\"type\":\"Segment\"},\"hover_glyph\":null,\"muted_glyph\":null,\"nonselection_glyph\":{\"id\":\"e312da44-c6b5-4b7f-88d6-c3e79f11bde8\",\"type\":\"Segment\"},\"selection_glyph\":null,\"view\":{\"id\":\"73e1fc7b-0df6-467e-ab9d-e3c12677f33b\",\"type\":\"CDSView\"}},\"id\":\"7ee67cb1-d8c3-4d48-b9a4-de60782bc659\",\"type\":\"GlyphRenderer\"},{\"attributes\":{\"line_alpha\":{\"value\":0.1},\"line_color\":{\"value\":\"#1f77b4\"},\"x0\":{\"field\":\"x0\"},\"x1\":{\"field\":\"x1\"},\"y0\":{\"field\":\"y0\"},\"y1\":{\"field\":\"y1\"}},\"id\":\"e312da44-c6b5-4b7f-88d6-c3e79f11bde8\",\"type\":\"Segment\"},{\"attributes\":{},\"id\":\"7cb2fa2d-d8b1-431a-aaaf-578d24b2738f\",\"type\":\"UnionRenderers\"},{\"attributes\":{\"data_source\":{\"id\":\"2dfbc9c1-9708-4eaa-85e5-122575137bef\",\"type\":\"ColumnDataSource\"},\"glyph\":{\"id\":\"01c478fc-b53d-4509-899a-e914696e6c52\",\"type\":\"VBar\"},\"hover_glyph\":null,\"muted_glyph\":null,\"nonselection_glyph\":{\"id\":\"2b4a7030-b7e3-4607-8593-5d7df0c7c4ca\",\"type\":\"VBar\"},\"selection_glyph\":null,\"view\":{\"id\":\"9aa8024b-1318-4d1e-8cb3-42bf6cf2c46b\",\"type\":\"CDSView\"}},\"id\":\"d8a99af0-fbc1-4c4c-82eb-e6a5eca474cb\",\"type\":\"GlyphRenderer\"},{\"attributes\":{\"callback\":null,\"data\":{\"x0\":[\"DA\"],\"x1\":[\"DA\"],\"y0\":{\"__ndarray__\":\"AAAAAAAAW0A=\",\"dtype\":\"float64\",\"shape\":[1]},\"y1\":{\"__ndarray__\":\"AAAAAACAWUA=\",\"dtype\":\"float64\",\"shape\":[1]}},\"selected\":{\"id\":\"893e65bf-8c62-46ae-a6c2-7e662113cec3\",\"type\":\"Selection\"},\"selection_policy\":{\"id\":\"b3203bcc-c619-4ab2-af22-9ddcfc37bcfa\",\"type\":\"UnionRenderers\"}},\"id\":\"249569fb-21fe-431d-90bb-dce465393cf6\",\"type\":\"ColumnDataSource\"},{\"attributes\":{\"source\":{\"id\":\"c638b907-4284-4558-af6b-195473ca6fb3\",\"type\":\"ColumnDataSource\"}},\"id\":\"7a2c8356-8d0c-421e-95f3-92e641d349da\",\"type\":\"CDSView\"},{\"attributes\":{\"fill_alpha\":{\"value\":0.1},\"fill_color\":{\"value\":\"#1f77b4\"},\"line_alpha\":{\"value\":0.1},\"line_color\":{\"value\":\"#1f77b4\"},\"size\":{\"units\":\"screen\",\"value\":6},\"x\":{\"field\":\"x\"},\"y\":{\"field\":\"y\"}},\"id\":\"585cabd0-5310-4aac-aacc-ee4359b7c703\",\"type\":\"Circle\"},{\"attributes\":{},\"id\":\"9267d5b6-4511-4720-81de-50169b7087ae\",\"type\":\"PanTool\"},{\"attributes\":{\"source\":{\"id\":\"77fdee43-92ad-4912-b4e8-fb3c15f57adc\",\"type\":\"ColumnDataSource\"}},\"id\":\"0c79087c-a5d7-4ee3-9b65-6086c9ee8615\",\"type\":\"CDSView\"},{\"attributes\":{\"background_fill_color\":{\"value\":\"#EFE8E2\"},\"below\":[{\"id\":\"8b2dcd5c-d577-49b0-b7d5-bf66216b255b\",\"type\":\"CategoricalAxis\"}],\"left\":[{\"id\":\"0e1816b1-4494-4a78-a3a6-044ae71a5bdb\",\"type\":\"LinearAxis\"}],\"plot_height\":300,\"plot_width\":300,\"renderers\":[{\"id\":\"8b2dcd5c-d577-49b0-b7d5-bf66216b255b\",\"type\":\"CategoricalAxis\"},{\"id\":\"d3b8002f-39b2-40e9-89cc-060907964111\",\"type\":\"Grid\"},{\"id\":\"0e1816b1-4494-4a78-a3a6-044ae71a5bdb\",\"type\":\"LinearAxis\"},{\"id\":\"c7632ca9-7dfb-4fe5-aebe-32e75ee01999\",\"type\":\"Grid\"},{\"id\":\"5ecba6d9-648c-434f-b071-8f08f1513a05\",\"type\":\"BoxAnnotation\"},{\"id\":\"7ee67cb1-d8c3-4d48-b9a4-de60782bc659\",\"type\":\"GlyphRenderer\"},{\"id\":\"0738c663-96ef-4b71-862b-10337282dd99\",\"type\":\"GlyphRenderer\"},{\"id\":\"d8a99af0-fbc1-4c4c-82eb-e6a5eca474cb\",\"type\":\"GlyphRenderer\"},{\"id\":\"d1f1a798-a0cb-4d7d-86e4-2933ecf2df16\",\"type\":\"GlyphRenderer\"},{\"id\":\"c1c07cd3-e0e3-4f83-8c8d-f3165711bfb0\",\"type\":\"GlyphRenderer\"},{\"id\":\"fccbfacc-f6a2-473f-837c-1b162f82dcf5\",\"type\":\"GlyphRenderer\"},{\"id\":\"26a8eb31-7288-49ee-b355-762b91c9b935\",\"type\":\"GlyphRenderer\"}],\"title\":{\"id\":\"ba7b75f1-3cf7-46c5-989c-924fae83c9fa\",\"type\":\"Title\"},\"toolbar\":{\"id\":\"56a5d4a2-39ae-47b1-969a-f07d637bf122\",\"type\":\"Toolbar\"},\"x_range\":{\"id\":\"74bd5465-f6cf-419e-b4ff-26ef562450e9\",\"type\":\"FactorRange\"},\"x_scale\":{\"id\":\"5447b7ac-cc2f-499f-9b63-e83af2eb60d8\",\"type\":\"CategoricalScale\"},\"y_range\":{\"id\":\"f93b9215-317e-4f48-b252-87813495eb50\",\"type\":\"DataRange1d\"},\"y_scale\":{\"id\":\"3d3e173a-379f-4213-9b0f-cd06a0e5911c\",\"type\":\"LinearScale\"}},\"id\":\"8206dcc9-0340-4630-bc25-d5d42458cc4e\",\"subtype\":\"Figure\",\"type\":\"Plot\"},{\"attributes\":{\"bottom\":{\"field\":\"bottom\"},\"fill_color\":{\"value\":\"#3B8686\"},\"top\":{\"field\":\"top\"},\"width\":{\"value\":0.7},\"x\":{\"field\":\"x\"}},\"id\":\"91df09f4-1cd8-4b69-a609-d8391e618fcb\",\"type\":\"VBar\"},{\"attributes\":{\"source\":{\"id\":\"dd3fb36e-3dec-440a-a2f2-11b24ff99752\",\"type\":\"ColumnDataSource\"}},\"id\":\"cb37b978-aff5-45ff-accc-775a564549a7\",\"type\":\"CDSView\"},{\"attributes\":{},\"id\":\"f16ae719-ba9c-406c-af31-f0a60fd8bfd0\",\"type\":\"Selection\"},{\"attributes\":{},\"id\":\"3d3e173a-379f-4213-9b0f-cd06a0e5911c\",\"type\":\"LinearScale\"},{\"attributes\":{\"source\":{\"id\":\"d09d8fed-a541-447b-b482-7139b01fc68e\",\"type\":\"ColumnDataSource\"}},\"id\":\"c642dadf-a38a-49c3-b41d-9ea8e22207f2\",\"type\":\"CDSView\"},{\"attributes\":{},\"id\":\"83b0f00c-db77-4f77-a452-7c50536940e0\",\"type\":\"CategoricalTicker\"},{\"attributes\":{},\"id\":\"60af583b-946e-41ed-9421-fd7623868840\",\"type\":\"Selection\"},{\"attributes\":{},\"id\":\"b8845d08-d34c-43e1-a77e-e3936aab2fd7\",\"type\":\"CategoricalTickFormatter\"},{\"attributes\":{\"formatter\":{\"id\":\"b8845d08-d34c-43e1-a77e-e3936aab2fd7\",\"type\":\"CategoricalTickFormatter\"},\"major_label_text_font_size\":{\"value\":\"12pt\"},\"plot\":{\"id\":\"8206dcc9-0340-4630-bc25-d5d42458cc4e\",\"subtype\":\"Figure\",\"type\":\"Plot\"},\"ticker\":{\"id\":\"83b0f00c-db77-4f77-a452-7c50536940e0\",\"type\":\"CategoricalTicker\"}},\"id\":\"8b2dcd5c-d577-49b0-b7d5-bf66216b255b\",\"type\":\"CategoricalAxis\"},{\"attributes\":{\"data_source\":{\"id\":\"3dd00377-913b-4190-bb80-101099206316\",\"type\":\"ColumnDataSource\"},\"glyph\":{\"id\":\"9177148f-cb5f-47f4-bf6c-4cb0519e5035\",\"type\":\"Rect\"},\"hover_glyph\":null,\"muted_glyph\":null,\"nonselection_glyph\":{\"id\":\"46bb18ac-1bf1-41c5-b793-ec02175095d2\",\"type\":\"Rect\"},\"selection_glyph\":null,\"view\":{\"id\":\"0a48126f-c0e6-4969-afc8-8b01f6d4a37b\",\"type\":\"CDSView\"}},\"id\":\"fccbfacc-f6a2-473f-837c-1b162f82dcf5\",\"type\":\"GlyphRenderer\"},{\"attributes\":{},\"id\":\"95e73c3b-0120-4779-ba17-ac1dc2e293a6\",\"type\":\"BasicTickFormatter\"},{\"attributes\":{},\"id\":\"b3203bcc-c619-4ab2-af22-9ddcfc37bcfa\",\"type\":\"UnionRenderers\"},{\"attributes\":{},\"id\":\"eeed0b16-9565-499d-838a-1d9c55985586\",\"type\":\"HelpTool\"},{\"attributes\":{},\"id\":\"2b18ae4c-e54b-4522-b0f8-4871f188ccb0\",\"type\":\"Selection\"},{\"attributes\":{\"source\":{\"id\":\"249569fb-21fe-431d-90bb-dce465393cf6\",\"type\":\"ColumnDataSource\"}},\"id\":\"73e1fc7b-0df6-467e-ab9d-e3c12677f33b\",\"type\":\"CDSView\"},{\"attributes\":{\"fill_color\":{\"value\":\"#1f77b4\"},\"height\":{\"units\":\"data\",\"value\":0.01},\"width\":{\"units\":\"data\",\"value\":0.2},\"x\":{\"field\":\"x\"},\"y\":{\"field\":\"y\"}},\"id\":\"9177148f-cb5f-47f4-bf6c-4cb0519e5035\",\"type\":\"Rect\"},{\"attributes\":{\"fill_alpha\":{\"value\":0.6},\"fill_color\":{\"value\":\"#F38630\"},\"line_color\":{\"value\":\"#F38630\"},\"size\":{\"units\":\"screen\",\"value\":6},\"x\":{\"field\":\"x\"},\"y\":{\"field\":\"y\"}},\"id\":\"68cb9ce8-ad5f-40a6-8648-82981982b9a9\",\"type\":\"Circle\"},{\"attributes\":{},\"id\":\"b318fc4c-85ea-4d56-a0b1-7e363068e593\",\"type\":\"UnionRenderers\"},{\"attributes\":{\"data_source\":{\"id\":\"dd3fb36e-3dec-440a-a2f2-11b24ff99752\",\"type\":\"ColumnDataSource\"},\"glyph\":{\"id\":\"37548c9f-fe2a-4f76-a8a5-0c270235d6e4\",\"type\":\"Rect\"},\"hover_glyph\":null,\"muted_glyph\":null,\"nonselection_glyph\":{\"id\":\"25dfe0b4-21f6-4220-9b96-84d5828348b9\",\"type\":\"Rect\"},\"selection_glyph\":null,\"view\":{\"id\":\"cb37b978-aff5-45ff-accc-775a564549a7\",\"type\":\"CDSView\"}},\"id\":\"c1c07cd3-e0e3-4f83-8c8d-f3165711bfb0\",\"type\":\"GlyphRenderer\"},{\"attributes\":{\"active_drag\":\"auto\",\"active_inspect\":\"auto\",\"active_multi\":null,\"active_scroll\":\"auto\",\"active_tap\":\"auto\",\"tools\":[{\"id\":\"9267d5b6-4511-4720-81de-50169b7087ae\",\"type\":\"PanTool\"},{\"id\":\"90ce4138-f413-4064-abdd-d8c35e9e5d7f\",\"type\":\"WheelZoomTool\"},{\"id\":\"c7c3be73-5de5-4242-aa82-cc026e068bb8\",\"type\":\"BoxZoomTool\"},{\"id\":\"9fc35e68-62fe-44a9-bc26-d3384741baf5\",\"type\":\"SaveTool\"},{\"id\":\"fb41f1d0-6280-409e-a138-9c0d50862eff\",\"type\":\"ResetTool\"},{\"id\":\"eeed0b16-9565-499d-838a-1d9c55985586\",\"type\":\"HelpTool\"}]},\"id\":\"56a5d4a2-39ae-47b1-969a-f07d637bf122\",\"type\":\"Toolbar\"}],\"root_ids\":[\"8206dcc9-0340-4630-bc25-d5d42458cc4e\"]},\"title\":\"Bokeh Application\",\"version\":\"0.13.0\"}};\n",
       "  var render_items = [{\"docid\":\"6aa11658-4f1f-4ee2-a8bb-375401aece60\",\"roots\":{\"8206dcc9-0340-4630-bc25-d5d42458cc4e\":\"2a08550e-e64b-43e9-8bfe-c4dfd2912d50\"}}];\n",
       "  root.Bokeh.embed.embed_items_notebook(docs_json, render_items);\n",
       "\n",
       "  }\n",
       "  if (root.Bokeh !== undefined) {\n",
       "    embed_document(root);\n",
       "  } else {\n",
       "    var attempts = 0;\n",
       "    var timer = setInterval(function(root) {\n",
       "      if (root.Bokeh !== undefined) {\n",
       "        embed_document(root);\n",
       "        clearInterval(timer);\n",
       "      }\n",
       "      attempts++;\n",
       "      if (attempts > 100) {\n",
       "        console.log(\"Bokeh: ERROR: Unable to run BokehJS code because BokehJS library is missing\")\n",
       "        clearInterval(timer);\n",
       "      }\n",
       "    }, 10, root)\n",
       "  }\n",
       "})(window);"
      ],
      "application/vnd.bokehjs_exec.v0+json": ""
     },
     "metadata": {
      "application/vnd.bokehjs_exec.v0+json": {
       "id": "8206dcc9-0340-4630-bc25-d5d42458cc4e"
      }
     },
     "output_type": "display_data"
    },
    {
     "name": "stdout",
     "output_type": "stream",
     "text": [
      "The number of countries those show full agreement: 2 out of 109 \n"
     ]
    }
   ],
   "source": [
    "# The input file\n",
    "file_name='./data/CLOPIDOGREL BISULFATE_events.csv'\n",
    "# The minimum number of reports to consider per event\n",
    "threshold=0\n",
    "#  the maximum number of events to consider per country\n",
    "number_of_events_per_country=1000\n",
    "# use the raw data or a ratio per country\n",
    "ratio=False\n",
    "# use binary or float (True means there is event reported in that country without how many)\n",
    "normalized=True\n",
    "# create the dataset\n",
    "sparse_mat,countries,events,df=file_to_sparse_matrix(file_name,number_of_events_to_show=number_of_events_per_country,threshold=threshold,normalized=normalized,ratio=ratio)\n",
    "a=sparse_mat.toarray()\n",
    "seg_diff_count=[]\n",
    "non_seg_diff_count=[]\n",
    "diff_count=[]\n",
    "perfect_sig_count=[]\n",
    "for j in range(a.shape[0]):\n",
    "    res=0\n",
    "    perfect_sig=0\n",
    "    non_seg_res=0\n",
    "    for i in range(a.shape[0]):\n",
    "        if(i==j):\n",
    "            continue\n",
    "        difference=np.sum(np.abs(a[i,:]-a[j,:]))*1.0\n",
    "        M,p=sign_test(a[i,:]-a[j,:])\n",
    "        if(p<0.05):\n",
    "            if difference!=0:\n",
    "                res+=1\n",
    "                diff_count.append(difference/len(a[i,:]))\n",
    "            else:\n",
    "                perfect_sig+=1\n",
    "        else:\n",
    "            if difference==0:\n",
    "                perfect_sig+=1\n",
    "    if(res>0):\n",
    "        seg_diff_count.append(res)\n",
    "    if(perfect_sig>0):\n",
    "        perfect_sig_count.append(perfect_sig)\n",
    "seg_diff_count=np.asarray(seg_diff_count)\n",
    "perfect_sig_count=np.asarray(perfect_sig_count)\n",
    "diff_count=np.asarray(diff_count)\n",
    "print \"Segnificient disagreement per country : {} out of {}, with minimun {} counties difference and maximum of {} \".format(int(seg_diff_count.mean()),a.shape[0],seg_diff_count.min(),seg_diff_count.max())\n",
    "print \"Average significant disagreement : {}% \".format(100-(diff_count.mean()*100))\n",
    "print \"{} out of {} countries have at least {} countries have significant different adverse events\".format(len(seg_diff_count),a.shape[0],seg_diff_count.min())\n",
    "plot_box(np.asarray([seg_diff_count]),['DA'],300,300)\n",
    "if(len(perfect_sig_count)==0):\n",
    "    print \"The number of countries those show full agreement : 0 out of {} \".format(a.shape[0])\n",
    "else:\n",
    "    print \"The number of countries those show full agreement: {} out of {} \".format(len(perfect_sig_count),a.shape[0])\n",
    "    "
   ]
  },
  {
   "cell_type": "markdown",
   "metadata": {},
   "source": [
    "As we can see, the drug specific case shows very similar results to the generic one.\n",
    "\n",
    "Next section we do a deeper analysis using the collaborative filtering (CF)"
   ]
  },
  {
   "cell_type": "markdown",
   "metadata": {},
   "source": [
    "4- Model Building"
   ]
  },
  {
   "cell_type": "code",
   "execution_count": 131,
   "metadata": {},
   "outputs": [
    {
     "name": "stderr",
     "output_type": "stream",
     "text": [
      "/Users/mohamedabou-zleikha/venv/lib/python2.7/site-packages/ipykernel_launcher.py:14: SettingWithCopyWarning: \n",
      "A value is trying to be set on a copy of a slice from a DataFrame.\n",
      "Try using .loc[row_indexer,col_indexer] = value instead\n",
      "\n",
      "See the caveats in the documentation: http://pandas.pydata.org/pandas-docs/stable/indexing.html#indexing-view-versus-copy\n",
      "  \n",
      "100%|██████████| 15.0/15 [00:01<00:00, 12.94it/s]\n",
      "100%|██████████| 100/100 [00:01<00:00, 60.10it/s, skipped=50.84%, correct=81.56%]\n",
      "100%|██████████| 159/159 [00:00<00:00, 23989.00it/s]\n",
      "100%|██████████| 159/159 [00:00<00:00, 19942.42it/s]\n"
     ]
    }
   ],
   "source": [
    "# The input file\n",
    "file_name='full_events.csv'\n",
    "# number of factors for the MD approaches\n",
    "num_of_factors=300\n",
    "# use the raw data or a ratio per country\n",
    "ratio=True\n",
    "# use binary or float (True means there is event reported in that country without how many)\n",
    "normalized=False\n",
    "# The minimum number of reports to consider per event\n",
    "threshold=3\n",
    "#  the maximum number of events to consider per country\n",
    "number_of_events_per_country=200\n",
    "# create the dataset\n",
    "sparse_mat,countries,events,df=file_to_sparse_matrix(file_name,number_of_events_per_country,threshold,normalized,ratio)\n",
    "# the CF approaches to compare\n",
    "models_to_examine=[\"als\",\"bpr\",\"cosine\",\"tfidf\"]\n",
    "models={}\n",
    "score_matrices={}\n",
    "for modelname in models_to_examine:\n",
    "    model=create_fit_CF_model(modelname,sparse_mat,num_of_factors)\n",
    "    models[modelname]=model\n",
    "    score_matrix=get_country_matrix_similarity(models[modelname],countries)\n",
    "    score_matrices[modelname]=np.asarray(score_matrix)"
   ]
  },
  {
   "cell_type": "code",
   "execution_count": 132,
   "metadata": {},
   "outputs": [
    {
     "name": "stdout",
     "output_type": "stream",
     "text": [
      "tfidf\n",
      "Med : 0.0, Std : 0.0793487862529, Max : 0.391175451154, Min: 0.0,Avg Outliers: 19\n",
      "cosine\n",
      "Med : 0.0, Std : 0.206276193391, Max : 0.723955627954, Min: 0.0,Avg Outliers: 19\n",
      "bpr\n",
      "Med : 0.551427679242, Std : 0.239352901213, Max : 0.963106887146, Min: 0.0,Avg Outliers: 0\n",
      "als\n",
      "Med : 0.237906594415, Std : 0.102022835908, Max : 0.554257897648, Min: 0.0,Avg Outliers: 1\n"
     ]
    }
   ],
   "source": [
    "# to check the existances of differences or similarity, we could analysis the similarity values.\n",
    "# for cosine based similarity, the values are between 0 and 1, and the closer the value to 1, \n",
    "# the higher the similarity is. The result are the average over all countries.\n",
    "for modelname in score_matrices:\n",
    "    score_matrix1=np.asarray(score_matrices[modelname])\n",
    "    score_matrix1=(score_matrix1-score_matrix1.min())/(score_matrix1.max()-score_matrix1.min())\n",
    "    medV,meanV,maxV,minV,stdV,mean_num_outliers=get_outliers(score_matrix1,countries)\n",
    "    print modelname\n",
    "    print 'Med : {}, Std : {}, Max : {}, Min: {},Avg Outliers: {}'.format(medV.score.mean(),stdV.score.mean(),maxV.score.mean(),minV.score.mean(),mean_num_outliers[0])"
   ]
  },
  {
   "cell_type": "markdown",
   "metadata": {},
   "source": [
    "As we can see, the average similaities in the item-to-item approaces are very low with a Med value and the std is 0.07 and 0.2 , which means we have 95% of the country below the 0.5 similarity. We can also notice that average of the positive outleiers (which are the candidates to be similar) are 19."
   ]
  },
  {
   "cell_type": "markdown",
   "metadata": {},
   "source": [
    "For the MD based similarities, the average is higher and the avarage number of outliers is lower.This is due to the fact that the matrix decomposition would descover deeper relations using the latent comparing with the relations extracted by the cosine similarity."
   ]
  },
  {
   "cell_type": "markdown",
   "metadata": {},
   "source": [
    "In this one, we can see a high med value for the similarity. This is due to the fact that the matrix decomposition would descover deeper relations using the latent comparing with the relations extracted by the cosine similarity."
   ]
  },
  {
   "cell_type": "markdown",
   "metadata": {},
   "source": [
    "Now if we calcuate the agreement of the top 10 similar countries for each country between the two models."
   ]
  },
  {
   "cell_type": "code",
   "execution_count": 133,
   "metadata": {},
   "outputs": [
    {
     "name": "stdout",
     "output_type": "stream",
     "text": [
      "tfidf-cosine Agreement percentage :52.0%\n",
      "tfidf-bpr Agreement percentage :41.0%\n",
      "tfidf-als Agreement percentage :58.0%\n",
      "cosine-bpr Agreement percentage :32.0%\n",
      "cosine-als Agreement percentage :48.0%\n",
      "bpr-als Agreement percentage :39.0%\n"
     ]
    }
   ],
   "source": [
    "intersection_length=10\n",
    "modelnames=score_matrices.keys()\n",
    "for m in range(len(modelnames)):\n",
    "    modelname_x=modelnames[m]\n",
    "    for n in range(len(modelnames)):\n",
    "        if m>=n:\n",
    "            continue\n",
    "        modelname_y=modelnames[n]\n",
    "        first_arg_sort=np.argsort(score_matrices[modelname_x],axis=1)\n",
    "        second_arg_sort=np.argsort(score_matrices[modelname_y],axis=1)\n",
    "        N=score_matrices[modelname_x].shape[0]\n",
    "        res=[]\n",
    "        for i in range(N):\n",
    "            r=np.intersect1d(first_arg_sort[i,N-intersection_length:],second_arg_sort[i,N-intersection_length:])\n",
    "            res.append(len(r))\n",
    "        print '{}-{} Agreement percentage :{}%'.format(modelname_x,modelname_y,np.round((np.mean(res)/intersection_length)*100))\n"
   ]
  },
  {
   "cell_type": "markdown",
   "metadata": {},
   "source": [
    "The considerable degree of agreement between the tfidf and cosine results is expected as the both models are distance based\n",
    "and have similar characterstics. However, the high degree of agreement between tfidf and als is what's intereting \n",
    "and need more investigation in order to see what kind of semnetic aspects each model capture.\n",
    "bpr has different results with less than 40% agreement with the other models.\n",
    "\n",
    "To check if there is a similarity or difference pattern in the data, we visualize the data into two dimensional space.\n",
    "This is done by taking the similarity score matrix and using t-sne visualization, we project the countries that reserve the \n",
    "neighbours relations.\n",
    "The colors of the scattered points represent the contenient of the country.\n",
    "\n",
    "first we start with the tfidf model"
   ]
  },
  {
   "cell_type": "code",
   "execution_count": 135,
   "metadata": {
    "scrolled": true
   },
   "outputs": [
    {
     "data": {
      "text/html": [
       "\n",
       "\n",
       "\n",
       "\n",
       "\n",
       "\n",
       "  <div class=\"bk-root\" id=\"e6cc22b3-7a4b-4a38-9272-38650d8b4c80\"></div>\n"
      ]
     },
     "metadata": {},
     "output_type": "display_data"
    },
    {
     "data": {
      "application/javascript": [
       "(function(root) {\n",
       "  function embed_document(root) {\n",
       "    \n",
       "  var docs_json = {\"37f39039-98e6-4ea5-bd1d-2425a3d54f6e\":{\"roots\":{\"references\":[{\"attributes\":{},\"id\":\"28e4ae17-3a7a-4995-9caa-dcb0690a4426\",\"type\":\"LinearScale\"},{\"attributes\":{\"dimension\":1,\"plot\":{\"id\":\"48894f2b-bbfc-4556-a8c7-e852631225e4\",\"subtype\":\"Figure\",\"type\":\"Plot\"},\"ticker\":{\"id\":\"15313300-2afa-4e79-b3e5-b4c8b5f05e4d\",\"type\":\"BasicTicker\"}},\"id\":\"0c73a6e9-6a06-4053-ac70-0d49f8ae5c76\",\"type\":\"Grid\"},{\"attributes\":{\"plot\":null,\"text\":\"countries\"},\"id\":\"c74ed3bc-f7d2-46fa-af1a-0b4b96f97ad1\",\"type\":\"Title\"},{\"attributes\":{},\"id\":\"f4804a1b-797c-44df-9ca8-21699c1617b1\",\"type\":\"LinearScale\"},{\"attributes\":{\"data_source\":{\"id\":\"88513d9b-0eab-4788-9c75-f86110e2f6d7\",\"type\":\"ColumnDataSource\"},\"glyph\":{\"id\":\"6d57d07f-8aec-4bb3-9aa5-210d5cf90898\",\"type\":\"Circle\"},\"hover_glyph\":null,\"muted_glyph\":null,\"nonselection_glyph\":{\"id\":\"1af0663f-30d5-4fa3-86fd-8238f9044db9\",\"type\":\"Circle\"},\"selection_glyph\":null,\"view\":{\"id\":\"fdd3c32a-dc11-48b6-a909-72445268c0f8\",\"type\":\"CDSView\"}},\"id\":\"48c7e062-786b-4175-8966-3232521a0fbd\",\"type\":\"GlyphRenderer\"},{\"attributes\":{\"callback\":null,\"renderers\":\"auto\",\"tooltips\":[[\"Name\",\"@names\"],[\"First Event\",\"@report_text1\"],[\"Second Event\",\"@report_text2\"],[\"Third Event\",\"@report_text3\"]]},\"id\":\"156a37e4-0375-487e-8592-2b20e1083d6d\",\"type\":\"HoverTool\"},{\"attributes\":{},\"id\":\"2b8d900f-a2ff-4b35-b68f-a35d588521d1\",\"type\":\"SaveTool\"},{\"attributes\":{\"callback\":null},\"id\":\"c8378f80-7a2b-49bf-8276-c867f51226d2\",\"type\":\"DataRange1d\"},{\"attributes\":{},\"id\":\"15313300-2afa-4e79-b3e5-b4c8b5f05e4d\",\"type\":\"BasicTicker\"},{\"attributes\":{\"label\":{\"field\":\"label\"},\"renderers\":[{\"id\":\"48c7e062-786b-4175-8966-3232521a0fbd\",\"type\":\"GlyphRenderer\"}]},\"id\":\"ea84b5e4-39ea-45f1-8670-79949bddc536\",\"type\":\"LegendItem\"},{\"attributes\":{\"below\":[{\"id\":\"83182e98-0a00-45be-8bfa-fb5d049db5b3\",\"type\":\"LinearAxis\"}],\"left\":[{\"id\":\"df9827c8-d824-49c3-988b-e9da3b14c6c8\",\"type\":\"LinearAxis\"}],\"plot_height\":500,\"plot_width\":800,\"renderers\":[{\"id\":\"83182e98-0a00-45be-8bfa-fb5d049db5b3\",\"type\":\"LinearAxis\"},{\"id\":\"09a6af48-f5ae-4995-9d1e-c489597b13b2\",\"type\":\"Grid\"},{\"id\":\"df9827c8-d824-49c3-988b-e9da3b14c6c8\",\"type\":\"LinearAxis\"},{\"id\":\"0c73a6e9-6a06-4053-ac70-0d49f8ae5c76\",\"type\":\"Grid\"},{\"id\":\"47114a54-b1bb-4804-b327-cc12e25ff122\",\"type\":\"BoxAnnotation\"},{\"id\":\"00b9262e-e590-4477-b1fa-603c2084ac04\",\"type\":\"Legend\"},{\"id\":\"48c7e062-786b-4175-8966-3232521a0fbd\",\"type\":\"GlyphRenderer\"}],\"title\":{\"id\":\"c74ed3bc-f7d2-46fa-af1a-0b4b96f97ad1\",\"type\":\"Title\"},\"toolbar\":{\"id\":\"7ad692bd-16cc-40ed-8dce-c57395572295\",\"type\":\"Toolbar\"},\"x_range\":{\"id\":\"c8378f80-7a2b-49bf-8276-c867f51226d2\",\"type\":\"DataRange1d\"},\"x_scale\":{\"id\":\"28e4ae17-3a7a-4995-9caa-dcb0690a4426\",\"type\":\"LinearScale\"},\"y_range\":{\"id\":\"36f900a8-64bb-4fe6-afc6-f3b6661167d3\",\"type\":\"DataRange1d\"},\"y_scale\":{\"id\":\"f4804a1b-797c-44df-9ca8-21699c1617b1\",\"type\":\"LinearScale\"}},\"id\":\"48894f2b-bbfc-4556-a8c7-e852631225e4\",\"subtype\":\"Figure\",\"type\":\"Plot\"},{\"attributes\":{},\"id\":\"62619c75-7f80-4283-93f7-d09b99148628\",\"type\":\"ResetTool\"},{\"attributes\":{},\"id\":\"37c3dd20-285e-4158-9198-bb62bb1485d8\",\"type\":\"PanTool\"},{\"attributes\":{\"axis_label\":\"Comp2\",\"formatter\":{\"id\":\"fd8ec11c-597f-4984-ba78-c697dd8ac1d1\",\"type\":\"BasicTickFormatter\"},\"plot\":{\"id\":\"48894f2b-bbfc-4556-a8c7-e852631225e4\",\"subtype\":\"Figure\",\"type\":\"Plot\"},\"ticker\":{\"id\":\"15313300-2afa-4e79-b3e5-b4c8b5f05e4d\",\"type\":\"BasicTicker\"}},\"id\":\"df9827c8-d824-49c3-988b-e9da3b14c6c8\",\"type\":\"LinearAxis\"},{\"attributes\":{\"items\":[{\"id\":\"ea84b5e4-39ea-45f1-8670-79949bddc536\",\"type\":\"LegendItem\"}],\"plot\":{\"id\":\"48894f2b-bbfc-4556-a8c7-e852631225e4\",\"subtype\":\"Figure\",\"type\":\"Plot\"}},\"id\":\"00b9262e-e590-4477-b1fa-603c2084ac04\",\"type\":\"Legend\"},{\"attributes\":{\"fill_color\":{\"field\":\"colors\"},\"line_color\":{\"field\":\"colors\"},\"size\":{\"units\":\"screen\",\"value\":5},\"x\":{\"field\":\"height\"},\"y\":{\"field\":\"weight\"}},\"id\":\"6d57d07f-8aec-4bb3-9aa5-210d5cf90898\",\"type\":\"Circle\"},{\"attributes\":{\"overlay\":{\"id\":\"47114a54-b1bb-4804-b327-cc12e25ff122\",\"type\":\"BoxAnnotation\"}},\"id\":\"5e5d41c5-0be7-46ad-88ac-21a7b0e1ad2e\",\"type\":\"BoxZoomTool\"},{\"attributes\":{},\"id\":\"79f068d5-78cc-4734-9f8f-b4d3f267cb6b\",\"type\":\"BasicTicker\"},{\"attributes\":{\"bottom_units\":\"screen\",\"fill_alpha\":{\"value\":0.5},\"fill_color\":{\"value\":\"lightgrey\"},\"left_units\":\"screen\",\"level\":\"overlay\",\"line_alpha\":{\"value\":1.0},\"line_color\":{\"value\":\"black\"},\"line_dash\":[4,4],\"line_width\":{\"value\":2},\"plot\":null,\"render_mode\":\"css\",\"right_units\":\"screen\",\"top_units\":\"screen\"},\"id\":\"47114a54-b1bb-4804-b327-cc12e25ff122\",\"type\":\"BoxAnnotation\"},{\"attributes\":{},\"id\":\"f57b6e00-078a-4e8a-bb90-0471a0d5f9b0\",\"type\":\"WheelZoomTool\"},{\"attributes\":{},\"id\":\"0847663b-5994-4acf-ab22-0c6836c5f5a5\",\"type\":\"UnionRenderers\"},{\"attributes\":{\"source\":{\"id\":\"88513d9b-0eab-4788-9c75-f86110e2f6d7\",\"type\":\"ColumnDataSource\"}},\"id\":\"fdd3c32a-dc11-48b6-a909-72445268c0f8\",\"type\":\"CDSView\"},{\"attributes\":{\"callback\":null,\"data\":{\"codes\":[\"AF\",\"AL\",\"DZ\",\"AD\",\"AO\",\"AR\",\"AM\",\"AU\",\"AT\",\"AZ\",\"BS\",\"BH\",\"BD\",\"BB\",\"BY\",\"BE\",\"BJ\",\"BO\",\"BA\",\"BW\",\"BR\",\"BN\",\"BG\",\"BF\",\"BI\",\"KH\",\"CM\",\"CA\",\"TD\",\"CL\",\"CN\",\"CO\",\"CG\",\"CD\",\"CR\",\"CI\",\"HR\",\"CU\",\"CY\",\"CZ\",\"DK\",\"DO\",\"EC\",\"EG\",\"SV\",\"EE\",\"ET\",\"FO\",\"FI\",\"FR\",\"GF\",\"GA\",\"GM\",\"GE\",\"DE\",\"GH\",\"GR\",\"GD\",\"GT\",\"GW\",\"HT\",\"HN\",\"HK\",\"HU\",\"IS\",\"IN\",\"ID\",\"IR\",\"IQ\",\"IE\",\"IL\",\"IT\",\"JM\",\"JP\",\"JO\",\"KZ\",\"KE\",\"KP\",\"KR\",\"KW\",\"KG\",\"LA\",\"LV\",\"LB\",\"LS\",\"LY\",\"LT\",\"LU\",\"MO\",\"MK\",\"MG\",\"MW\",\"MY\",\"MV\",\"ML\",\"MT\",\"MU\",\"MX\",\"MD\",\"MN\",\"ME\",\"MA\",\"MZ\",\"MM\",\"NP\",\"NL\",\"NZ\",\"NI\",\"NE\",\"NG\",\"NO\",\"OM\",\"PK\",\"PA\",\"PG\",\"PY\",\"PE\",\"PH\",\"PL\",\"PT\",\"PR\",\"QA\",\"RE\",\"RO\",\"RU\",\"RW\",\"SA\",\"SN\",\"RS\",\"SG\",\"SK\",\"SI\",\"ZA\",\"ES\",\"LK\",\"SD\",\"SE\",\"CH\",\"SY\",\"TW\",\"TJ\",\"TZ\",\"TH\",\"TG\",\"TT\",\"TN\",\"TR\",\"UG\",\"UA\",\"AE\",\"GB\",\"US\",\"UM\",\"UY\",\"UZ\",\"VE\",\"VN\",\"ZM\",\"ZW\"],\"colors\":[\"#444444\",\"#1f78b4\",\"#33a02c\",\"#1f78b4\",\"#33a02c\",\"#e31a1c\",\"#444444\",\"#fb9a99\",\"#1f78b4\",\"#444444\",\"#e31a1c\",\"#444444\",\"#444444\",\"#e31a1c\",\"#1f78b4\",\"#1f78b4\",\"#33a02c\",\"#e31a1c\",\"#1f78b4\",\"#33a02c\",\"#e31a1c\",\"#444444\",\"#1f78b4\",\"#33a02c\",\"#33a02c\",\"#444444\",\"#33a02c\",\"#e31a1c\",\"#33a02c\",\"#e31a1c\",\"#444444\",\"#e31a1c\",\"#33a02c\",\"#33a02c\",\"#e31a1c\",\"#33a02c\",\"#1f78b4\",\"#e31a1c\",\"#444444\",\"#1f78b4\",\"#1f78b4\",\"#e31a1c\",\"#e31a1c\",\"#33a02c\",\"#e31a1c\",\"#1f78b4\",\"#33a02c\",\"#1f78b4\",\"#1f78b4\",\"#1f78b4\",\"#e31a1c\",\"#33a02c\",\"#33a02c\",\"#444444\",\"#1f78b4\",\"#33a02c\",\"#1f78b4\",\"#e31a1c\",\"#e31a1c\",\"#33a02c\",\"#e31a1c\",\"#e31a1c\",\"#444444\",\"#1f78b4\",\"#1f78b4\",\"#444444\",\"#444444\",\"#444444\",\"#444444\",\"#1f78b4\",\"#444444\",\"#1f78b4\",\"#e31a1c\",\"#444444\",\"#444444\",\"#444444\",\"#33a02c\",\"#444444\",\"#444444\",\"#444444\",\"#444444\",\"#444444\",\"#1f78b4\",\"#444444\",\"#33a02c\",\"#33a02c\",\"#1f78b4\",\"#1f78b4\",\"#444444\",\"#1f78b4\",\"#33a02c\",\"#33a02c\",\"#444444\",\"#444444\",\"#33a02c\",\"#1f78b4\",\"#33a02c\",\"#e31a1c\",\"#1f78b4\",\"#444444\",\"#1f78b4\",\"#33a02c\",\"#33a02c\",\"#444444\",\"#444444\",\"#1f78b4\",\"#fb9a99\",\"#e31a1c\",\"#33a02c\",\"#33a02c\",\"#1f78b4\",\"#444444\",\"#444444\",\"#e31a1c\",\"#fb9a99\",\"#e31a1c\",\"#e31a1c\",\"#444444\",\"#1f78b4\",\"#1f78b4\",\"#e31a1c\",\"#444444\",\"#33a02c\",\"#1f78b4\",\"#1f78b4\",\"#33a02c\",\"#444444\",\"#33a02c\",\"#1f78b4\",\"#444444\",\"#1f78b4\",\"#1f78b4\",\"#33a02c\",\"#1f78b4\",\"#444444\",\"#33a02c\",\"#1f78b4\",\"#1f78b4\",\"#444444\",\"#444444\",\"#444444\",\"#33a02c\",\"#444444\",\"#33a02c\",\"#e31a1c\",\"#33a02c\",\"#444444\",\"#33a02c\",\"#1f78b4\",\"#444444\",\"#1f78b4\",\"#e31a1c\",\"#fb9a99\",\"#e31a1c\",\"#444444\",\"#e31a1c\",\"#444444\",\"#33a02c\",\"#33a02c\"],\"height\":[4.194333553314209,1.0960865020751953,0.44818001985549927,1.6341484785079956,4.639803886413574,-11.152304649353027,7.956698894500732,-8.504227638244629,-5.393502712249756,10.424361228942871,15.383728981018066,1.119346261024475,3.7291617393493652,7.423628330230713,9.313961029052734,-6.336085319519043,12.479654312133789,9.71760368347168,2.1512057781219482,5.1677751541137695,-10.957898139953613,6.074950218200684,0.7900983691215515,6.877230167388916,6.107059001922607,9.436725616455078,-0.026709187775850296,-9.609890937805176,6.020641326904297,-10.361042022705078,3.5464165210723877,-11.756184577941895,-0.731008768081665,-0.6904152631759644,-10.371787071228027,4.910164833068848,-2.8784611225128174,5.132904529571533,6.276648044586182,-3.3390848636627197,-7.555093765258789,-9.769599914550781,-12.191364288330078,6.722079277038574,9.930441856384277,1.7164369821548462,6.60045862197876,1.2515273094177246,-8.927536010742188,-2.836948871612549,0.8029809594154358,8.225860595703125,-0.7541175484657288,3.2532997131347656,-6.174544811248779,1.3402531147003174,-4.4347758293151855,3.6458001136779785,-9.78494930267334,15.501184463500977,6.473949432373047,-10.36483383178711,4.688050270080566,-4.846132755279541,-1.0484004020690918,5.017521381378174,6.8596343994140625,-1.3382352590560913,-4.824028491973877,-9.371711730957031,-7.1678619384765625,-1.998884916305542,5.562999248504639,3.778280019760132,6.925934314727783,2.0764644145965576,5.502315998077393,0.3453470766544342,4.226927280426025,-0.900779128074646,4.8405938148498535,4.051925182342529,3.353698253631592,-4.858087062835693,8.315889358520508,3.210719108581543,-0.6335943341255188,2.4607884883880615,14.607722282409668,2.914018154144287,12.605430603027344,5.486780166625977,4.009974956512451,14.864212989807129,0.6120147705078125,7.698819637298584,8.1376314163208,-11.580607414245605,3.993067741394043,8.595911979675293,3.6839208602905273,1.0095022916793823,4.8815436363220215,3.079145669937134,1.3682384490966797,-8.435187339782715,-8.60400676727295,4.471879005432129,7.2820725440979,9.27637004852295,-7.086047649383545,-0.3125264048576355,7.063176155090332,-9.54868221282959,9.156207084655762,8.756214141845703,-11.152528762817383,7.531276226043701,-3.6545543670654297,-2.1924710273742676,-9.48244857788086,1.1039185523986816,3.87239146232605,-0.8810093402862549,1.3588911294937134,3.684286594390869,-1.392143964767456,5.134896278381348,-1.2465928792953491,3.778045654296875,-2.7748730182647705,-3.452758550643921,-9.27390193939209,-3.2516543865203857,2.1386241912841797,1.129883050918579,-7.360261917114258,-3.9258294105529785,4.415543556213379,4.714641571044922,15.13344669342041,4.708279609680176,5.942268371582031,14.560492515563965,5.98109769821167,0.9872809648513794,-4.487911701202393,5.403557777404785,1.6786208152770996,-4.002784729003906,-9.68513298034668,-9.620218276977539,3.30576753616333,-6.5859246253967285,10.532198905944824,-11.603195190429688,6.975922584533691,7.048521995544434,6.555777549743652],\"label\":[\"Asia\",\"Europe\",\"Africa\",\"Europe\",\"Africa\",\"Americas\",\"Asia\",\"Oceania\",\"Europe\",\"Asia\",\"Americas\",\"Asia\",\"Asia\",\"Americas\",\"Europe\",\"Europe\",\"Africa\",\"Americas\",\"Europe\",\"Africa\",\"Americas\",\"Asia\",\"Europe\",\"Africa\",\"Africa\",\"Asia\",\"Africa\",\"Americas\",\"Africa\",\"Americas\",\"Asia\",\"Americas\",\"Africa\",\"Africa\",\"Americas\",\"Africa\",\"Europe\",\"Americas\",\"Asia\",\"Europe\",\"Europe\",\"Americas\",\"Americas\",\"Africa\",\"Americas\",\"Europe\",\"Africa\",\"Europe\",\"Europe\",\"Europe\",\"Americas\",\"Africa\",\"Africa\",\"Asia\",\"Europe\",\"Africa\",\"Europe\",\"Americas\",\"Americas\",\"Africa\",\"Americas\",\"Americas\",\"Asia\",\"Europe\",\"Europe\",\"Asia\",\"Asia\",\"Asia\",\"Asia\",\"Europe\",\"Asia\",\"Europe\",\"Americas\",\"Asia\",\"Asia\",\"Asia\",\"Africa\",\"Asia\",\"Asia\",\"Asia\",\"Asia\",\"Asia\",\"Europe\",\"Asia\",\"Africa\",\"Africa\",\"Europe\",\"Europe\",\"Asia\",\"Europe\",\"Africa\",\"Africa\",\"Asia\",\"Asia\",\"Africa\",\"Europe\",\"Africa\",\"Americas\",\"Europe\",\"Asia\",\"Europe\",\"Africa\",\"Africa\",\"Asia\",\"Asia\",\"Europe\",\"Oceania\",\"Americas\",\"Africa\",\"Africa\",\"Europe\",\"Asia\",\"Asia\",\"Americas\",\"Oceania\",\"Americas\",\"Americas\",\"Asia\",\"Europe\",\"Europe\",\"Americas\",\"Asia\",\"Africa\",\"Europe\",\"Europe\",\"Africa\",\"Asia\",\"Africa\",\"Europe\",\"Asia\",\"Europe\",\"Europe\",\"Africa\",\"Europe\",\"Asia\",\"Africa\",\"Europe\",\"Europe\",\"Asia\",\"Asia\",\"Asia\",\"Africa\",\"Asia\",\"Africa\",\"Americas\",\"Africa\",\"Asia\",\"Africa\",\"Europe\",\"Asia\",\"Europe\",\"Americas\",\"Oceania\",\"Americas\",\"Asia\",\"Americas\",\"Asia\",\"Africa\",\"Africa\"],\"names\":[\"Afghanistan\",\"Albania\",\"Algeria\",\"Andorra\",\"Angola\",\"Argentina\",\"Armenia\",\"Australia\",\"Austria\",\"Azerbaijan\",\"Bahamas\",\"Bahrain\",\"Bangladesh\",\"Barbados\",\"Belarus\",\"Belgium\",\"Benin\",\"Bolivia (Plurinational State of)\",\"Bosnia and Herzegovina\",\"Botswana\",\"Brazil\",\"Brunei Darussalam\",\"Bulgaria\",\"Burkina Faso\",\"Burundi\",\"Cambodia\",\"Cameroon\",\"Canada\",\"Chad\",\"Chile\",\"China\",\"Colombia\",\"Congo\",\"Congo (Democratic Republic of the)\",\"Costa Rica\",\"C\\u00f4te d'Ivoire\",\"Croatia\",\"Cuba\",\"Cyprus\",\"Czechia\",\"Denmark\",\"Dominican Republic\",\"Ecuador\",\"Egypt\",\"El Salvador\",\"Estonia\",\"Ethiopia\",\"Faroe Islands\",\"Finland\",\"France\",\"French Guiana\",\"Gabon\",\"Gambia\",\"Georgia\",\"Germany\",\"Ghana\",\"Greece\",\"Grenada\",\"Guatemala\",\"Guinea-Bissau\",\"Haiti\",\"Honduras\",\"Hong Kong\",\"Hungary\",\"Iceland\",\"India\",\"Indonesia\",\"Iran (Islamic Republic of)\",\"Iraq\",\"Ireland\",\"Israel\",\"Italy\",\"Jamaica\",\"Japan\",\"Jordan\",\"Kazakhstan\",\"Kenya\",\"Korea (Democratic People's Republic of)\",\"Korea (Republic of)\",\"Kuwait\",\"Kyrgyzstan\",\"Lao People's Democratic Republic\",\"Latvia\",\"Lebanon\",\"Lesotho\",\"Libya\",\"Lithuania\",\"Luxembourg\",\"Macao\",\"Macedonia (the former Yugoslav Republic of)\",\"Madagascar\",\"Malawi\",\"Malaysia\",\"Maldives\",\"Mali\",\"Malta\",\"Mauritius\",\"Mexico\",\"Moldova (Republic of)\",\"Mongolia\",\"Montenegro\",\"Morocco\",\"Mozambique\",\"Myanmar\",\"Nepal\",\"Netherlands\",\"New Zealand\",\"Nicaragua\",\"Niger\",\"Nigeria\",\"Norway\",\"Oman\",\"Pakistan\",\"Panama\",\"Papua New Guinea\",\"Paraguay\",\"Peru\",\"Philippines\",\"Poland\",\"Portugal\",\"Puerto Rico\",\"Qatar\",\"R\\u00e9union\",\"Romania\",\"Russian Federation\",\"Rwanda\",\"Saudi Arabia\",\"Senegal\",\"Serbia\",\"Singapore\",\"Slovakia\",\"Slovenia\",\"South Africa\",\"Spain\",\"Sri Lanka\",\"Sudan\",\"Sweden\",\"Switzerland\",\"Syrian Arab Republic\",\"Taiwan, Province of China\",\"Tajikistan\",\"Tanzania, United Republic of\",\"Thailand\",\"Togo\",\"Trinidad and Tobago\",\"Tunisia\",\"Turkey\",\"Uganda\",\"Ukraine\",\"United Arab Emirates\",\"United Kingdom of Great Britain and Northern Ireland\",\"United States of America\",\"United States Minor Outlying Islands\",\"Uruguay\",\"Uzbekistan\",\"Venezuela (Bolivarian Republic of)\",\"Viet Nam\",\"Zambia\",\"Zimbabwe\"],\"report_count\":[55.0,55.0,55.0,55.0,55.0,55.0,55.0,55.0,55.0,55.0,55.0,55.0,55.0,55.0,55.0,55.0,55.0,55.0,55.0,55.0,55.0,55.0,55.0,55.0,55.0,55.0,55.0,55.0,55.0,55.0,55.0,55.0,55.0,55.0,55.0,55.0,55.0,55.0,55.0,55.0,55.0,55.0,55.0,55.0,55.0,55.0,55.0,55.0,55.0,55.0,55.0,55.0,55.0,55.0,55.0,55.0,55.0,55.0,55.0,55.0,55.0,55.0,55.0,55.0,55.0,55.0,55.0,55.0,55.0,55.0,55.0,55.0,55.0,55.0,55.0,55.0,55.0,55.0,55.0,55.0,55.0,55.0,55.0,55.0,55.0,55.0,55.0,55.0,55.0,55.0,55.0,55.0,55.0,55.0,55.0,55.0,55.0,55.0,55.0,55.0,55.0,55.0,55.0,55.0,55.0,55.0,55.0,55.0,55.0,55.0,55.0,55.0,55.0,55.0,55.0,55.0,55.0,55.0,55.0,55.0,55.0,55.0,55.0,55.0,55.0,55.0,55.0,55.0,55.0,55.0,55.0,55.0,55.0,55.0,55.0,55.0,55.0,55.0,55.0,55.0,55.0,55.0,55.0,55.0,55.0,55.0,55.0,55.0,55.0,55.0,55.0,55.0,55.0,55.0,55.0,55.0,55.0,55.0,55.0],\"report_text1\":[\"BENIGN UTERINE NEOPLASM : 1.0/1.0\",\"DEATH : 0.166666666667/1.0\",\"DEATH : 0.0407918416317/1.0\",\"ERYTHEMA : 1.0/1.0\",\"GENOTYPE DRUG RESISTANCE TEST POSITIVE : 0.333333333333/1.0\",\"DEATH : 0.056647784072/0.9999999999999999\",\"DEATH : 0.252100840336/1.0000000000000002\",\"DEATH : 0.0519555850182/1.0\",\"DEATH : 0.0404933964615/1.0\",\"DEATH : 0.378947368421/1.0\",\"DEATH : 1.0/1.0\",\"METABOLIC ACIDOSIS : 0.157303370787/0.9999999999999999\",\"DEATH : 0.147102526003/0.9999999999999998\",\"DEATH : 0.380952380952/1.0\",\"NEPHROPATHY : 0.0958904109589/1.0\",\"DEATH : 0.0346715328467/0.9999999999999998\",\"DEATH : 0.733333333333/1.0\",\"DEATH : 0.195402298851/1.0\",\"PULMONARY EMBOLISM : 0.0959595959596/1.0\",\"FOETAL EXPOSURE DURING PREGNANCY : 0.338043478261/0.9999999999999999\",\"DRUG INEFFECTIVE : 0.0289257302224/1.0\",\"DEATH : 0.6/1.0\",\"DEATH : 0.0313089400226/1.0\",\"VIROLOGIC FAILURE : 0.370786516854/1.0\",\"VIROLOGIC FAILURE : 0.52380952381/1.0\",\"PYREXIA : 0.105263157895/0.9999999999999996\",\"DEATH : 0.125364431487/0.9999999999999997\",\"DRUG INEFFECTIVE : 0.0366790917255/1.0\",\"VIROLOGIC FAILURE : 1.0/1.0\",\"DEATH : 0.0525257602413/0.9999999999999999\",\"DEATH : 0.0739340840081/1.0\",\"DEATH : 0.0500762524754/1.0\",\"ASTHENIA : 0.135338345865/1.0\",\"ASTHENIA : 0.144680851064/1.0\",\"DEATH : 0.0595432300163/1.0\",\"ABORTION SPONTANEOUS : 0.329787234043/1.0\",\"SUICIDE ATTEMPT : 0.0582624387729/0.9999999999999998\",\"DEVICE FAILURE : 0.25/1.0\",\"LOSS OF CONSCIOUSNESS : 0.0406504065041/0.9999999999999999\",\"DIARRHOEA : 0.0211492032834/0.9999999999999999\",\"FATIGUE : 0.0242963987722/0.9999999999999999\",\"DEATH : 0.0884831460674/1.0\",\"DEATH : 0.0562651018295/1.0\",\"DEATH : 0.0514091858038/1.0\",\"DEATH : 0.189024390244/1.0\",\"NAUSEA : 0.0382293762575/1.0\",\"DEATH : 0.39846743295/1.0\",\"RHABDOMYOLYSIS : 1.0/1.0\",\"FATIGUE : 0.0247915590644/1.0\",\"FATIGUE : 0.0263123932995/1.0\",\"PARADOXICAL DRUG REACTION : 0.636363636364/1.0\",\"DRUG RESISTANCE : 0.4/1.0\",\"FOETAL EXPOSURE DURING PREGNANCY : 0.5/1.0\",\"DEATH : 0.20578778135/1.0\",\"DEATH : 0.0203841129548/1.0\",\"DEATH : 0.102766798419/1.0\",\"DEATH : 0.0346565847511/1.0\",\"PNEUMOCEPHALUS : 1.0/1.0\",\"DEATH : 0.104519774011/1.0\",\"DEATH : 1.0/1.0\",\"ANAEMIA : 0.583333333333/1.0\",\"DEATH : 0.213166144201/1.0\",\"DEATH : 0.308703271028/0.9999999999999999\",\"DEATH : 0.0392819225943/1.0\",\"DRUG-INDUCED LIVER INJURY : 0.0532212885154/0.9999999999999999\",\"DEATH : 0.169618426196/1.0\",\"DEATH : 0.231940082145/1.0\",\"TOXICITY TO VARIOUS AGENTS : 0.0654717450834/1.0\",\"FATIGUE : 0.0364485981308/1.0\",\"DEATH : 0.0607438968217/1.0\",\"ASTHENIA : 0.0308018843506/1.0\",\"DRUG ABUSE : 0.0367378860714/1.0\",\"ANAESTHETIC COMPLICATION NEUROLOGICAL : 0.208955223881/1.0\",\"PYREXIA : 0.0277896172534/0.9999999999999999\",\"DRUG ABUSE : 0.0801687763713/1.0\",\"DRUG INEFFECTIVE : 0.0592255125285/0.9999999999999999\",\"DEATH : 0.156862745098/1.0\",\"DISEASE PROGRESSION : 0.0863636363636/1.0\",\"NEUTROPENIA : 0.0365596550072/0.9999999999999999\",\"DRUG INEFFECTIVE : 0.0678391959799/1.0\",\"DEATH : 0.458333333333/0.9999999999999999\",\"DYSPNOEA : 0.333333333333/1.0\",\"DYSPNOEA : 0.0457038391225/1.0\",\"DEATH : 0.0408844388819/1.0\",\"DRUG RESISTANCE : 0.152777777778/1.0\",\"PULMONARY HAEMORRHAGE : 0.611111111111/1.0\",\"SUICIDE ATTEMPT : 0.0456580125336/1.0000000000000002\",\"DEATH : 0.0359477124183/0.9999999999999997\",\"DEATH : 1.0/1.0\",\"ABORTION SPONTANEOUS : 0.11811023622/0.9999999999999998\",\"DEATH : 0.6/1.0\",\"FOETAL EXPOSURE DURING DELIVERY : 0.122905027933/1.0000000000000002\",\"DEATH : 0.106717484516/1.0\",\"DEATH : 1.0/1.0\",\"HAEMOGLOBIN DECREASED : 0.5/1.0\",\"DEATH : 0.0601503759398/1.0\",\"DEATH : 0.294117647059/1.0\",\"DEATH : 0.0748179763997/0.9999999999999999\",\"TREMOR : 0.333333333333/1.0\",\"ENDOPHTHALMITIS : 0.2/1.0\",\"RASH : 0.117021276596/0.9999999999999999\",\"DEATH : 0.0623931623932/1.0\",\"ANAEMIA : 0.333333333333/1.0\",\"ELECTROCARDIOGRAM QT PROLONGED : 1.0/1.0\",\"DEATH : 0.507507507508/1.0\",\"DEATH : 0.214110041459/0.9999999999999999\",\"DEATH : 0.0459032576505/1.0\",\"UNWANTED AWARENESS DURING ANAESTHESIA : 0.186666666667/1.0\",\"DRUG DEPENDENCE : 0.20987654321/1.0\",\"DEATH : 0.165497896213/1.0\",\"TOXICITY TO VARIOUS AGENTS : 0.0218656096158/1.0\",\"GENERALISED OEDEMA : 0.140401146132/1.0\",\"DEATH : 0.2403125/0.9999999999999999\",\"DEATH : 0.0368364030336/0.9999999999999998\",\"DEATH : 0.533333333333/1.0\",\"DEATH : 0.135593220339/1.0\",\"DEATH : 0.130252804286/0.9999999999999999\",\"DEATH : 0.112354163337/1.0\",\"DEATH : 0.0312653975364/1.0\",\"DYSPNOEA : 0.0249369410686/1.0\",\"NASOPHARYNGITIS : 0.0565894896221/1.0\",\"HYPOTHYROIDISM : 0.260700389105/1.0\",\"BRONCHIECTASIS : 1.0/1.0\",\"DEATH : 0.0352677140109/0.9999999999999999\",\"DRUG INEFFECTIVE : 0.03401668499/1.0\",\"DEATH : 0.289473684211/0.9999999999999999\",\"ACUTE KIDNEY INJURY : 0.0426490984743/0.9999999999999998\",\"DEATH : 0.243362831858/1.0\",\"OVERLAP SYNDROME : 0.0211895910781/0.9999999999999999\",\"ANGIOEDEMA : 0.0809923385626/1.0\",\"DEATH : 0.0244707176244/1.0000000000000002\",\"DYSPNOEA : 0.0237502827415/1.0\",\"DEATH : 0.137356238171/0.9999999999999999\",\"DEATH : 0.0262495312584/1.0\",\"DEATH : 0.153256704981/1.0\",\"DEATH : 0.350877192982/1.0\",\"TOXICITY TO VARIOUS AGENTS : 0.0393938451007/1.0\",\"NAUSEA : 0.0173754152824/1.0\",\"DIARRHOEA : 0.148936170213/1.0\",\"DEATH : 0.114401003326/1.0\",\"DEATH : 1.0/1.0\",\"TREATMENT FAILURE : 0.301886792453/1.0\",\"DEATH : 0.124954195676/1.0\",\"DEATH : 1.0/1.0\",\"DEATH : 0.288461538462/1.0\",\"DRUG REACTION WITH EOSINOPHILIA AND SYSTEMIC SYMPTOMS : 0.0427280197206/1.0\",\"TOXICITY TO VARIOUS AGENTS : 0.0268644891786/1.0\",\"DEATH : 0.0605481198215/1.0\",\"DRUG INEFFECTIVE : 0.0395882818686/0.9999999999999999\",\"DRUG INEFFECTIVE : 0.0300632911392/1.0\",\"DEATH : 0.0354938192679/1.0\",\"DRUG INEFFECTIVE : 0.0477314823183/1.0\",\"DRUG INEFFECTIVE : 0.5/1.0\",\"DEATH : 0.0864779874214/1.0\",\"DEATH : 0.176229508197/1.0\",\"DEATH : 0.244378503132/1.0\",\"ASTHENIA : 0.0424076607387/0.9999999999999999\",\"DEATH : 0.310344827586/1.0\",\"DEATH : 0.115702479339/0.9999999999999998\"],\"report_text2\":[\"\",\"DYSPNOEA : 0.107142857143/1.0\",\"VOMITING : 0.0305938812238/1.0\",\"\",\"TREATMENT FAILURE : 0.333333333333/1.0\",\"PAIN : 0.0266577807398/0.9999999999999999\",\"ASTHENIA : 0.0672268907563/1.0000000000000002\",\"MALAISE : 0.0200254115567/1.0\",\"DIARRHOEA : 0.0206204834289/1.0\",\"EXPOSURE DURING PREGNANCY : 0.189473684211/1.0\",\"\",\"RHABDOMYOLYSIS : 0.157303370787/0.9999999999999999\",\"CEREBROVASCULAR ACCIDENT : 0.0794947994056/0.9999999999999998\",\"ASTHMA : 0.238095238095/1.0\",\"DEATH : 0.0684931506849/1.0\",\"FATIGUE : 0.0238095238095/0.9999999999999998\",\"EXPOSURE DURING PREGNANCY : 0.266666666667/1.0\",\"GENERAL PHYSICAL HEALTH DETERIORATION : 0.0689655172414/1.0\",\"HYPERPROLACTINAEMIA : 0.0808080808081/1.0\",\"SMALL FOR DATES BABY : 0.260869565217/0.9999999999999999\",\"MALAISE : 0.0262009200241/1.0\",\"FEMUR FRACTURE : 0.4/1.0\",\"DYSPNOEA : 0.0207468879668/1.0\",\"FOETAL EXPOSURE DURING PREGNANCY : 0.157303370787/1.0\",\"DRUG RESISTANCE : 0.47619047619/1.0\",\"ASTHENIA : 0.0921052631579/0.9999999999999996\",\"ASTHENIA : 0.0787172011662/0.9999999999999997\",\"DEATH : 0.032037577193/1.0\",\"\",\"VOMITING : 0.0242523247047/0.9999999999999999\",\"PYREXIA : 0.0219509109312/1.0\",\"HEADACHE : 0.0253795552318/1.0\",\"PYREXIA : 0.127819548872/1.0\",\"PYREXIA : 0.106382978723/1.0\",\"MALAISE : 0.0240619902121/1.0\",\"DEATH : 0.18085106383/1.0\",\"INTENTIONAL OVERDOSE : 0.045630317092/0.9999999999999998\",\"DIABETIC KETOACIDOSIS : 0.25/1.0\",\"MYOCARDIAL INFARCTION : 0.0406504065041/0.9999999999999999\",\"DYSPNOEA : 0.020280057943/0.9999999999999999\",\"DYSPNOEA : 0.0242099347196/0.9999999999999999\",\"PYREXIA : 0.0435393258427/1.0\",\"CARDIO-RESPIRATORY ARREST : 0.0286503279254/1.0\",\"HEPATIC FAILURE : 0.0506263048017/1.0\",\"HAEMOGLOBIN DECREASED : 0.0731707317073/1.0\",\"CEREBROVASCULAR ACCIDENT : 0.0321931589537/1.0\",\"VIROLOGIC FAILURE : 0.14687100894/1.0\",\"\",\"PYREXIA : 0.0241274994466/1.0\",\"HEADACHE : 0.0191775164729/1.0\",\"CONDITION AGGRAVATED : 0.363636363636/1.0\",\"VIRAL MUTATION IDENTIFIED : 0.4/1.0\",\"LOW BIRTH WEIGHT BABY : 0.5/1.0\",\"HEPATIC CIRRHOSIS : 0.122186495177/1.0\",\"NAUSEA : 0.0203563189638/1.0\",\"NEUROPATHY PERIPHERAL : 0.0592885375494/1.0\",\"PYREXIA : 0.027284183995/1.0\",\"\",\"MALAISE : 0.0536723163842/1.0\",\"\",\"SEPSIS : 0.416666666667/1.0\",\"CEREBROVASCULAR ACCIDENT : 0.0313479623824/1.0\",\"DRUG INEFFECTIVE : 0.0192757009346/0.9999999999999999\",\"DIARRHOEA : 0.0277965447351/1.0\",\"VOMITING : 0.03081232493/0.9999999999999999\",\"INFECTION : 0.0275731424963/1.0\",\"DYSPNOEA : 0.0328581783039/1.0\",\"OVERDOSE : 0.0263878516306/1.0\",\"PYREXIA : 0.0317757009346/1.0\",\"LOWER RESPIRATORY TRACT INFECTION : 0.0267733763243/1.0\",\"PYREXIA : 0.028834705182/1.0\",\"SOPOR : 0.0302519535332/1.0\",\"DEATH : 0.167910447761/1.0\",\"INTERSTITIAL LUNG DISEASE : 0.0220004225149/0.9999999999999999\",\"DEATH : 0.0717299578059/1.0\",\"DEATH : 0.0478359908884/0.9999999999999999\",\"ABORTION SPONTANEOUS : 0.0606909430439/1.0\",\"PNEUMONIA : 0.0590909090909/1.0\",\"DEATH : 0.0363679923335/0.9999999999999999\",\"DEATH : 0.0376884422111/1.0\",\"TUBERCULOSIS : 0.208333333333/0.9999999999999999\",\"GASTRIC ULCER HAEMORRHAGE : 0.333333333333/1.0\",\"PNEUMONIA : 0.0383912248629/1.0\",\"PYREXIA : 0.0321234876929/1.0\",\"ANAEMIA : 0.125/1.0\",\"DRUG INEFFECTIVE : 0.388888888889/1.0\",\"PYREXIA : 0.034914950761/1.0000000000000002\",\"DYSPNOEA : 0.0359477124183/0.9999999999999997\",\"\",\"EXPOSURE DURING PREGNANCY : 0.0787401574803/0.9999999999999998\",\"PYREXIA : 0.4/1.0\",\"EXPOSURE DURING BREAST FEEDING : 0.100558659218/1.0000000000000002\",\"DYSPNOEA : 0.0264411624583/1.0\",\"\",\"MALARIA : 0.5/1.0\",\"NEUROLEPTIC MALIGNANT SYNDROME : 0.0601503759398/1.0\",\"BLINDNESS : 0.235294117647/1.0\",\"FALL : 0.0188658943366/0.9999999999999999\",\"HYPERTHERMIA : 0.238095238095/1.0\",\"INTENTIONAL PRODUCT USE ISSUE : 0.2/1.0\",\"DIARRHOEA : 0.0957446808511/0.9999999999999999\",\"DRUG REACTION WITH EOSINOPHILIA AND SYSTEMIC SYMPTOMS : 0.0282051282051/1.0\",\"APLASIA CUTIS CONGENITA : 0.333333333333/1.0\",\"\",\"HYPOTENSION : 0.042042042042/1.0\",\"HOSPITALISATION : 0.0396669243201/0.9999999999999999\",\"MALAISE : 0.024555774926/1.0\",\"PRODUCT QUALITY ISSUE : 0.173333333333/1.0\",\"DRUG ABUSE : 0.197530864198/1.0\",\"DRUG INTOLERANCE : 0.0350631136045/1.0\",\"DYSPNOEA : 0.0205229844639/1.0\",\"ASCITES : 0.0916905444126/1.0\",\"PYREXIA : 0.0240625/0.9999999999999999\",\"HEADACHE : 0.0281690140845/0.9999999999999998\",\"INTENTIONAL PRODUCT USE ISSUE : 0.466666666667/1.0\",\"PYREXIA : 0.0847457627119/1.0\",\"PNEUMONIA : 0.0349907918969/0.9999999999999999\",\"CARDIAC ARREST : 0.0544989611635/1.0\",\"DRUG INEFFECTIVE : 0.02960806271/1.0\",\"DRUG INEFFECTIVE : 0.0241343728503/1.0\",\"INJECTION SITE PAIN : 0.0509116144092/1.0\",\"DEATH : 0.0583657587549/1.0\",\"\",\"VOMITING : 0.0250080153895/0.9999999999999999\",\"DYSPNOEA : 0.0230873698506/1.0\",\"ACUTE HEPATIC FAILURE : 0.184210526316/0.9999999999999999\",\"MATERNAL EXPOSURE BEFORE PREGNANCY : 0.0339805825243/0.9999999999999998\",\"SQUAMOUS CELL CARCINOMA OF SKIN : 0.12389380531/1.0\",\"CHRONIC GRAFT VERSUS HOST DISEASE : 0.0208178438662/0.9999999999999999\",\"DEATH : 0.0693177672382/1.0\",\"DYSPNOEA : 0.0214462469068/1.0000000000000002\",\"FATIGUE : 0.0185478398552/1.0\",\"DRUG INEFFECTIVE : 0.0195079341971/0.9999999999999999\",\"ANAEMIA : 0.0226603096373/1.0\",\"TOXICITY TO VARIOUS AGENTS : 0.0766283524904/1.0\",\"ANAEMIA : 0.182456140351/1.0\",\"FATIGUE : 0.0315524162181/1.0\",\"ACUTE KIDNEY INJURY : 0.0167441860465/1.0\",\"BONE MARROW FAILURE : 0.106382978723/1.0\",\"PYREXIA : 0.0272097715252/1.0\",\"\",\"DRUG RESISTANCE : 0.292452830189/1.0\",\"SEPSIS : 0.0388420666911/1.0\",\"\",\"DYSPNOEA : 0.153846153846/1.0\",\"DRUG INEFFECTIVE : 0.031635168447/1.0\",\"DEATH : 0.0250999315784/1.0\",\"BLOOD CREATININE INCREASED : 0.0490758444869/1.0\",\"ASTHENIA : 0.0380047505938/0.9999999999999999\",\"VOMITING : 0.0300632911392/1.0\",\"MALAISE : 0.0271011164698/1.0\",\"FATIGUE : 0.0255795113825/1.0\",\"DIZZINESS : 0.25/1.0\",\"RESPIRATORY TRACT INFECTION : 0.0361635220126/1.0\",\"BLAST CRISIS IN MYELOGENOUS LEUKAEMIA : 0.139344262295/1.0\",\"CARDIAC DISORDER : 0.0373887240356/1.0\",\"DEATH : 0.0413816689466/0.9999999999999999\",\"ANAEMIA : 0.155172413793/1.0\",\"DRUG RESISTANCE : 0.0909090909091/0.9999999999999998\"],\"report_text3\":[\"\",\"URTICARIA : 0.0833333333333/1.0\",\"ASTHENIA : 0.0281943611278/1.0\",\"\",\"VIROLOGIC FAILURE : 0.333333333333/1.0\",\"FALL : 0.0242949319924/0.9999999999999999\",\"MYOCARDIAL INFARCTION : 0.0588235294118/1.0000000000000002\",\"DRUG INEFFECTIVE : 0.0189758037786/1.0\",\"PNEUMONIA : 0.0201221031647/1.0\",\"BLAST CRISIS IN MYELOGENOUS LEUKAEMIA : 0.0947368421053/1.0\",\"\",\"OVERDOSE : 0.14606741573/0.9999999999999999\",\"EXPOSURE DURING PREGNANCY : 0.054234769688/0.9999999999999998\",\"HEART RATE INCREASED : 0.190476190476/1.0\",\"DIZZINESS : 0.0616438356164/1.0\",\"DIARRHOEA : 0.0211591936044/0.9999999999999998\",\"\",\"MALIGNANT NEOPLASM PROGRESSION : 0.0574712643678/1.0\",\"DEATH : 0.0505050505051/1.0\",\"STILLBIRTH : 0.0836956521739/0.9999999999999999\",\"PAIN : 0.0252445650722/1.0\",\"\",\"ANAEMIA : 0.0188608072425/1.0\",\"VIRAL MUTATION IDENTIFIED : 0.14606741573/1.0\",\"\",\"FATIGUE : 0.0921052631579/0.9999999999999996\",\"PYREXIA : 0.0524781341108/0.9999999999999997\",\"FATIGUE : 0.0247812368365/1.0\",\"\",\"NAUSEA : 0.0218647901483/0.9999999999999999\",\"VOMITING : 0.0210336538462/1.0\",\"PYREXIA : 0.0234447909316/1.0\",\"GAIT DISTURBANCE : 0.0902255639098/1.0\",\"COMA : 0.0808510638298/1.0\",\"DRUG INEFFECTIVE : 0.0203915171289/1.0\",\"STILLBIRTH : 0.13829787234/1.0\",\"SOMNOLENCE : 0.0311936065996/0.9999999999999998\",\"HYPERGLYCAEMIA : 0.25/1.0\",\"PYREXIA : 0.0325203252033/0.9999999999999999\",\"DEATH : 0.0196040560116/0.9999999999999999\",\"DIZZINESS : 0.0224806536682/0.9999999999999999\",\"VOMITING : 0.0252808988764/1.0\",\"PYREXIA : 0.0203658957542/1.0\",\"ANAEMIA : 0.0310542797495/1.0\",\"PLATELET COUNT DECREASED : 0.0548780487805/1.0\",\"PYREXIA : 0.0321931589537/1.0\",\"DRUG RESISTANCE : 0.122605363985/1.0\",\"\",\"DYSPNOEA : 0.0224304582011/1.0\",\"DIARRHOEA : 0.0173191299506/1.0\",\"\",\"DEATH : 0.2/1.0\",\"\",\"PULMONARY TUBERCULOSIS : 0.0353697749196/1.0\",\"DYSPNOEA : 0.0197726451541/1.0\",\"PATHOGEN RESISTANCE : 0.0513833992095/1.0\",\"DRUG INEFFECTIVE : 0.0262759924386/1.0\",\"\",\"PAIN : 0.0225988700565/1.0\",\"\",\"\",\"MALAISE : 0.0282131661442/1.0\",\"OVERDOSE : 0.0160630841121/0.9999999999999999\",\"DYSPNOEA : 0.0240324293022/1.0\",\"CHOLANGITIS SCLEROSING : 0.0280112044818/0.9999999999999999\",\"MYOCARDIAL INFARCTION : 0.025889286466/1.0\",\"GENERAL PHYSICAL HEALTH DETERIORATION : 0.0326165740517/1.0\",\"APNOEA : 0.024645257655/1.0\",\"HEADACHE : 0.0261682242991/1.0\",\"MALAISE : 0.0242399815753/1.0\",\"DEATH : 0.0264016151576/1.0\",\"ASTHENIA : 0.023064839099/1.0\",\"CEREBROVASCULAR ACCIDENT : 0.0335820895522/1.0\",\"ANAEMIA : 0.0208959538643/0.9999999999999999\",\"SEPSIS : 0.0717299578059/1.0\",\"ASTHENIA : 0.0410022779043/0.9999999999999999\",\"FOETAL EXPOSURE DURING PREGNANCY : 0.0457516339869/1.0\",\"TOXICITY TO VARIOUS AGENTS : 0.0545454545455/1.0\",\"PNEUMONIA : 0.0280306660278/0.9999999999999999\",\"DYSPNOEA : 0.0326633165829/1.0\",\"CHEST PAIN : 0.166666666667/0.9999999999999999\",\"HYPOKALAEMIA : 0.333333333333/1.0\",\"DRUG INEFFECTIVE : 0.0347349177331/1.0\",\"FATIGUE : 0.0271172298707/1.0\",\"RESPIRATORY FAILURE : 0.111111111111/1.0\",\"\",\"INTENTIONAL OVERDOSE : 0.0313339301701/1.0000000000000002\",\"PNEUMONIA : 0.0359477124183/0.9999999999999997\",\"\",\"FOETAL EXPOSURE DURING PREGNANCY : 0.0708661417323/0.9999999999999998\",\"\",\"DEATH : 0.0810055865922/1.0000000000000002\",\"PYREXIA : 0.0181038589805/1.0\",\"\",\"\",\"CHRONIC OBSTRUCTIVE PULMONARY DISEASE : 0.0563909774436/1.0\",\"INFECTION : 0.235294117647/1.0\",\"HEADACHE : 0.0183637602668/0.9999999999999999\",\"HYPOTENSION : 0.238095238095/1.0\",\"SUSPECTED TRANSMISSION OF AN INFECTIOUS AGENT VIA PRODUCT : 0.2/1.0\",\"GASTROINTESTINAL DISORDER : 0.0851063829787/0.9999999999999999\",\"PYREXIA : 0.0239316239316/1.0\",\"FOETAL EXPOSURE DURING PREGNANCY : 0.333333333333/1.0\",\"\",\"NONINFECTIOUS PERITONITIS : 0.036036036036/1.0\",\"TERMINAL STATE : 0.0212915466236/0.9999999999999999\",\"DYSPNOEA : 0.0209772951629/1.0\",\"ANAESTHETIC COMPLICATION : 0.16/1.0\",\"FOOD INTERACTION : 0.16049382716/1.0\",\"HEADACHE : 0.0350631136045/1.0\",\"NAUSEA : 0.0195639664983/1.0\",\"HYPERTENSION : 0.0630372492837/1.0\",\"DYSPNOEA : 0.0225/0.9999999999999999\",\"ASTHENIA : 0.0276273022752/0.9999999999999998\",\"\",\"FOETAL EXPOSURE DURING PREGNANCY : 0.0593220338983/1.0\",\"PULMONARY FIBROSIS : 0.0234388079692/0.9999999999999999\",\"PNEUMONIA : 0.0385168611156/1.0\",\"DYSPNOEA : 0.0246808510638/1.0\",\"FATIGUE : 0.0187457005274/1.0\",\"DRUG INEFFECTIVE : 0.042079364078/1.0\",\"DRUG INEFFECTIVE : 0.0505836575875/1.0\",\"\",\"ANAEMIA : 0.0232980656193/0.9999999999999999\",\"NAUSEA : 0.0191424691198/1.0\",\"GOUTY ARTHRITIS : 0.157894736842/0.9999999999999999\",\"DEATH : 0.0319001386963/0.9999999999999998\",\"SKIN ATROPHY : 0.0929203539823/1.0\",\"DYSPNOEA : 0.0208178438662/0.9999999999999999\",\"RASH : 0.0401313389274/1.0\",\"ANAEMIA : 0.0195215837228/1.0000000000000002\",\"DEATH : 0.0165121013345/1.0\",\"PNEUMONIA : 0.0179065366138/0.9999999999999999\",\"PYREXIA : 0.0209281977108/1.0\",\"MYOPATHY : 0.0498084291188/1.0\",\"SUDDEN DEATH : 0.0877192982456/1.0\",\"NAUSEA : 0.0252668263995/1.0\",\"PYREXIA : 0.0164784053156/1.0\",\"DRUG INEFFECTIVE : 0.106382978723/1.0\",\"PNEUMONIA : 0.0230655979061/1.0\",\"\",\"VIROLOGIC FAILURE : 0.11320754717/1.0\",\"CARDIOVASCULAR DISORDER : 0.0291315500183/1.0\",\"\",\"NAUSEA : 0.0961538461538/1.0\",\"HYPOTENSION : 0.0234182415776/1.0\",\"DRUG INEFFECTIVE : 0.0244517267457/1.0\",\"ABORTION SPONTANEOUS : 0.0484384958572/1.0\",\"ANAEMIA : 0.0292953285827/0.9999999999999999\",\"DEATH : 0.0284810126582/1.0\",\"FATIGUE : 0.021887002818/1.0\",\"NAUSEA : 0.0250886775161/1.0\",\"MYALGIA : 0.25/1.0\",\"DIARRHOEA : 0.0353773584906/1.0\",\"MYOCARDIAL INFARCTION : 0.0737704918033/1.0\",\"MYOCARDIAL INFARCTION : 0.0352126607319/1.0\",\"CEREBROVASCULAR ACCIDENT : 0.0396716826265/0.9999999999999999\",\"DRUG INEFFECTIVE : 0.155172413793/1.0\",\"VIROLOGIC FAILURE : 0.0909090909091/0.9999999999999998\"],\"weight\":[-3.399108409881592,-3.8625550270080566,9.272290229797363,-3.8030741214752197,-14.874310493469238,-2.8160078525543213,-0.3448858857154846,4.7297749519348145,7.170507431030273,-0.5272971987724304,-5.143222332000732,-1.9073054790496826,-8.844254493713379,-4.553446292877197,-6.294957160949707,6.660531044006348,-4.877258777618408,0.7763487696647644,-3.672964096069336,-8.843316078186035,-1.5394004583358765,-5.863150596618652,4.9530253410339355,-14.19652271270752,-14.612598419189453,1.4404873847961426,-6.4336981773376465,1.4006778001785278,-14.825234413146973,-2.317432165145874,9.277732849121094,-2.330176830291748,-8.596409797668457,-8.628448486328125,-4.011624336242676,-8.90976333618164,7.557156562805176,-3.409320116043091,-6.067768096923828,5.822152137756348,7.8359293937683105,-3.657902956008911,-4.022152423858643,9.582324028015137,0.7213460206985474,1.1571190357208252,-13.690557479858398,-1.7328119277954102,6.349813938140869,9.533089637756348,-6.073996543884277,-13.038483619689941,-2.612377643585205,-6.501282215118408,7.6710615158081055,-9.345447540283203,7.157787799835205,-3.591862440109253,-2.9577088356018066,-5.672914505004883,-1.0966957807540894,-4.892801284790039,10.02591609954834,6.080031871795654,-1.7679818868637085,7.390997409820557,6.875842571258545,2.8106369972229004,-0.3775835335254669,4.275703430175781,4.27415657043457,7.82172966003418,-1.8661566972732544,9.564974784851074,-2.7653732299804688,3.692366123199463,-11.283358573913574,-0.19034479558467865,8.498504638671875,-2.8575851917266846,-5.305131435394287,0.5218026638031006,1.9444046020507812,-0.011823458597064018,-12.969563484191895,-2.870389699935913,5.723047733306885,0.450886994600296,-5.94330358505249,-4.6314778327941895,-4.912100791931152,-11.275843620300293,6.690267086029053,-4.986532688140869,-8.629622459411621,-3.900491952896118,-7.534217834472656,-2.7331409454345703,-2.679157257080078,-7.276562690734863,-0.8835041522979736,8.786432266235352,-2.678311586380005,-6.715585231781006,-5.7834248542785645,6.415356636047363,5.178370475769043,-4.012979984283447,-3.2961649894714355,-0.9805706739425659,8.680377960205078,-5.073525428771973,9.535494804382324,-1.9613488912582397,-6.6887593269348145,-0.0031299199908971786,-3.443319082260132,6.735289096832275,7.848594665527344,9.109048843383789,0.16828052699565887,-0.6943914294242859,-4.1576924324035645,8.994855880737305,4.518215179443359,-5.772757530212402,2.4814257621765137,-7.9047441482543945,5.346588611602783,6.332674503326416,5.720220565795898,6.811855792999268,2.921961545944214,8.802437782287598,-1.9904173612594604,-8.127578735351562,8.403767585754395,9.312215805053711,-1.6762927770614624,8.446188926696777,-6.072909832000732,-14.837668418884277,6.914483070373535,-5.417872428894043,-4.271155834197998,8.906468391418457,8.644340515136719,-10.485492706298828,4.145018100738525,0.858582615852356,5.455820083618164,0.9560281038284302,-1.7843654155731201,-0.20907092094421387,-0.5439332127571106,-4.2786383628845215,6.555007457733154,-0.8229857683181763,-13.263026237487793]},\"selected\":{\"id\":\"22fc680f-6bf3-4b61-a630-3e0564a9950b\",\"type\":\"Selection\"},\"selection_policy\":{\"id\":\"0847663b-5994-4acf-ab22-0c6836c5f5a5\",\"type\":\"UnionRenderers\"}},\"id\":\"88513d9b-0eab-4788-9c75-f86110e2f6d7\",\"type\":\"ColumnDataSource\"},{\"attributes\":{},\"id\":\"22fc680f-6bf3-4b61-a630-3e0564a9950b\",\"type\":\"Selection\"},{\"attributes\":{},\"id\":\"e7529861-2f5b-406a-95f4-80a37270dd48\",\"type\":\"BasicTickFormatter\"},{\"attributes\":{\"axis_label\":\"Comp1\",\"formatter\":{\"id\":\"e7529861-2f5b-406a-95f4-80a37270dd48\",\"type\":\"BasicTickFormatter\"},\"plot\":{\"id\":\"48894f2b-bbfc-4556-a8c7-e852631225e4\",\"subtype\":\"Figure\",\"type\":\"Plot\"},\"ticker\":{\"id\":\"79f068d5-78cc-4734-9f8f-b4d3f267cb6b\",\"type\":\"BasicTicker\"}},\"id\":\"83182e98-0a00-45be-8bfa-fb5d049db5b3\",\"type\":\"LinearAxis\"},{\"attributes\":{\"fill_alpha\":{\"value\":0.1},\"fill_color\":{\"value\":\"#1f77b4\"},\"line_alpha\":{\"value\":0.1},\"line_color\":{\"value\":\"#1f77b4\"},\"size\":{\"units\":\"screen\",\"value\":5},\"x\":{\"field\":\"height\"},\"y\":{\"field\":\"weight\"}},\"id\":\"1af0663f-30d5-4fa3-86fd-8238f9044db9\",\"type\":\"Circle\"},{\"attributes\":{},\"id\":\"dbc84f3b-2b5d-4bdb-b3e9-5c68f550afb0\",\"type\":\"HelpTool\"},{\"attributes\":{\"active_drag\":\"auto\",\"active_inspect\":\"auto\",\"active_multi\":null,\"active_scroll\":\"auto\",\"active_tap\":\"auto\",\"tools\":[{\"id\":\"37c3dd20-285e-4158-9198-bb62bb1485d8\",\"type\":\"PanTool\"},{\"id\":\"f57b6e00-078a-4e8a-bb90-0471a0d5f9b0\",\"type\":\"WheelZoomTool\"},{\"id\":\"5e5d41c5-0be7-46ad-88ac-21a7b0e1ad2e\",\"type\":\"BoxZoomTool\"},{\"id\":\"2b8d900f-a2ff-4b35-b68f-a35d588521d1\",\"type\":\"SaveTool\"},{\"id\":\"62619c75-7f80-4283-93f7-d09b99148628\",\"type\":\"ResetTool\"},{\"id\":\"dbc84f3b-2b5d-4bdb-b3e9-5c68f550afb0\",\"type\":\"HelpTool\"},{\"id\":\"156a37e4-0375-487e-8592-2b20e1083d6d\",\"type\":\"HoverTool\"}]},\"id\":\"7ad692bd-16cc-40ed-8dce-c57395572295\",\"type\":\"Toolbar\"},{\"attributes\":{\"plot\":{\"id\":\"48894f2b-bbfc-4556-a8c7-e852631225e4\",\"subtype\":\"Figure\",\"type\":\"Plot\"},\"ticker\":{\"id\":\"79f068d5-78cc-4734-9f8f-b4d3f267cb6b\",\"type\":\"BasicTicker\"}},\"id\":\"09a6af48-f5ae-4995-9d1e-c489597b13b2\",\"type\":\"Grid\"},{\"attributes\":{\"callback\":null},\"id\":\"36f900a8-64bb-4fe6-afc6-f3b6661167d3\",\"type\":\"DataRange1d\"},{\"attributes\":{},\"id\":\"fd8ec11c-597f-4984-ba78-c697dd8ac1d1\",\"type\":\"BasicTickFormatter\"}],\"root_ids\":[\"48894f2b-bbfc-4556-a8c7-e852631225e4\"]},\"title\":\"Bokeh Application\",\"version\":\"0.13.0\"}};\n",
       "  var render_items = [{\"docid\":\"37f39039-98e6-4ea5-bd1d-2425a3d54f6e\",\"roots\":{\"48894f2b-bbfc-4556-a8c7-e852631225e4\":\"e6cc22b3-7a4b-4a38-9272-38650d8b4c80\"}}];\n",
       "  root.Bokeh.embed.embed_items_notebook(docs_json, render_items);\n",
       "\n",
       "  }\n",
       "  if (root.Bokeh !== undefined) {\n",
       "    embed_document(root);\n",
       "  } else {\n",
       "    var attempts = 0;\n",
       "    var timer = setInterval(function(root) {\n",
       "      if (root.Bokeh !== undefined) {\n",
       "        embed_document(root);\n",
       "        clearInterval(timer);\n",
       "      }\n",
       "      attempts++;\n",
       "      if (attempts > 100) {\n",
       "        console.log(\"Bokeh: ERROR: Unable to run BokehJS code because BokehJS library is missing\")\n",
       "        clearInterval(timer);\n",
       "      }\n",
       "    }, 10, root)\n",
       "  }\n",
       "})(window);"
      ],
      "application/vnd.bokehjs_exec.v0+json": ""
     },
     "metadata": {
      "application/vnd.bokehjs_exec.v0+json": {
       "id": "48894f2b-bbfc-4556-a8c7-e852631225e4"
      }
     },
     "output_type": "display_data"
    }
   ],
   "source": [
    "\n",
    "show_country_similarity(score_matrices['tfidf'],countries)"
   ]
  },
  {
   "cell_type": "markdown",
   "metadata": {},
   "source": [
    "As we can notice in the figure there is fairly distinguish clustering of the data accoding to the contenient.\n",
    "\n",
    "Intersting observations:\n",
    "    \n",
    "1- The geographical distance between the countries is fairly refected in the distance in the visualisation \n",
    "(ex. Nordic counties, noth and south american, East and west Asian countries, North African).\n",
    "\n",
    "2- Australia and NewZealand are well fit into the Europian cluster.\n",
    "\n",
    "3- South Africa is placed between the Europian cluster and the America cluster.\n",
    "\n",
    "4- North of Africa countries fit close to the Europian cluster.\n",
    "\n",
    "5- An isolated small group of 6 mix countries are also isolated with one event reported (DEATH).\n",
    "\n",
    "6- In middle mix area where it is hard to find a predicted pattern in the cluster.\n",
    "\n",
    "We can a simplistic and primitive explaination for the observation as:\n",
    "\n",
    "1- The genetic information plays a considerable role in deciding the events observed.\n",
    "\n",
    "2- The geographical position plays a role in which deseases are more likely to appeares in certain area, and as a result, \n",
    "certain drugs are more consumed which associated with certain adverse events.\n",
    "\n",
    "3- The healthcare system in the certain areas in the world is more advance comparing with others and that could reflect as different reporting.\n"
   ]
  },
  {
   "cell_type": "markdown",
   "metadata": {},
   "source": [
    "To check if any more observation we can extract from the other models, \n",
    "we will mention only the different observations from the other graphs if found."
   ]
  },
  {
   "cell_type": "code",
   "execution_count": 136,
   "metadata": {},
   "outputs": [
    {
     "data": {
      "text/html": [
       "\n",
       "\n",
       "\n",
       "\n",
       "\n",
       "\n",
       "  <div class=\"bk-root\" id=\"00b7090b-46f7-4f3b-b6da-2d1ebe74d071\"></div>\n"
      ]
     },
     "metadata": {},
     "output_type": "display_data"
    },
    {
     "data": {
      "application/javascript": [
       "(function(root) {\n",
       "  function embed_document(root) {\n",
       "    \n",
       "  var docs_json = {\"bf18a33e-fe5b-4065-8e50-09fd212aec52\":{\"roots\":{\"references\":[{\"attributes\":{},\"id\":\"6ca4aa2a-9906-4a1f-a73e-d08da854ed3d\",\"type\":\"Selection\"},{\"attributes\":{},\"id\":\"a6b95d77-0a06-4823-85d2-2baec6aecc85\",\"type\":\"PanTool\"},{\"attributes\":{\"source\":{\"id\":\"67d67ba3-997e-4181-9678-dfc309f703cd\",\"type\":\"ColumnDataSource\"}},\"id\":\"7650b0ba-7b5b-4cf1-9d9c-f87c2023857b\",\"type\":\"CDSView\"},{\"attributes\":{\"dimension\":1,\"plot\":{\"id\":\"fb37cfea-6061-4516-8ecb-8f2211e842bb\",\"subtype\":\"Figure\",\"type\":\"Plot\"},\"ticker\":{\"id\":\"a27c03a4-a2e1-4c1b-8c88-d3cf4e0d7136\",\"type\":\"BasicTicker\"}},\"id\":\"eb6c89f5-3cba-4643-ac13-211d198b2904\",\"type\":\"Grid\"},{\"attributes\":{},\"id\":\"8b9b9f06-f66f-410a-a098-dac3a03b7eab\",\"type\":\"BasicTickFormatter\"},{\"attributes\":{\"plot\":null,\"text\":\"countries\"},\"id\":\"72c9068a-7cb7-441a-b21c-c3d4a6212996\",\"type\":\"Title\"},{\"attributes\":{\"plot\":{\"id\":\"fb37cfea-6061-4516-8ecb-8f2211e842bb\",\"subtype\":\"Figure\",\"type\":\"Plot\"},\"ticker\":{\"id\":\"2cc861f3-9178-46ac-a9e4-afad33d7ee18\",\"type\":\"BasicTicker\"}},\"id\":\"e539f908-ee34-4c0c-bb1e-fdbe17a24e1b\",\"type\":\"Grid\"},{\"attributes\":{},\"id\":\"3e5ec440-0c0c-4a70-8d50-dadfd1cee11f\",\"type\":\"WheelZoomTool\"},{\"attributes\":{\"callback\":null},\"id\":\"1afcd1ad-a4cd-4792-ab9c-e939ed4be7fb\",\"type\":\"DataRange1d\"},{\"attributes\":{\"items\":[{\"id\":\"07756848-e833-4fab-b655-c2c554984692\",\"type\":\"LegendItem\"}],\"plot\":{\"id\":\"fb37cfea-6061-4516-8ecb-8f2211e842bb\",\"subtype\":\"Figure\",\"type\":\"Plot\"}},\"id\":\"80349a71-31a9-4854-9262-4174b8acadc5\",\"type\":\"Legend\"},{\"attributes\":{},\"id\":\"12913a75-65ff-47f7-b27d-64c179f62ebe\",\"type\":\"SaveTool\"},{\"attributes\":{\"fill_alpha\":{\"value\":0.1},\"fill_color\":{\"value\":\"#1f77b4\"},\"line_alpha\":{\"value\":0.1},\"line_color\":{\"value\":\"#1f77b4\"},\"size\":{\"units\":\"screen\",\"value\":5},\"x\":{\"field\":\"height\"},\"y\":{\"field\":\"weight\"}},\"id\":\"006ec1c4-acc0-46ba-8246-6b1d76f74262\",\"type\":\"Circle\"},{\"attributes\":{},\"id\":\"9ffaaaf2-2d2d-46be-b2f9-0466406b74be\",\"type\":\"HelpTool\"},{\"attributes\":{},\"id\":\"2cc861f3-9178-46ac-a9e4-afad33d7ee18\",\"type\":\"BasicTicker\"},{\"attributes\":{},\"id\":\"9dc77d52-7326-4872-9f51-36601e5c2ab0\",\"type\":\"LinearScale\"},{\"attributes\":{},\"id\":\"9f298be1-f940-4cf8-aefa-28a22b8a6bc2\",\"type\":\"BasicTickFormatter\"},{\"attributes\":{},\"id\":\"9f2d7551-d43b-41e5-bafc-6a1f149b654b\",\"type\":\"UnionRenderers\"},{\"attributes\":{},\"id\":\"3382381a-784c-488e-9ebd-d20f81972c4c\",\"type\":\"LinearScale\"},{\"attributes\":{\"callback\":null,\"data\":{\"codes\":[\"AF\",\"AL\",\"DZ\",\"AD\",\"AO\",\"AR\",\"AM\",\"AU\",\"AT\",\"AZ\",\"BS\",\"BH\",\"BD\",\"BB\",\"BY\",\"BE\",\"BJ\",\"BO\",\"BA\",\"BW\",\"BR\",\"BN\",\"BG\",\"BF\",\"BI\",\"KH\",\"CM\",\"CA\",\"TD\",\"CL\",\"CN\",\"CO\",\"CG\",\"CD\",\"CR\",\"CI\",\"HR\",\"CU\",\"CY\",\"CZ\",\"DK\",\"DO\",\"EC\",\"EG\",\"SV\",\"EE\",\"ET\",\"FO\",\"FI\",\"FR\",\"GF\",\"GA\",\"GM\",\"GE\",\"DE\",\"GH\",\"GR\",\"GD\",\"GT\",\"GW\",\"HT\",\"HN\",\"HK\",\"HU\",\"IS\",\"IN\",\"ID\",\"IR\",\"IQ\",\"IE\",\"IL\",\"IT\",\"JM\",\"JP\",\"JO\",\"KZ\",\"KE\",\"KP\",\"KR\",\"KW\",\"KG\",\"LA\",\"LV\",\"LB\",\"LS\",\"LY\",\"LT\",\"LU\",\"MO\",\"MK\",\"MG\",\"MW\",\"MY\",\"MV\",\"ML\",\"MT\",\"MU\",\"MX\",\"MD\",\"MN\",\"ME\",\"MA\",\"MZ\",\"MM\",\"NP\",\"NL\",\"NZ\",\"NI\",\"NE\",\"NG\",\"NO\",\"OM\",\"PK\",\"PA\",\"PG\",\"PY\",\"PE\",\"PH\",\"PL\",\"PT\",\"PR\",\"QA\",\"RE\",\"RO\",\"RU\",\"RW\",\"SA\",\"SN\",\"RS\",\"SG\",\"SK\",\"SI\",\"ZA\",\"ES\",\"LK\",\"SD\",\"SE\",\"CH\",\"SY\",\"TW\",\"TJ\",\"TZ\",\"TH\",\"TG\",\"TT\",\"TN\",\"TR\",\"UG\",\"UA\",\"AE\",\"GB\",\"US\",\"UM\",\"UY\",\"UZ\",\"VE\",\"VN\",\"ZM\",\"ZW\"],\"colors\":[\"#444444\",\"#1f78b4\",\"#33a02c\",\"#1f78b4\",\"#33a02c\",\"#e31a1c\",\"#444444\",\"#fb9a99\",\"#1f78b4\",\"#444444\",\"#e31a1c\",\"#444444\",\"#444444\",\"#e31a1c\",\"#1f78b4\",\"#1f78b4\",\"#33a02c\",\"#e31a1c\",\"#1f78b4\",\"#33a02c\",\"#e31a1c\",\"#444444\",\"#1f78b4\",\"#33a02c\",\"#33a02c\",\"#444444\",\"#33a02c\",\"#e31a1c\",\"#33a02c\",\"#e31a1c\",\"#444444\",\"#e31a1c\",\"#33a02c\",\"#33a02c\",\"#e31a1c\",\"#33a02c\",\"#1f78b4\",\"#e31a1c\",\"#444444\",\"#1f78b4\",\"#1f78b4\",\"#e31a1c\",\"#e31a1c\",\"#33a02c\",\"#e31a1c\",\"#1f78b4\",\"#33a02c\",\"#1f78b4\",\"#1f78b4\",\"#1f78b4\",\"#e31a1c\",\"#33a02c\",\"#33a02c\",\"#444444\",\"#1f78b4\",\"#33a02c\",\"#1f78b4\",\"#e31a1c\",\"#e31a1c\",\"#33a02c\",\"#e31a1c\",\"#e31a1c\",\"#444444\",\"#1f78b4\",\"#1f78b4\",\"#444444\",\"#444444\",\"#444444\",\"#444444\",\"#1f78b4\",\"#444444\",\"#1f78b4\",\"#e31a1c\",\"#444444\",\"#444444\",\"#444444\",\"#33a02c\",\"#444444\",\"#444444\",\"#444444\",\"#444444\",\"#444444\",\"#1f78b4\",\"#444444\",\"#33a02c\",\"#33a02c\",\"#1f78b4\",\"#1f78b4\",\"#444444\",\"#1f78b4\",\"#33a02c\",\"#33a02c\",\"#444444\",\"#444444\",\"#33a02c\",\"#1f78b4\",\"#33a02c\",\"#e31a1c\",\"#1f78b4\",\"#444444\",\"#1f78b4\",\"#33a02c\",\"#33a02c\",\"#444444\",\"#444444\",\"#1f78b4\",\"#fb9a99\",\"#e31a1c\",\"#33a02c\",\"#33a02c\",\"#1f78b4\",\"#444444\",\"#444444\",\"#e31a1c\",\"#fb9a99\",\"#e31a1c\",\"#e31a1c\",\"#444444\",\"#1f78b4\",\"#1f78b4\",\"#e31a1c\",\"#444444\",\"#33a02c\",\"#1f78b4\",\"#1f78b4\",\"#33a02c\",\"#444444\",\"#33a02c\",\"#1f78b4\",\"#444444\",\"#1f78b4\",\"#1f78b4\",\"#33a02c\",\"#1f78b4\",\"#444444\",\"#33a02c\",\"#1f78b4\",\"#1f78b4\",\"#444444\",\"#444444\",\"#444444\",\"#33a02c\",\"#444444\",\"#33a02c\",\"#e31a1c\",\"#33a02c\",\"#444444\",\"#33a02c\",\"#1f78b4\",\"#444444\",\"#1f78b4\",\"#e31a1c\",\"#fb9a99\",\"#e31a1c\",\"#444444\",\"#e31a1c\",\"#444444\",\"#33a02c\",\"#33a02c\"],\"height\":[1.834522008895874,-9.687636375427246,9.429609298706055,2.706796169281006,1.6050670146942139,6.577717304229736,-9.894720077514648,8.837636947631836,10.555548667907715,-12.651383399963379,-13.416109085083008,3.7550241947174072,-11.911693572998047,-14.142683029174805,4.282381534576416,11.620709419250488,-13.008854866027832,-9.217529296875,5.206287860870361,0.618240475654602,8.000877380371094,-13.88378620147705,9.653369903564453,1.1192750930786133,1.1890969276428223,2.4963326454162598,-7.443985939025879,8.147448539733887,1.6038860082626343,7.579500198364258,3.582817316055298,7.605637550354004,1.9168481826782227,1.9113208055496216,6.760818004608154,-1.0091239213943481,9.933075904846191,2.3186283111572266,9.547861099243164,10.854954719543457,12.813634872436523,6.113480567932129,7.241095542907715,4.706954479217529,-9.31630802154541,10.675167083740234,-13.082672119140625,2.9519004821777344,13.312605857849121,12.05811882019043,2.2447869777679443,0.14326098561286926,0.7725070714950562,-10.863360404968262,12.093849182128906,-8.85271167755127,9.159056663513184,1.834348440170288,5.432760238647461,-13.442094802856445,0.7126740217208862,-11.2513427734375,-11.440278053283691,9.914420127868652,5.098643779754639,-10.041006088256836,-10.447318077087402,9.219042778015137,8.043116569519043,8.582984924316406,8.89139175415039,10.682332038879395,-9.657051086425781,10.281038284301758,5.012176990509033,6.729546546936035,-12.490352630615234,5.079586505889893,8.700956344604492,7.981687068939209,-12.82334041595459,3.191396474838257,7.7402544021606445,9.253597259521484,0.05518050864338875,2.561525344848633,9.8692045211792,11.889466285705566,-13.41610336303711,3.2573790550231934,-12.39341926574707,-1.4005327224731445,-7.645607948303223,-13.89876651763916,1.9156476259231567,4.7804059982299805,-14.561015129089355,5.676799774169922,3.169971227645874,1.7636815309524536,5.372148036956787,4.738992214202881,0.5310811996459961,2.3197689056396484,-12.597729682922363,-11.306381225585938,8.954736709594727,-1.617368221282959,0.2008954882621765,-11.270973205566406,12.78864860534668,3.812359571456909,-11.262004852294922,7.555435657501221,-14.112278938293457,-6.581340312957764,-9.606114387512207,-7.381669521331787,9.335943222045898,11.234420776367188,7.8769073486328125,1.3503484725952148,2.113948106765747,9.743489265441895,7.071554660797119,-13.922806739807129,8.324562072753906,-13.558499336242676,10.696389198303223,3.2889130115509033,9.5708589553833,11.588166236877441,-10.019784927368164,10.598166465759277,-10.454492568969727,-12.654335975646973,12.904480934143066,11.30776596069336,3.2740542888641357,-8.366853713989258,-13.450085639953613,0.8058671951293945,-9.853812217712402,-13.898326873779297,-10.02194595336914,8.053364753723145,10.166876792907715,-1.5365287065505981,7.179452896118164,8.382942199707031,8.370180130004883,8.008331298828125,2.6190850734710693,4.216233253479004,-11.08022403717041,-11.250199317932129,7.8346734046936035,-12.442684173583984,-0.6884180903434753],\"label\":[\"Asia\",\"Europe\",\"Africa\",\"Europe\",\"Africa\",\"Americas\",\"Asia\",\"Oceania\",\"Europe\",\"Asia\",\"Americas\",\"Asia\",\"Asia\",\"Americas\",\"Europe\",\"Europe\",\"Africa\",\"Americas\",\"Europe\",\"Africa\",\"Americas\",\"Asia\",\"Europe\",\"Africa\",\"Africa\",\"Asia\",\"Africa\",\"Americas\",\"Africa\",\"Americas\",\"Asia\",\"Americas\",\"Africa\",\"Africa\",\"Americas\",\"Africa\",\"Europe\",\"Americas\",\"Asia\",\"Europe\",\"Europe\",\"Americas\",\"Americas\",\"Africa\",\"Americas\",\"Europe\",\"Africa\",\"Europe\",\"Europe\",\"Europe\",\"Americas\",\"Africa\",\"Africa\",\"Asia\",\"Europe\",\"Africa\",\"Europe\",\"Americas\",\"Americas\",\"Africa\",\"Americas\",\"Americas\",\"Asia\",\"Europe\",\"Europe\",\"Asia\",\"Asia\",\"Asia\",\"Asia\",\"Europe\",\"Asia\",\"Europe\",\"Americas\",\"Asia\",\"Asia\",\"Asia\",\"Africa\",\"Asia\",\"Asia\",\"Asia\",\"Asia\",\"Asia\",\"Europe\",\"Asia\",\"Africa\",\"Africa\",\"Europe\",\"Europe\",\"Asia\",\"Europe\",\"Africa\",\"Africa\",\"Asia\",\"Asia\",\"Africa\",\"Europe\",\"Africa\",\"Americas\",\"Europe\",\"Asia\",\"Europe\",\"Africa\",\"Africa\",\"Asia\",\"Asia\",\"Europe\",\"Oceania\",\"Americas\",\"Africa\",\"Africa\",\"Europe\",\"Asia\",\"Asia\",\"Americas\",\"Oceania\",\"Americas\",\"Americas\",\"Asia\",\"Europe\",\"Europe\",\"Americas\",\"Asia\",\"Africa\",\"Europe\",\"Europe\",\"Africa\",\"Asia\",\"Africa\",\"Europe\",\"Asia\",\"Europe\",\"Europe\",\"Africa\",\"Europe\",\"Asia\",\"Africa\",\"Europe\",\"Europe\",\"Asia\",\"Asia\",\"Asia\",\"Africa\",\"Asia\",\"Africa\",\"Americas\",\"Africa\",\"Asia\",\"Africa\",\"Europe\",\"Asia\",\"Europe\",\"Americas\",\"Oceania\",\"Americas\",\"Asia\",\"Americas\",\"Asia\",\"Africa\",\"Africa\"],\"names\":[\"Afghanistan\",\"Albania\",\"Algeria\",\"Andorra\",\"Angola\",\"Argentina\",\"Armenia\",\"Australia\",\"Austria\",\"Azerbaijan\",\"Bahamas\",\"Bahrain\",\"Bangladesh\",\"Barbados\",\"Belarus\",\"Belgium\",\"Benin\",\"Bolivia (Plurinational State of)\",\"Bosnia and Herzegovina\",\"Botswana\",\"Brazil\",\"Brunei Darussalam\",\"Bulgaria\",\"Burkina Faso\",\"Burundi\",\"Cambodia\",\"Cameroon\",\"Canada\",\"Chad\",\"Chile\",\"China\",\"Colombia\",\"Congo\",\"Congo (Democratic Republic of the)\",\"Costa Rica\",\"C\\u00f4te d'Ivoire\",\"Croatia\",\"Cuba\",\"Cyprus\",\"Czechia\",\"Denmark\",\"Dominican Republic\",\"Ecuador\",\"Egypt\",\"El Salvador\",\"Estonia\",\"Ethiopia\",\"Faroe Islands\",\"Finland\",\"France\",\"French Guiana\",\"Gabon\",\"Gambia\",\"Georgia\",\"Germany\",\"Ghana\",\"Greece\",\"Grenada\",\"Guatemala\",\"Guinea-Bissau\",\"Haiti\",\"Honduras\",\"Hong Kong\",\"Hungary\",\"Iceland\",\"India\",\"Indonesia\",\"Iran (Islamic Republic of)\",\"Iraq\",\"Ireland\",\"Israel\",\"Italy\",\"Jamaica\",\"Japan\",\"Jordan\",\"Kazakhstan\",\"Kenya\",\"Korea (Democratic People's Republic of)\",\"Korea (Republic of)\",\"Kuwait\",\"Kyrgyzstan\",\"Lao People's Democratic Republic\",\"Latvia\",\"Lebanon\",\"Lesotho\",\"Libya\",\"Lithuania\",\"Luxembourg\",\"Macao\",\"Macedonia (the former Yugoslav Republic of)\",\"Madagascar\",\"Malawi\",\"Malaysia\",\"Maldives\",\"Mali\",\"Malta\",\"Mauritius\",\"Mexico\",\"Moldova (Republic of)\",\"Mongolia\",\"Montenegro\",\"Morocco\",\"Mozambique\",\"Myanmar\",\"Nepal\",\"Netherlands\",\"New Zealand\",\"Nicaragua\",\"Niger\",\"Nigeria\",\"Norway\",\"Oman\",\"Pakistan\",\"Panama\",\"Papua New Guinea\",\"Paraguay\",\"Peru\",\"Philippines\",\"Poland\",\"Portugal\",\"Puerto Rico\",\"Qatar\",\"R\\u00e9union\",\"Romania\",\"Russian Federation\",\"Rwanda\",\"Saudi Arabia\",\"Senegal\",\"Serbia\",\"Singapore\",\"Slovakia\",\"Slovenia\",\"South Africa\",\"Spain\",\"Sri Lanka\",\"Sudan\",\"Sweden\",\"Switzerland\",\"Syrian Arab Republic\",\"Taiwan, Province of China\",\"Tajikistan\",\"Tanzania, United Republic of\",\"Thailand\",\"Togo\",\"Trinidad and Tobago\",\"Tunisia\",\"Turkey\",\"Uganda\",\"Ukraine\",\"United Arab Emirates\",\"United Kingdom of Great Britain and Northern Ireland\",\"United States of America\",\"United States Minor Outlying Islands\",\"Uruguay\",\"Uzbekistan\",\"Venezuela (Bolivarian Republic of)\",\"Viet Nam\",\"Zambia\",\"Zimbabwe\"],\"report_count\":[55.0,55.0,55.0,55.0,55.0,55.0,55.0,55.0,55.0,55.0,55.0,55.0,55.0,55.0,55.0,55.0,55.0,55.0,55.0,55.0,55.0,55.0,55.0,55.0,55.0,55.0,55.0,55.0,55.0,55.0,55.0,55.0,55.0,55.0,55.0,55.0,55.0,55.0,55.0,55.0,55.0,55.0,55.0,55.0,55.0,55.0,55.0,55.0,55.0,55.0,55.0,55.0,55.0,55.0,55.0,55.0,55.0,55.0,55.0,55.0,55.0,55.0,55.0,55.0,55.0,55.0,55.0,55.0,55.0,55.0,55.0,55.0,55.0,55.0,55.0,55.0,55.0,55.0,55.0,55.0,55.0,55.0,55.0,55.0,55.0,55.0,55.0,55.0,55.0,55.0,55.0,55.0,55.0,55.0,55.0,55.0,55.0,55.0,55.0,55.0,55.0,55.0,55.0,55.0,55.0,55.0,55.0,55.0,55.0,55.0,55.0,55.0,55.0,55.0,55.0,55.0,55.0,55.0,55.0,55.0,55.0,55.0,55.0,55.0,55.0,55.0,55.0,55.0,55.0,55.0,55.0,55.0,55.0,55.0,55.0,55.0,55.0,55.0,55.0,55.0,55.0,55.0,55.0,55.0,55.0,55.0,55.0,55.0,55.0,55.0,55.0,55.0,55.0,55.0,55.0,55.0,55.0,55.0,55.0],\"report_text1\":[\"BENIGN UTERINE NEOPLASM : 1.0/1.0\",\"DEATH : 0.166666666667/1.0\",\"DEATH : 0.0407918416317/1.0\",\"ERYTHEMA : 1.0/1.0\",\"GENOTYPE DRUG RESISTANCE TEST POSITIVE : 0.333333333333/1.0\",\"DEATH : 0.056647784072/0.9999999999999999\",\"DEATH : 0.252100840336/1.0000000000000002\",\"DEATH : 0.0519555850182/1.0\",\"DEATH : 0.0404933964615/1.0\",\"DEATH : 0.378947368421/1.0\",\"DEATH : 1.0/1.0\",\"METABOLIC ACIDOSIS : 0.157303370787/0.9999999999999999\",\"DEATH : 0.147102526003/0.9999999999999998\",\"DEATH : 0.380952380952/1.0\",\"NEPHROPATHY : 0.0958904109589/1.0\",\"DEATH : 0.0346715328467/0.9999999999999998\",\"DEATH : 0.733333333333/1.0\",\"DEATH : 0.195402298851/1.0\",\"PULMONARY EMBOLISM : 0.0959595959596/1.0\",\"FOETAL EXPOSURE DURING PREGNANCY : 0.338043478261/0.9999999999999999\",\"DRUG INEFFECTIVE : 0.0289257302224/1.0\",\"DEATH : 0.6/1.0\",\"DEATH : 0.0313089400226/1.0\",\"VIROLOGIC FAILURE : 0.370786516854/1.0\",\"VIROLOGIC FAILURE : 0.52380952381/1.0\",\"PYREXIA : 0.105263157895/0.9999999999999996\",\"DEATH : 0.125364431487/0.9999999999999997\",\"DRUG INEFFECTIVE : 0.0366790917255/1.0\",\"VIROLOGIC FAILURE : 1.0/1.0\",\"DEATH : 0.0525257602413/0.9999999999999999\",\"DEATH : 0.0739340840081/1.0\",\"DEATH : 0.0500762524754/1.0\",\"ASTHENIA : 0.135338345865/1.0\",\"ASTHENIA : 0.144680851064/1.0\",\"DEATH : 0.0595432300163/1.0\",\"ABORTION SPONTANEOUS : 0.329787234043/1.0\",\"SUICIDE ATTEMPT : 0.0582624387729/0.9999999999999998\",\"DEVICE FAILURE : 0.25/1.0\",\"LOSS OF CONSCIOUSNESS : 0.0406504065041/0.9999999999999999\",\"DIARRHOEA : 0.0211492032834/0.9999999999999999\",\"FATIGUE : 0.0242963987722/0.9999999999999999\",\"DEATH : 0.0884831460674/1.0\",\"DEATH : 0.0562651018295/1.0\",\"DEATH : 0.0514091858038/1.0\",\"DEATH : 0.189024390244/1.0\",\"NAUSEA : 0.0382293762575/1.0\",\"DEATH : 0.39846743295/1.0\",\"RHABDOMYOLYSIS : 1.0/1.0\",\"FATIGUE : 0.0247915590644/1.0\",\"FATIGUE : 0.0263123932995/1.0\",\"PARADOXICAL DRUG REACTION : 0.636363636364/1.0\",\"DRUG RESISTANCE : 0.4/1.0\",\"FOETAL EXPOSURE DURING PREGNANCY : 0.5/1.0\",\"DEATH : 0.20578778135/1.0\",\"DEATH : 0.0203841129548/1.0\",\"DEATH : 0.102766798419/1.0\",\"DEATH : 0.0346565847511/1.0\",\"PNEUMOCEPHALUS : 1.0/1.0\",\"DEATH : 0.104519774011/1.0\",\"DEATH : 1.0/1.0\",\"ANAEMIA : 0.583333333333/1.0\",\"DEATH : 0.213166144201/1.0\",\"DEATH : 0.308703271028/0.9999999999999999\",\"DEATH : 0.0392819225943/1.0\",\"DRUG-INDUCED LIVER INJURY : 0.0532212885154/0.9999999999999999\",\"DEATH : 0.169618426196/1.0\",\"DEATH : 0.231940082145/1.0\",\"TOXICITY TO VARIOUS AGENTS : 0.0654717450834/1.0\",\"FATIGUE : 0.0364485981308/1.0\",\"DEATH : 0.0607438968217/1.0\",\"ASTHENIA : 0.0308018843506/1.0\",\"DRUG ABUSE : 0.0367378860714/1.0\",\"ANAESTHETIC COMPLICATION NEUROLOGICAL : 0.208955223881/1.0\",\"PYREXIA : 0.0277896172534/0.9999999999999999\",\"DRUG ABUSE : 0.0801687763713/1.0\",\"DRUG INEFFECTIVE : 0.0592255125285/0.9999999999999999\",\"DEATH : 0.156862745098/1.0\",\"DISEASE PROGRESSION : 0.0863636363636/1.0\",\"NEUTROPENIA : 0.0365596550072/0.9999999999999999\",\"DRUG INEFFECTIVE : 0.0678391959799/1.0\",\"DEATH : 0.458333333333/0.9999999999999999\",\"DYSPNOEA : 0.333333333333/1.0\",\"DYSPNOEA : 0.0457038391225/1.0\",\"DEATH : 0.0408844388819/1.0\",\"DRUG RESISTANCE : 0.152777777778/1.0\",\"PULMONARY HAEMORRHAGE : 0.611111111111/1.0\",\"SUICIDE ATTEMPT : 0.0456580125336/1.0000000000000002\",\"DEATH : 0.0359477124183/0.9999999999999997\",\"DEATH : 1.0/1.0\",\"ABORTION SPONTANEOUS : 0.11811023622/0.9999999999999998\",\"DEATH : 0.6/1.0\",\"FOETAL EXPOSURE DURING DELIVERY : 0.122905027933/1.0000000000000002\",\"DEATH : 0.106717484516/1.0\",\"DEATH : 1.0/1.0\",\"HAEMOGLOBIN DECREASED : 0.5/1.0\",\"DEATH : 0.0601503759398/1.0\",\"DEATH : 0.294117647059/1.0\",\"DEATH : 0.0748179763997/0.9999999999999999\",\"TREMOR : 0.333333333333/1.0\",\"ENDOPHTHALMITIS : 0.2/1.0\",\"RASH : 0.117021276596/0.9999999999999999\",\"DEATH : 0.0623931623932/1.0\",\"ANAEMIA : 0.333333333333/1.0\",\"ELECTROCARDIOGRAM QT PROLONGED : 1.0/1.0\",\"DEATH : 0.507507507508/1.0\",\"DEATH : 0.214110041459/0.9999999999999999\",\"DEATH : 0.0459032576505/1.0\",\"UNWANTED AWARENESS DURING ANAESTHESIA : 0.186666666667/1.0\",\"DRUG DEPENDENCE : 0.20987654321/1.0\",\"DEATH : 0.165497896213/1.0\",\"TOXICITY TO VARIOUS AGENTS : 0.0218656096158/1.0\",\"GENERALISED OEDEMA : 0.140401146132/1.0\",\"DEATH : 0.2403125/0.9999999999999999\",\"DEATH : 0.0368364030336/0.9999999999999998\",\"DEATH : 0.533333333333/1.0\",\"DEATH : 0.135593220339/1.0\",\"DEATH : 0.130252804286/0.9999999999999999\",\"DEATH : 0.112354163337/1.0\",\"DEATH : 0.0312653975364/1.0\",\"DYSPNOEA : 0.0249369410686/1.0\",\"NASOPHARYNGITIS : 0.0565894896221/1.0\",\"HYPOTHYROIDISM : 0.260700389105/1.0\",\"BRONCHIECTASIS : 1.0/1.0\",\"DEATH : 0.0352677140109/0.9999999999999999\",\"DRUG INEFFECTIVE : 0.03401668499/1.0\",\"DEATH : 0.289473684211/0.9999999999999999\",\"ACUTE KIDNEY INJURY : 0.0426490984743/0.9999999999999998\",\"DEATH : 0.243362831858/1.0\",\"OVERLAP SYNDROME : 0.0211895910781/0.9999999999999999\",\"ANGIOEDEMA : 0.0809923385626/1.0\",\"DEATH : 0.0244707176244/1.0000000000000002\",\"DYSPNOEA : 0.0237502827415/1.0\",\"DEATH : 0.137356238171/0.9999999999999999\",\"DEATH : 0.0262495312584/1.0\",\"DEATH : 0.153256704981/1.0\",\"DEATH : 0.350877192982/1.0\",\"TOXICITY TO VARIOUS AGENTS : 0.0393938451007/1.0\",\"NAUSEA : 0.0173754152824/1.0\",\"DIARRHOEA : 0.148936170213/1.0\",\"DEATH : 0.114401003326/1.0\",\"DEATH : 1.0/1.0\",\"TREATMENT FAILURE : 0.301886792453/1.0\",\"DEATH : 0.124954195676/1.0\",\"DEATH : 1.0/1.0\",\"DEATH : 0.288461538462/1.0\",\"DRUG REACTION WITH EOSINOPHILIA AND SYSTEMIC SYMPTOMS : 0.0427280197206/1.0\",\"TOXICITY TO VARIOUS AGENTS : 0.0268644891786/1.0\",\"DEATH : 0.0605481198215/1.0\",\"DRUG INEFFECTIVE : 0.0395882818686/0.9999999999999999\",\"DRUG INEFFECTIVE : 0.0300632911392/1.0\",\"DEATH : 0.0354938192679/1.0\",\"DRUG INEFFECTIVE : 0.0477314823183/1.0\",\"DRUG INEFFECTIVE : 0.5/1.0\",\"DEATH : 0.0864779874214/1.0\",\"DEATH : 0.176229508197/1.0\",\"DEATH : 0.244378503132/1.0\",\"ASTHENIA : 0.0424076607387/0.9999999999999999\",\"DEATH : 0.310344827586/1.0\",\"DEATH : 0.115702479339/0.9999999999999998\"],\"report_text2\":[\"\",\"DYSPNOEA : 0.107142857143/1.0\",\"VOMITING : 0.0305938812238/1.0\",\"\",\"TREATMENT FAILURE : 0.333333333333/1.0\",\"PAIN : 0.0266577807398/0.9999999999999999\",\"ASTHENIA : 0.0672268907563/1.0000000000000002\",\"MALAISE : 0.0200254115567/1.0\",\"DIARRHOEA : 0.0206204834289/1.0\",\"EXPOSURE DURING PREGNANCY : 0.189473684211/1.0\",\"\",\"RHABDOMYOLYSIS : 0.157303370787/0.9999999999999999\",\"CEREBROVASCULAR ACCIDENT : 0.0794947994056/0.9999999999999998\",\"ASTHMA : 0.238095238095/1.0\",\"DEATH : 0.0684931506849/1.0\",\"FATIGUE : 0.0238095238095/0.9999999999999998\",\"EXPOSURE DURING PREGNANCY : 0.266666666667/1.0\",\"GENERAL PHYSICAL HEALTH DETERIORATION : 0.0689655172414/1.0\",\"HYPERPROLACTINAEMIA : 0.0808080808081/1.0\",\"SMALL FOR DATES BABY : 0.260869565217/0.9999999999999999\",\"MALAISE : 0.0262009200241/1.0\",\"FEMUR FRACTURE : 0.4/1.0\",\"DYSPNOEA : 0.0207468879668/1.0\",\"FOETAL EXPOSURE DURING PREGNANCY : 0.157303370787/1.0\",\"DRUG RESISTANCE : 0.47619047619/1.0\",\"ASTHENIA : 0.0921052631579/0.9999999999999996\",\"ASTHENIA : 0.0787172011662/0.9999999999999997\",\"DEATH : 0.032037577193/1.0\",\"\",\"VOMITING : 0.0242523247047/0.9999999999999999\",\"PYREXIA : 0.0219509109312/1.0\",\"HEADACHE : 0.0253795552318/1.0\",\"PYREXIA : 0.127819548872/1.0\",\"PYREXIA : 0.106382978723/1.0\",\"MALAISE : 0.0240619902121/1.0\",\"DEATH : 0.18085106383/1.0\",\"INTENTIONAL OVERDOSE : 0.045630317092/0.9999999999999998\",\"DIABETIC KETOACIDOSIS : 0.25/1.0\",\"MYOCARDIAL INFARCTION : 0.0406504065041/0.9999999999999999\",\"DYSPNOEA : 0.020280057943/0.9999999999999999\",\"DYSPNOEA : 0.0242099347196/0.9999999999999999\",\"PYREXIA : 0.0435393258427/1.0\",\"CARDIO-RESPIRATORY ARREST : 0.0286503279254/1.0\",\"HEPATIC FAILURE : 0.0506263048017/1.0\",\"HAEMOGLOBIN DECREASED : 0.0731707317073/1.0\",\"CEREBROVASCULAR ACCIDENT : 0.0321931589537/1.0\",\"VIROLOGIC FAILURE : 0.14687100894/1.0\",\"\",\"PYREXIA : 0.0241274994466/1.0\",\"HEADACHE : 0.0191775164729/1.0\",\"CONDITION AGGRAVATED : 0.363636363636/1.0\",\"VIRAL MUTATION IDENTIFIED : 0.4/1.0\",\"LOW BIRTH WEIGHT BABY : 0.5/1.0\",\"HEPATIC CIRRHOSIS : 0.122186495177/1.0\",\"NAUSEA : 0.0203563189638/1.0\",\"NEUROPATHY PERIPHERAL : 0.0592885375494/1.0\",\"PYREXIA : 0.027284183995/1.0\",\"\",\"MALAISE : 0.0536723163842/1.0\",\"\",\"SEPSIS : 0.416666666667/1.0\",\"CEREBROVASCULAR ACCIDENT : 0.0313479623824/1.0\",\"DRUG INEFFECTIVE : 0.0192757009346/0.9999999999999999\",\"DIARRHOEA : 0.0277965447351/1.0\",\"VOMITING : 0.03081232493/0.9999999999999999\",\"INFECTION : 0.0275731424963/1.0\",\"DYSPNOEA : 0.0328581783039/1.0\",\"OVERDOSE : 0.0263878516306/1.0\",\"PYREXIA : 0.0317757009346/1.0\",\"LOWER RESPIRATORY TRACT INFECTION : 0.0267733763243/1.0\",\"PYREXIA : 0.028834705182/1.0\",\"SOPOR : 0.0302519535332/1.0\",\"DEATH : 0.167910447761/1.0\",\"INTERSTITIAL LUNG DISEASE : 0.0220004225149/0.9999999999999999\",\"DEATH : 0.0717299578059/1.0\",\"DEATH : 0.0478359908884/0.9999999999999999\",\"ABORTION SPONTANEOUS : 0.0606909430439/1.0\",\"PNEUMONIA : 0.0590909090909/1.0\",\"DEATH : 0.0363679923335/0.9999999999999999\",\"DEATH : 0.0376884422111/1.0\",\"TUBERCULOSIS : 0.208333333333/0.9999999999999999\",\"GASTRIC ULCER HAEMORRHAGE : 0.333333333333/1.0\",\"PNEUMONIA : 0.0383912248629/1.0\",\"PYREXIA : 0.0321234876929/1.0\",\"ANAEMIA : 0.125/1.0\",\"DRUG INEFFECTIVE : 0.388888888889/1.0\",\"PYREXIA : 0.034914950761/1.0000000000000002\",\"DYSPNOEA : 0.0359477124183/0.9999999999999997\",\"\",\"EXPOSURE DURING PREGNANCY : 0.0787401574803/0.9999999999999998\",\"PYREXIA : 0.4/1.0\",\"EXPOSURE DURING BREAST FEEDING : 0.100558659218/1.0000000000000002\",\"DYSPNOEA : 0.0264411624583/1.0\",\"\",\"MALARIA : 0.5/1.0\",\"NEUROLEPTIC MALIGNANT SYNDROME : 0.0601503759398/1.0\",\"BLINDNESS : 0.235294117647/1.0\",\"FALL : 0.0188658943366/0.9999999999999999\",\"HYPERTHERMIA : 0.238095238095/1.0\",\"INTENTIONAL PRODUCT USE ISSUE : 0.2/1.0\",\"DIARRHOEA : 0.0957446808511/0.9999999999999999\",\"DRUG REACTION WITH EOSINOPHILIA AND SYSTEMIC SYMPTOMS : 0.0282051282051/1.0\",\"APLASIA CUTIS CONGENITA : 0.333333333333/1.0\",\"\",\"HYPOTENSION : 0.042042042042/1.0\",\"HOSPITALISATION : 0.0396669243201/0.9999999999999999\",\"MALAISE : 0.024555774926/1.0\",\"PRODUCT QUALITY ISSUE : 0.173333333333/1.0\",\"DRUG ABUSE : 0.197530864198/1.0\",\"DRUG INTOLERANCE : 0.0350631136045/1.0\",\"DYSPNOEA : 0.0205229844639/1.0\",\"ASCITES : 0.0916905444126/1.0\",\"PYREXIA : 0.0240625/0.9999999999999999\",\"HEADACHE : 0.0281690140845/0.9999999999999998\",\"INTENTIONAL PRODUCT USE ISSUE : 0.466666666667/1.0\",\"PYREXIA : 0.0847457627119/1.0\",\"PNEUMONIA : 0.0349907918969/0.9999999999999999\",\"CARDIAC ARREST : 0.0544989611635/1.0\",\"DRUG INEFFECTIVE : 0.02960806271/1.0\",\"DRUG INEFFECTIVE : 0.0241343728503/1.0\",\"INJECTION SITE PAIN : 0.0509116144092/1.0\",\"DEATH : 0.0583657587549/1.0\",\"\",\"VOMITING : 0.0250080153895/0.9999999999999999\",\"DYSPNOEA : 0.0230873698506/1.0\",\"ACUTE HEPATIC FAILURE : 0.184210526316/0.9999999999999999\",\"MATERNAL EXPOSURE BEFORE PREGNANCY : 0.0339805825243/0.9999999999999998\",\"SQUAMOUS CELL CARCINOMA OF SKIN : 0.12389380531/1.0\",\"CHRONIC GRAFT VERSUS HOST DISEASE : 0.0208178438662/0.9999999999999999\",\"DEATH : 0.0693177672382/1.0\",\"DYSPNOEA : 0.0214462469068/1.0000000000000002\",\"FATIGUE : 0.0185478398552/1.0\",\"DRUG INEFFECTIVE : 0.0195079341971/0.9999999999999999\",\"ANAEMIA : 0.0226603096373/1.0\",\"TOXICITY TO VARIOUS AGENTS : 0.0766283524904/1.0\",\"ANAEMIA : 0.182456140351/1.0\",\"FATIGUE : 0.0315524162181/1.0\",\"ACUTE KIDNEY INJURY : 0.0167441860465/1.0\",\"BONE MARROW FAILURE : 0.106382978723/1.0\",\"PYREXIA : 0.0272097715252/1.0\",\"\",\"DRUG RESISTANCE : 0.292452830189/1.0\",\"SEPSIS : 0.0388420666911/1.0\",\"\",\"DYSPNOEA : 0.153846153846/1.0\",\"DRUG INEFFECTIVE : 0.031635168447/1.0\",\"DEATH : 0.0250999315784/1.0\",\"BLOOD CREATININE INCREASED : 0.0490758444869/1.0\",\"ASTHENIA : 0.0380047505938/0.9999999999999999\",\"VOMITING : 0.0300632911392/1.0\",\"MALAISE : 0.0271011164698/1.0\",\"FATIGUE : 0.0255795113825/1.0\",\"DIZZINESS : 0.25/1.0\",\"RESPIRATORY TRACT INFECTION : 0.0361635220126/1.0\",\"BLAST CRISIS IN MYELOGENOUS LEUKAEMIA : 0.139344262295/1.0\",\"CARDIAC DISORDER : 0.0373887240356/1.0\",\"DEATH : 0.0413816689466/0.9999999999999999\",\"ANAEMIA : 0.155172413793/1.0\",\"DRUG RESISTANCE : 0.0909090909091/0.9999999999999998\"],\"report_text3\":[\"\",\"URTICARIA : 0.0833333333333/1.0\",\"ASTHENIA : 0.0281943611278/1.0\",\"\",\"VIROLOGIC FAILURE : 0.333333333333/1.0\",\"FALL : 0.0242949319924/0.9999999999999999\",\"MYOCARDIAL INFARCTION : 0.0588235294118/1.0000000000000002\",\"DRUG INEFFECTIVE : 0.0189758037786/1.0\",\"PNEUMONIA : 0.0201221031647/1.0\",\"BLAST CRISIS IN MYELOGENOUS LEUKAEMIA : 0.0947368421053/1.0\",\"\",\"OVERDOSE : 0.14606741573/0.9999999999999999\",\"EXPOSURE DURING PREGNANCY : 0.054234769688/0.9999999999999998\",\"HEART RATE INCREASED : 0.190476190476/1.0\",\"DIZZINESS : 0.0616438356164/1.0\",\"DIARRHOEA : 0.0211591936044/0.9999999999999998\",\"\",\"MALIGNANT NEOPLASM PROGRESSION : 0.0574712643678/1.0\",\"DEATH : 0.0505050505051/1.0\",\"STILLBIRTH : 0.0836956521739/0.9999999999999999\",\"PAIN : 0.0252445650722/1.0\",\"\",\"ANAEMIA : 0.0188608072425/1.0\",\"VIRAL MUTATION IDENTIFIED : 0.14606741573/1.0\",\"\",\"FATIGUE : 0.0921052631579/0.9999999999999996\",\"PYREXIA : 0.0524781341108/0.9999999999999997\",\"FATIGUE : 0.0247812368365/1.0\",\"\",\"NAUSEA : 0.0218647901483/0.9999999999999999\",\"VOMITING : 0.0210336538462/1.0\",\"PYREXIA : 0.0234447909316/1.0\",\"GAIT DISTURBANCE : 0.0902255639098/1.0\",\"COMA : 0.0808510638298/1.0\",\"DRUG INEFFECTIVE : 0.0203915171289/1.0\",\"STILLBIRTH : 0.13829787234/1.0\",\"SOMNOLENCE : 0.0311936065996/0.9999999999999998\",\"HYPERGLYCAEMIA : 0.25/1.0\",\"PYREXIA : 0.0325203252033/0.9999999999999999\",\"DEATH : 0.0196040560116/0.9999999999999999\",\"DIZZINESS : 0.0224806536682/0.9999999999999999\",\"VOMITING : 0.0252808988764/1.0\",\"PYREXIA : 0.0203658957542/1.0\",\"ANAEMIA : 0.0310542797495/1.0\",\"PLATELET COUNT DECREASED : 0.0548780487805/1.0\",\"PYREXIA : 0.0321931589537/1.0\",\"DRUG RESISTANCE : 0.122605363985/1.0\",\"\",\"DYSPNOEA : 0.0224304582011/1.0\",\"DIARRHOEA : 0.0173191299506/1.0\",\"\",\"DEATH : 0.2/1.0\",\"\",\"PULMONARY TUBERCULOSIS : 0.0353697749196/1.0\",\"DYSPNOEA : 0.0197726451541/1.0\",\"PATHOGEN RESISTANCE : 0.0513833992095/1.0\",\"DRUG INEFFECTIVE : 0.0262759924386/1.0\",\"\",\"PAIN : 0.0225988700565/1.0\",\"\",\"\",\"MALAISE : 0.0282131661442/1.0\",\"OVERDOSE : 0.0160630841121/0.9999999999999999\",\"DYSPNOEA : 0.0240324293022/1.0\",\"CHOLANGITIS SCLEROSING : 0.0280112044818/0.9999999999999999\",\"MYOCARDIAL INFARCTION : 0.025889286466/1.0\",\"GENERAL PHYSICAL HEALTH DETERIORATION : 0.0326165740517/1.0\",\"APNOEA : 0.024645257655/1.0\",\"HEADACHE : 0.0261682242991/1.0\",\"MALAISE : 0.0242399815753/1.0\",\"DEATH : 0.0264016151576/1.0\",\"ASTHENIA : 0.023064839099/1.0\",\"CEREBROVASCULAR ACCIDENT : 0.0335820895522/1.0\",\"ANAEMIA : 0.0208959538643/0.9999999999999999\",\"SEPSIS : 0.0717299578059/1.0\",\"ASTHENIA : 0.0410022779043/0.9999999999999999\",\"FOETAL EXPOSURE DURING PREGNANCY : 0.0457516339869/1.0\",\"TOXICITY TO VARIOUS AGENTS : 0.0545454545455/1.0\",\"PNEUMONIA : 0.0280306660278/0.9999999999999999\",\"DYSPNOEA : 0.0326633165829/1.0\",\"CHEST PAIN : 0.166666666667/0.9999999999999999\",\"HYPOKALAEMIA : 0.333333333333/1.0\",\"DRUG INEFFECTIVE : 0.0347349177331/1.0\",\"FATIGUE : 0.0271172298707/1.0\",\"RESPIRATORY FAILURE : 0.111111111111/1.0\",\"\",\"INTENTIONAL OVERDOSE : 0.0313339301701/1.0000000000000002\",\"PNEUMONIA : 0.0359477124183/0.9999999999999997\",\"\",\"FOETAL EXPOSURE DURING PREGNANCY : 0.0708661417323/0.9999999999999998\",\"\",\"DEATH : 0.0810055865922/1.0000000000000002\",\"PYREXIA : 0.0181038589805/1.0\",\"\",\"\",\"CHRONIC OBSTRUCTIVE PULMONARY DISEASE : 0.0563909774436/1.0\",\"INFECTION : 0.235294117647/1.0\",\"HEADACHE : 0.0183637602668/0.9999999999999999\",\"HYPOTENSION : 0.238095238095/1.0\",\"SUSPECTED TRANSMISSION OF AN INFECTIOUS AGENT VIA PRODUCT : 0.2/1.0\",\"GASTROINTESTINAL DISORDER : 0.0851063829787/0.9999999999999999\",\"PYREXIA : 0.0239316239316/1.0\",\"FOETAL EXPOSURE DURING PREGNANCY : 0.333333333333/1.0\",\"\",\"NONINFECTIOUS PERITONITIS : 0.036036036036/1.0\",\"TERMINAL STATE : 0.0212915466236/0.9999999999999999\",\"DYSPNOEA : 0.0209772951629/1.0\",\"ANAESTHETIC COMPLICATION : 0.16/1.0\",\"FOOD INTERACTION : 0.16049382716/1.0\",\"HEADACHE : 0.0350631136045/1.0\",\"NAUSEA : 0.0195639664983/1.0\",\"HYPERTENSION : 0.0630372492837/1.0\",\"DYSPNOEA : 0.0225/0.9999999999999999\",\"ASTHENIA : 0.0276273022752/0.9999999999999998\",\"\",\"FOETAL EXPOSURE DURING PREGNANCY : 0.0593220338983/1.0\",\"PULMONARY FIBROSIS : 0.0234388079692/0.9999999999999999\",\"PNEUMONIA : 0.0385168611156/1.0\",\"DYSPNOEA : 0.0246808510638/1.0\",\"FATIGUE : 0.0187457005274/1.0\",\"DRUG INEFFECTIVE : 0.042079364078/1.0\",\"DRUG INEFFECTIVE : 0.0505836575875/1.0\",\"\",\"ANAEMIA : 0.0232980656193/0.9999999999999999\",\"NAUSEA : 0.0191424691198/1.0\",\"GOUTY ARTHRITIS : 0.157894736842/0.9999999999999999\",\"DEATH : 0.0319001386963/0.9999999999999998\",\"SKIN ATROPHY : 0.0929203539823/1.0\",\"DYSPNOEA : 0.0208178438662/0.9999999999999999\",\"RASH : 0.0401313389274/1.0\",\"ANAEMIA : 0.0195215837228/1.0000000000000002\",\"DEATH : 0.0165121013345/1.0\",\"PNEUMONIA : 0.0179065366138/0.9999999999999999\",\"PYREXIA : 0.0209281977108/1.0\",\"MYOPATHY : 0.0498084291188/1.0\",\"SUDDEN DEATH : 0.0877192982456/1.0\",\"NAUSEA : 0.0252668263995/1.0\",\"PYREXIA : 0.0164784053156/1.0\",\"DRUG INEFFECTIVE : 0.106382978723/1.0\",\"PNEUMONIA : 0.0230655979061/1.0\",\"\",\"VIROLOGIC FAILURE : 0.11320754717/1.0\",\"CARDIOVASCULAR DISORDER : 0.0291315500183/1.0\",\"\",\"NAUSEA : 0.0961538461538/1.0\",\"HYPOTENSION : 0.0234182415776/1.0\",\"DRUG INEFFECTIVE : 0.0244517267457/1.0\",\"ABORTION SPONTANEOUS : 0.0484384958572/1.0\",\"ANAEMIA : 0.0292953285827/0.9999999999999999\",\"DEATH : 0.0284810126582/1.0\",\"FATIGUE : 0.021887002818/1.0\",\"NAUSEA : 0.0250886775161/1.0\",\"MYALGIA : 0.25/1.0\",\"DIARRHOEA : 0.0353773584906/1.0\",\"MYOCARDIAL INFARCTION : 0.0737704918033/1.0\",\"MYOCARDIAL INFARCTION : 0.0352126607319/1.0\",\"CEREBROVASCULAR ACCIDENT : 0.0396716826265/0.9999999999999999\",\"DRUG INEFFECTIVE : 0.155172413793/1.0\",\"VIROLOGIC FAILURE : 0.0909090909091/0.9999999999999998\"],\"weight\":[2.2043066024780273,-4.830380439758301,10.536969184875488,2.7102386951446533,0.22422300279140472,-3.700632095336914,-6.312277793884277,-3.0568058490753174,9.711328506469727,-5.538157939910889,-8.163532257080078,1.96855628490448,-9.44000244140625,-6.8717732429504395,5.618866443634033,9.159930229187012,-5.935190200805664,-6.131131172180176,4.2749152183532715,2.667994499206543,-1.4775190353393555,-7.358369827270508,8.68105411529541,-0.47125735878944397,-0.3429586589336395,6.241387367248535,-5.918431282043457,-1.3332984447479248,-0.15337522327899933,-2.913811683654785,-4.100017547607422,-2.6892218589782715,5.634015083312988,5.737122058868408,-3.555318832397461,1.3680529594421387,4.6130547523498535,2.3558404445648193,6.185021877288818,7.856135368347168,7.107448101043701,-3.977181911468506,-3.5078861713409424,7.538821697235107,-6.813436985015869,6.6970038414001465,-6.570069789886475,1.8035600185394287,7.751640796661377,7.062036037445068,2.8532767295837402,-0.0005111421924084425,2.7021212577819824,-6.314220905303955,8.037293434143066,-4.908871650695801,9.153144836425781,2.205441951751709,-4.297234058380127,-8.644675254821777,3.6504433155059814,-7.744622707366943,-8.057212829589844,10.248920440673828,2.603940486907959,-7.739126682281494,-8.581562995910645,4.2345709800720215,0.6096034646034241,-3.401841640472412,10.701469421386719,5.584656238555908,-5.294139862060547,9.437520980834961,6.338643550872803,8.487052917480469,-5.501225471496582,6.504453182220459,9.955741882324219,7.405383110046387,-6.895246982574463,2.65006947517395,8.584728240966797,11.501649856567383,0.4276515245437622,3.7416014671325684,4.643493175506592,9.294556617736816,-8.163530349731445,0.9149559140205383,-8.430482864379883,-0.24274340271949768,-7.314273834228516,-8.343016624450684,3.0400030612945557,1.1596828699111938,-5.922663688659668,-4.175212383270264,2.307182788848877,2.7175259590148926,4.262495994567871,7.289968967437744,3.1619174480438232,1.8024288415908813,-7.683714866638184,-7.8812150955200195,-2.6925179958343506,1.6862571239471436,1.8014434576034546,-7.4365997314453125,7.318444728851318,3.7794885635375977,-8.092416763305664,-2.520108938217163,-6.9532294273376465,-4.85784912109375,-8.689900398254395,-7.48710823059082,8.418150901794434,6.897015571594238,-0.43339085578918457,1.5462309122085571,1.8773812055587769,11.141447067260742,8.6503267288208,-5.627934455871582,7.498257637023926,-5.370727062225342,5.643101215362549,-3.9407877922058105,8.679221153259277,7.858423233032227,-7.706326007843018,8.464001655578613,-6.608800888061523,-4.445015907287598,6.842291831970215,7.419687271118164,3.391235113143921,-7.774798393249512,-8.649718284606934,-0.10152298957109451,-7.46621036529541,-8.342857360839844,-5.238511562347412,6.768465518951416,7.008944034576416,-0.2732893228530884,8.543279647827148,9.794692039489746,-0.4417649507522583,-0.5295341610908508,4.073980808258057,-4.215493202209473,-4.7674336433410645,-8.71987533569336,11.209174156188965,-4.250726699829102,-0.4217975437641144]},\"selected\":{\"id\":\"6ca4aa2a-9906-4a1f-a73e-d08da854ed3d\",\"type\":\"Selection\"},\"selection_policy\":{\"id\":\"9f2d7551-d43b-41e5-bafc-6a1f149b654b\",\"type\":\"UnionRenderers\"}},\"id\":\"67d67ba3-997e-4181-9678-dfc309f703cd\",\"type\":\"ColumnDataSource\"},{\"attributes\":{\"axis_label\":\"Comp2\",\"formatter\":{\"id\":\"9f298be1-f940-4cf8-aefa-28a22b8a6bc2\",\"type\":\"BasicTickFormatter\"},\"plot\":{\"id\":\"fb37cfea-6061-4516-8ecb-8f2211e842bb\",\"subtype\":\"Figure\",\"type\":\"Plot\"},\"ticker\":{\"id\":\"a27c03a4-a2e1-4c1b-8c88-d3cf4e0d7136\",\"type\":\"BasicTicker\"}},\"id\":\"5cb69689-ed04-473d-b035-4287b174c22e\",\"type\":\"LinearAxis\"},{\"attributes\":{\"label\":{\"field\":\"label\"},\"renderers\":[{\"id\":\"66199f64-a935-4ee9-8ec8-ab3c4107876b\",\"type\":\"GlyphRenderer\"}]},\"id\":\"07756848-e833-4fab-b655-c2c554984692\",\"type\":\"LegendItem\"},{\"attributes\":{\"overlay\":{\"id\":\"d53b037a-7a4c-4293-ab62-cb220a51b640\",\"type\":\"BoxAnnotation\"}},\"id\":\"528e4871-c224-4396-84b8-dc47ba63715b\",\"type\":\"BoxZoomTool\"},{\"attributes\":{\"callback\":null},\"id\":\"3d62e806-f974-475a-9d84-f421a6880755\",\"type\":\"DataRange1d\"},{\"attributes\":{\"fill_color\":{\"field\":\"colors\"},\"line_color\":{\"field\":\"colors\"},\"size\":{\"units\":\"screen\",\"value\":5},\"x\":{\"field\":\"height\"},\"y\":{\"field\":\"weight\"}},\"id\":\"782c66ba-32b2-4ea1-a660-3b0c273c43e3\",\"type\":\"Circle\"},{\"attributes\":{\"bottom_units\":\"screen\",\"fill_alpha\":{\"value\":0.5},\"fill_color\":{\"value\":\"lightgrey\"},\"left_units\":\"screen\",\"level\":\"overlay\",\"line_alpha\":{\"value\":1.0},\"line_color\":{\"value\":\"black\"},\"line_dash\":[4,4],\"line_width\":{\"value\":2},\"plot\":null,\"render_mode\":\"css\",\"right_units\":\"screen\",\"top_units\":\"screen\"},\"id\":\"d53b037a-7a4c-4293-ab62-cb220a51b640\",\"type\":\"BoxAnnotation\"},{\"attributes\":{\"axis_label\":\"Comp1\",\"formatter\":{\"id\":\"8b9b9f06-f66f-410a-a098-dac3a03b7eab\",\"type\":\"BasicTickFormatter\"},\"plot\":{\"id\":\"fb37cfea-6061-4516-8ecb-8f2211e842bb\",\"subtype\":\"Figure\",\"type\":\"Plot\"},\"ticker\":{\"id\":\"2cc861f3-9178-46ac-a9e4-afad33d7ee18\",\"type\":\"BasicTicker\"}},\"id\":\"f9d601b1-1fbf-4127-8afa-f38b5e5a3646\",\"type\":\"LinearAxis\"},{\"attributes\":{\"callback\":null,\"renderers\":\"auto\",\"tooltips\":[[\"Name\",\"@names\"],[\"First Event\",\"@report_text1\"],[\"Second Event\",\"@report_text2\"],[\"Third Event\",\"@report_text3\"]]},\"id\":\"e913ddc5-81ce-43e7-aed8-6d2efb1c5f1c\",\"type\":\"HoverTool\"},{\"attributes\":{},\"id\":\"172112d9-711f-4f7d-8ad4-9b9c0fae3d7b\",\"type\":\"ResetTool\"},{\"attributes\":{},\"id\":\"a27c03a4-a2e1-4c1b-8c88-d3cf4e0d7136\",\"type\":\"BasicTicker\"},{\"attributes\":{\"active_drag\":\"auto\",\"active_inspect\":\"auto\",\"active_multi\":null,\"active_scroll\":\"auto\",\"active_tap\":\"auto\",\"tools\":[{\"id\":\"a6b95d77-0a06-4823-85d2-2baec6aecc85\",\"type\":\"PanTool\"},{\"id\":\"3e5ec440-0c0c-4a70-8d50-dadfd1cee11f\",\"type\":\"WheelZoomTool\"},{\"id\":\"528e4871-c224-4396-84b8-dc47ba63715b\",\"type\":\"BoxZoomTool\"},{\"id\":\"12913a75-65ff-47f7-b27d-64c179f62ebe\",\"type\":\"SaveTool\"},{\"id\":\"172112d9-711f-4f7d-8ad4-9b9c0fae3d7b\",\"type\":\"ResetTool\"},{\"id\":\"9ffaaaf2-2d2d-46be-b2f9-0466406b74be\",\"type\":\"HelpTool\"},{\"id\":\"e913ddc5-81ce-43e7-aed8-6d2efb1c5f1c\",\"type\":\"HoverTool\"}]},\"id\":\"400977ce-8b47-487b-989d-e8dc49bf2d44\",\"type\":\"Toolbar\"},{\"attributes\":{\"data_source\":{\"id\":\"67d67ba3-997e-4181-9678-dfc309f703cd\",\"type\":\"ColumnDataSource\"},\"glyph\":{\"id\":\"782c66ba-32b2-4ea1-a660-3b0c273c43e3\",\"type\":\"Circle\"},\"hover_glyph\":null,\"muted_glyph\":null,\"nonselection_glyph\":{\"id\":\"006ec1c4-acc0-46ba-8246-6b1d76f74262\",\"type\":\"Circle\"},\"selection_glyph\":null,\"view\":{\"id\":\"7650b0ba-7b5b-4cf1-9d9c-f87c2023857b\",\"type\":\"CDSView\"}},\"id\":\"66199f64-a935-4ee9-8ec8-ab3c4107876b\",\"type\":\"GlyphRenderer\"},{\"attributes\":{\"below\":[{\"id\":\"f9d601b1-1fbf-4127-8afa-f38b5e5a3646\",\"type\":\"LinearAxis\"}],\"left\":[{\"id\":\"5cb69689-ed04-473d-b035-4287b174c22e\",\"type\":\"LinearAxis\"}],\"plot_height\":500,\"plot_width\":800,\"renderers\":[{\"id\":\"f9d601b1-1fbf-4127-8afa-f38b5e5a3646\",\"type\":\"LinearAxis\"},{\"id\":\"e539f908-ee34-4c0c-bb1e-fdbe17a24e1b\",\"type\":\"Grid\"},{\"id\":\"5cb69689-ed04-473d-b035-4287b174c22e\",\"type\":\"LinearAxis\"},{\"id\":\"eb6c89f5-3cba-4643-ac13-211d198b2904\",\"type\":\"Grid\"},{\"id\":\"d53b037a-7a4c-4293-ab62-cb220a51b640\",\"type\":\"BoxAnnotation\"},{\"id\":\"80349a71-31a9-4854-9262-4174b8acadc5\",\"type\":\"Legend\"},{\"id\":\"66199f64-a935-4ee9-8ec8-ab3c4107876b\",\"type\":\"GlyphRenderer\"}],\"title\":{\"id\":\"72c9068a-7cb7-441a-b21c-c3d4a6212996\",\"type\":\"Title\"},\"toolbar\":{\"id\":\"400977ce-8b47-487b-989d-e8dc49bf2d44\",\"type\":\"Toolbar\"},\"x_range\":{\"id\":\"3d62e806-f974-475a-9d84-f421a6880755\",\"type\":\"DataRange1d\"},\"x_scale\":{\"id\":\"9dc77d52-7326-4872-9f51-36601e5c2ab0\",\"type\":\"LinearScale\"},\"y_range\":{\"id\":\"1afcd1ad-a4cd-4792-ab9c-e939ed4be7fb\",\"type\":\"DataRange1d\"},\"y_scale\":{\"id\":\"3382381a-784c-488e-9ebd-d20f81972c4c\",\"type\":\"LinearScale\"}},\"id\":\"fb37cfea-6061-4516-8ecb-8f2211e842bb\",\"subtype\":\"Figure\",\"type\":\"Plot\"}],\"root_ids\":[\"fb37cfea-6061-4516-8ecb-8f2211e842bb\"]},\"title\":\"Bokeh Application\",\"version\":\"0.13.0\"}};\n",
       "  var render_items = [{\"docid\":\"bf18a33e-fe5b-4065-8e50-09fd212aec52\",\"roots\":{\"fb37cfea-6061-4516-8ecb-8f2211e842bb\":\"00b7090b-46f7-4f3b-b6da-2d1ebe74d071\"}}];\n",
       "  root.Bokeh.embed.embed_items_notebook(docs_json, render_items);\n",
       "\n",
       "  }\n",
       "  if (root.Bokeh !== undefined) {\n",
       "    embed_document(root);\n",
       "  } else {\n",
       "    var attempts = 0;\n",
       "    var timer = setInterval(function(root) {\n",
       "      if (root.Bokeh !== undefined) {\n",
       "        embed_document(root);\n",
       "        clearInterval(timer);\n",
       "      }\n",
       "      attempts++;\n",
       "      if (attempts > 100) {\n",
       "        console.log(\"Bokeh: ERROR: Unable to run BokehJS code because BokehJS library is missing\")\n",
       "        clearInterval(timer);\n",
       "      }\n",
       "    }, 10, root)\n",
       "  }\n",
       "})(window);"
      ],
      "application/vnd.bokehjs_exec.v0+json": ""
     },
     "metadata": {
      "application/vnd.bokehjs_exec.v0+json": {
       "id": "fb37cfea-6061-4516-8ecb-8f2211e842bb"
      }
     },
     "output_type": "display_data"
    }
   ],
   "source": [
    "show_country_similarity(score_matrices['cosine'],countries)"
   ]
  },
  {
   "cell_type": "markdown",
   "metadata": {},
   "source": [
    "In this one we can see a different distribution for the clusters where interestingly, UK, Ireland, Australia and New Zealand are close to USA and Canada.\n",
    "Also, we notice, some Middle east (Saudi arabia, Kuwit, Israel, and lebanon) countries are close to Greece, Romania and Hungary. A big mixed group with event DEATH as most frequent event."
   ]
  },
  {
   "cell_type": "code",
   "execution_count": 137,
   "metadata": {},
   "outputs": [
    {
     "data": {
      "text/html": [
       "\n",
       "\n",
       "\n",
       "\n",
       "\n",
       "\n",
       "  <div class=\"bk-root\" id=\"013391c2-3bd4-4cba-8811-a4fd968ab908\"></div>\n"
      ]
     },
     "metadata": {},
     "output_type": "display_data"
    },
    {
     "data": {
      "application/javascript": [
       "(function(root) {\n",
       "  function embed_document(root) {\n",
       "    \n",
       "  var docs_json = {\"45ae5da6-84f5-4ab4-b863-ea942c9021b6\":{\"roots\":{\"references\":[{\"attributes\":{},\"id\":\"07e9ec4c-c6de-4ee0-bdba-a5f4919c15d3\",\"type\":\"HelpTool\"},{\"attributes\":{},\"id\":\"84a2b496-bd38-4e10-a09d-da4c75b58eea\",\"type\":\"BasicTicker\"},{\"attributes\":{\"source\":{\"id\":\"5fb170b6-6028-4c07-986a-df23214ebdea\",\"type\":\"ColumnDataSource\"}},\"id\":\"b413374b-867b-42e7-a381-2a7c45400f7e\",\"type\":\"CDSView\"},{\"attributes\":{},\"id\":\"02c42aa2-6bdc-49a1-a9df-0c8b48dda74e\",\"type\":\"UnionRenderers\"},{\"attributes\":{\"callback\":null,\"renderers\":\"auto\",\"tooltips\":[[\"Name\",\"@names\"],[\"First Event\",\"@report_text1\"],[\"Second Event\",\"@report_text2\"],[\"Third Event\",\"@report_text3\"]]},\"id\":\"8de3f27e-c747-41a4-ade3-837d8cc6b24d\",\"type\":\"HoverTool\"},{\"attributes\":{\"axis_label\":\"Comp1\",\"formatter\":{\"id\":\"4ad0db00-b9b2-43f8-a911-e8460ce0b89c\",\"type\":\"BasicTickFormatter\"},\"plot\":{\"id\":\"b463817e-eb15-4812-a890-4fd8940d64cc\",\"subtype\":\"Figure\",\"type\":\"Plot\"},\"ticker\":{\"id\":\"84a2b496-bd38-4e10-a09d-da4c75b58eea\",\"type\":\"BasicTicker\"}},\"id\":\"d167580e-368b-441b-8502-02882e7d1099\",\"type\":\"LinearAxis\"},{\"attributes\":{\"fill_alpha\":{\"value\":0.1},\"fill_color\":{\"value\":\"#1f77b4\"},\"line_alpha\":{\"value\":0.1},\"line_color\":{\"value\":\"#1f77b4\"},\"size\":{\"units\":\"screen\",\"value\":5},\"x\":{\"field\":\"height\"},\"y\":{\"field\":\"weight\"}},\"id\":\"3287103e-6a4d-4c73-9dde-cb39905da6ec\",\"type\":\"Circle\"},{\"attributes\":{\"fill_color\":{\"field\":\"colors\"},\"line_color\":{\"field\":\"colors\"},\"size\":{\"units\":\"screen\",\"value\":5},\"x\":{\"field\":\"height\"},\"y\":{\"field\":\"weight\"}},\"id\":\"e59fc270-b029-4003-9b2f-36121cb849c2\",\"type\":\"Circle\"},{\"attributes\":{\"active_drag\":\"auto\",\"active_inspect\":\"auto\",\"active_multi\":null,\"active_scroll\":\"auto\",\"active_tap\":\"auto\",\"tools\":[{\"id\":\"7de7feeb-d175-48e2-a841-124ad9338485\",\"type\":\"PanTool\"},{\"id\":\"21344464-5d7e-42a2-81c5-4bf3a9fcdfd4\",\"type\":\"WheelZoomTool\"},{\"id\":\"5b79b605-52ac-48b3-b0f4-91581c609ac4\",\"type\":\"BoxZoomTool\"},{\"id\":\"24147f53-678e-4891-85e1-b9652be6384b\",\"type\":\"SaveTool\"},{\"id\":\"3e180c0e-b39d-472f-b06e-6240728cca45\",\"type\":\"ResetTool\"},{\"id\":\"07e9ec4c-c6de-4ee0-bdba-a5f4919c15d3\",\"type\":\"HelpTool\"},{\"id\":\"8de3f27e-c747-41a4-ade3-837d8cc6b24d\",\"type\":\"HoverTool\"}]},\"id\":\"37d60d59-42c4-41ae-808a-53c93c3b8f52\",\"type\":\"Toolbar\"},{\"attributes\":{},\"id\":\"3e180c0e-b39d-472f-b06e-6240728cca45\",\"type\":\"ResetTool\"},{\"attributes\":{\"plot\":null,\"text\":\"countries\"},\"id\":\"04a52e3c-25f6-4403-972b-fc613e57e809\",\"type\":\"Title\"},{\"attributes\":{},\"id\":\"4ad0db00-b9b2-43f8-a911-e8460ce0b89c\",\"type\":\"BasicTickFormatter\"},{\"attributes\":{},\"id\":\"4a4ec63a-34af-43e6-8884-c9b58c38fb1a\",\"type\":\"LinearScale\"},{\"attributes\":{\"data_source\":{\"id\":\"5fb170b6-6028-4c07-986a-df23214ebdea\",\"type\":\"ColumnDataSource\"},\"glyph\":{\"id\":\"e59fc270-b029-4003-9b2f-36121cb849c2\",\"type\":\"Circle\"},\"hover_glyph\":null,\"muted_glyph\":null,\"nonselection_glyph\":{\"id\":\"3287103e-6a4d-4c73-9dde-cb39905da6ec\",\"type\":\"Circle\"},\"selection_glyph\":null,\"view\":{\"id\":\"b413374b-867b-42e7-a381-2a7c45400f7e\",\"type\":\"CDSView\"}},\"id\":\"78f6bba7-6134-49ae-a6ab-cb86c87b1a0f\",\"type\":\"GlyphRenderer\"},{\"attributes\":{\"overlay\":{\"id\":\"72d4b461-2eb1-4b16-847f-83a0e3b3f60b\",\"type\":\"BoxAnnotation\"}},\"id\":\"5b79b605-52ac-48b3-b0f4-91581c609ac4\",\"type\":\"BoxZoomTool\"},{\"attributes\":{\"axis_label\":\"Comp2\",\"formatter\":{\"id\":\"818ea05f-0f1e-43cf-98ae-4f29f6f8dbc3\",\"type\":\"BasicTickFormatter\"},\"plot\":{\"id\":\"b463817e-eb15-4812-a890-4fd8940d64cc\",\"subtype\":\"Figure\",\"type\":\"Plot\"},\"ticker\":{\"id\":\"c39a47fd-4448-441f-9e5a-c76750528500\",\"type\":\"BasicTicker\"}},\"id\":\"be3b91a2-28a1-4bb6-879b-325167a01424\",\"type\":\"LinearAxis\"},{\"attributes\":{\"bottom_units\":\"screen\",\"fill_alpha\":{\"value\":0.5},\"fill_color\":{\"value\":\"lightgrey\"},\"left_units\":\"screen\",\"level\":\"overlay\",\"line_alpha\":{\"value\":1.0},\"line_color\":{\"value\":\"black\"},\"line_dash\":[4,4],\"line_width\":{\"value\":2},\"plot\":null,\"render_mode\":\"css\",\"right_units\":\"screen\",\"top_units\":\"screen\"},\"id\":\"72d4b461-2eb1-4b16-847f-83a0e3b3f60b\",\"type\":\"BoxAnnotation\"},{\"attributes\":{},\"id\":\"fb1e174f-e7b4-4310-8154-08f02006d065\",\"type\":\"Selection\"},{\"attributes\":{},\"id\":\"24147f53-678e-4891-85e1-b9652be6384b\",\"type\":\"SaveTool\"},{\"attributes\":{\"dimension\":1,\"plot\":{\"id\":\"b463817e-eb15-4812-a890-4fd8940d64cc\",\"subtype\":\"Figure\",\"type\":\"Plot\"},\"ticker\":{\"id\":\"c39a47fd-4448-441f-9e5a-c76750528500\",\"type\":\"BasicTicker\"}},\"id\":\"19f13e98-333e-41f9-95be-3d9e095a8911\",\"type\":\"Grid\"},{\"attributes\":{\"callback\":null},\"id\":\"6455fcdc-b3a1-49ce-a5c3-fbcc8e1fd4ba\",\"type\":\"DataRange1d\"},{\"attributes\":{\"label\":{\"field\":\"label\"},\"renderers\":[{\"id\":\"78f6bba7-6134-49ae-a6ab-cb86c87b1a0f\",\"type\":\"GlyphRenderer\"}]},\"id\":\"6df414ff-4ff0-407a-94dc-9ed30f405289\",\"type\":\"LegendItem\"},{\"attributes\":{},\"id\":\"818ea05f-0f1e-43cf-98ae-4f29f6f8dbc3\",\"type\":\"BasicTickFormatter\"},{\"attributes\":{},\"id\":\"0659398d-928b-4c88-aecc-89699e35886a\",\"type\":\"LinearScale\"},{\"attributes\":{\"below\":[{\"id\":\"d167580e-368b-441b-8502-02882e7d1099\",\"type\":\"LinearAxis\"}],\"left\":[{\"id\":\"be3b91a2-28a1-4bb6-879b-325167a01424\",\"type\":\"LinearAxis\"}],\"plot_height\":500,\"plot_width\":800,\"renderers\":[{\"id\":\"d167580e-368b-441b-8502-02882e7d1099\",\"type\":\"LinearAxis\"},{\"id\":\"1abe1133-6007-4016-abf2-a61b2e0d3bab\",\"type\":\"Grid\"},{\"id\":\"be3b91a2-28a1-4bb6-879b-325167a01424\",\"type\":\"LinearAxis\"},{\"id\":\"19f13e98-333e-41f9-95be-3d9e095a8911\",\"type\":\"Grid\"},{\"id\":\"72d4b461-2eb1-4b16-847f-83a0e3b3f60b\",\"type\":\"BoxAnnotation\"},{\"id\":\"59e77c94-da5d-47db-b8f7-f8aa8c512486\",\"type\":\"Legend\"},{\"id\":\"78f6bba7-6134-49ae-a6ab-cb86c87b1a0f\",\"type\":\"GlyphRenderer\"}],\"title\":{\"id\":\"04a52e3c-25f6-4403-972b-fc613e57e809\",\"type\":\"Title\"},\"toolbar\":{\"id\":\"37d60d59-42c4-41ae-808a-53c93c3b8f52\",\"type\":\"Toolbar\"},\"x_range\":{\"id\":\"6455fcdc-b3a1-49ce-a5c3-fbcc8e1fd4ba\",\"type\":\"DataRange1d\"},\"x_scale\":{\"id\":\"4a4ec63a-34af-43e6-8884-c9b58c38fb1a\",\"type\":\"LinearScale\"},\"y_range\":{\"id\":\"2f87ed54-bbcc-429f-839c-bac8170a40a7\",\"type\":\"DataRange1d\"},\"y_scale\":{\"id\":\"0659398d-928b-4c88-aecc-89699e35886a\",\"type\":\"LinearScale\"}},\"id\":\"b463817e-eb15-4812-a890-4fd8940d64cc\",\"subtype\":\"Figure\",\"type\":\"Plot\"},{\"attributes\":{\"plot\":{\"id\":\"b463817e-eb15-4812-a890-4fd8940d64cc\",\"subtype\":\"Figure\",\"type\":\"Plot\"},\"ticker\":{\"id\":\"84a2b496-bd38-4e10-a09d-da4c75b58eea\",\"type\":\"BasicTicker\"}},\"id\":\"1abe1133-6007-4016-abf2-a61b2e0d3bab\",\"type\":\"Grid\"},{\"attributes\":{},\"id\":\"21344464-5d7e-42a2-81c5-4bf3a9fcdfd4\",\"type\":\"WheelZoomTool\"},{\"attributes\":{\"callback\":null},\"id\":\"2f87ed54-bbcc-429f-839c-bac8170a40a7\",\"type\":\"DataRange1d\"},{\"attributes\":{},\"id\":\"7de7feeb-d175-48e2-a841-124ad9338485\",\"type\":\"PanTool\"},{\"attributes\":{},\"id\":\"c39a47fd-4448-441f-9e5a-c76750528500\",\"type\":\"BasicTicker\"},{\"attributes\":{\"items\":[{\"id\":\"6df414ff-4ff0-407a-94dc-9ed30f405289\",\"type\":\"LegendItem\"}],\"plot\":{\"id\":\"b463817e-eb15-4812-a890-4fd8940d64cc\",\"subtype\":\"Figure\",\"type\":\"Plot\"}},\"id\":\"59e77c94-da5d-47db-b8f7-f8aa8c512486\",\"type\":\"Legend\"},{\"attributes\":{\"callback\":null,\"data\":{\"codes\":[\"AF\",\"AL\",\"DZ\",\"AD\",\"AO\",\"AR\",\"AM\",\"AU\",\"AT\",\"AZ\",\"BS\",\"BH\",\"BD\",\"BB\",\"BY\",\"BE\",\"BJ\",\"BO\",\"BA\",\"BW\",\"BR\",\"BN\",\"BG\",\"BF\",\"BI\",\"KH\",\"CM\",\"CA\",\"TD\",\"CL\",\"CN\",\"CO\",\"CG\",\"CD\",\"CR\",\"CI\",\"HR\",\"CU\",\"CY\",\"CZ\",\"DK\",\"DO\",\"EC\",\"EG\",\"SV\",\"EE\",\"ET\",\"FO\",\"FI\",\"FR\",\"GF\",\"GA\",\"GM\",\"GE\",\"DE\",\"GH\",\"GR\",\"GD\",\"GT\",\"GW\",\"HT\",\"HN\",\"HK\",\"HU\",\"IS\",\"IN\",\"ID\",\"IR\",\"IQ\",\"IE\",\"IL\",\"IT\",\"JM\",\"JP\",\"JO\",\"KZ\",\"KE\",\"KP\",\"KR\",\"KW\",\"KG\",\"LA\",\"LV\",\"LB\",\"LS\",\"LY\",\"LT\",\"LU\",\"MO\",\"MK\",\"MG\",\"MW\",\"MY\",\"MV\",\"ML\",\"MT\",\"MU\",\"MX\",\"MD\",\"MN\",\"ME\",\"MA\",\"MZ\",\"MM\",\"NP\",\"NL\",\"NZ\",\"NI\",\"NE\",\"NG\",\"NO\",\"OM\",\"PK\",\"PA\",\"PG\",\"PY\",\"PE\",\"PH\",\"PL\",\"PT\",\"PR\",\"QA\",\"RE\",\"RO\",\"RU\",\"RW\",\"SA\",\"SN\",\"RS\",\"SG\",\"SK\",\"SI\",\"ZA\",\"ES\",\"LK\",\"SD\",\"SE\",\"CH\",\"SY\",\"TW\",\"TJ\",\"TZ\",\"TH\",\"TG\",\"TT\",\"TN\",\"TR\",\"UG\",\"UA\",\"AE\",\"GB\",\"US\",\"UM\",\"UY\",\"UZ\",\"VE\",\"VN\",\"ZM\",\"ZW\"],\"colors\":[\"#444444\",\"#1f78b4\",\"#33a02c\",\"#1f78b4\",\"#33a02c\",\"#e31a1c\",\"#444444\",\"#fb9a99\",\"#1f78b4\",\"#444444\",\"#e31a1c\",\"#444444\",\"#444444\",\"#e31a1c\",\"#1f78b4\",\"#1f78b4\",\"#33a02c\",\"#e31a1c\",\"#1f78b4\",\"#33a02c\",\"#e31a1c\",\"#444444\",\"#1f78b4\",\"#33a02c\",\"#33a02c\",\"#444444\",\"#33a02c\",\"#e31a1c\",\"#33a02c\",\"#e31a1c\",\"#444444\",\"#e31a1c\",\"#33a02c\",\"#33a02c\",\"#e31a1c\",\"#33a02c\",\"#1f78b4\",\"#e31a1c\",\"#444444\",\"#1f78b4\",\"#1f78b4\",\"#e31a1c\",\"#e31a1c\",\"#33a02c\",\"#e31a1c\",\"#1f78b4\",\"#33a02c\",\"#1f78b4\",\"#1f78b4\",\"#1f78b4\",\"#e31a1c\",\"#33a02c\",\"#33a02c\",\"#444444\",\"#1f78b4\",\"#33a02c\",\"#1f78b4\",\"#e31a1c\",\"#e31a1c\",\"#33a02c\",\"#e31a1c\",\"#e31a1c\",\"#444444\",\"#1f78b4\",\"#1f78b4\",\"#444444\",\"#444444\",\"#444444\",\"#444444\",\"#1f78b4\",\"#444444\",\"#1f78b4\",\"#e31a1c\",\"#444444\",\"#444444\",\"#444444\",\"#33a02c\",\"#444444\",\"#444444\",\"#444444\",\"#444444\",\"#444444\",\"#1f78b4\",\"#444444\",\"#33a02c\",\"#33a02c\",\"#1f78b4\",\"#1f78b4\",\"#444444\",\"#1f78b4\",\"#33a02c\",\"#33a02c\",\"#444444\",\"#444444\",\"#33a02c\",\"#1f78b4\",\"#33a02c\",\"#e31a1c\",\"#1f78b4\",\"#444444\",\"#1f78b4\",\"#33a02c\",\"#33a02c\",\"#444444\",\"#444444\",\"#1f78b4\",\"#fb9a99\",\"#e31a1c\",\"#33a02c\",\"#33a02c\",\"#1f78b4\",\"#444444\",\"#444444\",\"#e31a1c\",\"#fb9a99\",\"#e31a1c\",\"#e31a1c\",\"#444444\",\"#1f78b4\",\"#1f78b4\",\"#e31a1c\",\"#444444\",\"#33a02c\",\"#1f78b4\",\"#1f78b4\",\"#33a02c\",\"#444444\",\"#33a02c\",\"#1f78b4\",\"#444444\",\"#1f78b4\",\"#1f78b4\",\"#33a02c\",\"#1f78b4\",\"#444444\",\"#33a02c\",\"#1f78b4\",\"#1f78b4\",\"#444444\",\"#444444\",\"#444444\",\"#33a02c\",\"#444444\",\"#33a02c\",\"#e31a1c\",\"#33a02c\",\"#444444\",\"#33a02c\",\"#1f78b4\",\"#444444\",\"#1f78b4\",\"#e31a1c\",\"#fb9a99\",\"#e31a1c\",\"#444444\",\"#e31a1c\",\"#444444\",\"#33a02c\",\"#33a02c\"],\"height\":[0.5856797695159912,10.993690490722656,3.3504345417022705,9.389630317687988,1.578714370727539,-4.205909252166748,9.434837341308594,-2.2256901264190674,0.6054074168205261,6.414012432098389,10.482762336730957,10.790839195251465,-1.3468177318572998,9.403430938720703,10.072002410888672,-0.7107793092727661,10.40141773223877,6.218775749206543,10.622000694274902,8.854969024658203,-4.640812873840332,8.198734283447266,2.484842538833618,6.05354118347168,6.836459636688232,8.927985191345215,4.468851566314697,-4.185115337371826,4.617921829223633,-3.6559836864471436,3.0486459732055664,-4.030078887939453,6.8455963134765625,6.1012749671936035,-3.872303009033203,7.932122707366943,0.8188522458076477,-2.253692626953125,5.712776184082031,1.4981671571731567,-1.3175407648086548,-4.5752668380737305,-3.45807147026062,2.220475196838379,5.890391826629639,12.260689735412598,5.130833625793457,12.115017890930176,-2.275416135787964,0.7759856581687927,8.118318557739258,7.48759651184082,8.33958625793457,8.41607666015625,-0.6139031648635864,4.1148576736450195,-0.12965402007102966,0.3691645860671997,-4.543618202209473,9.561417579650879,10.113487243652344,-3.9180853366851807,2.812418222427368,-1.3255056142807007,11.071869850158691,2.4951648712158203,-0.6296685934066772,4.5228424072265625,-2.869108200073242,-2.699657678604126,-2.3940718173980713,2.0240211486816406,6.381961822509766,2.8566815853118896,11.007367134094238,10.310492515563965,4.948652744293213,8.941510200500488,2.8886616230010986,9.532756805419922,8.495901107788086,10.339081764221191,11.596145629882812,-2.6912131309509277,8.608022689819336,7.581070899963379,5.038905620574951,12.53133773803711,9.342391967773438,10.57519817352295,9.76914119720459,4.679429531097412,3.908332586288452,10.444474220275879,6.328670024871826,6.892681121826172,7.4959564208984375,-3.936269998550415,10.131128311157227,1.1320726871490479,9.32249927520752,5.408918857574463,9.051933288574219,11.918837547302246,6.361093521118164,-1.5582609176635742,-1.8018172979354858,2.867448091506958,9.733550071716309,3.7611496448516846,-0.3818981945514679,10.507411003112793,0.06748247146606445,-4.524011611938477,8.744879722595215,5.781208038330078,-3.4281420707702637,-0.3019556701183319,1.1837331056594849,2.106102705001831,-4.4756178855896,9.433745384216309,-1.7999018430709839,2.156550645828247,2.4240798950195312,9.67740535736084,4.436298847198486,5.7739763259887695,2.805384635925293,3.5010385513305664,2.299675703048706,0.5556657910346985,-1.996322512626648,1.492418646812439,9.336291313171387,5.056458473205566,-1.0761560201644897,1.58817458152771,9.801864624023438,2.1006083488464355,9.930645942687988,7.5396623611450195,3.1637187004089355,10.052190780639648,8.859890937805176,3.7110679149627686,1.7301472425460815,4.464351654052734,3.9670298099517822,-0.8030279278755188,-2.3416037559509277,-3.769045114517212,9.915087699890137,-3.809680700302124,5.545566558837891,-3.6315574645996094,-0.4833175241947174,8.686767578125,6.722224235534668],\"label\":[\"Asia\",\"Europe\",\"Africa\",\"Europe\",\"Africa\",\"Americas\",\"Asia\",\"Oceania\",\"Europe\",\"Asia\",\"Americas\",\"Asia\",\"Asia\",\"Americas\",\"Europe\",\"Europe\",\"Africa\",\"Americas\",\"Europe\",\"Africa\",\"Americas\",\"Asia\",\"Europe\",\"Africa\",\"Africa\",\"Asia\",\"Africa\",\"Americas\",\"Africa\",\"Americas\",\"Asia\",\"Americas\",\"Africa\",\"Africa\",\"Americas\",\"Africa\",\"Europe\",\"Americas\",\"Asia\",\"Europe\",\"Europe\",\"Americas\",\"Americas\",\"Africa\",\"Americas\",\"Europe\",\"Africa\",\"Europe\",\"Europe\",\"Europe\",\"Americas\",\"Africa\",\"Africa\",\"Asia\",\"Europe\",\"Africa\",\"Europe\",\"Americas\",\"Americas\",\"Africa\",\"Americas\",\"Americas\",\"Asia\",\"Europe\",\"Europe\",\"Asia\",\"Asia\",\"Asia\",\"Asia\",\"Europe\",\"Asia\",\"Europe\",\"Americas\",\"Asia\",\"Asia\",\"Asia\",\"Africa\",\"Asia\",\"Asia\",\"Asia\",\"Asia\",\"Asia\",\"Europe\",\"Asia\",\"Africa\",\"Africa\",\"Europe\",\"Europe\",\"Asia\",\"Europe\",\"Africa\",\"Africa\",\"Asia\",\"Asia\",\"Africa\",\"Europe\",\"Africa\",\"Americas\",\"Europe\",\"Asia\",\"Europe\",\"Africa\",\"Africa\",\"Asia\",\"Asia\",\"Europe\",\"Oceania\",\"Americas\",\"Africa\",\"Africa\",\"Europe\",\"Asia\",\"Asia\",\"Americas\",\"Oceania\",\"Americas\",\"Americas\",\"Asia\",\"Europe\",\"Europe\",\"Americas\",\"Asia\",\"Africa\",\"Europe\",\"Europe\",\"Africa\",\"Asia\",\"Africa\",\"Europe\",\"Asia\",\"Europe\",\"Europe\",\"Africa\",\"Europe\",\"Asia\",\"Africa\",\"Europe\",\"Europe\",\"Asia\",\"Asia\",\"Asia\",\"Africa\",\"Asia\",\"Africa\",\"Americas\",\"Africa\",\"Asia\",\"Africa\",\"Europe\",\"Asia\",\"Europe\",\"Americas\",\"Oceania\",\"Americas\",\"Asia\",\"Americas\",\"Asia\",\"Africa\",\"Africa\"],\"names\":[\"Afghanistan\",\"Albania\",\"Algeria\",\"Andorra\",\"Angola\",\"Argentina\",\"Armenia\",\"Australia\",\"Austria\",\"Azerbaijan\",\"Bahamas\",\"Bahrain\",\"Bangladesh\",\"Barbados\",\"Belarus\",\"Belgium\",\"Benin\",\"Bolivia (Plurinational State of)\",\"Bosnia and Herzegovina\",\"Botswana\",\"Brazil\",\"Brunei Darussalam\",\"Bulgaria\",\"Burkina Faso\",\"Burundi\",\"Cambodia\",\"Cameroon\",\"Canada\",\"Chad\",\"Chile\",\"China\",\"Colombia\",\"Congo\",\"Congo (Democratic Republic of the)\",\"Costa Rica\",\"C\\u00f4te d'Ivoire\",\"Croatia\",\"Cuba\",\"Cyprus\",\"Czechia\",\"Denmark\",\"Dominican Republic\",\"Ecuador\",\"Egypt\",\"El Salvador\",\"Estonia\",\"Ethiopia\",\"Faroe Islands\",\"Finland\",\"France\",\"French Guiana\",\"Gabon\",\"Gambia\",\"Georgia\",\"Germany\",\"Ghana\",\"Greece\",\"Grenada\",\"Guatemala\",\"Guinea-Bissau\",\"Haiti\",\"Honduras\",\"Hong Kong\",\"Hungary\",\"Iceland\",\"India\",\"Indonesia\",\"Iran (Islamic Republic of)\",\"Iraq\",\"Ireland\",\"Israel\",\"Italy\",\"Jamaica\",\"Japan\",\"Jordan\",\"Kazakhstan\",\"Kenya\",\"Korea (Democratic People's Republic of)\",\"Korea (Republic of)\",\"Kuwait\",\"Kyrgyzstan\",\"Lao People's Democratic Republic\",\"Latvia\",\"Lebanon\",\"Lesotho\",\"Libya\",\"Lithuania\",\"Luxembourg\",\"Macao\",\"Macedonia (the former Yugoslav Republic of)\",\"Madagascar\",\"Malawi\",\"Malaysia\",\"Maldives\",\"Mali\",\"Malta\",\"Mauritius\",\"Mexico\",\"Moldova (Republic of)\",\"Mongolia\",\"Montenegro\",\"Morocco\",\"Mozambique\",\"Myanmar\",\"Nepal\",\"Netherlands\",\"New Zealand\",\"Nicaragua\",\"Niger\",\"Nigeria\",\"Norway\",\"Oman\",\"Pakistan\",\"Panama\",\"Papua New Guinea\",\"Paraguay\",\"Peru\",\"Philippines\",\"Poland\",\"Portugal\",\"Puerto Rico\",\"Qatar\",\"R\\u00e9union\",\"Romania\",\"Russian Federation\",\"Rwanda\",\"Saudi Arabia\",\"Senegal\",\"Serbia\",\"Singapore\",\"Slovakia\",\"Slovenia\",\"South Africa\",\"Spain\",\"Sri Lanka\",\"Sudan\",\"Sweden\",\"Switzerland\",\"Syrian Arab Republic\",\"Taiwan, Province of China\",\"Tajikistan\",\"Tanzania, United Republic of\",\"Thailand\",\"Togo\",\"Trinidad and Tobago\",\"Tunisia\",\"Turkey\",\"Uganda\",\"Ukraine\",\"United Arab Emirates\",\"United Kingdom of Great Britain and Northern Ireland\",\"United States of America\",\"United States Minor Outlying Islands\",\"Uruguay\",\"Uzbekistan\",\"Venezuela (Bolivarian Republic of)\",\"Viet Nam\",\"Zambia\",\"Zimbabwe\"],\"report_count\":[55.0,55.0,55.0,55.0,55.0,55.0,55.0,55.0,55.0,55.0,55.0,55.0,55.0,55.0,55.0,55.0,55.0,55.0,55.0,55.0,55.0,55.0,55.0,55.0,55.0,55.0,55.0,55.0,55.0,55.0,55.0,55.0,55.0,55.0,55.0,55.0,55.0,55.0,55.0,55.0,55.0,55.0,55.0,55.0,55.0,55.0,55.0,55.0,55.0,55.0,55.0,55.0,55.0,55.0,55.0,55.0,55.0,55.0,55.0,55.0,55.0,55.0,55.0,55.0,55.0,55.0,55.0,55.0,55.0,55.0,55.0,55.0,55.0,55.0,55.0,55.0,55.0,55.0,55.0,55.0,55.0,55.0,55.0,55.0,55.0,55.0,55.0,55.0,55.0,55.0,55.0,55.0,55.0,55.0,55.0,55.0,55.0,55.0,55.0,55.0,55.0,55.0,55.0,55.0,55.0,55.0,55.0,55.0,55.0,55.0,55.0,55.0,55.0,55.0,55.0,55.0,55.0,55.0,55.0,55.0,55.0,55.0,55.0,55.0,55.0,55.0,55.0,55.0,55.0,55.0,55.0,55.0,55.0,55.0,55.0,55.0,55.0,55.0,55.0,55.0,55.0,55.0,55.0,55.0,55.0,55.0,55.0,55.0,55.0,55.0,55.0,55.0,55.0,55.0,55.0,55.0,55.0,55.0,55.0],\"report_text1\":[\"BENIGN UTERINE NEOPLASM : 1.0/1.0\",\"DEATH : 0.166666666667/1.0\",\"DEATH : 0.0407918416317/1.0\",\"ERYTHEMA : 1.0/1.0\",\"GENOTYPE DRUG RESISTANCE TEST POSITIVE : 0.333333333333/1.0\",\"DEATH : 0.056647784072/0.9999999999999999\",\"DEATH : 0.252100840336/1.0000000000000002\",\"DEATH : 0.0519555850182/1.0\",\"DEATH : 0.0404933964615/1.0\",\"DEATH : 0.378947368421/1.0\",\"DEATH : 1.0/1.0\",\"METABOLIC ACIDOSIS : 0.157303370787/0.9999999999999999\",\"DEATH : 0.147102526003/0.9999999999999998\",\"DEATH : 0.380952380952/1.0\",\"NEPHROPATHY : 0.0958904109589/1.0\",\"DEATH : 0.0346715328467/0.9999999999999998\",\"DEATH : 0.733333333333/1.0\",\"DEATH : 0.195402298851/1.0\",\"PULMONARY EMBOLISM : 0.0959595959596/1.0\",\"FOETAL EXPOSURE DURING PREGNANCY : 0.338043478261/0.9999999999999999\",\"DRUG INEFFECTIVE : 0.0289257302224/1.0\",\"DEATH : 0.6/1.0\",\"DEATH : 0.0313089400226/1.0\",\"VIROLOGIC FAILURE : 0.370786516854/1.0\",\"VIROLOGIC FAILURE : 0.52380952381/1.0\",\"PYREXIA : 0.105263157895/0.9999999999999996\",\"DEATH : 0.125364431487/0.9999999999999997\",\"DRUG INEFFECTIVE : 0.0366790917255/1.0\",\"VIROLOGIC FAILURE : 1.0/1.0\",\"DEATH : 0.0525257602413/0.9999999999999999\",\"DEATH : 0.0739340840081/1.0\",\"DEATH : 0.0500762524754/1.0\",\"ASTHENIA : 0.135338345865/1.0\",\"ASTHENIA : 0.144680851064/1.0\",\"DEATH : 0.0595432300163/1.0\",\"ABORTION SPONTANEOUS : 0.329787234043/1.0\",\"SUICIDE ATTEMPT : 0.0582624387729/0.9999999999999998\",\"DEVICE FAILURE : 0.25/1.0\",\"LOSS OF CONSCIOUSNESS : 0.0406504065041/0.9999999999999999\",\"DIARRHOEA : 0.0211492032834/0.9999999999999999\",\"FATIGUE : 0.0242963987722/0.9999999999999999\",\"DEATH : 0.0884831460674/1.0\",\"DEATH : 0.0562651018295/1.0\",\"DEATH : 0.0514091858038/1.0\",\"DEATH : 0.189024390244/1.0\",\"NAUSEA : 0.0382293762575/1.0\",\"DEATH : 0.39846743295/1.0\",\"RHABDOMYOLYSIS : 1.0/1.0\",\"FATIGUE : 0.0247915590644/1.0\",\"FATIGUE : 0.0263123932995/1.0\",\"PARADOXICAL DRUG REACTION : 0.636363636364/1.0\",\"DRUG RESISTANCE : 0.4/1.0\",\"FOETAL EXPOSURE DURING PREGNANCY : 0.5/1.0\",\"DEATH : 0.20578778135/1.0\",\"DEATH : 0.0203841129548/1.0\",\"DEATH : 0.102766798419/1.0\",\"DEATH : 0.0346565847511/1.0\",\"PNEUMOCEPHALUS : 1.0/1.0\",\"DEATH : 0.104519774011/1.0\",\"DEATH : 1.0/1.0\",\"ANAEMIA : 0.583333333333/1.0\",\"DEATH : 0.213166144201/1.0\",\"DEATH : 0.308703271028/0.9999999999999999\",\"DEATH : 0.0392819225943/1.0\",\"DRUG-INDUCED LIVER INJURY : 0.0532212885154/0.9999999999999999\",\"DEATH : 0.169618426196/1.0\",\"DEATH : 0.231940082145/1.0\",\"TOXICITY TO VARIOUS AGENTS : 0.0654717450834/1.0\",\"FATIGUE : 0.0364485981308/1.0\",\"DEATH : 0.0607438968217/1.0\",\"ASTHENIA : 0.0308018843506/1.0\",\"DRUG ABUSE : 0.0367378860714/1.0\",\"ANAESTHETIC COMPLICATION NEUROLOGICAL : 0.208955223881/1.0\",\"PYREXIA : 0.0277896172534/0.9999999999999999\",\"DRUG ABUSE : 0.0801687763713/1.0\",\"DRUG INEFFECTIVE : 0.0592255125285/0.9999999999999999\",\"DEATH : 0.156862745098/1.0\",\"DISEASE PROGRESSION : 0.0863636363636/1.0\",\"NEUTROPENIA : 0.0365596550072/0.9999999999999999\",\"DRUG INEFFECTIVE : 0.0678391959799/1.0\",\"DEATH : 0.458333333333/0.9999999999999999\",\"DYSPNOEA : 0.333333333333/1.0\",\"DYSPNOEA : 0.0457038391225/1.0\",\"DEATH : 0.0408844388819/1.0\",\"DRUG RESISTANCE : 0.152777777778/1.0\",\"PULMONARY HAEMORRHAGE : 0.611111111111/1.0\",\"SUICIDE ATTEMPT : 0.0456580125336/1.0000000000000002\",\"DEATH : 0.0359477124183/0.9999999999999997\",\"DEATH : 1.0/1.0\",\"ABORTION SPONTANEOUS : 0.11811023622/0.9999999999999998\",\"DEATH : 0.6/1.0\",\"FOETAL EXPOSURE DURING DELIVERY : 0.122905027933/1.0000000000000002\",\"DEATH : 0.106717484516/1.0\",\"DEATH : 1.0/1.0\",\"HAEMOGLOBIN DECREASED : 0.5/1.0\",\"DEATH : 0.0601503759398/1.0\",\"DEATH : 0.294117647059/1.0\",\"DEATH : 0.0748179763997/0.9999999999999999\",\"TREMOR : 0.333333333333/1.0\",\"ENDOPHTHALMITIS : 0.2/1.0\",\"RASH : 0.117021276596/0.9999999999999999\",\"DEATH : 0.0623931623932/1.0\",\"ANAEMIA : 0.333333333333/1.0\",\"ELECTROCARDIOGRAM QT PROLONGED : 1.0/1.0\",\"DEATH : 0.507507507508/1.0\",\"DEATH : 0.214110041459/0.9999999999999999\",\"DEATH : 0.0459032576505/1.0\",\"UNWANTED AWARENESS DURING ANAESTHESIA : 0.186666666667/1.0\",\"DRUG DEPENDENCE : 0.20987654321/1.0\",\"DEATH : 0.165497896213/1.0\",\"TOXICITY TO VARIOUS AGENTS : 0.0218656096158/1.0\",\"GENERALISED OEDEMA : 0.140401146132/1.0\",\"DEATH : 0.2403125/0.9999999999999999\",\"DEATH : 0.0368364030336/0.9999999999999998\",\"DEATH : 0.533333333333/1.0\",\"DEATH : 0.135593220339/1.0\",\"DEATH : 0.130252804286/0.9999999999999999\",\"DEATH : 0.112354163337/1.0\",\"DEATH : 0.0312653975364/1.0\",\"DYSPNOEA : 0.0249369410686/1.0\",\"NASOPHARYNGITIS : 0.0565894896221/1.0\",\"HYPOTHYROIDISM : 0.260700389105/1.0\",\"BRONCHIECTASIS : 1.0/1.0\",\"DEATH : 0.0352677140109/0.9999999999999999\",\"DRUG INEFFECTIVE : 0.03401668499/1.0\",\"DEATH : 0.289473684211/0.9999999999999999\",\"ACUTE KIDNEY INJURY : 0.0426490984743/0.9999999999999998\",\"DEATH : 0.243362831858/1.0\",\"OVERLAP SYNDROME : 0.0211895910781/0.9999999999999999\",\"ANGIOEDEMA : 0.0809923385626/1.0\",\"DEATH : 0.0244707176244/1.0000000000000002\",\"DYSPNOEA : 0.0237502827415/1.0\",\"DEATH : 0.137356238171/0.9999999999999999\",\"DEATH : 0.0262495312584/1.0\",\"DEATH : 0.153256704981/1.0\",\"DEATH : 0.350877192982/1.0\",\"TOXICITY TO VARIOUS AGENTS : 0.0393938451007/1.0\",\"NAUSEA : 0.0173754152824/1.0\",\"DIARRHOEA : 0.148936170213/1.0\",\"DEATH : 0.114401003326/1.0\",\"DEATH : 1.0/1.0\",\"TREATMENT FAILURE : 0.301886792453/1.0\",\"DEATH : 0.124954195676/1.0\",\"DEATH : 1.0/1.0\",\"DEATH : 0.288461538462/1.0\",\"DRUG REACTION WITH EOSINOPHILIA AND SYSTEMIC SYMPTOMS : 0.0427280197206/1.0\",\"TOXICITY TO VARIOUS AGENTS : 0.0268644891786/1.0\",\"DEATH : 0.0605481198215/1.0\",\"DRUG INEFFECTIVE : 0.0395882818686/0.9999999999999999\",\"DRUG INEFFECTIVE : 0.0300632911392/1.0\",\"DEATH : 0.0354938192679/1.0\",\"DRUG INEFFECTIVE : 0.0477314823183/1.0\",\"DRUG INEFFECTIVE : 0.5/1.0\",\"DEATH : 0.0864779874214/1.0\",\"DEATH : 0.176229508197/1.0\",\"DEATH : 0.244378503132/1.0\",\"ASTHENIA : 0.0424076607387/0.9999999999999999\",\"DEATH : 0.310344827586/1.0\",\"DEATH : 0.115702479339/0.9999999999999998\"],\"report_text2\":[\"\",\"DYSPNOEA : 0.107142857143/1.0\",\"VOMITING : 0.0305938812238/1.0\",\"\",\"TREATMENT FAILURE : 0.333333333333/1.0\",\"PAIN : 0.0266577807398/0.9999999999999999\",\"ASTHENIA : 0.0672268907563/1.0000000000000002\",\"MALAISE : 0.0200254115567/1.0\",\"DIARRHOEA : 0.0206204834289/1.0\",\"EXPOSURE DURING PREGNANCY : 0.189473684211/1.0\",\"\",\"RHABDOMYOLYSIS : 0.157303370787/0.9999999999999999\",\"CEREBROVASCULAR ACCIDENT : 0.0794947994056/0.9999999999999998\",\"ASTHMA : 0.238095238095/1.0\",\"DEATH : 0.0684931506849/1.0\",\"FATIGUE : 0.0238095238095/0.9999999999999998\",\"EXPOSURE DURING PREGNANCY : 0.266666666667/1.0\",\"GENERAL PHYSICAL HEALTH DETERIORATION : 0.0689655172414/1.0\",\"HYPERPROLACTINAEMIA : 0.0808080808081/1.0\",\"SMALL FOR DATES BABY : 0.260869565217/0.9999999999999999\",\"MALAISE : 0.0262009200241/1.0\",\"FEMUR FRACTURE : 0.4/1.0\",\"DYSPNOEA : 0.0207468879668/1.0\",\"FOETAL EXPOSURE DURING PREGNANCY : 0.157303370787/1.0\",\"DRUG RESISTANCE : 0.47619047619/1.0\",\"ASTHENIA : 0.0921052631579/0.9999999999999996\",\"ASTHENIA : 0.0787172011662/0.9999999999999997\",\"DEATH : 0.032037577193/1.0\",\"\",\"VOMITING : 0.0242523247047/0.9999999999999999\",\"PYREXIA : 0.0219509109312/1.0\",\"HEADACHE : 0.0253795552318/1.0\",\"PYREXIA : 0.127819548872/1.0\",\"PYREXIA : 0.106382978723/1.0\",\"MALAISE : 0.0240619902121/1.0\",\"DEATH : 0.18085106383/1.0\",\"INTENTIONAL OVERDOSE : 0.045630317092/0.9999999999999998\",\"DIABETIC KETOACIDOSIS : 0.25/1.0\",\"MYOCARDIAL INFARCTION : 0.0406504065041/0.9999999999999999\",\"DYSPNOEA : 0.020280057943/0.9999999999999999\",\"DYSPNOEA : 0.0242099347196/0.9999999999999999\",\"PYREXIA : 0.0435393258427/1.0\",\"CARDIO-RESPIRATORY ARREST : 0.0286503279254/1.0\",\"HEPATIC FAILURE : 0.0506263048017/1.0\",\"HAEMOGLOBIN DECREASED : 0.0731707317073/1.0\",\"CEREBROVASCULAR ACCIDENT : 0.0321931589537/1.0\",\"VIROLOGIC FAILURE : 0.14687100894/1.0\",\"\",\"PYREXIA : 0.0241274994466/1.0\",\"HEADACHE : 0.0191775164729/1.0\",\"CONDITION AGGRAVATED : 0.363636363636/1.0\",\"VIRAL MUTATION IDENTIFIED : 0.4/1.0\",\"LOW BIRTH WEIGHT BABY : 0.5/1.0\",\"HEPATIC CIRRHOSIS : 0.122186495177/1.0\",\"NAUSEA : 0.0203563189638/1.0\",\"NEUROPATHY PERIPHERAL : 0.0592885375494/1.0\",\"PYREXIA : 0.027284183995/1.0\",\"\",\"MALAISE : 0.0536723163842/1.0\",\"\",\"SEPSIS : 0.416666666667/1.0\",\"CEREBROVASCULAR ACCIDENT : 0.0313479623824/1.0\",\"DRUG INEFFECTIVE : 0.0192757009346/0.9999999999999999\",\"DIARRHOEA : 0.0277965447351/1.0\",\"VOMITING : 0.03081232493/0.9999999999999999\",\"INFECTION : 0.0275731424963/1.0\",\"DYSPNOEA : 0.0328581783039/1.0\",\"OVERDOSE : 0.0263878516306/1.0\",\"PYREXIA : 0.0317757009346/1.0\",\"LOWER RESPIRATORY TRACT INFECTION : 0.0267733763243/1.0\",\"PYREXIA : 0.028834705182/1.0\",\"SOPOR : 0.0302519535332/1.0\",\"DEATH : 0.167910447761/1.0\",\"INTERSTITIAL LUNG DISEASE : 0.0220004225149/0.9999999999999999\",\"DEATH : 0.0717299578059/1.0\",\"DEATH : 0.0478359908884/0.9999999999999999\",\"ABORTION SPONTANEOUS : 0.0606909430439/1.0\",\"PNEUMONIA : 0.0590909090909/1.0\",\"DEATH : 0.0363679923335/0.9999999999999999\",\"DEATH : 0.0376884422111/1.0\",\"TUBERCULOSIS : 0.208333333333/0.9999999999999999\",\"GASTRIC ULCER HAEMORRHAGE : 0.333333333333/1.0\",\"PNEUMONIA : 0.0383912248629/1.0\",\"PYREXIA : 0.0321234876929/1.0\",\"ANAEMIA : 0.125/1.0\",\"DRUG INEFFECTIVE : 0.388888888889/1.0\",\"PYREXIA : 0.034914950761/1.0000000000000002\",\"DYSPNOEA : 0.0359477124183/0.9999999999999997\",\"\",\"EXPOSURE DURING PREGNANCY : 0.0787401574803/0.9999999999999998\",\"PYREXIA : 0.4/1.0\",\"EXPOSURE DURING BREAST FEEDING : 0.100558659218/1.0000000000000002\",\"DYSPNOEA : 0.0264411624583/1.0\",\"\",\"MALARIA : 0.5/1.0\",\"NEUROLEPTIC MALIGNANT SYNDROME : 0.0601503759398/1.0\",\"BLINDNESS : 0.235294117647/1.0\",\"FALL : 0.0188658943366/0.9999999999999999\",\"HYPERTHERMIA : 0.238095238095/1.0\",\"INTENTIONAL PRODUCT USE ISSUE : 0.2/1.0\",\"DIARRHOEA : 0.0957446808511/0.9999999999999999\",\"DRUG REACTION WITH EOSINOPHILIA AND SYSTEMIC SYMPTOMS : 0.0282051282051/1.0\",\"APLASIA CUTIS CONGENITA : 0.333333333333/1.0\",\"\",\"HYPOTENSION : 0.042042042042/1.0\",\"HOSPITALISATION : 0.0396669243201/0.9999999999999999\",\"MALAISE : 0.024555774926/1.0\",\"PRODUCT QUALITY ISSUE : 0.173333333333/1.0\",\"DRUG ABUSE : 0.197530864198/1.0\",\"DRUG INTOLERANCE : 0.0350631136045/1.0\",\"DYSPNOEA : 0.0205229844639/1.0\",\"ASCITES : 0.0916905444126/1.0\",\"PYREXIA : 0.0240625/0.9999999999999999\",\"HEADACHE : 0.0281690140845/0.9999999999999998\",\"INTENTIONAL PRODUCT USE ISSUE : 0.466666666667/1.0\",\"PYREXIA : 0.0847457627119/1.0\",\"PNEUMONIA : 0.0349907918969/0.9999999999999999\",\"CARDIAC ARREST : 0.0544989611635/1.0\",\"DRUG INEFFECTIVE : 0.02960806271/1.0\",\"DRUG INEFFECTIVE : 0.0241343728503/1.0\",\"INJECTION SITE PAIN : 0.0509116144092/1.0\",\"DEATH : 0.0583657587549/1.0\",\"\",\"VOMITING : 0.0250080153895/0.9999999999999999\",\"DYSPNOEA : 0.0230873698506/1.0\",\"ACUTE HEPATIC FAILURE : 0.184210526316/0.9999999999999999\",\"MATERNAL EXPOSURE BEFORE PREGNANCY : 0.0339805825243/0.9999999999999998\",\"SQUAMOUS CELL CARCINOMA OF SKIN : 0.12389380531/1.0\",\"CHRONIC GRAFT VERSUS HOST DISEASE : 0.0208178438662/0.9999999999999999\",\"DEATH : 0.0693177672382/1.0\",\"DYSPNOEA : 0.0214462469068/1.0000000000000002\",\"FATIGUE : 0.0185478398552/1.0\",\"DRUG INEFFECTIVE : 0.0195079341971/0.9999999999999999\",\"ANAEMIA : 0.0226603096373/1.0\",\"TOXICITY TO VARIOUS AGENTS : 0.0766283524904/1.0\",\"ANAEMIA : 0.182456140351/1.0\",\"FATIGUE : 0.0315524162181/1.0\",\"ACUTE KIDNEY INJURY : 0.0167441860465/1.0\",\"BONE MARROW FAILURE : 0.106382978723/1.0\",\"PYREXIA : 0.0272097715252/1.0\",\"\",\"DRUG RESISTANCE : 0.292452830189/1.0\",\"SEPSIS : 0.0388420666911/1.0\",\"\",\"DYSPNOEA : 0.153846153846/1.0\",\"DRUG INEFFECTIVE : 0.031635168447/1.0\",\"DEATH : 0.0250999315784/1.0\",\"BLOOD CREATININE INCREASED : 0.0490758444869/1.0\",\"ASTHENIA : 0.0380047505938/0.9999999999999999\",\"VOMITING : 0.0300632911392/1.0\",\"MALAISE : 0.0271011164698/1.0\",\"FATIGUE : 0.0255795113825/1.0\",\"DIZZINESS : 0.25/1.0\",\"RESPIRATORY TRACT INFECTION : 0.0361635220126/1.0\",\"BLAST CRISIS IN MYELOGENOUS LEUKAEMIA : 0.139344262295/1.0\",\"CARDIAC DISORDER : 0.0373887240356/1.0\",\"DEATH : 0.0413816689466/0.9999999999999999\",\"ANAEMIA : 0.155172413793/1.0\",\"DRUG RESISTANCE : 0.0909090909091/0.9999999999999998\"],\"report_text3\":[\"\",\"URTICARIA : 0.0833333333333/1.0\",\"ASTHENIA : 0.0281943611278/1.0\",\"\",\"VIROLOGIC FAILURE : 0.333333333333/1.0\",\"FALL : 0.0242949319924/0.9999999999999999\",\"MYOCARDIAL INFARCTION : 0.0588235294118/1.0000000000000002\",\"DRUG INEFFECTIVE : 0.0189758037786/1.0\",\"PNEUMONIA : 0.0201221031647/1.0\",\"BLAST CRISIS IN MYELOGENOUS LEUKAEMIA : 0.0947368421053/1.0\",\"\",\"OVERDOSE : 0.14606741573/0.9999999999999999\",\"EXPOSURE DURING PREGNANCY : 0.054234769688/0.9999999999999998\",\"HEART RATE INCREASED : 0.190476190476/1.0\",\"DIZZINESS : 0.0616438356164/1.0\",\"DIARRHOEA : 0.0211591936044/0.9999999999999998\",\"\",\"MALIGNANT NEOPLASM PROGRESSION : 0.0574712643678/1.0\",\"DEATH : 0.0505050505051/1.0\",\"STILLBIRTH : 0.0836956521739/0.9999999999999999\",\"PAIN : 0.0252445650722/1.0\",\"\",\"ANAEMIA : 0.0188608072425/1.0\",\"VIRAL MUTATION IDENTIFIED : 0.14606741573/1.0\",\"\",\"FATIGUE : 0.0921052631579/0.9999999999999996\",\"PYREXIA : 0.0524781341108/0.9999999999999997\",\"FATIGUE : 0.0247812368365/1.0\",\"\",\"NAUSEA : 0.0218647901483/0.9999999999999999\",\"VOMITING : 0.0210336538462/1.0\",\"PYREXIA : 0.0234447909316/1.0\",\"GAIT DISTURBANCE : 0.0902255639098/1.0\",\"COMA : 0.0808510638298/1.0\",\"DRUG INEFFECTIVE : 0.0203915171289/1.0\",\"STILLBIRTH : 0.13829787234/1.0\",\"SOMNOLENCE : 0.0311936065996/0.9999999999999998\",\"HYPERGLYCAEMIA : 0.25/1.0\",\"PYREXIA : 0.0325203252033/0.9999999999999999\",\"DEATH : 0.0196040560116/0.9999999999999999\",\"DIZZINESS : 0.0224806536682/0.9999999999999999\",\"VOMITING : 0.0252808988764/1.0\",\"PYREXIA : 0.0203658957542/1.0\",\"ANAEMIA : 0.0310542797495/1.0\",\"PLATELET COUNT DECREASED : 0.0548780487805/1.0\",\"PYREXIA : 0.0321931589537/1.0\",\"DRUG RESISTANCE : 0.122605363985/1.0\",\"\",\"DYSPNOEA : 0.0224304582011/1.0\",\"DIARRHOEA : 0.0173191299506/1.0\",\"\",\"DEATH : 0.2/1.0\",\"\",\"PULMONARY TUBERCULOSIS : 0.0353697749196/1.0\",\"DYSPNOEA : 0.0197726451541/1.0\",\"PATHOGEN RESISTANCE : 0.0513833992095/1.0\",\"DRUG INEFFECTIVE : 0.0262759924386/1.0\",\"\",\"PAIN : 0.0225988700565/1.0\",\"\",\"\",\"MALAISE : 0.0282131661442/1.0\",\"OVERDOSE : 0.0160630841121/0.9999999999999999\",\"DYSPNOEA : 0.0240324293022/1.0\",\"CHOLANGITIS SCLEROSING : 0.0280112044818/0.9999999999999999\",\"MYOCARDIAL INFARCTION : 0.025889286466/1.0\",\"GENERAL PHYSICAL HEALTH DETERIORATION : 0.0326165740517/1.0\",\"APNOEA : 0.024645257655/1.0\",\"HEADACHE : 0.0261682242991/1.0\",\"MALAISE : 0.0242399815753/1.0\",\"DEATH : 0.0264016151576/1.0\",\"ASTHENIA : 0.023064839099/1.0\",\"CEREBROVASCULAR ACCIDENT : 0.0335820895522/1.0\",\"ANAEMIA : 0.0208959538643/0.9999999999999999\",\"SEPSIS : 0.0717299578059/1.0\",\"ASTHENIA : 0.0410022779043/0.9999999999999999\",\"FOETAL EXPOSURE DURING PREGNANCY : 0.0457516339869/1.0\",\"TOXICITY TO VARIOUS AGENTS : 0.0545454545455/1.0\",\"PNEUMONIA : 0.0280306660278/0.9999999999999999\",\"DYSPNOEA : 0.0326633165829/1.0\",\"CHEST PAIN : 0.166666666667/0.9999999999999999\",\"HYPOKALAEMIA : 0.333333333333/1.0\",\"DRUG INEFFECTIVE : 0.0347349177331/1.0\",\"FATIGUE : 0.0271172298707/1.0\",\"RESPIRATORY FAILURE : 0.111111111111/1.0\",\"\",\"INTENTIONAL OVERDOSE : 0.0313339301701/1.0000000000000002\",\"PNEUMONIA : 0.0359477124183/0.9999999999999997\",\"\",\"FOETAL EXPOSURE DURING PREGNANCY : 0.0708661417323/0.9999999999999998\",\"\",\"DEATH : 0.0810055865922/1.0000000000000002\",\"PYREXIA : 0.0181038589805/1.0\",\"\",\"\",\"CHRONIC OBSTRUCTIVE PULMONARY DISEASE : 0.0563909774436/1.0\",\"INFECTION : 0.235294117647/1.0\",\"HEADACHE : 0.0183637602668/0.9999999999999999\",\"HYPOTENSION : 0.238095238095/1.0\",\"SUSPECTED TRANSMISSION OF AN INFECTIOUS AGENT VIA PRODUCT : 0.2/1.0\",\"GASTROINTESTINAL DISORDER : 0.0851063829787/0.9999999999999999\",\"PYREXIA : 0.0239316239316/1.0\",\"FOETAL EXPOSURE DURING PREGNANCY : 0.333333333333/1.0\",\"\",\"NONINFECTIOUS PERITONITIS : 0.036036036036/1.0\",\"TERMINAL STATE : 0.0212915466236/0.9999999999999999\",\"DYSPNOEA : 0.0209772951629/1.0\",\"ANAESTHETIC COMPLICATION : 0.16/1.0\",\"FOOD INTERACTION : 0.16049382716/1.0\",\"HEADACHE : 0.0350631136045/1.0\",\"NAUSEA : 0.0195639664983/1.0\",\"HYPERTENSION : 0.0630372492837/1.0\",\"DYSPNOEA : 0.0225/0.9999999999999999\",\"ASTHENIA : 0.0276273022752/0.9999999999999998\",\"\",\"FOETAL EXPOSURE DURING PREGNANCY : 0.0593220338983/1.0\",\"PULMONARY FIBROSIS : 0.0234388079692/0.9999999999999999\",\"PNEUMONIA : 0.0385168611156/1.0\",\"DYSPNOEA : 0.0246808510638/1.0\",\"FATIGUE : 0.0187457005274/1.0\",\"DRUG INEFFECTIVE : 0.042079364078/1.0\",\"DRUG INEFFECTIVE : 0.0505836575875/1.0\",\"\",\"ANAEMIA : 0.0232980656193/0.9999999999999999\",\"NAUSEA : 0.0191424691198/1.0\",\"GOUTY ARTHRITIS : 0.157894736842/0.9999999999999999\",\"DEATH : 0.0319001386963/0.9999999999999998\",\"SKIN ATROPHY : 0.0929203539823/1.0\",\"DYSPNOEA : 0.0208178438662/0.9999999999999999\",\"RASH : 0.0401313389274/1.0\",\"ANAEMIA : 0.0195215837228/1.0000000000000002\",\"DEATH : 0.0165121013345/1.0\",\"PNEUMONIA : 0.0179065366138/0.9999999999999999\",\"PYREXIA : 0.0209281977108/1.0\",\"MYOPATHY : 0.0498084291188/1.0\",\"SUDDEN DEATH : 0.0877192982456/1.0\",\"NAUSEA : 0.0252668263995/1.0\",\"PYREXIA : 0.0164784053156/1.0\",\"DRUG INEFFECTIVE : 0.106382978723/1.0\",\"PNEUMONIA : 0.0230655979061/1.0\",\"\",\"VIROLOGIC FAILURE : 0.11320754717/1.0\",\"CARDIOVASCULAR DISORDER : 0.0291315500183/1.0\",\"\",\"NAUSEA : 0.0961538461538/1.0\",\"HYPOTENSION : 0.0234182415776/1.0\",\"DRUG INEFFECTIVE : 0.0244517267457/1.0\",\"ABORTION SPONTANEOUS : 0.0484384958572/1.0\",\"ANAEMIA : 0.0292953285827/0.9999999999999999\",\"DEATH : 0.0284810126582/1.0\",\"FATIGUE : 0.021887002818/1.0\",\"NAUSEA : 0.0250886775161/1.0\",\"MYALGIA : 0.25/1.0\",\"DIARRHOEA : 0.0353773584906/1.0\",\"MYOCARDIAL INFARCTION : 0.0737704918033/1.0\",\"MYOCARDIAL INFARCTION : 0.0352126607319/1.0\",\"CEREBROVASCULAR ACCIDENT : 0.0396716826265/0.9999999999999999\",\"DRUG INEFFECTIVE : 0.155172413793/1.0\",\"VIROLOGIC FAILURE : 0.0909090909091/0.9999999999999998\"],\"weight\":[-3.8464555740356445,6.79362678527832,-1.9972119331359863,11.784355163574219,-1.4867749214172363,-3.4244091510772705,9.186592102050781,-8.082891464233398,-8.038381576538086,6.3036017417907715,10.70849609375,7.392830848693848,-0.766838014125824,11.393280982971191,5.808862209320068,-8.088922500610352,11.183484077453613,7.465224266052246,6.556300640106201,3.619532823562622,-3.926785707473755,11.54546070098877,-6.310389041900635,4.323491096496582,3.9801273345947266,11.52884578704834,3.611809730529785,-4.946105003356934,2.296701431274414,-4.113677024841309,-2.9299845695495605,-3.24810528755188,7.129128456115723,5.2875847816467285,-4.512556076049805,8.685324668884277,-8.66146469116211,-1.3243355751037598,6.115291118621826,-7.837374687194824,-8.354896545410156,-2.5507986545562744,-2.6473753452301025,-1.914514183998108,8.004855155944824,6.2842631340026855,3.667699098587036,5.172539234161377,-7.545211315155029,-8.553757667541504,3.3653762340545654,6.080353736877441,5.069952964782715,3.7134997844696045,-8.244729042053223,3.3233401775360107,-7.523746490478516,-4.021846771240234,-3.0960257053375244,10.968072891235352,9.89183235168457,-1.442463755607605,-2.2707583904266357,-7.279943466186523,4.497267723083496,-1.4840847253799438,-1.072435736656189,-3.227642297744751,-1.3952547311782837,-7.366198539733887,-6.9433913230896,-8.180277824401855,5.6128082275390625,-4.03892183303833,6.023307800292969,4.184457778930664,2.6241111755371094,4.372852325439453,-3.058269739151001,2.819650650024414,10.448559761047363,7.467227458953857,5.322204113006592,-3.7223308086395264,6.49415922164917,8.109978675842285,-1.9431663751602173,6.419394016265869,10.660426139831543,5.706517219543457,10.017688751220703,2.601663112640381,-3.0070960521698,10.28924560546875,7.004667282104492,11.081692695617676,11.193721771240234,-3.9562978744506836,11.446131706237793,-1.9106332063674927,10.546727180480957,-2.139340877532959,10.043144226074219,5.485554218292236,3.9737191200256348,-7.893705368041992,-8.400386810302734,1.4931827783584595,3.1124086380004883,2.837596893310547,-8.792337417602539,3.8036577701568604,-1.0889270305633545,-3.666033983230591,9.306696891784668,7.239440441131592,-2.894334316253662,-1.1630126237869263,-7.258159637451172,-7.681386470794678,-4.235747814178467,3.31575083732605,-3.064558267593384,-6.098918914794922,-5.367252826690674,4.123990058898926,-2.7630398273468018,4.173012733459473,-7.001529693603516,-3.1201555728912354,-7.47597074508667,-8.320612907409668,-3.1755332946777344,-7.759710311889648,5.26367712020874,4.635798454284668,-8.763886451721191,-8.473748207092285,6.464507579803467,-1.6105618476867676,10.441094398498535,5.059304714202881,-1.176977515220642,10.826908111572266,11.05467414855957,-1.9091726541519165,-7.290132999420166,2.008920669555664,-1.3923015594482422,-2.3831074237823486,-8.01078987121582,-5.351011753082275,11.593221664428711,-2.326979160308838,3.2803494930267334,-3.3035919666290283,-1.0753453969955444,8.632353782653809,3.623868703842163]},\"selected\":{\"id\":\"fb1e174f-e7b4-4310-8154-08f02006d065\",\"type\":\"Selection\"},\"selection_policy\":{\"id\":\"02c42aa2-6bdc-49a1-a9df-0c8b48dda74e\",\"type\":\"UnionRenderers\"}},\"id\":\"5fb170b6-6028-4c07-986a-df23214ebdea\",\"type\":\"ColumnDataSource\"}],\"root_ids\":[\"b463817e-eb15-4812-a890-4fd8940d64cc\"]},\"title\":\"Bokeh Application\",\"version\":\"0.13.0\"}};\n",
       "  var render_items = [{\"docid\":\"45ae5da6-84f5-4ab4-b863-ea942c9021b6\",\"roots\":{\"b463817e-eb15-4812-a890-4fd8940d64cc\":\"013391c2-3bd4-4cba-8811-a4fd968ab908\"}}];\n",
       "  root.Bokeh.embed.embed_items_notebook(docs_json, render_items);\n",
       "\n",
       "  }\n",
       "  if (root.Bokeh !== undefined) {\n",
       "    embed_document(root);\n",
       "  } else {\n",
       "    var attempts = 0;\n",
       "    var timer = setInterval(function(root) {\n",
       "      if (root.Bokeh !== undefined) {\n",
       "        embed_document(root);\n",
       "        clearInterval(timer);\n",
       "      }\n",
       "      attempts++;\n",
       "      if (attempts > 100) {\n",
       "        console.log(\"Bokeh: ERROR: Unable to run BokehJS code because BokehJS library is missing\")\n",
       "        clearInterval(timer);\n",
       "      }\n",
       "    }, 10, root)\n",
       "  }\n",
       "})(window);"
      ],
      "application/vnd.bokehjs_exec.v0+json": ""
     },
     "metadata": {
      "application/vnd.bokehjs_exec.v0+json": {
       "id": "b463817e-eb15-4812-a890-4fd8940d64cc"
      }
     },
     "output_type": "display_data"
    }
   ],
   "source": [
    "show_country_similarity(score_matrices['bpr'],countries)"
   ]
  },
  {
   "cell_type": "markdown",
   "metadata": {},
   "source": [
    "In addition to the previously mention, it is worth to mention:\n",
    "    \n",
    "Lebanon appears in the south american cluster (which could be explained as the high level of migrants from Lebanon are based in South America)\n",
    "\n",
    "East Europe Form a new and seperated cluster.\n",
    "\n",
    "A larger mixed group with very few reported events (1 or 2)\n",
    "\n",
    "Several American countries appears in Africa Like Nicaragua, Jamaica,Frensh Guiana\n"
   ]
  },
  {
   "cell_type": "code",
   "execution_count": 138,
   "metadata": {},
   "outputs": [
    {
     "data": {
      "text/html": [
       "\n",
       "\n",
       "\n",
       "\n",
       "\n",
       "\n",
       "  <div class=\"bk-root\" id=\"c7b55cfd-41de-4bcb-9b74-848434cbc31f\"></div>\n"
      ]
     },
     "metadata": {},
     "output_type": "display_data"
    },
    {
     "data": {
      "application/javascript": [
       "(function(root) {\n",
       "  function embed_document(root) {\n",
       "    \n",
       "  var docs_json = {\"306328c1-eee6-444e-bc3a-9277d1a7f288\":{\"roots\":{\"references\":[{\"attributes\":{},\"id\":\"59a9336d-452a-4726-a429-a3320bc2f152\",\"type\":\"UnionRenderers\"},{\"attributes\":{\"axis_label\":\"Comp2\",\"formatter\":{\"id\":\"b9d408e6-5a2d-4538-9a19-2e98676ff38d\",\"type\":\"BasicTickFormatter\"},\"plot\":{\"id\":\"7229476e-ed44-490f-ba48-f85f5a0640d5\",\"subtype\":\"Figure\",\"type\":\"Plot\"},\"ticker\":{\"id\":\"ed0e179a-a378-4ec8-8aef-789a0b6b2d9e\",\"type\":\"BasicTicker\"}},\"id\":\"85d5b123-c066-461a-92b8-baf780bc151a\",\"type\":\"LinearAxis\"},{\"attributes\":{},\"id\":\"41872403-be6f-46bc-bd08-35f7c194fafa\",\"type\":\"LinearScale\"},{\"attributes\":{},\"id\":\"b9d408e6-5a2d-4538-9a19-2e98676ff38d\",\"type\":\"BasicTickFormatter\"},{\"attributes\":{\"axis_label\":\"Comp1\",\"formatter\":{\"id\":\"7ad79b6f-38e8-4f90-a294-83b7ef467213\",\"type\":\"BasicTickFormatter\"},\"plot\":{\"id\":\"7229476e-ed44-490f-ba48-f85f5a0640d5\",\"subtype\":\"Figure\",\"type\":\"Plot\"},\"ticker\":{\"id\":\"5dfef587-fe96-4d9e-9f95-2c9b119deb99\",\"type\":\"BasicTicker\"}},\"id\":\"327feb2c-ec7c-43eb-a447-88725174b29c\",\"type\":\"LinearAxis\"},{\"attributes\":{},\"id\":\"dd46e2c6-35b7-4a53-9468-1a1323e79a0e\",\"type\":\"SaveTool\"},{\"attributes\":{},\"id\":\"ac436821-fd10-44e1-88f2-e744da435c44\",\"type\":\"WheelZoomTool\"},{\"attributes\":{\"callback\":null,\"renderers\":\"auto\",\"tooltips\":[[\"Name\",\"@names\"],[\"First Event\",\"@report_text1\"],[\"Second Event\",\"@report_text2\"],[\"Third Event\",\"@report_text3\"]]},\"id\":\"3b21cbd1-3d4d-41c8-99cd-2e547f503a7b\",\"type\":\"HoverTool\"},{\"attributes\":{\"active_drag\":\"auto\",\"active_inspect\":\"auto\",\"active_multi\":null,\"active_scroll\":\"auto\",\"active_tap\":\"auto\",\"tools\":[{\"id\":\"fb449572-50de-4320-adaa-da881da26648\",\"type\":\"PanTool\"},{\"id\":\"ac436821-fd10-44e1-88f2-e744da435c44\",\"type\":\"WheelZoomTool\"},{\"id\":\"d0cf231f-6f58-441b-b422-844403d5bde9\",\"type\":\"BoxZoomTool\"},{\"id\":\"dd46e2c6-35b7-4a53-9468-1a1323e79a0e\",\"type\":\"SaveTool\"},{\"id\":\"3b21d858-7495-458f-87eb-2af3c62654f8\",\"type\":\"ResetTool\"},{\"id\":\"b4fc30f3-47d4-4e4d-8b18-ba986164198c\",\"type\":\"HelpTool\"},{\"id\":\"3b21cbd1-3d4d-41c8-99cd-2e547f503a7b\",\"type\":\"HoverTool\"}]},\"id\":\"17c09bd6-5101-496e-aba7-67730834e5e9\",\"type\":\"Toolbar\"},{\"attributes\":{\"plot\":null,\"text\":\"countries\"},\"id\":\"2e43d3da-788e-4c5f-acc1-dd69c00ec3ee\",\"type\":\"Title\"},{\"attributes\":{\"data_source\":{\"id\":\"30062110-2e9e-4f11-ba76-097b6b50155d\",\"type\":\"ColumnDataSource\"},\"glyph\":{\"id\":\"96b48f92-8a22-428b-8ea3-097181a2f39a\",\"type\":\"Circle\"},\"hover_glyph\":null,\"muted_glyph\":null,\"nonselection_glyph\":{\"id\":\"1a9e5d6b-354d-4435-b40c-f1fef48c6d22\",\"type\":\"Circle\"},\"selection_glyph\":null,\"view\":{\"id\":\"e3f6f338-1f39-4484-8600-2e2bb3dd9402\",\"type\":\"CDSView\"}},\"id\":\"53d05d86-4c5b-4359-8767-4ae3bacea55b\",\"type\":\"GlyphRenderer\"},{\"attributes\":{},\"id\":\"ed0e179a-a378-4ec8-8aef-789a0b6b2d9e\",\"type\":\"BasicTicker\"},{\"attributes\":{\"plot\":{\"id\":\"7229476e-ed44-490f-ba48-f85f5a0640d5\",\"subtype\":\"Figure\",\"type\":\"Plot\"},\"ticker\":{\"id\":\"5dfef587-fe96-4d9e-9f95-2c9b119deb99\",\"type\":\"BasicTicker\"}},\"id\":\"aeb6bc5c-13f4-4399-9565-bb46eef6e550\",\"type\":\"Grid\"},{\"attributes\":{\"below\":[{\"id\":\"327feb2c-ec7c-43eb-a447-88725174b29c\",\"type\":\"LinearAxis\"}],\"left\":[{\"id\":\"85d5b123-c066-461a-92b8-baf780bc151a\",\"type\":\"LinearAxis\"}],\"plot_height\":500,\"plot_width\":800,\"renderers\":[{\"id\":\"327feb2c-ec7c-43eb-a447-88725174b29c\",\"type\":\"LinearAxis\"},{\"id\":\"aeb6bc5c-13f4-4399-9565-bb46eef6e550\",\"type\":\"Grid\"},{\"id\":\"85d5b123-c066-461a-92b8-baf780bc151a\",\"type\":\"LinearAxis\"},{\"id\":\"ecd93afb-682c-4c25-bdad-1ad951244bba\",\"type\":\"Grid\"},{\"id\":\"2d8534f9-63a0-442d-9fbc-7e71b0f43719\",\"type\":\"BoxAnnotation\"},{\"id\":\"0f32d08d-dd48-48b4-abd0-c212e6aabc82\",\"type\":\"Legend\"},{\"id\":\"53d05d86-4c5b-4359-8767-4ae3bacea55b\",\"type\":\"GlyphRenderer\"}],\"title\":{\"id\":\"2e43d3da-788e-4c5f-acc1-dd69c00ec3ee\",\"type\":\"Title\"},\"toolbar\":{\"id\":\"17c09bd6-5101-496e-aba7-67730834e5e9\",\"type\":\"Toolbar\"},\"x_range\":{\"id\":\"802daa0a-742d-4cb9-8565-bc4a946686c0\",\"type\":\"DataRange1d\"},\"x_scale\":{\"id\":\"77b2922d-0daa-45b1-a587-f9cb5dc01ec0\",\"type\":\"LinearScale\"},\"y_range\":{\"id\":\"3ead744c-df56-41eb-afb2-4c370df87ae4\",\"type\":\"DataRange1d\"},\"y_scale\":{\"id\":\"41872403-be6f-46bc-bd08-35f7c194fafa\",\"type\":\"LinearScale\"}},\"id\":\"7229476e-ed44-490f-ba48-f85f5a0640d5\",\"subtype\":\"Figure\",\"type\":\"Plot\"},{\"attributes\":{\"callback\":null},\"id\":\"3ead744c-df56-41eb-afb2-4c370df87ae4\",\"type\":\"DataRange1d\"},{\"attributes\":{\"items\":[{\"id\":\"e2994cab-6bd1-41c7-83ea-475f3cb01ca5\",\"type\":\"LegendItem\"}],\"plot\":{\"id\":\"7229476e-ed44-490f-ba48-f85f5a0640d5\",\"subtype\":\"Figure\",\"type\":\"Plot\"}},\"id\":\"0f32d08d-dd48-48b4-abd0-c212e6aabc82\",\"type\":\"Legend\"},{\"attributes\":{},\"id\":\"ace891bd-6596-4187-b7bd-c45819b85cfd\",\"type\":\"Selection\"},{\"attributes\":{\"fill_alpha\":{\"value\":0.1},\"fill_color\":{\"value\":\"#1f77b4\"},\"line_alpha\":{\"value\":0.1},\"line_color\":{\"value\":\"#1f77b4\"},\"size\":{\"units\":\"screen\",\"value\":5},\"x\":{\"field\":\"height\"},\"y\":{\"field\":\"weight\"}},\"id\":\"1a9e5d6b-354d-4435-b40c-f1fef48c6d22\",\"type\":\"Circle\"},{\"attributes\":{},\"id\":\"b4fc30f3-47d4-4e4d-8b18-ba986164198c\",\"type\":\"HelpTool\"},{\"attributes\":{},\"id\":\"5dfef587-fe96-4d9e-9f95-2c9b119deb99\",\"type\":\"BasicTicker\"},{\"attributes\":{\"source\":{\"id\":\"30062110-2e9e-4f11-ba76-097b6b50155d\",\"type\":\"ColumnDataSource\"}},\"id\":\"e3f6f338-1f39-4484-8600-2e2bb3dd9402\",\"type\":\"CDSView\"},{\"attributes\":{},\"id\":\"77b2922d-0daa-45b1-a587-f9cb5dc01ec0\",\"type\":\"LinearScale\"},{\"attributes\":{\"dimension\":1,\"plot\":{\"id\":\"7229476e-ed44-490f-ba48-f85f5a0640d5\",\"subtype\":\"Figure\",\"type\":\"Plot\"},\"ticker\":{\"id\":\"ed0e179a-a378-4ec8-8aef-789a0b6b2d9e\",\"type\":\"BasicTicker\"}},\"id\":\"ecd93afb-682c-4c25-bdad-1ad951244bba\",\"type\":\"Grid\"},{\"attributes\":{\"callback\":null},\"id\":\"802daa0a-742d-4cb9-8565-bc4a946686c0\",\"type\":\"DataRange1d\"},{\"attributes\":{},\"id\":\"3b21d858-7495-458f-87eb-2af3c62654f8\",\"type\":\"ResetTool\"},{\"attributes\":{},\"id\":\"7ad79b6f-38e8-4f90-a294-83b7ef467213\",\"type\":\"BasicTickFormatter\"},{\"attributes\":{\"fill_color\":{\"field\":\"colors\"},\"line_color\":{\"field\":\"colors\"},\"size\":{\"units\":\"screen\",\"value\":5},\"x\":{\"field\":\"height\"},\"y\":{\"field\":\"weight\"}},\"id\":\"96b48f92-8a22-428b-8ea3-097181a2f39a\",\"type\":\"Circle\"},{\"attributes\":{\"overlay\":{\"id\":\"2d8534f9-63a0-442d-9fbc-7e71b0f43719\",\"type\":\"BoxAnnotation\"}},\"id\":\"d0cf231f-6f58-441b-b422-844403d5bde9\",\"type\":\"BoxZoomTool\"},{\"attributes\":{\"label\":{\"field\":\"label\"},\"renderers\":[{\"id\":\"53d05d86-4c5b-4359-8767-4ae3bacea55b\",\"type\":\"GlyphRenderer\"}]},\"id\":\"e2994cab-6bd1-41c7-83ea-475f3cb01ca5\",\"type\":\"LegendItem\"},{\"attributes\":{\"bottom_units\":\"screen\",\"fill_alpha\":{\"value\":0.5},\"fill_color\":{\"value\":\"lightgrey\"},\"left_units\":\"screen\",\"level\":\"overlay\",\"line_alpha\":{\"value\":1.0},\"line_color\":{\"value\":\"black\"},\"line_dash\":[4,4],\"line_width\":{\"value\":2},\"plot\":null,\"render_mode\":\"css\",\"right_units\":\"screen\",\"top_units\":\"screen\"},\"id\":\"2d8534f9-63a0-442d-9fbc-7e71b0f43719\",\"type\":\"BoxAnnotation\"},{\"attributes\":{},\"id\":\"fb449572-50de-4320-adaa-da881da26648\",\"type\":\"PanTool\"},{\"attributes\":{\"callback\":null,\"data\":{\"codes\":[\"AF\",\"AL\",\"DZ\",\"AD\",\"AO\",\"AR\",\"AM\",\"AU\",\"AT\",\"AZ\",\"BS\",\"BH\",\"BD\",\"BB\",\"BY\",\"BE\",\"BJ\",\"BO\",\"BA\",\"BW\",\"BR\",\"BN\",\"BG\",\"BF\",\"BI\",\"KH\",\"CM\",\"CA\",\"TD\",\"CL\",\"CN\",\"CO\",\"CG\",\"CD\",\"CR\",\"CI\",\"HR\",\"CU\",\"CY\",\"CZ\",\"DK\",\"DO\",\"EC\",\"EG\",\"SV\",\"EE\",\"ET\",\"FO\",\"FI\",\"FR\",\"GF\",\"GA\",\"GM\",\"GE\",\"DE\",\"GH\",\"GR\",\"GD\",\"GT\",\"GW\",\"HT\",\"HN\",\"HK\",\"HU\",\"IS\",\"IN\",\"ID\",\"IR\",\"IQ\",\"IE\",\"IL\",\"IT\",\"JM\",\"JP\",\"JO\",\"KZ\",\"KE\",\"KP\",\"KR\",\"KW\",\"KG\",\"LA\",\"LV\",\"LB\",\"LS\",\"LY\",\"LT\",\"LU\",\"MO\",\"MK\",\"MG\",\"MW\",\"MY\",\"MV\",\"ML\",\"MT\",\"MU\",\"MX\",\"MD\",\"MN\",\"ME\",\"MA\",\"MZ\",\"MM\",\"NP\",\"NL\",\"NZ\",\"NI\",\"NE\",\"NG\",\"NO\",\"OM\",\"PK\",\"PA\",\"PG\",\"PY\",\"PE\",\"PH\",\"PL\",\"PT\",\"PR\",\"QA\",\"RE\",\"RO\",\"RU\",\"RW\",\"SA\",\"SN\",\"RS\",\"SG\",\"SK\",\"SI\",\"ZA\",\"ES\",\"LK\",\"SD\",\"SE\",\"CH\",\"SY\",\"TW\",\"TJ\",\"TZ\",\"TH\",\"TG\",\"TT\",\"TN\",\"TR\",\"UG\",\"UA\",\"AE\",\"GB\",\"US\",\"UM\",\"UY\",\"UZ\",\"VE\",\"VN\",\"ZM\",\"ZW\"],\"colors\":[\"#444444\",\"#1f78b4\",\"#33a02c\",\"#1f78b4\",\"#33a02c\",\"#e31a1c\",\"#444444\",\"#fb9a99\",\"#1f78b4\",\"#444444\",\"#e31a1c\",\"#444444\",\"#444444\",\"#e31a1c\",\"#1f78b4\",\"#1f78b4\",\"#33a02c\",\"#e31a1c\",\"#1f78b4\",\"#33a02c\",\"#e31a1c\",\"#444444\",\"#1f78b4\",\"#33a02c\",\"#33a02c\",\"#444444\",\"#33a02c\",\"#e31a1c\",\"#33a02c\",\"#e31a1c\",\"#444444\",\"#e31a1c\",\"#33a02c\",\"#33a02c\",\"#e31a1c\",\"#33a02c\",\"#1f78b4\",\"#e31a1c\",\"#444444\",\"#1f78b4\",\"#1f78b4\",\"#e31a1c\",\"#e31a1c\",\"#33a02c\",\"#e31a1c\",\"#1f78b4\",\"#33a02c\",\"#1f78b4\",\"#1f78b4\",\"#1f78b4\",\"#e31a1c\",\"#33a02c\",\"#33a02c\",\"#444444\",\"#1f78b4\",\"#33a02c\",\"#1f78b4\",\"#e31a1c\",\"#e31a1c\",\"#33a02c\",\"#e31a1c\",\"#e31a1c\",\"#444444\",\"#1f78b4\",\"#1f78b4\",\"#444444\",\"#444444\",\"#444444\",\"#444444\",\"#1f78b4\",\"#444444\",\"#1f78b4\",\"#e31a1c\",\"#444444\",\"#444444\",\"#444444\",\"#33a02c\",\"#444444\",\"#444444\",\"#444444\",\"#444444\",\"#444444\",\"#1f78b4\",\"#444444\",\"#33a02c\",\"#33a02c\",\"#1f78b4\",\"#1f78b4\",\"#444444\",\"#1f78b4\",\"#33a02c\",\"#33a02c\",\"#444444\",\"#444444\",\"#33a02c\",\"#1f78b4\",\"#33a02c\",\"#e31a1c\",\"#1f78b4\",\"#444444\",\"#1f78b4\",\"#33a02c\",\"#33a02c\",\"#444444\",\"#444444\",\"#1f78b4\",\"#fb9a99\",\"#e31a1c\",\"#33a02c\",\"#33a02c\",\"#1f78b4\",\"#444444\",\"#444444\",\"#e31a1c\",\"#fb9a99\",\"#e31a1c\",\"#e31a1c\",\"#444444\",\"#1f78b4\",\"#1f78b4\",\"#e31a1c\",\"#444444\",\"#33a02c\",\"#1f78b4\",\"#1f78b4\",\"#33a02c\",\"#444444\",\"#33a02c\",\"#1f78b4\",\"#444444\",\"#1f78b4\",\"#1f78b4\",\"#33a02c\",\"#1f78b4\",\"#444444\",\"#33a02c\",\"#1f78b4\",\"#1f78b4\",\"#444444\",\"#444444\",\"#444444\",\"#33a02c\",\"#444444\",\"#33a02c\",\"#e31a1c\",\"#33a02c\",\"#444444\",\"#33a02c\",\"#1f78b4\",\"#444444\",\"#1f78b4\",\"#e31a1c\",\"#fb9a99\",\"#e31a1c\",\"#444444\",\"#e31a1c\",\"#444444\",\"#33a02c\",\"#33a02c\"],\"height\":[-12.854819297790527,-11.94186019897461,-2.781369686126709,-12.972678184509277,-5.639686107635498,6.719635009765625,-8.499445915222168,4.1925177574157715,2.1589035987854004,-10.667017936706543,-11.380462646484375,-9.867500305175781,-4.511280536651611,-12.032625198364258,-8.091797828674316,2.848492383956909,-12.153864860534668,-10.268147468566895,-9.239161491394043,-8.420198440551758,6.6706671714782715,-12.464584350585938,1.238067865371704,-5.686728477478027,-5.118728160858154,-10.043412208557129,-8.923593521118164,5.851564884185791,-5.223339080810547,6.440241813659668,-1.089104175567627,7.094905853271484,-11.315982818603516,-10.82584285736084,6.167208671569824,-11.308467864990234,1.5107791423797607,-14.894752502441406,-7.541924476623535,0.9098328948020935,3.832026243209839,-3.412902593612671,6.2547831535339355,-2.1609060764312744,-10.846904754638672,-5.082951068878174,-5.551699638366699,-10.890812873840332,4.689528465270996,2.7305922508239746,-13.70108699798584,-5.628790378570557,-10.277756690979004,-7.682540416717529,2.4598920345306396,-10.997830390930176,1.4241491556167603,-12.846963882446289,5.343234062194824,-11.075824737548828,-8.94905948638916,-4.049516201019287,-1.202333927154541,1.5420465469360352,-8.1693754196167,0.1785942167043686,0.8840513229370117,-1.6473833322525024,-3.314338207244873,4.516729831695557,3.12570858001709,0.9002783894538879,-8.505544662475586,-1.3273683786392212,-8.353360176086426,-4.52012300491333,-4.904285430908203,-6.694401264190674,-1.2906602621078491,-6.360215187072754,-13.037920951843262,-12.97067642211914,-3.8735134601593018,2.923457622528076,-6.6513566970825195,-14.631815910339355,-1.7003544569015503,-7.334596157073975,-11.13984203338623,-9.886002540588379,-13.342424392700195,-6.169637680053711,-0.019099097698926926,-11.124231338500977,-14.04163646697998,-9.543313980102539,-12.167485237121582,7.257990837097168,-13.469549179077148,-14.663115501403809,-9.358293533325195,-2.5471394062042236,-9.68502140045166,-11.624174118041992,-8.53880500793457,3.4073128700256348,4.344104290008545,-12.782392501831055,-13.584664344787598,-5.7054853439331055,3.5346407890319824,-8.912590026855469,0.8293913006782532,5.576236248016357,-12.570734024047852,-8.716127395629883,6.9591169357299805,1.1133503913879395,1.384350061416626,2.1529736518859863,5.42221212387085,-7.164988040924072,-12.530098915100098,1.4054725170135498,1.4725308418273926,-13.371142387390137,-0.9178047776222229,-7.938742160797119,0.17587633430957794,-1.3217116594314575,0.8632038831710815,2.1318657398223877,3.486172676086426,2.2090935707092285,-10.52983283996582,-10.286645889282227,4.234426021575928,2.276935338973999,-14.542377471923828,-1.1070102453231812,-11.501328468322754,-5.763469696044922,-1.4255340099334717,-11.456418991088867,-12.611970901489258,-2.3311400413513184,1.1709718704223633,-5.021961212158203,0.06504058092832565,-0.45862001180648804,4.8340559005737305,5.461414337158203,-14.650228500366211,-2.8723602294921875,-10.596549987792969,6.762336730957031,0.867786169052124,-9.034274101257324,-6.106076240539551],\"label\":[\"Asia\",\"Europe\",\"Africa\",\"Europe\",\"Africa\",\"Americas\",\"Asia\",\"Oceania\",\"Europe\",\"Asia\",\"Americas\",\"Asia\",\"Asia\",\"Americas\",\"Europe\",\"Europe\",\"Africa\",\"Americas\",\"Europe\",\"Africa\",\"Americas\",\"Asia\",\"Europe\",\"Africa\",\"Africa\",\"Asia\",\"Africa\",\"Americas\",\"Africa\",\"Americas\",\"Asia\",\"Americas\",\"Africa\",\"Africa\",\"Americas\",\"Africa\",\"Europe\",\"Americas\",\"Asia\",\"Europe\",\"Europe\",\"Americas\",\"Americas\",\"Africa\",\"Americas\",\"Europe\",\"Africa\",\"Europe\",\"Europe\",\"Europe\",\"Americas\",\"Africa\",\"Africa\",\"Asia\",\"Europe\",\"Africa\",\"Europe\",\"Americas\",\"Americas\",\"Africa\",\"Americas\",\"Americas\",\"Asia\",\"Europe\",\"Europe\",\"Asia\",\"Asia\",\"Asia\",\"Asia\",\"Europe\",\"Asia\",\"Europe\",\"Americas\",\"Asia\",\"Asia\",\"Asia\",\"Africa\",\"Asia\",\"Asia\",\"Asia\",\"Asia\",\"Asia\",\"Europe\",\"Asia\",\"Africa\",\"Africa\",\"Europe\",\"Europe\",\"Asia\",\"Europe\",\"Africa\",\"Africa\",\"Asia\",\"Asia\",\"Africa\",\"Europe\",\"Africa\",\"Americas\",\"Europe\",\"Asia\",\"Europe\",\"Africa\",\"Africa\",\"Asia\",\"Asia\",\"Europe\",\"Oceania\",\"Americas\",\"Africa\",\"Africa\",\"Europe\",\"Asia\",\"Asia\",\"Americas\",\"Oceania\",\"Americas\",\"Americas\",\"Asia\",\"Europe\",\"Europe\",\"Americas\",\"Asia\",\"Africa\",\"Europe\",\"Europe\",\"Africa\",\"Asia\",\"Africa\",\"Europe\",\"Asia\",\"Europe\",\"Europe\",\"Africa\",\"Europe\",\"Asia\",\"Africa\",\"Europe\",\"Europe\",\"Asia\",\"Asia\",\"Asia\",\"Africa\",\"Asia\",\"Africa\",\"Americas\",\"Africa\",\"Asia\",\"Africa\",\"Europe\",\"Asia\",\"Europe\",\"Americas\",\"Oceania\",\"Americas\",\"Asia\",\"Americas\",\"Asia\",\"Africa\",\"Africa\"],\"names\":[\"Afghanistan\",\"Albania\",\"Algeria\",\"Andorra\",\"Angola\",\"Argentina\",\"Armenia\",\"Australia\",\"Austria\",\"Azerbaijan\",\"Bahamas\",\"Bahrain\",\"Bangladesh\",\"Barbados\",\"Belarus\",\"Belgium\",\"Benin\",\"Bolivia (Plurinational State of)\",\"Bosnia and Herzegovina\",\"Botswana\",\"Brazil\",\"Brunei Darussalam\",\"Bulgaria\",\"Burkina Faso\",\"Burundi\",\"Cambodia\",\"Cameroon\",\"Canada\",\"Chad\",\"Chile\",\"China\",\"Colombia\",\"Congo\",\"Congo (Democratic Republic of the)\",\"Costa Rica\",\"C\\u00f4te d'Ivoire\",\"Croatia\",\"Cuba\",\"Cyprus\",\"Czechia\",\"Denmark\",\"Dominican Republic\",\"Ecuador\",\"Egypt\",\"El Salvador\",\"Estonia\",\"Ethiopia\",\"Faroe Islands\",\"Finland\",\"France\",\"French Guiana\",\"Gabon\",\"Gambia\",\"Georgia\",\"Germany\",\"Ghana\",\"Greece\",\"Grenada\",\"Guatemala\",\"Guinea-Bissau\",\"Haiti\",\"Honduras\",\"Hong Kong\",\"Hungary\",\"Iceland\",\"India\",\"Indonesia\",\"Iran (Islamic Republic of)\",\"Iraq\",\"Ireland\",\"Israel\",\"Italy\",\"Jamaica\",\"Japan\",\"Jordan\",\"Kazakhstan\",\"Kenya\",\"Korea (Democratic People's Republic of)\",\"Korea (Republic of)\",\"Kuwait\",\"Kyrgyzstan\",\"Lao People's Democratic Republic\",\"Latvia\",\"Lebanon\",\"Lesotho\",\"Libya\",\"Lithuania\",\"Luxembourg\",\"Macao\",\"Macedonia (the former Yugoslav Republic of)\",\"Madagascar\",\"Malawi\",\"Malaysia\",\"Maldives\",\"Mali\",\"Malta\",\"Mauritius\",\"Mexico\",\"Moldova (Republic of)\",\"Mongolia\",\"Montenegro\",\"Morocco\",\"Mozambique\",\"Myanmar\",\"Nepal\",\"Netherlands\",\"New Zealand\",\"Nicaragua\",\"Niger\",\"Nigeria\",\"Norway\",\"Oman\",\"Pakistan\",\"Panama\",\"Papua New Guinea\",\"Paraguay\",\"Peru\",\"Philippines\",\"Poland\",\"Portugal\",\"Puerto Rico\",\"Qatar\",\"R\\u00e9union\",\"Romania\",\"Russian Federation\",\"Rwanda\",\"Saudi Arabia\",\"Senegal\",\"Serbia\",\"Singapore\",\"Slovakia\",\"Slovenia\",\"South Africa\",\"Spain\",\"Sri Lanka\",\"Sudan\",\"Sweden\",\"Switzerland\",\"Syrian Arab Republic\",\"Taiwan, Province of China\",\"Tajikistan\",\"Tanzania, United Republic of\",\"Thailand\",\"Togo\",\"Trinidad and Tobago\",\"Tunisia\",\"Turkey\",\"Uganda\",\"Ukraine\",\"United Arab Emirates\",\"United Kingdom of Great Britain and Northern Ireland\",\"United States of America\",\"United States Minor Outlying Islands\",\"Uruguay\",\"Uzbekistan\",\"Venezuela (Bolivarian Republic of)\",\"Viet Nam\",\"Zambia\",\"Zimbabwe\"],\"report_count\":[55.0,55.0,55.0,55.0,55.0,55.0,55.0,55.0,55.0,55.0,55.0,55.0,55.0,55.0,55.0,55.0,55.0,55.0,55.0,55.0,55.0,55.0,55.0,55.0,55.0,55.0,55.0,55.0,55.0,55.0,55.0,55.0,55.0,55.0,55.0,55.0,55.0,55.0,55.0,55.0,55.0,55.0,55.0,55.0,55.0,55.0,55.0,55.0,55.0,55.0,55.0,55.0,55.0,55.0,55.0,55.0,55.0,55.0,55.0,55.0,55.0,55.0,55.0,55.0,55.0,55.0,55.0,55.0,55.0,55.0,55.0,55.0,55.0,55.0,55.0,55.0,55.0,55.0,55.0,55.0,55.0,55.0,55.0,55.0,55.0,55.0,55.0,55.0,55.0,55.0,55.0,55.0,55.0,55.0,55.0,55.0,55.0,55.0,55.0,55.0,55.0,55.0,55.0,55.0,55.0,55.0,55.0,55.0,55.0,55.0,55.0,55.0,55.0,55.0,55.0,55.0,55.0,55.0,55.0,55.0,55.0,55.0,55.0,55.0,55.0,55.0,55.0,55.0,55.0,55.0,55.0,55.0,55.0,55.0,55.0,55.0,55.0,55.0,55.0,55.0,55.0,55.0,55.0,55.0,55.0,55.0,55.0,55.0,55.0,55.0,55.0,55.0,55.0,55.0,55.0,55.0,55.0,55.0,55.0],\"report_text1\":[\"BENIGN UTERINE NEOPLASM : 1.0/1.0\",\"DEATH : 0.166666666667/1.0\",\"DEATH : 0.0407918416317/1.0\",\"ERYTHEMA : 1.0/1.0\",\"GENOTYPE DRUG RESISTANCE TEST POSITIVE : 0.333333333333/1.0\",\"DEATH : 0.056647784072/0.9999999999999999\",\"DEATH : 0.252100840336/1.0000000000000002\",\"DEATH : 0.0519555850182/1.0\",\"DEATH : 0.0404933964615/1.0\",\"DEATH : 0.378947368421/1.0\",\"DEATH : 1.0/1.0\",\"METABOLIC ACIDOSIS : 0.157303370787/0.9999999999999999\",\"DEATH : 0.147102526003/0.9999999999999998\",\"DEATH : 0.380952380952/1.0\",\"NEPHROPATHY : 0.0958904109589/1.0\",\"DEATH : 0.0346715328467/0.9999999999999998\",\"DEATH : 0.733333333333/1.0\",\"DEATH : 0.195402298851/1.0\",\"PULMONARY EMBOLISM : 0.0959595959596/1.0\",\"FOETAL EXPOSURE DURING PREGNANCY : 0.338043478261/0.9999999999999999\",\"DRUG INEFFECTIVE : 0.0289257302224/1.0\",\"DEATH : 0.6/1.0\",\"DEATH : 0.0313089400226/1.0\",\"VIROLOGIC FAILURE : 0.370786516854/1.0\",\"VIROLOGIC FAILURE : 0.52380952381/1.0\",\"PYREXIA : 0.105263157895/0.9999999999999996\",\"DEATH : 0.125364431487/0.9999999999999997\",\"DRUG INEFFECTIVE : 0.0366790917255/1.0\",\"VIROLOGIC FAILURE : 1.0/1.0\",\"DEATH : 0.0525257602413/0.9999999999999999\",\"DEATH : 0.0739340840081/1.0\",\"DEATH : 0.0500762524754/1.0\",\"ASTHENIA : 0.135338345865/1.0\",\"ASTHENIA : 0.144680851064/1.0\",\"DEATH : 0.0595432300163/1.0\",\"ABORTION SPONTANEOUS : 0.329787234043/1.0\",\"SUICIDE ATTEMPT : 0.0582624387729/0.9999999999999998\",\"DEVICE FAILURE : 0.25/1.0\",\"LOSS OF CONSCIOUSNESS : 0.0406504065041/0.9999999999999999\",\"DIARRHOEA : 0.0211492032834/0.9999999999999999\",\"FATIGUE : 0.0242963987722/0.9999999999999999\",\"DEATH : 0.0884831460674/1.0\",\"DEATH : 0.0562651018295/1.0\",\"DEATH : 0.0514091858038/1.0\",\"DEATH : 0.189024390244/1.0\",\"NAUSEA : 0.0382293762575/1.0\",\"DEATH : 0.39846743295/1.0\",\"RHABDOMYOLYSIS : 1.0/1.0\",\"FATIGUE : 0.0247915590644/1.0\",\"FATIGUE : 0.0263123932995/1.0\",\"PARADOXICAL DRUG REACTION : 0.636363636364/1.0\",\"DRUG RESISTANCE : 0.4/1.0\",\"FOETAL EXPOSURE DURING PREGNANCY : 0.5/1.0\",\"DEATH : 0.20578778135/1.0\",\"DEATH : 0.0203841129548/1.0\",\"DEATH : 0.102766798419/1.0\",\"DEATH : 0.0346565847511/1.0\",\"PNEUMOCEPHALUS : 1.0/1.0\",\"DEATH : 0.104519774011/1.0\",\"DEATH : 1.0/1.0\",\"ANAEMIA : 0.583333333333/1.0\",\"DEATH : 0.213166144201/1.0\",\"DEATH : 0.308703271028/0.9999999999999999\",\"DEATH : 0.0392819225943/1.0\",\"DRUG-INDUCED LIVER INJURY : 0.0532212885154/0.9999999999999999\",\"DEATH : 0.169618426196/1.0\",\"DEATH : 0.231940082145/1.0\",\"TOXICITY TO VARIOUS AGENTS : 0.0654717450834/1.0\",\"FATIGUE : 0.0364485981308/1.0\",\"DEATH : 0.0607438968217/1.0\",\"ASTHENIA : 0.0308018843506/1.0\",\"DRUG ABUSE : 0.0367378860714/1.0\",\"ANAESTHETIC COMPLICATION NEUROLOGICAL : 0.208955223881/1.0\",\"PYREXIA : 0.0277896172534/0.9999999999999999\",\"DRUG ABUSE : 0.0801687763713/1.0\",\"DRUG INEFFECTIVE : 0.0592255125285/0.9999999999999999\",\"DEATH : 0.156862745098/1.0\",\"DISEASE PROGRESSION : 0.0863636363636/1.0\",\"NEUTROPENIA : 0.0365596550072/0.9999999999999999\",\"DRUG INEFFECTIVE : 0.0678391959799/1.0\",\"DEATH : 0.458333333333/0.9999999999999999\",\"DYSPNOEA : 0.333333333333/1.0\",\"DYSPNOEA : 0.0457038391225/1.0\",\"DEATH : 0.0408844388819/1.0\",\"DRUG RESISTANCE : 0.152777777778/1.0\",\"PULMONARY HAEMORRHAGE : 0.611111111111/1.0\",\"SUICIDE ATTEMPT : 0.0456580125336/1.0000000000000002\",\"DEATH : 0.0359477124183/0.9999999999999997\",\"DEATH : 1.0/1.0\",\"ABORTION SPONTANEOUS : 0.11811023622/0.9999999999999998\",\"DEATH : 0.6/1.0\",\"FOETAL EXPOSURE DURING DELIVERY : 0.122905027933/1.0000000000000002\",\"DEATH : 0.106717484516/1.0\",\"DEATH : 1.0/1.0\",\"HAEMOGLOBIN DECREASED : 0.5/1.0\",\"DEATH : 0.0601503759398/1.0\",\"DEATH : 0.294117647059/1.0\",\"DEATH : 0.0748179763997/0.9999999999999999\",\"TREMOR : 0.333333333333/1.0\",\"ENDOPHTHALMITIS : 0.2/1.0\",\"RASH : 0.117021276596/0.9999999999999999\",\"DEATH : 0.0623931623932/1.0\",\"ANAEMIA : 0.333333333333/1.0\",\"ELECTROCARDIOGRAM QT PROLONGED : 1.0/1.0\",\"DEATH : 0.507507507508/1.0\",\"DEATH : 0.214110041459/0.9999999999999999\",\"DEATH : 0.0459032576505/1.0\",\"UNWANTED AWARENESS DURING ANAESTHESIA : 0.186666666667/1.0\",\"DRUG DEPENDENCE : 0.20987654321/1.0\",\"DEATH : 0.165497896213/1.0\",\"TOXICITY TO VARIOUS AGENTS : 0.0218656096158/1.0\",\"GENERALISED OEDEMA : 0.140401146132/1.0\",\"DEATH : 0.2403125/0.9999999999999999\",\"DEATH : 0.0368364030336/0.9999999999999998\",\"DEATH : 0.533333333333/1.0\",\"DEATH : 0.135593220339/1.0\",\"DEATH : 0.130252804286/0.9999999999999999\",\"DEATH : 0.112354163337/1.0\",\"DEATH : 0.0312653975364/1.0\",\"DYSPNOEA : 0.0249369410686/1.0\",\"NASOPHARYNGITIS : 0.0565894896221/1.0\",\"HYPOTHYROIDISM : 0.260700389105/1.0\",\"BRONCHIECTASIS : 1.0/1.0\",\"DEATH : 0.0352677140109/0.9999999999999999\",\"DRUG INEFFECTIVE : 0.03401668499/1.0\",\"DEATH : 0.289473684211/0.9999999999999999\",\"ACUTE KIDNEY INJURY : 0.0426490984743/0.9999999999999998\",\"DEATH : 0.243362831858/1.0\",\"OVERLAP SYNDROME : 0.0211895910781/0.9999999999999999\",\"ANGIOEDEMA : 0.0809923385626/1.0\",\"DEATH : 0.0244707176244/1.0000000000000002\",\"DYSPNOEA : 0.0237502827415/1.0\",\"DEATH : 0.137356238171/0.9999999999999999\",\"DEATH : 0.0262495312584/1.0\",\"DEATH : 0.153256704981/1.0\",\"DEATH : 0.350877192982/1.0\",\"TOXICITY TO VARIOUS AGENTS : 0.0393938451007/1.0\",\"NAUSEA : 0.0173754152824/1.0\",\"DIARRHOEA : 0.148936170213/1.0\",\"DEATH : 0.114401003326/1.0\",\"DEATH : 1.0/1.0\",\"TREATMENT FAILURE : 0.301886792453/1.0\",\"DEATH : 0.124954195676/1.0\",\"DEATH : 1.0/1.0\",\"DEATH : 0.288461538462/1.0\",\"DRUG REACTION WITH EOSINOPHILIA AND SYSTEMIC SYMPTOMS : 0.0427280197206/1.0\",\"TOXICITY TO VARIOUS AGENTS : 0.0268644891786/1.0\",\"DEATH : 0.0605481198215/1.0\",\"DRUG INEFFECTIVE : 0.0395882818686/0.9999999999999999\",\"DRUG INEFFECTIVE : 0.0300632911392/1.0\",\"DEATH : 0.0354938192679/1.0\",\"DRUG INEFFECTIVE : 0.0477314823183/1.0\",\"DRUG INEFFECTIVE : 0.5/1.0\",\"DEATH : 0.0864779874214/1.0\",\"DEATH : 0.176229508197/1.0\",\"DEATH : 0.244378503132/1.0\",\"ASTHENIA : 0.0424076607387/0.9999999999999999\",\"DEATH : 0.310344827586/1.0\",\"DEATH : 0.115702479339/0.9999999999999998\"],\"report_text2\":[\"\",\"DYSPNOEA : 0.107142857143/1.0\",\"VOMITING : 0.0305938812238/1.0\",\"\",\"TREATMENT FAILURE : 0.333333333333/1.0\",\"PAIN : 0.0266577807398/0.9999999999999999\",\"ASTHENIA : 0.0672268907563/1.0000000000000002\",\"MALAISE : 0.0200254115567/1.0\",\"DIARRHOEA : 0.0206204834289/1.0\",\"EXPOSURE DURING PREGNANCY : 0.189473684211/1.0\",\"\",\"RHABDOMYOLYSIS : 0.157303370787/0.9999999999999999\",\"CEREBROVASCULAR ACCIDENT : 0.0794947994056/0.9999999999999998\",\"ASTHMA : 0.238095238095/1.0\",\"DEATH : 0.0684931506849/1.0\",\"FATIGUE : 0.0238095238095/0.9999999999999998\",\"EXPOSURE DURING PREGNANCY : 0.266666666667/1.0\",\"GENERAL PHYSICAL HEALTH DETERIORATION : 0.0689655172414/1.0\",\"HYPERPROLACTINAEMIA : 0.0808080808081/1.0\",\"SMALL FOR DATES BABY : 0.260869565217/0.9999999999999999\",\"MALAISE : 0.0262009200241/1.0\",\"FEMUR FRACTURE : 0.4/1.0\",\"DYSPNOEA : 0.0207468879668/1.0\",\"FOETAL EXPOSURE DURING PREGNANCY : 0.157303370787/1.0\",\"DRUG RESISTANCE : 0.47619047619/1.0\",\"ASTHENIA : 0.0921052631579/0.9999999999999996\",\"ASTHENIA : 0.0787172011662/0.9999999999999997\",\"DEATH : 0.032037577193/1.0\",\"\",\"VOMITING : 0.0242523247047/0.9999999999999999\",\"PYREXIA : 0.0219509109312/1.0\",\"HEADACHE : 0.0253795552318/1.0\",\"PYREXIA : 0.127819548872/1.0\",\"PYREXIA : 0.106382978723/1.0\",\"MALAISE : 0.0240619902121/1.0\",\"DEATH : 0.18085106383/1.0\",\"INTENTIONAL OVERDOSE : 0.045630317092/0.9999999999999998\",\"DIABETIC KETOACIDOSIS : 0.25/1.0\",\"MYOCARDIAL INFARCTION : 0.0406504065041/0.9999999999999999\",\"DYSPNOEA : 0.020280057943/0.9999999999999999\",\"DYSPNOEA : 0.0242099347196/0.9999999999999999\",\"PYREXIA : 0.0435393258427/1.0\",\"CARDIO-RESPIRATORY ARREST : 0.0286503279254/1.0\",\"HEPATIC FAILURE : 0.0506263048017/1.0\",\"HAEMOGLOBIN DECREASED : 0.0731707317073/1.0\",\"CEREBROVASCULAR ACCIDENT : 0.0321931589537/1.0\",\"VIROLOGIC FAILURE : 0.14687100894/1.0\",\"\",\"PYREXIA : 0.0241274994466/1.0\",\"HEADACHE : 0.0191775164729/1.0\",\"CONDITION AGGRAVATED : 0.363636363636/1.0\",\"VIRAL MUTATION IDENTIFIED : 0.4/1.0\",\"LOW BIRTH WEIGHT BABY : 0.5/1.0\",\"HEPATIC CIRRHOSIS : 0.122186495177/1.0\",\"NAUSEA : 0.0203563189638/1.0\",\"NEUROPATHY PERIPHERAL : 0.0592885375494/1.0\",\"PYREXIA : 0.027284183995/1.0\",\"\",\"MALAISE : 0.0536723163842/1.0\",\"\",\"SEPSIS : 0.416666666667/1.0\",\"CEREBROVASCULAR ACCIDENT : 0.0313479623824/1.0\",\"DRUG INEFFECTIVE : 0.0192757009346/0.9999999999999999\",\"DIARRHOEA : 0.0277965447351/1.0\",\"VOMITING : 0.03081232493/0.9999999999999999\",\"INFECTION : 0.0275731424963/1.0\",\"DYSPNOEA : 0.0328581783039/1.0\",\"OVERDOSE : 0.0263878516306/1.0\",\"PYREXIA : 0.0317757009346/1.0\",\"LOWER RESPIRATORY TRACT INFECTION : 0.0267733763243/1.0\",\"PYREXIA : 0.028834705182/1.0\",\"SOPOR : 0.0302519535332/1.0\",\"DEATH : 0.167910447761/1.0\",\"INTERSTITIAL LUNG DISEASE : 0.0220004225149/0.9999999999999999\",\"DEATH : 0.0717299578059/1.0\",\"DEATH : 0.0478359908884/0.9999999999999999\",\"ABORTION SPONTANEOUS : 0.0606909430439/1.0\",\"PNEUMONIA : 0.0590909090909/1.0\",\"DEATH : 0.0363679923335/0.9999999999999999\",\"DEATH : 0.0376884422111/1.0\",\"TUBERCULOSIS : 0.208333333333/0.9999999999999999\",\"GASTRIC ULCER HAEMORRHAGE : 0.333333333333/1.0\",\"PNEUMONIA : 0.0383912248629/1.0\",\"PYREXIA : 0.0321234876929/1.0\",\"ANAEMIA : 0.125/1.0\",\"DRUG INEFFECTIVE : 0.388888888889/1.0\",\"PYREXIA : 0.034914950761/1.0000000000000002\",\"DYSPNOEA : 0.0359477124183/0.9999999999999997\",\"\",\"EXPOSURE DURING PREGNANCY : 0.0787401574803/0.9999999999999998\",\"PYREXIA : 0.4/1.0\",\"EXPOSURE DURING BREAST FEEDING : 0.100558659218/1.0000000000000002\",\"DYSPNOEA : 0.0264411624583/1.0\",\"\",\"MALARIA : 0.5/1.0\",\"NEUROLEPTIC MALIGNANT SYNDROME : 0.0601503759398/1.0\",\"BLINDNESS : 0.235294117647/1.0\",\"FALL : 0.0188658943366/0.9999999999999999\",\"HYPERTHERMIA : 0.238095238095/1.0\",\"INTENTIONAL PRODUCT USE ISSUE : 0.2/1.0\",\"DIARRHOEA : 0.0957446808511/0.9999999999999999\",\"DRUG REACTION WITH EOSINOPHILIA AND SYSTEMIC SYMPTOMS : 0.0282051282051/1.0\",\"APLASIA CUTIS CONGENITA : 0.333333333333/1.0\",\"\",\"HYPOTENSION : 0.042042042042/1.0\",\"HOSPITALISATION : 0.0396669243201/0.9999999999999999\",\"MALAISE : 0.024555774926/1.0\",\"PRODUCT QUALITY ISSUE : 0.173333333333/1.0\",\"DRUG ABUSE : 0.197530864198/1.0\",\"DRUG INTOLERANCE : 0.0350631136045/1.0\",\"DYSPNOEA : 0.0205229844639/1.0\",\"ASCITES : 0.0916905444126/1.0\",\"PYREXIA : 0.0240625/0.9999999999999999\",\"HEADACHE : 0.0281690140845/0.9999999999999998\",\"INTENTIONAL PRODUCT USE ISSUE : 0.466666666667/1.0\",\"PYREXIA : 0.0847457627119/1.0\",\"PNEUMONIA : 0.0349907918969/0.9999999999999999\",\"CARDIAC ARREST : 0.0544989611635/1.0\",\"DRUG INEFFECTIVE : 0.02960806271/1.0\",\"DRUG INEFFECTIVE : 0.0241343728503/1.0\",\"INJECTION SITE PAIN : 0.0509116144092/1.0\",\"DEATH : 0.0583657587549/1.0\",\"\",\"VOMITING : 0.0250080153895/0.9999999999999999\",\"DYSPNOEA : 0.0230873698506/1.0\",\"ACUTE HEPATIC FAILURE : 0.184210526316/0.9999999999999999\",\"MATERNAL EXPOSURE BEFORE PREGNANCY : 0.0339805825243/0.9999999999999998\",\"SQUAMOUS CELL CARCINOMA OF SKIN : 0.12389380531/1.0\",\"CHRONIC GRAFT VERSUS HOST DISEASE : 0.0208178438662/0.9999999999999999\",\"DEATH : 0.0693177672382/1.0\",\"DYSPNOEA : 0.0214462469068/1.0000000000000002\",\"FATIGUE : 0.0185478398552/1.0\",\"DRUG INEFFECTIVE : 0.0195079341971/0.9999999999999999\",\"ANAEMIA : 0.0226603096373/1.0\",\"TOXICITY TO VARIOUS AGENTS : 0.0766283524904/1.0\",\"ANAEMIA : 0.182456140351/1.0\",\"FATIGUE : 0.0315524162181/1.0\",\"ACUTE KIDNEY INJURY : 0.0167441860465/1.0\",\"BONE MARROW FAILURE : 0.106382978723/1.0\",\"PYREXIA : 0.0272097715252/1.0\",\"\",\"DRUG RESISTANCE : 0.292452830189/1.0\",\"SEPSIS : 0.0388420666911/1.0\",\"\",\"DYSPNOEA : 0.153846153846/1.0\",\"DRUG INEFFECTIVE : 0.031635168447/1.0\",\"DEATH : 0.0250999315784/1.0\",\"BLOOD CREATININE INCREASED : 0.0490758444869/1.0\",\"ASTHENIA : 0.0380047505938/0.9999999999999999\",\"VOMITING : 0.0300632911392/1.0\",\"MALAISE : 0.0271011164698/1.0\",\"FATIGUE : 0.0255795113825/1.0\",\"DIZZINESS : 0.25/1.0\",\"RESPIRATORY TRACT INFECTION : 0.0361635220126/1.0\",\"BLAST CRISIS IN MYELOGENOUS LEUKAEMIA : 0.139344262295/1.0\",\"CARDIAC DISORDER : 0.0373887240356/1.0\",\"DEATH : 0.0413816689466/0.9999999999999999\",\"ANAEMIA : 0.155172413793/1.0\",\"DRUG RESISTANCE : 0.0909090909091/0.9999999999999998\"],\"report_text3\":[\"\",\"URTICARIA : 0.0833333333333/1.0\",\"ASTHENIA : 0.0281943611278/1.0\",\"\",\"VIROLOGIC FAILURE : 0.333333333333/1.0\",\"FALL : 0.0242949319924/0.9999999999999999\",\"MYOCARDIAL INFARCTION : 0.0588235294118/1.0000000000000002\",\"DRUG INEFFECTIVE : 0.0189758037786/1.0\",\"PNEUMONIA : 0.0201221031647/1.0\",\"BLAST CRISIS IN MYELOGENOUS LEUKAEMIA : 0.0947368421053/1.0\",\"\",\"OVERDOSE : 0.14606741573/0.9999999999999999\",\"EXPOSURE DURING PREGNANCY : 0.054234769688/0.9999999999999998\",\"HEART RATE INCREASED : 0.190476190476/1.0\",\"DIZZINESS : 0.0616438356164/1.0\",\"DIARRHOEA : 0.0211591936044/0.9999999999999998\",\"\",\"MALIGNANT NEOPLASM PROGRESSION : 0.0574712643678/1.0\",\"DEATH : 0.0505050505051/1.0\",\"STILLBIRTH : 0.0836956521739/0.9999999999999999\",\"PAIN : 0.0252445650722/1.0\",\"\",\"ANAEMIA : 0.0188608072425/1.0\",\"VIRAL MUTATION IDENTIFIED : 0.14606741573/1.0\",\"\",\"FATIGUE : 0.0921052631579/0.9999999999999996\",\"PYREXIA : 0.0524781341108/0.9999999999999997\",\"FATIGUE : 0.0247812368365/1.0\",\"\",\"NAUSEA : 0.0218647901483/0.9999999999999999\",\"VOMITING : 0.0210336538462/1.0\",\"PYREXIA : 0.0234447909316/1.0\",\"GAIT DISTURBANCE : 0.0902255639098/1.0\",\"COMA : 0.0808510638298/1.0\",\"DRUG INEFFECTIVE : 0.0203915171289/1.0\",\"STILLBIRTH : 0.13829787234/1.0\",\"SOMNOLENCE : 0.0311936065996/0.9999999999999998\",\"HYPERGLYCAEMIA : 0.25/1.0\",\"PYREXIA : 0.0325203252033/0.9999999999999999\",\"DEATH : 0.0196040560116/0.9999999999999999\",\"DIZZINESS : 0.0224806536682/0.9999999999999999\",\"VOMITING : 0.0252808988764/1.0\",\"PYREXIA : 0.0203658957542/1.0\",\"ANAEMIA : 0.0310542797495/1.0\",\"PLATELET COUNT DECREASED : 0.0548780487805/1.0\",\"PYREXIA : 0.0321931589537/1.0\",\"DRUG RESISTANCE : 0.122605363985/1.0\",\"\",\"DYSPNOEA : 0.0224304582011/1.0\",\"DIARRHOEA : 0.0173191299506/1.0\",\"\",\"DEATH : 0.2/1.0\",\"\",\"PULMONARY TUBERCULOSIS : 0.0353697749196/1.0\",\"DYSPNOEA : 0.0197726451541/1.0\",\"PATHOGEN RESISTANCE : 0.0513833992095/1.0\",\"DRUG INEFFECTIVE : 0.0262759924386/1.0\",\"\",\"PAIN : 0.0225988700565/1.0\",\"\",\"\",\"MALAISE : 0.0282131661442/1.0\",\"OVERDOSE : 0.0160630841121/0.9999999999999999\",\"DYSPNOEA : 0.0240324293022/1.0\",\"CHOLANGITIS SCLEROSING : 0.0280112044818/0.9999999999999999\",\"MYOCARDIAL INFARCTION : 0.025889286466/1.0\",\"GENERAL PHYSICAL HEALTH DETERIORATION : 0.0326165740517/1.0\",\"APNOEA : 0.024645257655/1.0\",\"HEADACHE : 0.0261682242991/1.0\",\"MALAISE : 0.0242399815753/1.0\",\"DEATH : 0.0264016151576/1.0\",\"ASTHENIA : 0.023064839099/1.0\",\"CEREBROVASCULAR ACCIDENT : 0.0335820895522/1.0\",\"ANAEMIA : 0.0208959538643/0.9999999999999999\",\"SEPSIS : 0.0717299578059/1.0\",\"ASTHENIA : 0.0410022779043/0.9999999999999999\",\"FOETAL EXPOSURE DURING PREGNANCY : 0.0457516339869/1.0\",\"TOXICITY TO VARIOUS AGENTS : 0.0545454545455/1.0\",\"PNEUMONIA : 0.0280306660278/0.9999999999999999\",\"DYSPNOEA : 0.0326633165829/1.0\",\"CHEST PAIN : 0.166666666667/0.9999999999999999\",\"HYPOKALAEMIA : 0.333333333333/1.0\",\"DRUG INEFFECTIVE : 0.0347349177331/1.0\",\"FATIGUE : 0.0271172298707/1.0\",\"RESPIRATORY FAILURE : 0.111111111111/1.0\",\"\",\"INTENTIONAL OVERDOSE : 0.0313339301701/1.0000000000000002\",\"PNEUMONIA : 0.0359477124183/0.9999999999999997\",\"\",\"FOETAL EXPOSURE DURING PREGNANCY : 0.0708661417323/0.9999999999999998\",\"\",\"DEATH : 0.0810055865922/1.0000000000000002\",\"PYREXIA : 0.0181038589805/1.0\",\"\",\"\",\"CHRONIC OBSTRUCTIVE PULMONARY DISEASE : 0.0563909774436/1.0\",\"INFECTION : 0.235294117647/1.0\",\"HEADACHE : 0.0183637602668/0.9999999999999999\",\"HYPOTENSION : 0.238095238095/1.0\",\"SUSPECTED TRANSMISSION OF AN INFECTIOUS AGENT VIA PRODUCT : 0.2/1.0\",\"GASTROINTESTINAL DISORDER : 0.0851063829787/0.9999999999999999\",\"PYREXIA : 0.0239316239316/1.0\",\"FOETAL EXPOSURE DURING PREGNANCY : 0.333333333333/1.0\",\"\",\"NONINFECTIOUS PERITONITIS : 0.036036036036/1.0\",\"TERMINAL STATE : 0.0212915466236/0.9999999999999999\",\"DYSPNOEA : 0.0209772951629/1.0\",\"ANAESTHETIC COMPLICATION : 0.16/1.0\",\"FOOD INTERACTION : 0.16049382716/1.0\",\"HEADACHE : 0.0350631136045/1.0\",\"NAUSEA : 0.0195639664983/1.0\",\"HYPERTENSION : 0.0630372492837/1.0\",\"DYSPNOEA : 0.0225/0.9999999999999999\",\"ASTHENIA : 0.0276273022752/0.9999999999999998\",\"\",\"FOETAL EXPOSURE DURING PREGNANCY : 0.0593220338983/1.0\",\"PULMONARY FIBROSIS : 0.0234388079692/0.9999999999999999\",\"PNEUMONIA : 0.0385168611156/1.0\",\"DYSPNOEA : 0.0246808510638/1.0\",\"FATIGUE : 0.0187457005274/1.0\",\"DRUG INEFFECTIVE : 0.042079364078/1.0\",\"DRUG INEFFECTIVE : 0.0505836575875/1.0\",\"\",\"ANAEMIA : 0.0232980656193/0.9999999999999999\",\"NAUSEA : 0.0191424691198/1.0\",\"GOUTY ARTHRITIS : 0.157894736842/0.9999999999999999\",\"DEATH : 0.0319001386963/0.9999999999999998\",\"SKIN ATROPHY : 0.0929203539823/1.0\",\"DYSPNOEA : 0.0208178438662/0.9999999999999999\",\"RASH : 0.0401313389274/1.0\",\"ANAEMIA : 0.0195215837228/1.0000000000000002\",\"DEATH : 0.0165121013345/1.0\",\"PNEUMONIA : 0.0179065366138/0.9999999999999999\",\"PYREXIA : 0.0209281977108/1.0\",\"MYOPATHY : 0.0498084291188/1.0\",\"SUDDEN DEATH : 0.0877192982456/1.0\",\"NAUSEA : 0.0252668263995/1.0\",\"PYREXIA : 0.0164784053156/1.0\",\"DRUG INEFFECTIVE : 0.106382978723/1.0\",\"PNEUMONIA : 0.0230655979061/1.0\",\"\",\"VIROLOGIC FAILURE : 0.11320754717/1.0\",\"CARDIOVASCULAR DISORDER : 0.0291315500183/1.0\",\"\",\"NAUSEA : 0.0961538461538/1.0\",\"HYPOTENSION : 0.0234182415776/1.0\",\"DRUG INEFFECTIVE : 0.0244517267457/1.0\",\"ABORTION SPONTANEOUS : 0.0484384958572/1.0\",\"ANAEMIA : 0.0292953285827/0.9999999999999999\",\"DEATH : 0.0284810126582/1.0\",\"FATIGUE : 0.021887002818/1.0\",\"NAUSEA : 0.0250886775161/1.0\",\"MYALGIA : 0.25/1.0\",\"DIARRHOEA : 0.0353773584906/1.0\",\"MYOCARDIAL INFARCTION : 0.0737704918033/1.0\",\"MYOCARDIAL INFARCTION : 0.0352126607319/1.0\",\"CEREBROVASCULAR ACCIDENT : 0.0396716826265/0.9999999999999999\",\"DRUG INEFFECTIVE : 0.155172413793/1.0\",\"VIROLOGIC FAILURE : 0.0909090909091/0.9999999999999998\"],\"weight\":[7.438880443572998,4.48323392868042,-4.478252410888672,6.563675880432129,6.585586071014404,-7.596809387207031,3.475581169128418,-11.722026824951172,-13.895905494689941,6.507125377655029,12.535921096801758,4.985820293426514,-2.820103406906128,8.827319145202637,2.4359519481658936,-12.399340629577637,10.190533638000488,2.4453234672546387,0.4569072723388672,5.3322858810424805,-9.07249641418457,9.30038833618164,-8.775158882141113,4.733769416809082,5.917523384094238,2.1430814266204834,1.634787678718567,-9.91231918334961,6.445645332336426,-8.14731502532959,-8.720955848693848,-8.54898452758789,1.2988048791885376,1.2400931119918823,-8.490646362304688,7.785959243774414,-10.017041206359863,7.3000102043151855,0.4440310001373291,-10.860098838806152,-12.582104682922363,-3.309596300125122,-7.150641441345215,-6.689116954803467,3.06215238571167,-1.371153473854065,5.0339131355285645,5.291975975036621,-12.147296905517578,-12.71625804901123,7.201010227203369,4.755523681640625,7.304726600646973,2.794585704803467,-13.887779235839844,4.052340984344482,-13.354512214660645,6.855198383331299,-7.794979095458984,12.257208824157715,7.626612663269043,-3.0690724849700928,-5.943325996398926,-13.211627960205078,0.5707890391349792,-7.364546298980713,-5.839226245880127,-6.182090759277344,-2.470205545425415,-11.588736534118652,-13.337251663208008,-10.078022956848145,3.4904706478118896,-8.757932662963867,1.5054879188537598,-1.399341344833374,-0.10099337249994278,1.1408451795578003,-9.00137710571289,0.5147365927696228,9.021585464477539,5.231400489807129,-1.9735766649246216,-10.09399700164795,3.198763132095337,4.7541823387146,-4.737056732177734,-0.6761560440063477,12.178465843200684,4.423245429992676,9.61544418334961,2.1555826663970947,-8.903611183166504,12.497184753417969,6.298415660858154,3.398125410079956,8.215045928955078,-8.592121124267578,5.7041015625,6.815892219543457,0.43707773089408875,-5.390556812286377,7.446882724761963,5.9306488037109375,8.079708099365234,-11.937578201293945,-11.042813301086426,8.007020950317383,7.936567306518555,0.20188142359256744,-13.056585311889648,2.234226942062378,-6.774935245513916,-8.290984153747559,9.304305076599121,4.173007011413574,-7.692578315734863,-6.308468818664551,-12.651775360107422,-11.621879577636719,-9.255678176879883,1.7836798429489136,6.299219131469727,-9.338077545166016,-8.53750991821289,8.199591636657715,-6.764803886413574,4.929533958435059,-8.098329544067383,-7.256278991699219,-9.457917213439941,-12.728426933288574,-10.698115348815918,-12.143426895141602,4.517758369445801,7.720311164855957,-12.808109283447266,-13.572997093200684,5.2836785316467285,-8.900496482849121,12.36125659942627,6.125099182128906,-7.6066107749938965,12.224658966064453,5.0301690101623535,-5.764878273010254,-11.993542671203613,-0.0416455902159214,-5.2855401039123535,-6.95151424407959,-11.520383834838867,-9.503532409667969,4.568399429321289,-3.551142692565918,6.036106109619141,-7.624444007873535,-5.8584513664245605,7.01339054107666,2.59637713432312]},\"selected\":{\"id\":\"ace891bd-6596-4187-b7bd-c45819b85cfd\",\"type\":\"Selection\"},\"selection_policy\":{\"id\":\"59a9336d-452a-4726-a429-a3320bc2f152\",\"type\":\"UnionRenderers\"}},\"id\":\"30062110-2e9e-4f11-ba76-097b6b50155d\",\"type\":\"ColumnDataSource\"}],\"root_ids\":[\"7229476e-ed44-490f-ba48-f85f5a0640d5\"]},\"title\":\"Bokeh Application\",\"version\":\"0.13.0\"}};\n",
       "  var render_items = [{\"docid\":\"306328c1-eee6-444e-bc3a-9277d1a7f288\",\"roots\":{\"7229476e-ed44-490f-ba48-f85f5a0640d5\":\"c7b55cfd-41de-4bcb-9b74-848434cbc31f\"}}];\n",
       "  root.Bokeh.embed.embed_items_notebook(docs_json, render_items);\n",
       "\n",
       "  }\n",
       "  if (root.Bokeh !== undefined) {\n",
       "    embed_document(root);\n",
       "  } else {\n",
       "    var attempts = 0;\n",
       "    var timer = setInterval(function(root) {\n",
       "      if (root.Bokeh !== undefined) {\n",
       "        embed_document(root);\n",
       "        clearInterval(timer);\n",
       "      }\n",
       "      attempts++;\n",
       "      if (attempts > 100) {\n",
       "        console.log(\"Bokeh: ERROR: Unable to run BokehJS code because BokehJS library is missing\")\n",
       "        clearInterval(timer);\n",
       "      }\n",
       "    }, 10, root)\n",
       "  }\n",
       "})(window);"
      ],
      "application/vnd.bokehjs_exec.v0+json": ""
     },
     "metadata": {
      "application/vnd.bokehjs_exec.v0+json": {
       "id": "7229476e-ed44-490f-ba48-f85f5a0640d5"
      }
     },
     "output_type": "display_data"
    }
   ],
   "source": [
    "show_country_similarity(score_matrices['als'],countries)"
   ]
  },
  {
   "cell_type": "markdown",
   "metadata": {},
   "source": [
    " In order to find out if such pattern are repeatable on drug level, we repeat the visualization for a certain drug.\n",
    "we choose random one of the top 20 drug those have the highest reporting cases.\n",
    "\n"
   ]
  },
  {
   "cell_type": "code",
   "execution_count": 139,
   "metadata": {},
   "outputs": [
    {
     "name": "stderr",
     "output_type": "stream",
     "text": [
      "/Users/mohamedabou-zleikha/venv/lib/python2.7/site-packages/ipykernel_launcher.py:14: SettingWithCopyWarning: \n",
      "A value is trying to be set on a copy of a slice from a DataFrame.\n",
      "Try using .loc[row_indexer,col_indexer] = value instead\n",
      "\n",
      "See the caveats in the documentation: http://pandas.pydata.org/pandas-docs/stable/indexing.html#indexing-view-versus-copy\n",
      "  \n",
      "100%|██████████| 15.0/15 [00:01<00:00, 14.90it/s]\n",
      "100%|██████████| 100/100 [00:01<00:00, 93.23it/s, skipped=44.83%, correct=78.46%]\n",
      "100%|██████████| 62/62 [00:00<00:00, 10011.43it/s]\n",
      "100%|██████████| 62/62 [00:00<00:00, 25524.82it/s]\n"
     ]
    }
   ],
   "source": [
    "# In order to find out if such pattern are repeatable on drug level, we repeat the visualization for a certain drug.\n",
    "# we choose random one of the top 20 drug those have the highest reporting cases.\n",
    "# The input file\n",
    "file_name='./data/PREGABALIN_events.csv'\n",
    "# number of factors for the MD approaches\n",
    "num_of_factors=300\n",
    "# use the raw data or a ratio per country\n",
    "ratio=True\n",
    "# use binary or float (True means there is event reported in that country without how many)\n",
    "normalized=False\n",
    "# The minimum number of reports to consider per event\n",
    "threshold=1\n",
    "#  the maximum number of events to consider per country\n",
    "number_of_events_per_country=300\n",
    "# create the dataset\n",
    "sparse_mat,countries,events,df=file_to_sparse_matrix(file_name,number_of_events_per_country,threshold,normalized,ratio)\n",
    "# the CF approaches to compare\n",
    "models_to_examine=[\"als\",\"bpr\",\"cosine\",\"tfidf\"]\n",
    "models={}\n",
    "score_matrices={}\n",
    "for modelname in models_to_examine:\n",
    "    model=create_fit_CF_model(modelname,sparse_mat,num_of_factors)\n",
    "    models[modelname]=model\n",
    "    score_matrix=get_country_matrix_similarity(models[modelname],countries)\n",
    "    score_matrices[modelname]=np.asarray(score_matrix)"
   ]
  },
  {
   "cell_type": "code",
   "execution_count": 140,
   "metadata": {},
   "outputs": [
    {
     "name": "stdout",
     "output_type": "stream",
     "text": [
      "tfidf\n",
      "Med : 0.0, Std : 0.0739040157538, Max : 0.260728018951, Min: 0.0,Avg Outliers: 3\n",
      "cosine\n",
      "Med : 0.0, Std : 0.18335800893, Max : 0.547085919543, Min: 0.0,Avg Outliers: 4\n",
      "bpr\n",
      "Med : 0.598521889458, Std : 0.264629737072, Max : 0.948636177086, Min: 0.0,Avg Outliers: 0\n",
      "als\n",
      "Med : 0.177100478641, Std : 0.0798418910606, Max : 0.372453316806, Min: 0.0,Avg Outliers: 0\n"
     ]
    }
   ],
   "source": [
    "for modelname in score_matrices:\n",
    "    score_matrix1=np.asarray(score_matrices[modelname])\n",
    "    score_matrix1=(score_matrix1-score_matrix1.min())/(score_matrix1.max()-score_matrix1.min())\n",
    "    medV,meanV,maxV,minV,stdV,mean_num_outliers=get_outliers(score_matrix1,countries)\n",
    "    print modelname\n",
    "    print 'Med : {}, Std : {}, Max : {}, Min: {},Avg Outliers: {}'.format(medV.score.mean(),stdV.score.mean(),maxV.score.mean(),minV.score.mean(),mean_num_outliers[0])"
   ]
  },
  {
   "cell_type": "code",
   "execution_count": 143,
   "metadata": {},
   "outputs": [
    {
     "data": {
      "text/html": [
       "\n",
       "\n",
       "\n",
       "\n",
       "\n",
       "\n",
       "  <div class=\"bk-root\" id=\"c384c310-9357-438a-9ab1-36cb30e36848\"></div>\n"
      ]
     },
     "metadata": {},
     "output_type": "display_data"
    },
    {
     "data": {
      "application/javascript": [
       "(function(root) {\n",
       "  function embed_document(root) {\n",
       "    \n",
       "  var docs_json = {\"d532dec8-e4a4-4c1b-ab2c-2e107f7af18a\":{\"roots\":{\"references\":[{\"attributes\":{},\"id\":\"bf80945f-c66b-432c-b1e7-0c08caef8b22\",\"type\":\"HelpTool\"},{\"attributes\":{\"fill_alpha\":{\"value\":0.1},\"fill_color\":{\"value\":\"#1f77b4\"},\"line_alpha\":{\"value\":0.1},\"line_color\":{\"value\":\"#1f77b4\"},\"size\":{\"units\":\"screen\",\"value\":5},\"x\":{\"field\":\"height\"},\"y\":{\"field\":\"weight\"}},\"id\":\"0969ba2c-484e-46e3-b239-886f25bda56f\",\"type\":\"Circle\"},{\"attributes\":{\"active_drag\":\"auto\",\"active_inspect\":\"auto\",\"active_multi\":null,\"active_scroll\":\"auto\",\"active_tap\":\"auto\",\"tools\":[{\"id\":\"206ceb4a-7a30-4d40-8adf-1524c87a6ce5\",\"type\":\"PanTool\"},{\"id\":\"a4e49874-8ea6-4c1b-82f8-082ef4079121\",\"type\":\"WheelZoomTool\"},{\"id\":\"23b43cd9-e3f9-4e64-aea5-6330442210c9\",\"type\":\"BoxZoomTool\"},{\"id\":\"b91a4c1a-db2e-4337-bbc4-c816085ad1ef\",\"type\":\"SaveTool\"},{\"id\":\"52ed9c28-509b-40de-9649-c03b3f2bdb29\",\"type\":\"ResetTool\"},{\"id\":\"bf80945f-c66b-432c-b1e7-0c08caef8b22\",\"type\":\"HelpTool\"},{\"id\":\"c24700fd-6ab3-4454-a209-e987024aefff\",\"type\":\"HoverTool\"}]},\"id\":\"477a2575-1b9d-4f31-b421-b54dd0a8f2ae\",\"type\":\"Toolbar\"},{\"attributes\":{},\"id\":\"a4e49874-8ea6-4c1b-82f8-082ef4079121\",\"type\":\"WheelZoomTool\"},{\"attributes\":{\"axis_label\":\"Comp1\",\"formatter\":{\"id\":\"aa72b64f-a424-45b9-a641-d4d268462230\",\"type\":\"BasicTickFormatter\"},\"plot\":{\"id\":\"fa1c9dd4-bc10-4552-8e36-4507af3eaf12\",\"subtype\":\"Figure\",\"type\":\"Plot\"},\"ticker\":{\"id\":\"d60e76bd-8beb-45fd-9b98-b04673556aff\",\"type\":\"BasicTicker\"}},\"id\":\"85ce7904-bbc4-4c39-9800-4ece523bb319\",\"type\":\"LinearAxis\"},{\"attributes\":{\"plot\":{\"id\":\"fa1c9dd4-bc10-4552-8e36-4507af3eaf12\",\"subtype\":\"Figure\",\"type\":\"Plot\"},\"ticker\":{\"id\":\"d60e76bd-8beb-45fd-9b98-b04673556aff\",\"type\":\"BasicTicker\"}},\"id\":\"a449c42e-e590-42c2-8c2b-8415ecbf2cde\",\"type\":\"Grid\"},{\"attributes\":{\"axis_label\":\"Comp2\",\"formatter\":{\"id\":\"45fabd1b-797e-4094-94de-3b311a45f9f3\",\"type\":\"BasicTickFormatter\"},\"plot\":{\"id\":\"fa1c9dd4-bc10-4552-8e36-4507af3eaf12\",\"subtype\":\"Figure\",\"type\":\"Plot\"},\"ticker\":{\"id\":\"9b36df40-e20f-4e3f-8caf-e95d3e7668f0\",\"type\":\"BasicTicker\"}},\"id\":\"78021aed-71a8-4d1a-8508-7e8a4e2404f4\",\"type\":\"LinearAxis\"},{\"attributes\":{},\"id\":\"238cdd39-3ef3-42c9-9e65-2293e3ee65d0\",\"type\":\"UnionRenderers\"},{\"attributes\":{\"dimension\":1,\"plot\":{\"id\":\"fa1c9dd4-bc10-4552-8e36-4507af3eaf12\",\"subtype\":\"Figure\",\"type\":\"Plot\"},\"ticker\":{\"id\":\"9b36df40-e20f-4e3f-8caf-e95d3e7668f0\",\"type\":\"BasicTicker\"}},\"id\":\"b4dcc69e-df8b-40a5-81be-c028f9ff23d2\",\"type\":\"Grid\"},{\"attributes\":{\"callback\":null},\"id\":\"b012a309-fdc6-4957-bb03-470dc5bf3414\",\"type\":\"DataRange1d\"},{\"attributes\":{},\"id\":\"45fabd1b-797e-4094-94de-3b311a45f9f3\",\"type\":\"BasicTickFormatter\"},{\"attributes\":{},\"id\":\"fd5432aa-3db1-4613-966b-90632bf27335\",\"type\":\"LinearScale\"},{\"attributes\":{},\"id\":\"d451473f-fe17-4697-8791-d55778ddd96e\",\"type\":\"LinearScale\"},{\"attributes\":{\"callback\":null,\"data\":{\"codes\":[\"DZ\",\"AR\",\"AU\",\"AT\",\"BE\",\"BR\",\"CA\",\"CL\",\"CN\",\"CO\",\"CR\",\"HR\",\"CZ\",\"DK\",\"EC\",\"EG\",\"FI\",\"FR\",\"DE\",\"GR\",\"GT\",\"HN\",\"HU\",\"IS\",\"IN\",\"IE\",\"IL\",\"IT\",\"JP\",\"JO\",\"KR\",\"LB\",\"LU\",\"MY\",\"MX\",\"NL\",\"NO\",\"PA\",\"PE\",\"PH\",\"PL\",\"PT\",\"PR\",\"RO\",\"RU\",\"SA\",\"SG\",\"SK\",\"SI\",\"ZA\",\"ES\",\"SE\",\"CH\",\"TW\",\"TR\",\"UA\",\"AE\",\"GB\",\"US\",\"UY\",\"VE\",\"VI\"],\"colors\":[\"#33a02c\",\"#e31a1c\",\"#fb9a99\",\"#1f78b4\",\"#1f78b4\",\"#e31a1c\",\"#e31a1c\",\"#e31a1c\",\"#444444\",\"#e31a1c\",\"#e31a1c\",\"#1f78b4\",\"#1f78b4\",\"#1f78b4\",\"#e31a1c\",\"#33a02c\",\"#1f78b4\",\"#1f78b4\",\"#1f78b4\",\"#1f78b4\",\"#e31a1c\",\"#e31a1c\",\"#1f78b4\",\"#1f78b4\",\"#444444\",\"#1f78b4\",\"#444444\",\"#1f78b4\",\"#444444\",\"#444444\",\"#444444\",\"#444444\",\"#1f78b4\",\"#444444\",\"#e31a1c\",\"#1f78b4\",\"#1f78b4\",\"#e31a1c\",\"#e31a1c\",\"#444444\",\"#1f78b4\",\"#1f78b4\",\"#e31a1c\",\"#1f78b4\",\"#1f78b4\",\"#444444\",\"#444444\",\"#1f78b4\",\"#1f78b4\",\"#33a02c\",\"#1f78b4\",\"#1f78b4\",\"#1f78b4\",\"#444444\",\"#444444\",\"#1f78b4\",\"#444444\",\"#1f78b4\",\"#e31a1c\",\"#e31a1c\",\"#e31a1c\",\"#e31a1c\"],\"height\":[-30.453615188598633,1.2759125232696533,32.33281707763672,18.5041446685791,11.285224914550781,19.77927589416504,24.75358772277832,-14.792179107666016,-7.5386528968811035,8.924942016601562,-38.31978988647461,-48.42733383178711,-46.38541030883789,43.18199920654297,-17.995773315429688,-58.42662048339844,42.2295036315918,30.302236557006836,43.5394172668457,-0.8486093282699585,-50.388309478759766,-29.018142700195312,-48.52104568481445,-35.74317169189453,-36.87018585205078,31.482494354248047,-25.513607025146484,22.617218017578125,35.28162384033203,-40.20344161987305,4.743862628936768,21.73862648010254,-51.251190185546875,-65.1802978515625,11.955827713012695,26.475353240966797,-13.129067420959473,30.198986053466797,13.948041915893555,-54.6931266784668,-43.60346603393555,-7.590765953063965,2.752596139907837,-31.585506439208984,-20.328125,-63.037452697753906,-38.53694152832031,-48.15056610107422,-23.326541900634766,-7.993405818939209,20.740278244018555,33.42665100097656,15.085392951965332,-20.730886459350586,2.799832582473755,-38.463138580322266,-58.73870086669922,33.40774154663086,18.40734100341797,-27.811052322387695,-5.8230743408203125,-27.2572021484375],\"label\":[\"Africa\",\"Americas\",\"Oceania\",\"Europe\",\"Europe\",\"Americas\",\"Americas\",\"Americas\",\"Asia\",\"Americas\",\"Americas\",\"Europe\",\"Europe\",\"Europe\",\"Americas\",\"Africa\",\"Europe\",\"Europe\",\"Europe\",\"Europe\",\"Americas\",\"Americas\",\"Europe\",\"Europe\",\"Asia\",\"Europe\",\"Asia\",\"Europe\",\"Asia\",\"Asia\",\"Asia\",\"Asia\",\"Europe\",\"Asia\",\"Americas\",\"Europe\",\"Europe\",\"Americas\",\"Americas\",\"Asia\",\"Europe\",\"Europe\",\"Americas\",\"Europe\",\"Europe\",\"Asia\",\"Asia\",\"Europe\",\"Europe\",\"Africa\",\"Europe\",\"Europe\",\"Europe\",\"Asia\",\"Asia\",\"Europe\",\"Asia\",\"Europe\",\"Americas\",\"Americas\",\"Americas\",\"Americas\"],\"names\":[\"Algeria\",\"Argentina\",\"Australia\",\"Austria\",\"Belgium\",\"Brazil\",\"Canada\",\"Chile\",\"China\",\"Colombia\",\"Costa Rica\",\"Croatia\",\"Czechia\",\"Denmark\",\"Ecuador\",\"Egypt\",\"Finland\",\"France\",\"Germany\",\"Greece\",\"Guatemala\",\"Honduras\",\"Hungary\",\"Iceland\",\"India\",\"Ireland\",\"Israel\",\"Italy\",\"Japan\",\"Jordan\",\"Korea (Republic of)\",\"Lebanon\",\"Luxembourg\",\"Malaysia\",\"Mexico\",\"Netherlands\",\"Norway\",\"Panama\",\"Peru\",\"Philippines\",\"Poland\",\"Portugal\",\"Puerto Rico\",\"Romania\",\"Russian Federation\",\"Saudi Arabia\",\"Singapore\",\"Slovakia\",\"Slovenia\",\"South Africa\",\"Spain\",\"Sweden\",\"Switzerland\",\"Taiwan, Province of China\",\"Turkey\",\"Ukraine\",\"United Arab Emirates\",\"United Kingdom of Great Britain and Northern Ireland\",\"United States of America\",\"Uruguay\",\"Venezuela (Bolivarian Republic of)\",\"Virgin Islands (U.S.)\"],\"report_count\":[55.0,55.0,55.0,55.0,55.0,55.0,55.0,55.0,55.0,55.0,55.0,55.0,55.0,55.0,55.0,55.0,55.0,55.0,55.0,55.0,55.0,55.0,55.0,55.0,55.0,55.0,55.0,55.0,55.0,55.0,55.0,55.0,55.0,55.0,55.0,55.0,55.0,55.0,55.0,55.0,55.0,55.0,55.0,55.0,55.0,55.0,55.0,55.0,55.0,55.0,55.0,55.0,55.0,55.0,55.0,55.0,55.0,55.0,55.0,55.0,55.0,55.0],\"report_text1\":[\"LOSS OF CONSCIOUSNESS : 0.111111111111/1.0\",\"PAIN : 0.0421686746988/1.0\",\"NAUSEA : 0.0176531671859/1.0\",\"FALL : 0.0250896057348/1.0000000000000002\",\"FATIGUE : 0.0291545189504/1.0\",\"PAIN : 0.0350775193798/1.0\",\"DRUG INEFFECTIVE : 0.0347973221511/1.0\",\"DEATH : 0.0707070707071/1.0000000000000002\",\"HEPATIC FUNCTION ABNORMAL : 0.145833333333/0.9999999999999999\",\"PAIN IN EXTREMITY : 0.021768707483/0.9999999999999999\",\"DEATH : 0.125/1.0\",\"INTENTIONAL OVERDOSE : 0.105263157895/0.9999999999999999\",\"DEATH : 0.0806451612903/0.9999999999999999\",\"FALL : 0.0228915662651/1.0000000000000002\",\"DEATH : 0.152777777778/0.9999999999999999\",\"SOMNOLENCE : 0.333333333333/0.9999999999999999\",\"TOXICITY TO VARIOUS AGENTS : 0.0723684210526/1.0\",\"CONFUSIONAL STATE : 0.0224419508943/1.0\",\"FATIGUE : 0.0173380928098/0.9999999999999999\",\"DRUG INEFFECTIVE : 0.0368421052632/1.0\",\"MULTIPLE SCLEROSIS RELAPSE : 0.0793650793651/1.0\",\"CEREBROVASCULAR ACCIDENT : 1.0/1.0\",\"DIZZINESS : 0.0645161290323/1.0\",\"GENERALISED TONIC-CLONIC SEIZURE : 0.5/1.0\",\"DEATH : 0.105263157895/0.9999999999999996\",\"DEATH : 0.0501446480231/1.0\",\"DRUG INEFFECTIVE : 0.0606060606061/1.0\",\"SOPOR : 0.0587362800356/1.0\",\"DIZZINESS : 0.0280068728522/0.9999999999999998\",\"DRUG ABUSE : 0.904761904762/1.0\",\"PNEUMONIA : 0.0623052959502/1.0\",\"TOE AMPUTATION : 1.0/1.0\",\"RHABDOMYOLYSIS : 0.428571428571/0.9999999999999999\",\"DIZZINESS : 0.333333333333/0.9999999999999999\",\"DEATH : 0.0296296296296/1.0\",\"DEATH : 0.0213980028531/1.0000000000000002\",\"TOXICITY TO VARIOUS AGENTS : 0.0831295843521/0.9999999999999999\",\"HIP FRACTURE : 1.0/1.0\",\"DEATH : 0.103524229075/1.0000000000000004\",\"DIZZINESS : 0.2/1.0\",\"CONSTIPATION : 0.0733944954128/1.0\",\"DRUG INEFFECTIVE : 0.0283911671924/0.9999999999999999\",\"PAIN : 0.0506912442396/0.9999999999999997\",\"DEATH : 1.0/1.0\",\"NAUSEA : 0.116438356164/1.0\",\"DRUG ABUSE : 0.396551724138/0.9999999999999999\",\"ANKLE FRACTURE : 0.5/1.0\",\"BACK PAIN : 0.333333333333/1.0\",\"HALLUCINATION : 0.0769230769231/0.9999999999999999\",\"DEATH : 0.0663900414938/0.9999999999999999\",\"SOMNOLENCE : 0.0159151193634/1.0\",\"TOXICITY TO VARIOUS AGENTS : 0.0883602378929/0.9999999999999999\",\"CONFUSIONAL STATE : 0.0207748455924/1.0\",\"ALTERED STATE OF CONSCIOUSNESS : 0.09375/1.0\",\"DIZZINESS : 0.0346153846154/1.0\",\"CONDITION AGGRAVATED : 0.5/1.0\",\"DEPRESSION : 1.0/1.0\",\"TOXICITY TO VARIOUS AGENTS : 0.0247071012991/1.0\",\"PAIN : 0.0516277174919/0.9999999999999998\",\"ANOSMIA : 0.166666666667/0.9999999999999999\",\"DEATH : 0.201257861635/1.0\",\"DRUG EFFECT INCOMPLETE : 1.0/1.0\"],\"report_text2\":[\"OEDEMA PERIPHERAL : 0.111111111111/1.0\",\"FALL : 0.0271084337349/1.0\",\"DIZZINESS : 0.0166147455867/1.0\",\"WEIGHT INCREASED : 0.0250896057348/1.0000000000000002\",\"CONFUSIONAL STATE : 0.0233236151603/1.0\",\"DRUG INEFFECTIVE : 0.0273255813953/1.0\",\"PAIN : 0.0286912381373/1.0\",\"DIZZINESS : 0.0505050505051/1.0000000000000002\",\"HYPERAESTHESIA : 0.145833333333/0.9999999999999999\",\"ARTHRALGIA : 0.0210884353741/0.9999999999999999\",\"PNEUMONIA : 0.125/1.0\",\"SUICIDE ATTEMPT : 0.105263157895/0.9999999999999999\",\"DIABETIC METABOLIC DECOMPENSATION : 0.0645161290323/0.9999999999999999\",\"DIZZINESS : 0.021686746988/1.0000000000000002\",\"SPINAL DISORDER : 0.0833333333333/0.9999999999999999\",\"ARRHYTHMIA : 0.166666666667/0.9999999999999999\",\"DRUG ABUSE : 0.0302631578947/1.0\",\"SOMNOLENCE : 0.0202199755583/1.0\",\"NAUSEA : 0.0171681115077/0.9999999999999999\",\"SOMNOLENCE : 0.0289473684211/1.0\",\"AGGRESSION : 0.047619047619/1.0\",\"\",\"DIARRHOEA : 0.0430107526882/1.0\",\"OVERDOSE : 0.5/1.0\",\"DRUG DEPENDENCE : 0.105263157895/0.9999999999999996\",\"DRUG ABUSE : 0.0183220829315/1.0\",\"NAUSEA : 0.0530303030303/1.0\",\"DRUG ABUSE : 0.0507267873035/1.0\",\"SOMNOLENCE : 0.0246563573883/0.9999999999999998\",\"ACUTE KIDNEY INJURY : 0.0952380952381/1.0\",\"PYREXIA : 0.0373831775701/1.0\",\"\",\"DEHYDRATION : 0.285714285714/0.9999999999999999\",\"PALPITATIONS : 0.166666666667/0.9999999999999999\",\"DIZZINESS : 0.0243386243386/1.0\",\"NAUSEA : 0.0213980028531/1.0000000000000002\",\"SOMNOLENCE : 0.039119804401/0.9999999999999999\",\"\",\"ABASIA : 0.0396475770925/1.0000000000000004\",\"CARDIAC ARREST : 0.16/1.0\",\"VOMITING : 0.0733944954128/1.0\",\"PYREXIA : 0.0283911671924/0.9999999999999999\",\"INJECTION SITE PAIN : 0.0437788018433/0.9999999999999997\",\"\",\"SUSPECTED COUNTERFEIT PRODUCT : 0.109589041096/1.0\",\"AGGRESSION : 0.103448275862/0.9999999999999999\",\"RASH : 0.5/1.0\",\"DRUG-INDUCED LIVER INJURY : 0.333333333333/1.0\",\"PARANOIA : 0.0769230769231/0.9999999999999999\",\"FALL : 0.0331950207469/0.9999999999999999\",\"FATIGUE : 0.0152519893899/1.0\",\"FATIGUE : 0.0237892948173/0.9999999999999999\",\"FALL : 0.0202133632791/1.0\",\"PNEUMONIA : 0.09375/1.0\",\"DRUG ABUSE : 0.0346153846154/1.0\",\"PRODUCT USE ISSUE : 0.5/1.0\",\"\",\"MALAISE : 0.016737068622/1.0\",\"DRUG INEFFECTIVE : 0.0470829122731/0.9999999999999998\",\"CHRONIC SINUSITIS : 0.166666666667/0.9999999999999999\",\"RESPIRATORY ARREST : 0.062893081761/1.0\",\"\"],\"report_text3\":[\"SUICIDE ATTEMPT : 0.111111111111/1.0\",\"MALAISE : 0.0271084337349/1.0\",\"PAIN : 0.0162686050537/1.0\",\"FATIGUE : 0.0227001194743/1.0000000000000002\",\"HEADACHE : 0.0233236151603/1.0\",\"DIZZINESS : 0.0205426356589/1.0\",\"RHEUMATOID ARTHRITIS : 0.0247921724417/1.0\",\"ARTHRALGIA : 0.040404040404/1.0000000000000002\",\"ALANINE AMINOTRANSFERASE INCREASED : 0.0833333333333/0.9999999999999999\",\"HEADACHE : 0.0183673469388/0.9999999999999999\",\"DRUG INEFFECTIVE : 0.09375/1.0\",\"URINARY RETENTION : 0.0789473684211/0.9999999999999999\",\"CONDITION AGGRAVATED : 0.0483870967742/0.9999999999999999\",\"OVERDOSE : 0.0204819277108/1.0000000000000002\",\"DRUG INEFFECTIVE : 0.0555555555556/0.9999999999999999\",\"CARDIAC ARREST : 0.166666666667/0.9999999999999999\",\"DIZZINESS : 0.0210526315789/1.0\",\"ACUTE KIDNEY INJURY : 0.018664592823/1.0\",\"DIZZINESS : 0.0159782423933/0.9999999999999999\",\"ANAEMIA : 0.0263157894737/1.0\",\"DEPRESSION : 0.047619047619/1.0\",\"\",\"GAIT DISTURBANCE : 0.0430107526882/1.0\",\"\",\"GAIT DISTURBANCE : 0.105263157895/0.9999999999999996\",\"FALL : 0.0183220829315/1.0\",\"ASTHENIA : 0.0454545454545/1.0\",\"ASTHENIA : 0.0219519430436/1.0\",\"INTERSTITIAL LUNG DISEASE : 0.0222508591065/0.9999999999999998\",\"\",\"NEUTROPENIA : 0.0311526479751/1.0\",\"\",\"FALL : 0.285714285714/0.9999999999999999\",\"PYREXIA : 0.166666666667/0.9999999999999999\",\"PAIN IN EXTREMITY : 0.0201058201058/1.0\",\"WEIGHT DECREASED : 0.0213980028531/1.0000000000000002\",\"RENAL IMPAIRMENT : 0.0366748166259/0.9999999999999999\",\"\",\"DIABETES MELLITUS : 0.0396475770925/1.0000000000000004\",\"DEATH : 0.16/1.0\",\"BALANCE DISORDER : 0.0550458715596/1.0\",\"FATIGUE : 0.0220820189274/0.9999999999999999\",\"NASOPHARYNGITIS : 0.0414746543779/0.9999999999999997\",\"\",\"APALLIC SYNDROME : 0.102739726027/1.0\",\"COGNITIVE DISORDER : 0.103448275862/0.9999999999999999\",\"\",\"PAIN : 0.333333333333/1.0\",\"BACK PAIN : 0.0641025641026/0.9999999999999999\",\"FATIGUE : 0.0331950207469/0.9999999999999999\",\"PYREXIA : 0.0145888594164/1.0\",\"ANXIETY : 0.0229396771453/0.9999999999999999\",\"ABORTION SPONTANEOUS : 0.0168444693992/1.0\",\"ABDOMINAL PAIN : 0.0625/1.0\",\"SOMNOLENCE : 0.0307692307692/1.0\",\"\",\"\",\"DRUG ABUSE : 0.0162588666614/1.0\",\"MALAISE : 0.0211420741031/0.9999999999999998\",\"HEADACHE : 0.166666666667/0.9999999999999999\",\"CEREBROVASCULAR ACCIDENT : 0.0377358490566/1.0\",\"\"],\"weight\":[0.02878287434577942,-49.27340316772461,-23.567995071411133,35.80437088012695,26.581483840942383,-43.76015853881836,-52.989986419677734,-46.93317413330078,36.20261001586914,-38.72920227050781,-29.186691284179688,18.168712615966797,7.430495738983154,3.190701961517334,-58.58934783935547,6.44295597076416,-8.949090003967285,33.45086669921875,16.466028213500977,26.930002212524414,-42.07813262939453,-23.377500534057617,-30.98657989501953,9.51988697052002,21.067989349365234,-12.487677574157715,20.981931686401367,25.388092041015625,23.19013023376465,-1.274279236793518,36.38770294189453,-6.28904914855957,-2.805250644683838,-17.11454963684082,-49.8270149230957,16.053661346435547,26.579984664916992,-39.17489242553711,-60.262027740478516,-13.337780952453613,-10.01992416381836,17.45402717590332,-60.65892791748047,-11.305347442626953,-3.656266927719116,-4.837459564208984,-40.43946075439453,-20.342437744140625,9.552166938781738,-55.99290466308594,6.415103912353516,9.123605728149414,16.562185287475586,-16.7957763671875,16.072036743164062,-18.503936767578125,-26.889127731323242,-2.044013500213623,-33.154422760009766,-48.25395965576172,-41.06047058105469,-34.17243957519531]},\"selected\":{\"id\":\"b0ea4d60-1d14-41ce-bfd8-708244843361\",\"type\":\"Selection\"},\"selection_policy\":{\"id\":\"238cdd39-3ef3-42c9-9e65-2293e3ee65d0\",\"type\":\"UnionRenderers\"}},\"id\":\"16408503-52ec-4588-9889-f618124a6a62\",\"type\":\"ColumnDataSource\"},{\"attributes\":{\"bottom_units\":\"screen\",\"fill_alpha\":{\"value\":0.5},\"fill_color\":{\"value\":\"lightgrey\"},\"left_units\":\"screen\",\"level\":\"overlay\",\"line_alpha\":{\"value\":1.0},\"line_color\":{\"value\":\"black\"},\"line_dash\":[4,4],\"line_width\":{\"value\":2},\"plot\":null,\"render_mode\":\"css\",\"right_units\":\"screen\",\"top_units\":\"screen\"},\"id\":\"f93711b1-77bf-45af-8e79-4f53f32e3c9e\",\"type\":\"BoxAnnotation\"},{\"attributes\":{},\"id\":\"206ceb4a-7a30-4d40-8adf-1524c87a6ce5\",\"type\":\"PanTool\"},{\"attributes\":{},\"id\":\"b91a4c1a-db2e-4337-bbc4-c816085ad1ef\",\"type\":\"SaveTool\"},{\"attributes\":{\"label\":{\"field\":\"label\"},\"renderers\":[{\"id\":\"e57123c0-b918-4ff7-a2e8-f4d2dd3b613a\",\"type\":\"GlyphRenderer\"}]},\"id\":\"94d46ead-ccd2-4cba-8b81-935171e57e8f\",\"type\":\"LegendItem\"},{\"attributes\":{\"callback\":null},\"id\":\"26babcf1-0f90-43d1-8367-54a9e15bed3b\",\"type\":\"DataRange1d\"},{\"attributes\":{},\"id\":\"aa72b64f-a424-45b9-a641-d4d268462230\",\"type\":\"BasicTickFormatter\"},{\"attributes\":{},\"id\":\"b0ea4d60-1d14-41ce-bfd8-708244843361\",\"type\":\"Selection\"},{\"attributes\":{\"source\":{\"id\":\"16408503-52ec-4588-9889-f618124a6a62\",\"type\":\"ColumnDataSource\"}},\"id\":\"142aa7fe-e276-4449-98b8-ad75faa5eefc\",\"type\":\"CDSView\"},{\"attributes\":{\"below\":[{\"id\":\"85ce7904-bbc4-4c39-9800-4ece523bb319\",\"type\":\"LinearAxis\"}],\"left\":[{\"id\":\"78021aed-71a8-4d1a-8508-7e8a4e2404f4\",\"type\":\"LinearAxis\"}],\"plot_height\":500,\"plot_width\":800,\"renderers\":[{\"id\":\"85ce7904-bbc4-4c39-9800-4ece523bb319\",\"type\":\"LinearAxis\"},{\"id\":\"a449c42e-e590-42c2-8c2b-8415ecbf2cde\",\"type\":\"Grid\"},{\"id\":\"78021aed-71a8-4d1a-8508-7e8a4e2404f4\",\"type\":\"LinearAxis\"},{\"id\":\"b4dcc69e-df8b-40a5-81be-c028f9ff23d2\",\"type\":\"Grid\"},{\"id\":\"f93711b1-77bf-45af-8e79-4f53f32e3c9e\",\"type\":\"BoxAnnotation\"},{\"id\":\"67fdba89-b32b-4244-a058-f19a68439a74\",\"type\":\"Legend\"},{\"id\":\"e57123c0-b918-4ff7-a2e8-f4d2dd3b613a\",\"type\":\"GlyphRenderer\"}],\"title\":{\"id\":\"842b7357-01b4-4bf4-98c5-c2edc84aafe1\",\"type\":\"Title\"},\"toolbar\":{\"id\":\"477a2575-1b9d-4f31-b421-b54dd0a8f2ae\",\"type\":\"Toolbar\"},\"x_range\":{\"id\":\"26babcf1-0f90-43d1-8367-54a9e15bed3b\",\"type\":\"DataRange1d\"},\"x_scale\":{\"id\":\"fd5432aa-3db1-4613-966b-90632bf27335\",\"type\":\"LinearScale\"},\"y_range\":{\"id\":\"b012a309-fdc6-4957-bb03-470dc5bf3414\",\"type\":\"DataRange1d\"},\"y_scale\":{\"id\":\"d451473f-fe17-4697-8791-d55778ddd96e\",\"type\":\"LinearScale\"}},\"id\":\"fa1c9dd4-bc10-4552-8e36-4507af3eaf12\",\"subtype\":\"Figure\",\"type\":\"Plot\"},{\"attributes\":{},\"id\":\"9b36df40-e20f-4e3f-8caf-e95d3e7668f0\",\"type\":\"BasicTicker\"},{\"attributes\":{},\"id\":\"52ed9c28-509b-40de-9649-c03b3f2bdb29\",\"type\":\"ResetTool\"},{\"attributes\":{\"callback\":null,\"renderers\":\"auto\",\"tooltips\":[[\"Name\",\"@names\"],[\"First Event\",\"@report_text1\"],[\"Second Event\",\"@report_text2\"],[\"Third Event\",\"@report_text3\"]]},\"id\":\"c24700fd-6ab3-4454-a209-e987024aefff\",\"type\":\"HoverTool\"},{\"attributes\":{\"fill_color\":{\"field\":\"colors\"},\"line_color\":{\"field\":\"colors\"},\"size\":{\"units\":\"screen\",\"value\":5},\"x\":{\"field\":\"height\"},\"y\":{\"field\":\"weight\"}},\"id\":\"f58a331c-491b-4c31-80bc-085ef4353420\",\"type\":\"Circle\"},{\"attributes\":{\"plot\":null,\"text\":\"countries\"},\"id\":\"842b7357-01b4-4bf4-98c5-c2edc84aafe1\",\"type\":\"Title\"},{\"attributes\":{\"overlay\":{\"id\":\"f93711b1-77bf-45af-8e79-4f53f32e3c9e\",\"type\":\"BoxAnnotation\"}},\"id\":\"23b43cd9-e3f9-4e64-aea5-6330442210c9\",\"type\":\"BoxZoomTool\"},{\"attributes\":{},\"id\":\"d60e76bd-8beb-45fd-9b98-b04673556aff\",\"type\":\"BasicTicker\"},{\"attributes\":{\"data_source\":{\"id\":\"16408503-52ec-4588-9889-f618124a6a62\",\"type\":\"ColumnDataSource\"},\"glyph\":{\"id\":\"f58a331c-491b-4c31-80bc-085ef4353420\",\"type\":\"Circle\"},\"hover_glyph\":null,\"muted_glyph\":null,\"nonselection_glyph\":{\"id\":\"0969ba2c-484e-46e3-b239-886f25bda56f\",\"type\":\"Circle\"},\"selection_glyph\":null,\"view\":{\"id\":\"142aa7fe-e276-4449-98b8-ad75faa5eefc\",\"type\":\"CDSView\"}},\"id\":\"e57123c0-b918-4ff7-a2e8-f4d2dd3b613a\",\"type\":\"GlyphRenderer\"},{\"attributes\":{\"items\":[{\"id\":\"94d46ead-ccd2-4cba-8b81-935171e57e8f\",\"type\":\"LegendItem\"}],\"plot\":{\"id\":\"fa1c9dd4-bc10-4552-8e36-4507af3eaf12\",\"subtype\":\"Figure\",\"type\":\"Plot\"}},\"id\":\"67fdba89-b32b-4244-a058-f19a68439a74\",\"type\":\"Legend\"}],\"root_ids\":[\"fa1c9dd4-bc10-4552-8e36-4507af3eaf12\"]},\"title\":\"Bokeh Application\",\"version\":\"0.13.0\"}};\n",
       "  var render_items = [{\"docid\":\"d532dec8-e4a4-4c1b-ab2c-2e107f7af18a\",\"roots\":{\"fa1c9dd4-bc10-4552-8e36-4507af3eaf12\":\"c384c310-9357-438a-9ab1-36cb30e36848\"}}];\n",
       "  root.Bokeh.embed.embed_items_notebook(docs_json, render_items);\n",
       "\n",
       "  }\n",
       "  if (root.Bokeh !== undefined) {\n",
       "    embed_document(root);\n",
       "  } else {\n",
       "    var attempts = 0;\n",
       "    var timer = setInterval(function(root) {\n",
       "      if (root.Bokeh !== undefined) {\n",
       "        embed_document(root);\n",
       "        clearInterval(timer);\n",
       "      }\n",
       "      attempts++;\n",
       "      if (attempts > 100) {\n",
       "        console.log(\"Bokeh: ERROR: Unable to run BokehJS code because BokehJS library is missing\")\n",
       "        clearInterval(timer);\n",
       "      }\n",
       "    }, 10, root)\n",
       "  }\n",
       "})(window);"
      ],
      "application/vnd.bokehjs_exec.v0+json": ""
     },
     "metadata": {
      "application/vnd.bokehjs_exec.v0+json": {
       "id": "fa1c9dd4-bc10-4552-8e36-4507af3eaf12"
      }
     },
     "output_type": "display_data"
    }
   ],
   "source": [
    "show_country_similarity(score_matrices['bpr'],countries)"
   ]
  },
  {
   "cell_type": "markdown",
   "metadata": {},
   "source": [
    "However, For other drugs, no visible pattern could recognized but with different similar events per country as the case:\n"
   ]
  },
  {
   "cell_type": "code",
   "execution_count": 144,
   "metadata": {},
   "outputs": [
    {
     "name": "stderr",
     "output_type": "stream",
     "text": [
      "100%|██████████| 15.0/15 [00:00<00:00, 218.19it/s]\n",
      "100%|██████████| 100/100 [00:00<00:00, 155.90it/s, skipped=34.72%, correct=59.89%]\n",
      "100%|██████████| 59/59 [00:00<00:00, 23993.01it/s]\n",
      "100%|██████████| 59/59 [00:00<00:00, 31463.95it/s]\n"
     ]
    }
   ],
   "source": [
    "# \n",
    "file_name='./data/INTERFERON BETA-1A_events.csv'\n",
    "# number of factors for the MD approaches\n",
    "num_of_factors=100\n",
    "# use the raw data or a ratio per country\n",
    "ratio=False\n",
    "# use binary or float (True means there is event reported in that country without how many)\n",
    "normalized=False\n",
    "# The minimum number of reports to consider per event\n",
    "threshold=1\n",
    "#  the maximum number of events to consider per country\n",
    "number_of_events_per_country=50\n",
    "# create the dataset\n",
    "sparse_mat,countries,events,df=file_to_sparse_matrix(file_name,number_of_events_per_country,threshold,normalized,ratio)\n",
    "# the CF approaches to compare\n",
    "models_to_examine=[\"als\",\"bpr\",\"cosine\",\"tfidf\"]\n",
    "models={}\n",
    "score_matrices={}\n",
    "for modelname in models_to_examine:\n",
    "    model=create_fit_CF_model(modelname,sparse_mat,num_of_factors)\n",
    "    models[modelname]=model\n",
    "    score_matrix=get_country_matrix_similarity(models[modelname],countries)\n",
    "    score_matrices[modelname]=np.asarray(score_matrix)"
   ]
  },
  {
   "cell_type": "code",
   "execution_count": 145,
   "metadata": {},
   "outputs": [
    {
     "name": "stdout",
     "output_type": "stream",
     "text": [
      "tfidf\n",
      "Med : 0.0, Std : 0.0637358676032, Max : 0.240554780259, Min: 0.0,Avg Outliers: 0\n",
      "cosine\n",
      "Med : 0.0, Std : 0.168237373858, Max : 0.490760513452, Min: 0.0,Avg Outliers: 0\n",
      "bpr\n",
      "Med : 0.470204099508, Std : 0.273693625185, Max : 0.873866152965, Min: 0.0,Avg Outliers: 0\n",
      "als\n",
      "Med : 0.103841772524, Std : 0.0371735405265, Max : 0.219125759677, Min: 0.0,Avg Outliers: 0\n"
     ]
    }
   ],
   "source": [
    "for modelname in score_matrices:\n",
    "    score_matrix1=np.asarray(score_matrices[modelname])\n",
    "    score_matrix1=(score_matrix1-score_matrix1.min())/(score_matrix1.max()-score_matrix1.min())\n",
    "    medV,meanV,maxV,minV,stdV,mean_num_outliers=get_outliers(score_matrix1,countries)\n",
    "    print modelname\n",
    "    print 'Med : {}, Std : {}, Max : {}, Min: {},Avg Outliers: {}'.format(medV.score.mean(),stdV.score.mean(),maxV.score.mean(),minV.score.mean(),mean_num_outliers[0])"
   ]
  },
  {
   "cell_type": "code",
   "execution_count": 147,
   "metadata": {
    "scrolled": true
   },
   "outputs": [
    {
     "data": {
      "text/html": [
       "\n",
       "\n",
       "\n",
       "\n",
       "\n",
       "\n",
       "  <div class=\"bk-root\" id=\"e01a2db3-9374-49f2-a250-1e19d52d45e5\"></div>\n"
      ]
     },
     "metadata": {},
     "output_type": "display_data"
    },
    {
     "data": {
      "application/javascript": [
       "(function(root) {\n",
       "  function embed_document(root) {\n",
       "    \n",
       "  var docs_json = {\"11647df6-9133-4368-a2cc-287464d7d947\":{\"roots\":{\"references\":[{\"attributes\":{\"bottom_units\":\"screen\",\"fill_alpha\":{\"value\":0.5},\"fill_color\":{\"value\":\"lightgrey\"},\"left_units\":\"screen\",\"level\":\"overlay\",\"line_alpha\":{\"value\":1.0},\"line_color\":{\"value\":\"black\"},\"line_dash\":[4,4],\"line_width\":{\"value\":2},\"plot\":null,\"render_mode\":\"css\",\"right_units\":\"screen\",\"top_units\":\"screen\"},\"id\":\"93bbfa29-4879-4acb-8d14-6b3844e36012\",\"type\":\"BoxAnnotation\"},{\"attributes\":{},\"id\":\"c995bf0a-9ea1-406c-8d4d-b9246186ccce\",\"type\":\"UnionRenderers\"},{\"attributes\":{},\"id\":\"55ae2eee-4e18-404c-aa61-c0e380dd33c4\",\"type\":\"BasicTickFormatter\"},{\"attributes\":{\"plot\":null,\"text\":\"countries\"},\"id\":\"28d662e6-508d-4881-921d-70574c138918\",\"type\":\"Title\"},{\"attributes\":{},\"id\":\"62abc055-6bcb-46f8-9e99-4bb9495f8f13\",\"type\":\"HelpTool\"},{\"attributes\":{\"plot\":{\"id\":\"a04ec7f0-5083-4466-af19-670aa4255c47\",\"subtype\":\"Figure\",\"type\":\"Plot\"},\"ticker\":{\"id\":\"17b44724-4def-4ee8-9547-dd62e7756d58\",\"type\":\"BasicTicker\"}},\"id\":\"e53e2b04-4428-4a5f-92a8-a07e13135004\",\"type\":\"Grid\"},{\"attributes\":{},\"id\":\"bbb89e06-7cda-462e-8089-dd0c7eb1545e\",\"type\":\"WheelZoomTool\"},{\"attributes\":{\"axis_label\":\"Comp1\",\"formatter\":{\"id\":\"55ae2eee-4e18-404c-aa61-c0e380dd33c4\",\"type\":\"BasicTickFormatter\"},\"plot\":{\"id\":\"a04ec7f0-5083-4466-af19-670aa4255c47\",\"subtype\":\"Figure\",\"type\":\"Plot\"},\"ticker\":{\"id\":\"17b44724-4def-4ee8-9547-dd62e7756d58\",\"type\":\"BasicTicker\"}},\"id\":\"4ad66963-69ba-4885-9034-164781e0547a\",\"type\":\"LinearAxis\"},{\"attributes\":{\"axis_label\":\"Comp2\",\"formatter\":{\"id\":\"7f6a1090-bfac-4caf-ad27-b199e4984ef7\",\"type\":\"BasicTickFormatter\"},\"plot\":{\"id\":\"a04ec7f0-5083-4466-af19-670aa4255c47\",\"subtype\":\"Figure\",\"type\":\"Plot\"},\"ticker\":{\"id\":\"be4a7abc-7761-472a-8942-b62746c9d18d\",\"type\":\"BasicTicker\"}},\"id\":\"6e1395f3-8d8e-4e1f-b3f0-7f6534f48a05\",\"type\":\"LinearAxis\"},{\"attributes\":{\"below\":[{\"id\":\"4ad66963-69ba-4885-9034-164781e0547a\",\"type\":\"LinearAxis\"}],\"left\":[{\"id\":\"6e1395f3-8d8e-4e1f-b3f0-7f6534f48a05\",\"type\":\"LinearAxis\"}],\"plot_height\":500,\"plot_width\":800,\"renderers\":[{\"id\":\"4ad66963-69ba-4885-9034-164781e0547a\",\"type\":\"LinearAxis\"},{\"id\":\"e53e2b04-4428-4a5f-92a8-a07e13135004\",\"type\":\"Grid\"},{\"id\":\"6e1395f3-8d8e-4e1f-b3f0-7f6534f48a05\",\"type\":\"LinearAxis\"},{\"id\":\"fc6c55ab-7a01-4c4b-900f-9fd100581a35\",\"type\":\"Grid\"},{\"id\":\"93bbfa29-4879-4acb-8d14-6b3844e36012\",\"type\":\"BoxAnnotation\"},{\"id\":\"2b231d47-af55-4e03-b4dd-ddae47742ce2\",\"type\":\"Legend\"},{\"id\":\"fa082f2e-64f1-4fde-96df-a258c24683ca\",\"type\":\"GlyphRenderer\"}],\"title\":{\"id\":\"28d662e6-508d-4881-921d-70574c138918\",\"type\":\"Title\"},\"toolbar\":{\"id\":\"6f97e703-fd82-4b3b-8d80-a995ba572e18\",\"type\":\"Toolbar\"},\"x_range\":{\"id\":\"83b79f0e-7abb-480f-8112-1dee2bdb2075\",\"type\":\"DataRange1d\"},\"x_scale\":{\"id\":\"25b84c81-ec8c-429a-af5d-fdd41895f3bf\",\"type\":\"LinearScale\"},\"y_range\":{\"id\":\"d5ac1ea8-7f10-447b-b558-7fefabec61c7\",\"type\":\"DataRange1d\"},\"y_scale\":{\"id\":\"203cfc74-9f88-491b-abc3-d6e8915895e1\",\"type\":\"LinearScale\"}},\"id\":\"a04ec7f0-5083-4466-af19-670aa4255c47\",\"subtype\":\"Figure\",\"type\":\"Plot\"},{\"attributes\":{\"callback\":null},\"id\":\"d5ac1ea8-7f10-447b-b558-7fefabec61c7\",\"type\":\"DataRange1d\"},{\"attributes\":{\"fill_alpha\":{\"value\":0.1},\"fill_color\":{\"value\":\"#1f77b4\"},\"line_alpha\":{\"value\":0.1},\"line_color\":{\"value\":\"#1f77b4\"},\"size\":{\"units\":\"screen\",\"value\":5},\"x\":{\"field\":\"height\"},\"y\":{\"field\":\"weight\"}},\"id\":\"165a09a3-a3b3-4313-8ea9-f12d963d45cc\",\"type\":\"Circle\"},{\"attributes\":{},\"id\":\"d1b8179d-f5b6-4fca-898f-fdd290aabf16\",\"type\":\"PanTool\"},{\"attributes\":{\"active_drag\":\"auto\",\"active_inspect\":\"auto\",\"active_multi\":null,\"active_scroll\":\"auto\",\"active_tap\":\"auto\",\"tools\":[{\"id\":\"d1b8179d-f5b6-4fca-898f-fdd290aabf16\",\"type\":\"PanTool\"},{\"id\":\"bbb89e06-7cda-462e-8089-dd0c7eb1545e\",\"type\":\"WheelZoomTool\"},{\"id\":\"8cdfdefe-fed0-4e66-a639-f37d052f1ae9\",\"type\":\"BoxZoomTool\"},{\"id\":\"1db6e9bc-7e0c-4517-8e67-b304f94a35bc\",\"type\":\"SaveTool\"},{\"id\":\"e5bf4402-21a1-4bf9-8056-466024f5bd5f\",\"type\":\"ResetTool\"},{\"id\":\"62abc055-6bcb-46f8-9e99-4bb9495f8f13\",\"type\":\"HelpTool\"},{\"id\":\"5fabd968-2acc-437c-a90f-4428dcab6b0a\",\"type\":\"HoverTool\"}]},\"id\":\"6f97e703-fd82-4b3b-8d80-a995ba572e18\",\"type\":\"Toolbar\"},{\"attributes\":{},\"id\":\"203cfc74-9f88-491b-abc3-d6e8915895e1\",\"type\":\"LinearScale\"},{\"attributes\":{\"items\":[{\"id\":\"4b4d3ee4-696c-4326-befc-d0f95424f1fa\",\"type\":\"LegendItem\"}],\"plot\":{\"id\":\"a04ec7f0-5083-4466-af19-670aa4255c47\",\"subtype\":\"Figure\",\"type\":\"Plot\"}},\"id\":\"2b231d47-af55-4e03-b4dd-ddae47742ce2\",\"type\":\"Legend\"},{\"attributes\":{},\"id\":\"1db6e9bc-7e0c-4517-8e67-b304f94a35bc\",\"type\":\"SaveTool\"},{\"attributes\":{},\"id\":\"17b44724-4def-4ee8-9547-dd62e7756d58\",\"type\":\"BasicTicker\"},{\"attributes\":{},\"id\":\"25b84c81-ec8c-429a-af5d-fdd41895f3bf\",\"type\":\"LinearScale\"},{\"attributes\":{\"overlay\":{\"id\":\"93bbfa29-4879-4acb-8d14-6b3844e36012\",\"type\":\"BoxAnnotation\"}},\"id\":\"8cdfdefe-fed0-4e66-a639-f37d052f1ae9\",\"type\":\"BoxZoomTool\"},{\"attributes\":{},\"id\":\"e5bf4402-21a1-4bf9-8056-466024f5bd5f\",\"type\":\"ResetTool\"},{\"attributes\":{\"source\":{\"id\":\"43d319c4-6064-422f-917d-355ee6cfce59\",\"type\":\"ColumnDataSource\"}},\"id\":\"8d86fbeb-e2e9-4c68-8813-cfbfe93d63bb\",\"type\":\"CDSView\"},{\"attributes\":{},\"id\":\"be4a7abc-7761-472a-8942-b62746c9d18d\",\"type\":\"BasicTicker\"},{\"attributes\":{\"fill_color\":{\"field\":\"colors\"},\"line_color\":{\"field\":\"colors\"},\"size\":{\"units\":\"screen\",\"value\":5},\"x\":{\"field\":\"height\"},\"y\":{\"field\":\"weight\"}},\"id\":\"0a4818e4-3d41-438a-a9a9-2987c15c2329\",\"type\":\"Circle\"},{\"attributes\":{\"callback\":null,\"data\":{\"codes\":[\"AR\",\"AU\",\"AT\",\"BE\",\"BR\",\"CA\",\"CL\",\"CO\",\"HR\",\"CY\",\"CZ\",\"DK\",\"DO\",\"EC\",\"EG\",\"EE\",\"FI\",\"FR\",\"DE\",\"GR\",\"GN\",\"HK\",\"HU\",\"IN\",\"IR\",\"IE\",\"IL\",\"IT\",\"JP\",\"KR\",\"LU\",\"MY\",\"MX\",\"NL\",\"NI\",\"NO\",\"PA\",\"PE\",\"PL\",\"PT\",\"PR\",\"RO\",\"RU\",\"SA\",\"SG\",\"SK\",\"SI\",\"ZA\",\"ES\",\"SE\",\"CH\",\"TW\",\"TH\",\"TN\",\"TR\",\"GB\",\"US\",\"UY\",\"VE\"],\"colors\":[\"#e31a1c\",\"#fb9a99\",\"#1f78b4\",\"#1f78b4\",\"#e31a1c\",\"#e31a1c\",\"#e31a1c\",\"#e31a1c\",\"#1f78b4\",\"#444444\",\"#1f78b4\",\"#1f78b4\",\"#e31a1c\",\"#e31a1c\",\"#33a02c\",\"#1f78b4\",\"#1f78b4\",\"#1f78b4\",\"#1f78b4\",\"#1f78b4\",\"#33a02c\",\"#444444\",\"#1f78b4\",\"#444444\",\"#444444\",\"#1f78b4\",\"#444444\",\"#1f78b4\",\"#444444\",\"#444444\",\"#1f78b4\",\"#444444\",\"#e31a1c\",\"#1f78b4\",\"#e31a1c\",\"#1f78b4\",\"#e31a1c\",\"#e31a1c\",\"#1f78b4\",\"#1f78b4\",\"#e31a1c\",\"#1f78b4\",\"#1f78b4\",\"#444444\",\"#444444\",\"#1f78b4\",\"#1f78b4\",\"#33a02c\",\"#1f78b4\",\"#1f78b4\",\"#1f78b4\",\"#444444\",\"#444444\",\"#33a02c\",\"#444444\",\"#1f78b4\",\"#e31a1c\",\"#e31a1c\",\"#e31a1c\"],\"height\":[-81.68279266357422,-87.37596130371094,39.47343444824219,-72.06575775146484,-111.30587768554688,-100.46640014648438,98.95171356201172,-50.977882385253906,61.319393157958984,-96.63826751708984,70.71519470214844,44.02989196777344,-93.41847229003906,74.6494140625,64.56597900390625,77.11211395263672,82.95307922363281,-68.97355651855469,-115.2319564819336,-28.26768684387207,-110.19054412841797,63.550106048583984,71.4569091796875,-17.188331604003906,109.52098846435547,-78.8290023803711,-100.2688217163086,-34.013702392578125,-66.92507934570312,104.36083984375,-83.14153289794922,-64.99388885498047,66.77022552490234,-46.00739288330078,46.31081771850586,-76.5714340209961,54.03515625,104.38372802734375,31.908443450927734,-63.91767501831055,53.14804458618164,88.7584228515625,27.02931022644043,88.45325469970703,93.33116912841797,41.07540512084961,85.68927001953125,24.97312355041504,-6.508632659912109,58.37166213989258,-57.78548049926758,-8.695967674255371,75.3205795288086,2.7232775688171387,-52.72964859008789,-85.63777160644531,-93.93111419677734,-43.4332275390625,89.05001831054688],\"label\":[\"Americas\",\"Oceania\",\"Europe\",\"Europe\",\"Americas\",\"Americas\",\"Americas\",\"Americas\",\"Europe\",\"Asia\",\"Europe\",\"Europe\",\"Americas\",\"Americas\",\"Africa\",\"Europe\",\"Europe\",\"Europe\",\"Europe\",\"Europe\",\"Africa\",\"Asia\",\"Europe\",\"Asia\",\"Asia\",\"Europe\",\"Asia\",\"Europe\",\"Asia\",\"Asia\",\"Europe\",\"Asia\",\"Americas\",\"Europe\",\"Americas\",\"Europe\",\"Americas\",\"Americas\",\"Europe\",\"Europe\",\"Americas\",\"Europe\",\"Europe\",\"Asia\",\"Asia\",\"Europe\",\"Europe\",\"Africa\",\"Europe\",\"Europe\",\"Europe\",\"Asia\",\"Asia\",\"Africa\",\"Asia\",\"Europe\",\"Americas\",\"Americas\",\"Americas\"],\"names\":[\"Argentina\",\"Australia\",\"Austria\",\"Belgium\",\"Brazil\",\"Canada\",\"Chile\",\"Colombia\",\"Croatia\",\"Cyprus\",\"Czechia\",\"Denmark\",\"Dominican Republic\",\"Ecuador\",\"Egypt\",\"Estonia\",\"Finland\",\"France\",\"Germany\",\"Greece\",\"Guinea\",\"Hong Kong\",\"Hungary\",\"India\",\"Iran (Islamic Republic of)\",\"Ireland\",\"Israel\",\"Italy\",\"Japan\",\"Korea (Republic of)\",\"Luxembourg\",\"Malaysia\",\"Mexico\",\"Netherlands\",\"Nicaragua\",\"Norway\",\"Panama\",\"Peru\",\"Poland\",\"Portugal\",\"Puerto Rico\",\"Romania\",\"Russian Federation\",\"Saudi Arabia\",\"Singapore\",\"Slovakia\",\"Slovenia\",\"South Africa\",\"Spain\",\"Sweden\",\"Switzerland\",\"Taiwan, Province of China\",\"Thailand\",\"Tunisia\",\"Turkey\",\"United Kingdom of Great Britain and Northern Ireland\",\"United States of America\",\"Uruguay\",\"Venezuela (Bolivarian Republic of)\"],\"report_count\":[5.0,5.0,5.0,5.0,7.0,5.0,5.0,5.0,5.0,5.0,5.0,5.0,5.0,5.0,5.0,5.0,5.0,5.0,6.0,5.0,5.0,5.0,5.0,5.0,5.0,5.0,5.0,5.0,5.0,5.0,5.0,5.0,5.0,5.0,5.0,5.0,5.0,5.0,5.0,5.0,5.0,5.0,5.0,5.0,5.0,5.0,5.0,5.0,5.0,5.0,5.0,5.0,5.0,5.0,5.0,5.0,55.0,5.0,5.0],\"report_text1\":[\"DEATH : 25/327\",\"FATIGUE : 19/235\",\"DEATH : 9/63\",\"DEATH : 32/269\",\"MULTIPLE SCLEROSIS RELAPSE : 304/3935\",\"MULTIPLE SCLEROSIS RELAPSE : 46/724\",\"MULTIPLE SCLEROSIS RELAPSE : 7/50\",\"HEADACHE : 29/317\",\"PYREXIA : 3/11\",\"ACUTE KIDNEY INJURY : 2/4\",\"ABORTION SPONTANEOUS : 5/24\",\"MALAISE : 4/62\",\"FLAVIVIRUS INFECTION : 2/2\",\"HYPERTHYROIDISM : 2/6\",\"DEATH : 5/13\",\"AUTOIMMUNE DISORDER : 2/2\",\"ALANINE AMINOTRANSFERASE INCREASED : 2/6\",\"MULTIPLE SCLEROSIS RELAPSE : 32/406\",\"MULTIPLE SCLEROSIS RELAPSE : 137/1485\",\"MULTIPLE SCLEROSIS RELAPSE : 16/197\",\"INTENTIONAL PRODUCT USE ISSUE : 2/4\",\"ECZEMA : 3/12\",\"MULTIPLE SCLEROSIS RELAPSE : 8/18\",\"ABASIA : 12/133\",\"AUTOIMMUNE UVEITIS : 2/10\",\"LOWER RESPIRATORY TRACT INFECTION : 18/209\",\"MATERNAL EXPOSURE DURING PREGNANCY : 11/147\",\"PYREXIA : 14/236\",\"MULTIPLE SCLEROSIS RELAPSE : 39/274\",\"MULTIPLE SCLEROSIS RELAPSE : 3/16\",\"DIVERTICULITIS : 2/2\",\"MULTIPLE SCLEROSIS RELAPSE : 4/21\",\"INAPPROPRIATE SCHEDULE OF DRUG ADMINISTRATION : 3/21\",\"FATIGUE : 38/534\",\"CONVULSION : 2/2\",\"AORTIC DISSECTION : 3/14\",\"BRAIN OEDEMA : 2/8\",\"CHILLS : 2/4\",\"MULTIPLE SCLEROSIS RELAPSE : 13/63\",\"MULTIPLE SCLEROSIS RELAPSE : 23/249\",\"DEATH : 8/53\",\"DIZZINESS : 2/6\",\"DISEASE PROGRESSION : 5/28\",\"MOYAMOYA DISEASE : 2/2\",\"INJECTION SITE ERYTHEMA : 2/6\",\"MULTIPLE SCLEROSIS RELAPSE : 7/44\",\"FATIGUE : 5/27\",\"FATIGUE : 4/59\",\"MULTIPLE SCLEROSIS RELAPSE : 6/70\",\"PYREXIA : 4/16\",\"INFLUENZA LIKE ILLNESS : 18/168\",\"ASTHENIA : 6/78\",\"NEUROMYELITIS OPTICA : 15/30\",\"MULTIPLE SCLEROSIS RELAPSE : 8/106\",\"MULTIPLE SCLEROSIS RELAPSE : 23/442\",\"INFLUENZA LIKE ILLNESS : 49/802\",\"INFLUENZA LIKE ILLNESS : 5940/108859\",\"MEMORY IMPAIRMENT : 2/2\",\"CAESAREAN SECTION : 2/6\"],\"report_text2\":[\"MULTIPLE SCLEROSIS RELAPSE : 17/327\",\"INFLUENZA LIKE ILLNESS : 14/235\",\"MULTIPLE SCLEROSIS RELAPSE : 5/63\",\"INFLUENZA LIKE ILLNESS : 22/269\",\"HEADACHE : 241/3935\",\"FATIGUE : 35/724\",\"HEADACHE : 4/50\",\"PYREXIA : 18/317\",\"ERYTHEMA : 2/11\",\"BRADYCARDIA : 2/4\",\"EXPOSURE DURING PREGNANCY : 4/24\",\"MULTIPLE SCLEROSIS RELAPSE : 4/62\",\"\",\"MULTIPLE SCLEROSIS RELAPSE : 2/6\",\"CHILLS : 2/13\",\"\",\"MATERNAL EXPOSURE DURING PREGNANCY : 2/6\",\"INFLUENZA LIKE ILLNESS : 22/406\",\"MATERNAL EXPOSURE DURING PREGNANCY : 88/1485\",\"ASPARTATE AMINOTRANSFERASE INCREASED : 9/197\",\"RESPIRATORY DISTRESS : 2/4\",\"MULTIPLE SCLEROSIS RELAPSE : 3/12\",\"DIZZINESS : 2/18\",\"MULTIPLE SCLEROSIS RELAPSE : 11/133\",\"MULTIPLE SCLEROSIS RELAPSE : 2/10\",\"HYPOAESTHESIA : 11/209\",\"DRUG ADMINISTERED TO PATIENT OF INAPPROPRIATE AGE : 7/147\",\"HEADACHE : 13/236\",\"HEPATIC FUNCTION ABNORMAL : 21/274\",\"NUCLEAR MAGNETIC RESONANCE IMAGING ABNORMAL : 3/16\",\"\",\"CYSTITIS : 3/21\",\"SEIZURE : 3/21\",\"INFLUENZA LIKE ILLNESS : 33/534\",\"\",\"MACULAR OEDEMA : 3/14\",\"CHILLS : 2/8\",\"MALAISE : 2/4\",\"DRUG INEFFECTIVE : 5/63\",\"DEPRESSION : 10/249\",\"MULTIPLE SCLEROSIS RELAPSE : 7/53\",\"HEADACHE : 2/6\",\"LIVE BIRTH : 5/28\",\"\",\"INJECTION SITE HAEMORRHAGE : 2/6\",\"FOETAL EXPOSURE DURING PREGNANCY : 5/44\",\"INFLUENZA LIKE ILLNESS : 5/27\",\"ALANINE AMINOTRANSFERASE INCREASED : 3/59\",\"DEATH : 5/70\",\"BACK DISORDER : 2/16\",\"FALL : 8/168\",\"DISCOMFORT : 6/78\",\"FATIGUE : 8/30\",\"GAIT DISTURBANCE : 6/106\",\"ASTHENIA : 20/442\",\"MALAISE : 46/802\",\"MULTIPLE SCLEROSIS RELAPSE : 5472/108859\",\"\",\"MATERNAL EXPOSURE DURING PREGNANCY : 2/6\"],\"report_text3\":[\"PYREXIA : 16/327\",\"BREAST CANCER : 12/235\",\"INFLUENZA LIKE ILLNESS : 4/63\",\"FATIGUE : 12/269\",\"PAIN : 180/3935\",\"INFLUENZA LIKE ILLNESS : 29/724\",\"MATERNAL EXPOSURE DURING PREGNANCY : 4/50\",\"MULTIPLE SCLEROSIS RELAPSE : 15/317\",\"FATIGUE : 2/11\",\"\",\"MULTIPLE SCLEROSIS RELAPSE : 4/24\",\"ABDOMINAL ABSCESS : 3/62\",\"\",\"SEIZURE : 2/6\",\"FATIGUE : 2/13\",\"\",\"PANCREATITIS : 2/6\",\"PULMONARY ARTERIAL HYPERTENSION : 16/406\",\"GAIT DISTURBANCE : 60/1485\",\"GAMMA-GLUTAMYLTRANSFERASE INCREASED : 9/197\",\"\",\"INJECTION SITE PAIN : 2/12\",\"GAIT DISTURBANCE : 2/18\",\"PYREXIA : 11/133\",\"NEPHROLITHIASIS : 2/10\",\"FATIGUE : 8/209\",\"FALL : 6/147\",\"MULTIPLE SCLEROSIS RELAPSE : 12/236\",\"PYREXIA : 17/274\",\"CENTRAL NERVOUS SYSTEM LESION : 2/16\",\"\",\"APHASIA : 2/21\",\"URINARY TRACT INFECTION : 3/21\",\"MULTIPLE SCLEROSIS RELAPSE : 31/534\",\"\",\"MULTIPLE SCLEROSIS RELAPSE : 3/14\",\"PAIN IN EXTREMITY : 2/8\",\"\",\"BIPOLAR I DISORDER : 3/63\",\"DIZZINESS : 10/249\",\"ASTHENIA : 5/53\",\"VERTIGO : 2/6\",\"MATERNAL EXPOSURE DURING PREGNANCY : 5/28\",\"\",\"VISION BLURRED : 2/6\",\"OPTIC NEURITIS : 5/44\",\"MULTIPLE SCLEROSIS RELAPSE : 3/27\",\"BLOOD PRESSURE FLUCTUATION : 3/59\",\"BREAST CANCER : 3/70\",\"BLINDNESS : 2/16\",\"INJECTION SITE ERYTHEMA : 7/168\",\"DEPRESSION : 5/78\",\"PYREXIA : 3/30\",\"DRUG DOSE OMISSION : 5/106\",\"MATERNAL EXPOSURE DURING PREGNANCY : 20/442\",\"MULTIPLE SCLEROSIS RELAPSE : 45/802\",\"FATIGUE : 5166/108859\",\"\",\"MUSCULAR WEAKNESS : 2/6\"],\"weight\":[-33.172698974609375,22.393037796020508,33.11936569213867,-22.65824317932129,-2.2204887866973877,-15.217184066772461,40.57798767089844,14.974832534790039,2.5425500869750977,-29.391618728637695,-23.45073127746582,-1.2522984743118286,-45.355186462402344,-7.543876647949219,57.672119140625,21.15785026550293,34.75777053833008,20.237302780151367,-20.08300018310547,-14.44385051727295,-37.21137619018555,16.119295120239258,43.8731689453125,3.669252634048462,25.685895919799805,-6.506292343139648,11.766242027282715,0.932815670967102,5.1184563636779785,-7.007757663726807,7.183262348175049,-9.893379211425781,30.75394058227539,-14.515436172485352,13.615618705749512,-48.5673942565918,43.607879638671875,9.663423538208008,9.713066101074219,-38.25710678100586,26.647815704345703,-18.451810836791992,-5.961493492126465,11.974357604980469,24.816917419433594,-17.465900421142578,52.250431060791016,24.460281372070312,-9.942143440246582,-12.181232452392578,-23.494197845458984,16.168052673339844,6.758556365966797,5.3421950340271,-1.0461699962615967,-18.176498413085938,-3.2143425941467285,-31.313249588012695,-2.1141746044158936]},\"selected\":{\"id\":\"5d2d6d46-c34d-45de-9f67-1eae62d60446\",\"type\":\"Selection\"},\"selection_policy\":{\"id\":\"c995bf0a-9ea1-406c-8d4d-b9246186ccce\",\"type\":\"UnionRenderers\"}},\"id\":\"43d319c4-6064-422f-917d-355ee6cfce59\",\"type\":\"ColumnDataSource\"},{\"attributes\":{\"dimension\":1,\"plot\":{\"id\":\"a04ec7f0-5083-4466-af19-670aa4255c47\",\"subtype\":\"Figure\",\"type\":\"Plot\"},\"ticker\":{\"id\":\"be4a7abc-7761-472a-8942-b62746c9d18d\",\"type\":\"BasicTicker\"}},\"id\":\"fc6c55ab-7a01-4c4b-900f-9fd100581a35\",\"type\":\"Grid\"},{\"attributes\":{\"label\":{\"field\":\"label\"},\"renderers\":[{\"id\":\"fa082f2e-64f1-4fde-96df-a258c24683ca\",\"type\":\"GlyphRenderer\"}]},\"id\":\"4b4d3ee4-696c-4326-befc-d0f95424f1fa\",\"type\":\"LegendItem\"},{\"attributes\":{\"callback\":null},\"id\":\"83b79f0e-7abb-480f-8112-1dee2bdb2075\",\"type\":\"DataRange1d\"},{\"attributes\":{},\"id\":\"7f6a1090-bfac-4caf-ad27-b199e4984ef7\",\"type\":\"BasicTickFormatter\"},{\"attributes\":{},\"id\":\"5d2d6d46-c34d-45de-9f67-1eae62d60446\",\"type\":\"Selection\"},{\"attributes\":{\"callback\":null,\"renderers\":\"auto\",\"tooltips\":[[\"Name\",\"@names\"],[\"First Event\",\"@report_text1\"],[\"Second Event\",\"@report_text2\"],[\"Third Event\",\"@report_text3\"]]},\"id\":\"5fabd968-2acc-437c-a90f-4428dcab6b0a\",\"type\":\"HoverTool\"},{\"attributes\":{\"data_source\":{\"id\":\"43d319c4-6064-422f-917d-355ee6cfce59\",\"type\":\"ColumnDataSource\"},\"glyph\":{\"id\":\"0a4818e4-3d41-438a-a9a9-2987c15c2329\",\"type\":\"Circle\"},\"hover_glyph\":null,\"muted_glyph\":null,\"nonselection_glyph\":{\"id\":\"165a09a3-a3b3-4313-8ea9-f12d963d45cc\",\"type\":\"Circle\"},\"selection_glyph\":null,\"view\":{\"id\":\"8d86fbeb-e2e9-4c68-8813-cfbfe93d63bb\",\"type\":\"CDSView\"}},\"id\":\"fa082f2e-64f1-4fde-96df-a258c24683ca\",\"type\":\"GlyphRenderer\"}],\"root_ids\":[\"a04ec7f0-5083-4466-af19-670aa4255c47\"]},\"title\":\"Bokeh Application\",\"version\":\"0.13.0\"}};\n",
       "  var render_items = [{\"docid\":\"11647df6-9133-4368-a2cc-287464d7d947\",\"roots\":{\"a04ec7f0-5083-4466-af19-670aa4255c47\":\"e01a2db3-9374-49f2-a250-1e19d52d45e5\"}}];\n",
       "  root.Bokeh.embed.embed_items_notebook(docs_json, render_items);\n",
       "\n",
       "  }\n",
       "  if (root.Bokeh !== undefined) {\n",
       "    embed_document(root);\n",
       "  } else {\n",
       "    var attempts = 0;\n",
       "    var timer = setInterval(function(root) {\n",
       "      if (root.Bokeh !== undefined) {\n",
       "        embed_document(root);\n",
       "        clearInterval(timer);\n",
       "      }\n",
       "      attempts++;\n",
       "      if (attempts > 100) {\n",
       "        console.log(\"Bokeh: ERROR: Unable to run BokehJS code because BokehJS library is missing\")\n",
       "        clearInterval(timer);\n",
       "      }\n",
       "    }, 10, root)\n",
       "  }\n",
       "})(window);"
      ],
      "application/vnd.bokehjs_exec.v0+json": ""
     },
     "metadata": {
      "application/vnd.bokehjs_exec.v0+json": {
       "id": "a04ec7f0-5083-4466-af19-670aa4255c47"
      }
     },
     "output_type": "display_data"
    }
   ],
   "source": [
    "show_country_similarity(score_matrices['bpr'],countries)"
   ]
  },
  {
   "cell_type": "markdown",
   "metadata": {},
   "source": [
    "\n"
   ]
  },
  {
   "cell_type": "markdown",
   "metadata": {},
   "source": [
    "In this task, we investigated the possibility of having different events for different countries.\n",
    "We found that there is significant difference between the events reported by different countries. \n",
    "We also found that there is similarity in the events reported from certain countries. This similarity could be connected to genetic or economical (healthcare quality) reasons.\n",
    "A more investigation is required where we can connect the data with the genetic information and the economical information in order to find out the exact reason.\n",
    "One of the problems is the few reported events and countries with few reported events. A more investigation is required to see the effect of removing such countries/events on the similarity.\n"
   ]
  }
 ],
 "metadata": {
  "kernelspec": {
   "display_name": "Python 2",
   "language": "python",
   "name": "python2"
  },
  "language_info": {
   "codemirror_mode": {
    "name": "ipython",
    "version": 2
   },
   "file_extension": ".py",
   "mimetype": "text/x-python",
   "name": "python",
   "nbconvert_exporter": "python",
   "pygments_lexer": "ipython2",
   "version": "2.7.10"
  }
 },
 "nbformat": 4,
 "nbformat_minor": 2
}
